{
  "nbformat": 4,
  "nbformat_minor": 0,
  "metadata": {
    "colab": {
      "name": "05_scenario_analysis.ipynb",
      "provenance": [],
      "toc_visible": true,
      "authorship_tag": "ABX9TyM3xkEXUsFUZn0HQ4JUNRGG",
      "include_colab_link": true
    },
    "kernelspec": {
      "name": "python3",
      "display_name": "Python 3"
    },
    "language_info": {
      "name": "python"
    }
  },
  "cells": [
    {
      "cell_type": "markdown",
      "metadata": {
        "id": "view-in-github",
        "colab_type": "text"
      },
      "source": [
        "<a href=\"https://colab.research.google.com/github/lisphilar/covid19-sir/blob/master/example/05_scenario_analysis.ipynb\" target=\"_parent\"><img src=\"https://colab.research.google.com/assets/colab-badge.svg\" alt=\"Open In Colab\"/></a>"
      ]
    },
    {
      "cell_type": "markdown",
      "source": [
        "# Scenario analysis\n",
        "We will perform scenario anlysis. Regarding phase-dependent SIR-derived ODE models, this analysis focused on the impact of changes of ODE parameter values on the number of cases."
      ],
      "metadata": {
        "id": "C5wmqlW7D-m3"
      }
    },
    {
      "cell_type": "code",
      "execution_count": 1,
      "metadata": {
        "colab": {
          "base_uri": "https://localhost:8080/",
          "height": 507
        },
        "id": "wXiMVaCYDOUQ",
        "outputId": "34da27f3-da9f-41e1-9c6d-0a5d2cb22198"
      },
      "outputs": [
        {
          "output_type": "stream",
          "name": "stdout",
          "text": [
            "  Installing build dependencies ... \u001b[?25l\u001b[?25hdone\n",
            "  Getting requirements to build wheel ... \u001b[?25l\u001b[?25hdone\n",
            "    Preparing wheel metadata ... \u001b[?25l\u001b[?25hdone\n",
            "\u001b[K     |████████████████████████████████| 62 kB 1.0 MB/s \n",
            "\u001b[K     |████████████████████████████████| 167 kB 10.7 MB/s \n",
            "\u001b[K     |████████████████████████████████| 998 kB 43.6 MB/s \n",
            "\u001b[K     |████████████████████████████████| 486 kB 49.9 MB/s \n",
            "\u001b[K     |████████████████████████████████| 1.0 MB 51.5 MB/s \n",
            "\u001b[K     |████████████████████████████████| 96.9 MB 94 kB/s \n",
            "\u001b[K     |████████████████████████████████| 2.0 MB 36.6 MB/s \n",
            "\u001b[K     |████████████████████████████████| 51 kB 7.3 MB/s \n",
            "\u001b[K     |████████████████████████████████| 308 kB 49.5 MB/s \n",
            "\u001b[K     |████████████████████████████████| 235 kB 55.7 MB/s \n",
            "\u001b[K     |████████████████████████████████| 6.3 MB 40.4 MB/s \n",
            "\u001b[K     |████████████████████████████████| 16.7 MB 39.1 MB/s \n",
            "\u001b[K     |████████████████████████████████| 209 kB 45.4 MB/s \n",
            "\u001b[K     |████████████████████████████████| 81 kB 8.8 MB/s \n",
            "\u001b[K     |████████████████████████████████| 78 kB 7.8 MB/s \n",
            "\u001b[K     |████████████████████████████████| 49 kB 6.4 MB/s \n",
            "\u001b[K     |████████████████████████████████| 112 kB 71.9 MB/s \n",
            "\u001b[K     |████████████████████████████████| 147 kB 64.0 MB/s \n",
            "\u001b[?25h  Building wheel for covsirphy (PEP 517) ... \u001b[?25l\u001b[?25hdone\n",
            "  Building wheel for country-converter (setup.py) ... \u001b[?25l\u001b[?25hdone\n",
            "  Building wheel for pyperclip (setup.py) ... \u001b[?25l\u001b[?25hdone\n"
          ]
        },
        {
          "output_type": "display_data",
          "data": {
            "text/plain": [
              "<IPython.core.display.HTML object>"
            ],
            "text/html": [
              "<style type='text/css'>\n",
              ".datatable table.frame { margin-bottom: 0; }\n",
              ".datatable table.frame thead { border-bottom: none; }\n",
              ".datatable table.frame tr.coltypes td {  color: #FFFFFF;  line-height: 6px;  padding: 0 0.5em;}\n",
              ".datatable .bool    { background: #DDDD99; }\n",
              ".datatable .object  { background: #565656; }\n",
              ".datatable .int     { background: #5D9E5D; }\n",
              ".datatable .float   { background: #4040CC; }\n",
              ".datatable .str     { background: #CC4040; }\n",
              ".datatable .time    { background: #40CC40; }\n",
              ".datatable .row_index {  background: var(--jp-border-color3);  border-right: 1px solid var(--jp-border-color0);  color: var(--jp-ui-font-color3);  font-size: 9px;}\n",
              ".datatable .frame tbody td { text-align: left; }\n",
              ".datatable .frame tr.coltypes .row_index {  background: var(--jp-border-color0);}\n",
              ".datatable th:nth-child(2) { padding-left: 12px; }\n",
              ".datatable .hellipsis {  color: var(--jp-cell-editor-border-color);}\n",
              ".datatable .vellipsis {  background: var(--jp-layout-color0);  color: var(--jp-cell-editor-border-color);}\n",
              ".datatable .na {  color: var(--jp-cell-editor-border-color);  font-size: 80%;}\n",
              ".datatable .sp {  opacity: 0.25;}\n",
              ".datatable .footer { font-size: 9px; }\n",
              ".datatable .frame_dimensions {  background: var(--jp-border-color3);  border-top: 1px solid var(--jp-border-color0);  color: var(--jp-ui-font-color3);  display: inline-block;  opacity: 0.6;  padding: 1px 10px 1px 5px;}\n",
              "</style>\n"
            ]
          },
          "metadata": {}
        },
        {
          "output_type": "stream",
          "name": "stderr",
          "text": [
            "/usr/local/lib/python3.7/dist-packages/statsmodels/tools/_testing.py:19: FutureWarning: pandas.util.testing is deprecated. Use the functions in the public API at pandas.testing instead.\n",
            "  import pandas.util.testing as tm\n"
          ]
        },
        {
          "output_type": "execute_result",
          "data": {
            "text/plain": [
              "'2.24.0-tau'"
            ],
            "application/vnd.google.colaboratory.intrinsic+json": {
              "type": "string"
            }
          },
          "metadata": {},
          "execution_count": 1
        }
      ],
      "source": [
        "from datetime import timedelta\n",
        "import pandas as pd\n",
        "try:\n",
        "    import covsirphy as cs\n",
        "except ImportError:\n",
        "    !pip install --upgrade \"git+https://github.com/lisphilar/covid19-sir.git#egg=covsirphy\" -qq\n",
        "    import covsirphy as cs\n",
        "cs.__version__"
      ]
    },
    {
      "cell_type": "markdown",
      "source": [
        "## 1. Create analyser\n",
        "An instance of `ODEScenario()` will be created here. We have two options as follows.\n",
        "\n",
        "- With dataset of recommended servers\n",
        "- With `pandas.DataFrame`"
      ],
      "metadata": {
        "id": "jezIiUuWEqv6"
      }
    },
    {
      "cell_type": "markdown",
      "source": [
        "### 1.1 With dataset of recommended servers\n",
        "We can create an instance with class method `ODEScenario.auto_build()` if the target dataset was registered in the recommended servers explained in [Data preparation]. As an example, we will use the dataset in Italy.\n",
        "\n",
        "The following steps will be performed automatically and \"Baseline\" scenario will be registered.\n",
        "\n",
        "Using `DataEngineer` class internally,\n",
        "- Data downloading\n",
        "- Data cleaning\n",
        "- Data transformation\n",
        "- Data subsetting\n",
        "- Data complement (if necessary and selected)\n",
        "\n",
        "Using `Dynamics` class internally,\n",
        "- Time-series segmentation with S-R change point analysis\n",
        "- Tau estimation\n",
        "- ODE parameter estimation"
      ],
      "metadata": {
        "id": "zZX_xLvDGefb"
      }
    },
    {
      "cell_type": "code",
      "source": [
        "snr_act = cs.ODEScenario.auto_build(geo=\"Italy\", model=cs.SIRFModel, complement=True)"
      ],
      "metadata": {
        "colab": {
          "base_uri": "https://localhost:8080/"
        },
        "id": "mWn-90BfIRRp",
        "outputId": "7df41bd5-dc2f-4f46-d149-204d2a86b4cd"
      },
      "execution_count": 2,
      "outputs": [
        {
          "output_type": "stream",
          "name": "stdout",
          "text": [
            "Retrieving COVID-19 dataset from https://github.com/lisphilar/covid19-sir/data/\n",
            "Retrieving datasets from COVID-19 Data Hub https://covid19datahub.io/\n",
            "\n",
            "<SIR-F Model: parameter estimation>\n",
            "Running optimization with 2 CPUs...\n",
            "\t2020-11-04 - 2020-11-16: finished   93 trials in 0 min  6 sec\n",
            "\t2020-02-24 - 2020-03-22: finished  117 trials in 0 min  9 sec\n",
            "\t2020-03-23 - 2020-04-10: finished   77 trials in 0 min  5 sec\n",
            "\t2020-11-17 - 2020-11-23: finished  139 trials in 0 min 10 sec\n",
            "\t2020-11-24 - 2020-11-30: finished   66 trials in 0 min  4 sec\n",
            "\t2020-12-01 - 2020-12-09: finished   50 trials in 0 min  3 sec\n",
            "\t2020-04-11 - 2020-05-05: finished  131 trials in 0 min 10 sec\n",
            "\t2020-05-06 - 2020-08-28: finished  103 trials in 0 min  9 sec\n",
            "\t2020-12-10 - 2020-12-18: finished  144 trials in 0 min  9 sec\n",
            "\t2020-08-29 - 2020-09-25: finished   94 trials in 0 min  6 sec\n",
            "\t2020-12-19 - 2020-12-29: finished  128 trials in 0 min  8 sec\n",
            "\t2020-12-30 - 2021-01-07: finished   64 trials in 0 min  4 sec\n",
            "\t2020-09-26 - 2020-10-12: finished  149 trials in 0 min 11 sec\n",
            "\t2020-10-13 - 2020-10-19: finished  111 trials in 0 min  7 sec\n",
            "\t2021-01-08 - 2021-01-17: finished  168 trials in 0 min 12 sec\n",
            "\t2020-10-20 - 2020-10-26: finished   80 trials in 0 min  5 sec\n",
            "\t2021-01-18 - 2021-01-28: finished  122 trials in 0 min  8 sec\n",
            "\t2021-01-29 - 2021-02-09: finished  123 trials in 0 min  8 sec\n",
            "\t2021-02-10 - 2021-02-21: finished   19 trials in 0 min  1 sec\n",
            "\t2020-10-27 - 2020-11-03: finished  209 trials in 0 min 15 sec\n",
            "\t2021-02-22 - 2021-03-02: finished   35 trials in 0 min  2 sec\n",
            "\t2021-05-04 - 2021-05-12: finished   19 trials in 0 min  1 sec\n",
            "\t2021-03-03 - 2021-03-09: finished   19 trials in 0 min  1 sec\n",
            "\t2021-05-13 - 2021-05-26: finished   19 trials in 0 min  1 sec\n",
            "\t2021-05-27 - 2021-06-10: finished   50 trials in 0 min  3 sec\n",
            "\t2021-06-11 - 2021-07-13: finished   78 trials in 0 min  5 sec\n",
            "\t2021-03-10 - 2021-03-22: finished  167 trials in 0 min 12 sec\n",
            "\t2021-07-14 - 2021-07-28: finished   94 trials in 0 min  6 sec\n",
            "\t2021-07-29 - 2021-08-06: finished   95 trials in 0 min  6 sec\n",
            "\t2021-03-23 - 2021-03-31: finished  170 trials in 0 min 12 sec\n",
            "\t2021-04-01 - 2021-04-11: finished   66 trials in 0 min  4 sec\n",
            "\t2021-04-12 - 2021-04-21: finished   55 trials in 0 min  4 sec\n",
            "\t2021-04-22 - 2021-05-03: finished   36 trials in 0 min  2 sec\n",
            "\t2021-08-07 - 2021-08-16: finished  175 trials in 0 min 13 sec\n",
            "\t2021-08-17 - 2021-08-24: finished   19 trials in 0 min  1 sec\n",
            "\t2021-09-03 - 2021-09-14: finished   51 trials in 0 min  3 sec\n",
            "\t2021-09-15 - 2021-09-29: finished   19 trials in 0 min  1 sec\n",
            "\t2021-09-30 - 2021-10-20: finished   79 trials in 0 min  5 sec\n",
            "\t2021-08-25 - 2021-09-02: finished  127 trials in 0 min  8 sec\n",
            "\t2021-10-21 - 2021-11-03: finished   66 trials in 0 min  4 sec\n",
            "\t2021-11-04 - 2021-11-11: finished   50 trials in 0 min  3 sec\n",
            "\t2021-12-16 - 2021-12-26: finished  111 trials in 0 min  7 sec\n",
            "\t2021-11-12 - 2021-11-18: finished   51 trials in 0 min  3 sec\n",
            "\t2021-11-19 - 2021-11-30: finished   64 trials in 0 min  4 sec\n",
            "\t2021-12-01 - 2021-12-08: finished   79 trials in 0 min  5 sec\n",
            "\t2021-12-27 - 2022-01-07: finished  178 trials in 0 min 13 sec\n",
            "\t2021-12-09 - 2021-12-15: finished  140 trials in 0 min  9 sec\n",
            "\t2022-01-08 - 2022-01-17: finished  181 trials in 0 min 13 sec\n",
            "\t2022-01-18 - 2022-01-24: finished   49 trials in 0 min  3 sec\n",
            "\t2022-03-07 - 2022-03-15: finished  121 trials in 0 min  8 sec\n",
            "\t2022-03-16 - 2022-03-28: finished  184 trials in 0 min 13 sec\n",
            "\t2022-01-25 - 2022-01-31: finished  281 trials in 0 min 21 sec\n",
            "\t2022-03-29 - 2022-04-10: finished   96 trials in 0 min  6 sec\n",
            "\t2022-02-01 - 2022-02-08: finished   52 trials in 0 min  3 sec\n",
            "\t2022-04-11 - 2022-04-18: finished   68 trials in 0 min  4 sec\n",
            "\t2022-02-09 - 2022-02-15: finished   66 trials in 0 min  4 sec\n",
            "\t2022-04-19 - 2022-04-25: finished   50 trials in 0 min  3 sec\n",
            "\t2022-02-16 - 2022-02-23: finished   19 trials in 0 min  1 sec\n",
            "\t2022-02-24 - 2022-03-06: finished  110 trials in 0 min  7 sec\n",
            "\t2022-05-26 - 2022-06-05: finished   19 trials in 0 min  1 sec\n",
            "\t2022-06-06 - 2022-06-14: finished   51 trials in 0 min  3 sec\n",
            "\t2022-04-26 - 2022-05-02: finished  182 trials in 0 min 13 sec\n",
            "\t2022-05-03 - 2022-05-10: finished   20 trials in 0 min  1 sec\n",
            "\t2022-05-11 - 2022-05-17: finished   54 trials in 0 min  3 sec\n",
            "\t2022-06-15 - 2022-06-26: finished   84 trials in 0 min  5 sec\n",
            "\t2022-05-18 - 2022-05-25: finished   20 trials in 0 min  1 sec\n",
            "\t2022-06-27 - 2022-07-03: finished   52 trials in 0 min  2 sec\n",
            "\t2022-07-04 - 2022-07-11: finished  350 trials in 0 min 14 sec\n",
            "\t2022-07-12 - 2022-07-20: finished  105 trials in 0 min  4 sec\n",
            "\t2022-07-21 - 2022-07-28: finished   53 trials in 0 min  2 sec\n",
            "\t2022-07-29 - 2022-08-10: finished   28 trials in 0 min  1 sec\n",
            "Completed optimization. Total: 4 min  0 sec\n",
            "\n"
          ]
        }
      ]
    },
    {
      "cell_type": "markdown",
      "source": [
        "We can perform simulation with `ODEScenario().simulate()` directly."
      ],
      "metadata": {
        "id": "Uv_eCoAGU-fn"
      }
    },
    {
      "cell_type": "code",
      "source": [
        "snr_act.simulate(name=\"Baseline\");"
      ],
      "metadata": {
        "colab": {
          "base_uri": "https://localhost:8080/",
          "height": 435
        },
        "id": "_IpLdccaUrbx",
        "outputId": "f79e7810-1fc1-471e-b2ff-0a23062d0608"
      },
      "execution_count": 3,
      "outputs": [
        {
          "output_type": "display_data",
          "data": {
            "text/plain": [
              "<Figure size 648x432 with 1 Axes>"
            ],
            "image/png": "[encoded data removed]"
          },
          "metadata": {
            "needs_background": "light"
          }
        }
      ]
    },
    {
      "cell_type": "markdown",
      "source": [
        "Or, we can confirm the dynamics of the baseline senario, producing `Dynamics` instance."
      ],
      "metadata": {
        "id": "MRqbOCamKW4E"
      }
    },
    {
      "cell_type": "code",
      "source": [
        "dyn_act = snr_act.to_dynamics(name=\"Baseline\")\n",
        "# Show summary\n",
        "display(dyn_act.summary())\n",
        "# Simulation\n",
        "dyn_act_df = dyn_act.simulate(model_specific=False)\n",
        "cs.line_plot(\n",
        "    dyn_act_df.drop(\"Susceptible\", axis=1), \"Italy: Simulated data (Baseline scenario)\")"
      ],
      "metadata": {
        "colab": {
          "base_uri": "https://localhost:8080/",
          "height": 921
        },
        "id": "BSfNStmBKHJI",
        "outputId": "0a3b553d-c386-40b2-9448-a53614f488ef"
      },
      "execution_count": 4,
      "outputs": [
        {
          "output_type": "display_data",
          "data": {
            "text/plain": [
              "           Start        End    Rt     theta     kappa       rho     sigma  \\\n",
              "Phase                                                                       \n",
              "0th   2020-02-24 2020-03-22  6.34  0.000257  0.001049   0.01773  0.001746   \n",
              "1st   2020-03-23 2020-04-10  2.78  0.073799  0.000419  0.004571  0.001102   \n",
              "2nd   2020-04-11 2020-05-05  1.07  0.036404  0.000235  0.001784  0.001368   \n",
              "3rd   2020-05-06 2020-08-28  0.27  0.134895  0.000023  0.000628  0.002007   \n",
              "4th   2020-08-29 2020-09-25  3.12  0.000696  0.000029  0.002794  0.000866   \n",
              "...          ...        ...   ...       ...       ...       ...       ...   \n",
              "66th  2022-06-27 2022-07-03  2.64  0.001611  0.000006  0.010962  0.004147   \n",
              "67th  2022-07-04 2022-07-11  2.49  0.000247  0.000005  0.010018  0.004023   \n",
              "68th  2022-07-12 2022-07-20  1.75  0.002094  0.000006   0.00853  0.004857   \n",
              "69th  2022-07-21 2022-07-28  1.29  0.000051   0.00001  0.004192  0.003246   \n",
              "70th  2022-07-29 2022-08-10  0.92  0.001736  0.000006  0.003842  0.004186   \n",
              "\n",
              "       alpha1 [-]  1/alpha2 [day]  1/beta [day]  1/gamma [day]  \n",
              "Phase                                                           \n",
              "0th           0.0              64             4             38  \n",
              "1st         0.074             159            15             60  \n",
              "2nd         0.036             284            37             49  \n",
              "3rd         0.135            2954           106             33  \n",
              "4th         0.001            2299            24             77  \n",
              "...           ...             ...           ...            ...  \n",
              "66th        0.002           10669             6             16  \n",
              "67th          0.0           12149             7             17  \n",
              "68th        0.002           11640             8             14  \n",
              "69th          0.0            6533            16             21  \n",
              "70th        0.002           11642            17             16  \n",
              "\n",
              "[71 rows x 11 columns]"
            ],
            "text/html": [
              "\n",
              "  <div id=\"df-75caab81-3da7-49da-93fe-81c29ed059e1\">\n",
              "    <div class=\"colab-df-container\">\n",
              "      <div>\n",
              "<style scoped>\n",
              "    .dataframe tbody tr th:only-of-type {\n",
              "        vertical-align: middle;\n",
              "    }\n",
              "\n",
              "    .dataframe tbody tr th {\n",
              "        vertical-align: top;\n",
              "    }\n",
              "\n",
              "    .dataframe thead th {\n",
              "        text-align: right;\n",
              "    }\n",
              "</style>\n",
              "<table border=\"1\" class=\"dataframe\">\n",
              "  <thead>\n",
              "    <tr style=\"text-align: right;\">\n",
              "      <th></th>\n",
              "      <th>Start</th>\n",
              "      <th>End</th>\n",
              "      <th>Rt</th>\n",
              "      <th>theta</th>\n",
              "      <th>kappa</th>\n",
              "      <th>rho</th>\n",
              "      <th>sigma</th>\n",
              "      <th>alpha1 [-]</th>\n",
              "      <th>1/alpha2 [day]</th>\n",
              "      <th>1/beta [day]</th>\n",
              "      <th>1/gamma [day]</th>\n",
              "    </tr>\n",
              "    <tr>\n",
              "      <th>Phase</th>\n",
              "      <th></th>\n",
              "      <th></th>\n",
              "      <th></th>\n",
              "      <th></th>\n",
              "      <th></th>\n",
              "      <th></th>\n",
              "      <th></th>\n",
              "      <th></th>\n",
              "      <th></th>\n",
              "      <th></th>\n",
              "      <th></th>\n",
              "    </tr>\n",
              "  </thead>\n",
              "  <tbody>\n",
              "    <tr>\n",
              "      <th>0th</th>\n",
              "      <td>2020-02-24</td>\n",
              "      <td>2020-03-22</td>\n",
              "      <td>6.34</td>\n",
              "      <td>0.000257</td>\n",
              "      <td>0.001049</td>\n",
              "      <td>0.01773</td>\n",
              "      <td>0.001746</td>\n",
              "      <td>0.0</td>\n",
              "      <td>64</td>\n",
              "      <td>4</td>\n",
              "      <td>38</td>\n",
              "    </tr>\n",
              "    <tr>\n",
              "      <th>1st</th>\n",
              "      <td>2020-03-23</td>\n",
              "      <td>2020-04-10</td>\n",
              "      <td>2.78</td>\n",
              "      <td>0.073799</td>\n",
              "      <td>0.000419</td>\n",
              "      <td>0.004571</td>\n",
              "      <td>0.001102</td>\n",
              "      <td>0.074</td>\n",
              "      <td>159</td>\n",
              "      <td>15</td>\n",
              "      <td>60</td>\n",
              "    </tr>\n",
              "    <tr>\n",
              "      <th>2nd</th>\n",
              "      <td>2020-04-11</td>\n",
              "      <td>2020-05-05</td>\n",
              "      <td>1.07</td>\n",
              "      <td>0.036404</td>\n",
              "      <td>0.000235</td>\n",
              "      <td>0.001784</td>\n",
              "      <td>0.001368</td>\n",
              "      <td>0.036</td>\n",
              "      <td>284</td>\n",
              "      <td>37</td>\n",
              "      <td>49</td>\n",
              "    </tr>\n",
              "    <tr>\n",
              "      <th>3rd</th>\n",
              "      <td>2020-05-06</td>\n",
              "      <td>2020-08-28</td>\n",
              "      <td>0.27</td>\n",
              "      <td>0.134895</td>\n",
              "      <td>0.000023</td>\n",
              "      <td>0.000628</td>\n",
              "      <td>0.002007</td>\n",
              "      <td>0.135</td>\n",
              "      <td>2954</td>\n",
              "      <td>106</td>\n",
              "      <td>33</td>\n",
              "    </tr>\n",
              "    <tr>\n",
              "      <th>4th</th>\n",
              "      <td>2020-08-29</td>\n",
              "      <td>2020-09-25</td>\n",
              "      <td>3.12</td>\n",
              "      <td>0.000696</td>\n",
              "      <td>0.000029</td>\n",
              "      <td>0.002794</td>\n",
              "      <td>0.000866</td>\n",
              "      <td>0.001</td>\n",
              "      <td>2299</td>\n",
              "      <td>24</td>\n",
              "      <td>77</td>\n",
              "    </tr>\n",
              "    <tr>\n",
              "      <th>...</th>\n",
              "      <td>...</td>\n",
              "      <td>...</td>\n",
              "      <td>...</td>\n",
              "      <td>...</td>\n",
              "      <td>...</td>\n",
              "      <td>...</td>\n",
              "      <td>...</td>\n",
              "      <td>...</td>\n",
              "      <td>...</td>\n",
              "      <td>...</td>\n",
              "      <td>...</td>\n",
              "    </tr>\n",
              "    <tr>\n",
              "      <th>66th</th>\n",
              "      <td>2022-06-27</td>\n",
              "      <td>2022-07-03</td>\n",
              "      <td>2.64</td>\n",
              "      <td>0.001611</td>\n",
              "      <td>0.000006</td>\n",
              "      <td>0.010962</td>\n",
              "      <td>0.004147</td>\n",
              "      <td>0.002</td>\n",
              "      <td>10669</td>\n",
              "      <td>6</td>\n",
              "      <td>16</td>\n",
              "    </tr>\n",
              "    <tr>\n",
              "      <th>67th</th>\n",
              "      <td>2022-07-04</td>\n",
              "      <td>2022-07-11</td>\n",
              "      <td>2.49</td>\n",
              "      <td>0.000247</td>\n",
              "      <td>0.000005</td>\n",
              "      <td>0.010018</td>\n",
              "      <td>0.004023</td>\n",
              "      <td>0.0</td>\n",
              "      <td>12149</td>\n",
              "      <td>7</td>\n",
              "      <td>17</td>\n",
              "    </tr>\n",
              "    <tr>\n",
              "      <th>68th</th>\n",
              "      <td>2022-07-12</td>\n",
              "      <td>2022-07-20</td>\n",
              "      <td>1.75</td>\n",
              "      <td>0.002094</td>\n",
              "      <td>0.000006</td>\n",
              "      <td>0.00853</td>\n",
              "      <td>0.004857</td>\n",
              "      <td>0.002</td>\n",
              "      <td>11640</td>\n",
              "      <td>8</td>\n",
              "      <td>14</td>\n",
              "    </tr>\n",
              "    <tr>\n",
              "      <th>69th</th>\n",
              "      <td>2022-07-21</td>\n",
              "      <td>2022-07-28</td>\n",
              "      <td>1.29</td>\n",
              "      <td>0.000051</td>\n",
              "      <td>0.00001</td>\n",
              "      <td>0.004192</td>\n",
              "      <td>0.003246</td>\n",
              "      <td>0.0</td>\n",
              "      <td>6533</td>\n",
              "      <td>16</td>\n",
              "      <td>21</td>\n",
              "    </tr>\n",
              "    <tr>\n",
              "      <th>70th</th>\n",
              "      <td>2022-07-29</td>\n",
              "      <td>2022-08-10</td>\n",
              "      <td>0.92</td>\n",
              "      <td>0.001736</td>\n",
              "      <td>0.000006</td>\n",
              "      <td>0.003842</td>\n",
              "      <td>0.004186</td>\n",
              "      <td>0.002</td>\n",
              "      <td>11642</td>\n",
              "      <td>17</td>\n",
              "      <td>16</td>\n",
              "    </tr>\n",
              "  </tbody>\n",
              "</table>\n",
              "<p>71 rows × 11 columns</p>\n",
              "</div>\n",
              "      <button class=\"colab-df-convert\" onclick=\"convertToInteractive('df-75caab81-3da7-49da-93fe-81c29ed059e1')\"\n",
              "              title=\"Convert this dataframe to an interactive table.\"\n",
              "              style=\"display:none;\">\n",
              "        \n",
              "  <svg xmlns=\"http://www.w3.org/2000/svg\" height=\"24px\"viewBox=\"0 0 24 24\"\n",
              "       width=\"24px\">\n",
              "    <path d=\"M0 0h24v24H0V0z\" fill=\"none\"/>\n",
              "    <path d=\"M18.56 5.44l.94 2.06.94-2.06 2.06-.94-2.06-.94-.94-2.06-.94 2.06-2.06.94zm-11 1L8.5 8.5l.94-2.06 2.06-.94-2.06-.94L8.5 2.5l-.94 2.06-2.06.94zm10 10l.94 2.06.94-2.06 2.06-.94-2.06-.94-.94-2.06-.94 2.06-2.06.94z\"/><path d=\"M17.41 7.96l-1.37-1.37c-.4-.4-.92-.59-1.43-.59-.52 0-1.04.2-1.43.59L10.3 9.45l-7.72 7.72c-.78.78-.78 2.05 0 2.83L4 21.41c.39.39.9.59 1.41.59.51 0 1.02-.2 1.41-.59l7.78-7.78 2.81-2.81c.8-.78.8-2.07 0-2.86zM5.41 20L4 18.59l7.72-7.72 1.47 1.35L5.41 20z\"/>\n",
              "  </svg>\n",
              "      </button>\n",
              "      \n",
              "  <style>\n",
              "    .colab-df-container {\n",
              "      display:flex;\n",
              "      flex-wrap:wrap;\n",
              "      gap: 12px;\n",
              "    }\n",
              "\n",
              "    .colab-df-convert {\n",
              "      background-color: #E8F0FE;\n",
              "      border: none;\n",
              "      border-radius: 50%;\n",
              "      cursor: pointer;\n",
              "      display: none;\n",
              "      fill: #1967D2;\n",
              "      height: 32px;\n",
              "      padding: 0 0 0 0;\n",
              "      width: 32px;\n",
              "    }\n",
              "\n",
              "    .colab-df-convert:hover {\n",
              "      background-color: #E2EBFA;\n",
              "      box-shadow: 0px 1px 2px rgba(60, 64, 67, 0.3), 0px 1px 3px 1px rgba(60, 64, 67, 0.15);\n",
              "      fill: #174EA6;\n",
              "    }\n",
              "\n",
              "    [theme=dark] .colab-df-convert {\n",
              "      background-color: #3B4455;\n",
              "      fill: #D2E3FC;\n",
              "    }\n",
              "\n",
              "    [theme=dark] .colab-df-convert:hover {\n",
              "      background-color: #434B5C;\n",
              "      box-shadow: 0px 1px 3px 1px rgba(0, 0, 0, 0.15);\n",
              "      filter: drop-shadow(0px 1px 2px rgba(0, 0, 0, 0.3));\n",
              "      fill: #FFFFFF;\n",
              "    }\n",
              "  </style>\n",
              "\n",
              "      <script>\n",
              "        const buttonEl =\n",
              "          document.querySelector('#df-75caab81-3da7-49da-93fe-81c29ed059e1 button.colab-df-convert');\n",
              "        buttonEl.style.display =\n",
              "          google.colab.kernel.accessAllowed ? 'block' : 'none';\n",
              "\n",
              "        async function convertToInteractive(key) {\n",
              "          const element = document.querySelector('#df-75caab81-3da7-49da-93fe-81c29ed059e1');\n",
              "          const dataTable =\n",
              "            await google.colab.kernel.invokeFunction('convertToInteractive',\n",
              "                                                     [key], {});\n",
              "          if (!dataTable) return;\n",
              "\n",
              "          const docLinkHtml = 'Like what you see? Visit the ' +\n",
              "            '<a target=\"_blank\" href=https://colab.research.google.com/notebooks/data_table.ipynb>data table notebook</a>'\n",
              "            + ' to learn more about interactive tables.';\n",
              "          element.innerHTML = '';\n",
              "          dataTable['output_type'] = 'display_data';\n",
              "          await google.colab.output.renderOutput(dataTable, element);\n",
              "          const docLink = document.createElement('div');\n",
              "          docLink.innerHTML = docLinkHtml;\n",
              "          element.appendChild(docLink);\n",
              "        }\n",
              "      </script>\n",
              "    </div>\n",
              "  </div>\n",
              "  "
            ]
          },
          "metadata": {}
        },
        {
          "output_type": "display_data",
          "data": {
            "text/plain": [
              "<Figure size 648x432 with 1 Axes>"
            ],
            "image/png": "[encoded data removed]"
          },
          "metadata": {
            "needs_background": "light"
          }
        }
      ]
    },
    {
      "cell_type": "markdown",
      "source": [
        "If `name` is not specified, actual records will be shown."
      ],
      "metadata": {
        "id": "JypTh9TJz_s-"
      }
    },
    {
      "cell_type": "code",
      "source": [
        "snr_act.simulate();"
      ],
      "metadata": {
        "colab": {
          "base_uri": "https://localhost:8080/",
          "height": 435
        },
        "id": "TxSRHJc50Gya",
        "outputId": "f828ba6e-b330-4ab4-8d76-1d382f615203"
      },
      "execution_count": 5,
      "outputs": [
        {
          "output_type": "display_data",
          "data": {
            "text/plain": [
              "<Figure size 648x432 with 1 Axes>"
            ],
            "image/png": "[encoded data removed]"
          },
          "metadata": {
            "needs_background": "light"
          }
        }
      ]
    },
    {
      "cell_type": "markdown",
      "source": [
        "### 1.2 With `pandas.DataFrame`\n",
        "The following solution is useful when we want to use `pandas.DataFrame` or sample data for scenario analysis."
      ],
      "metadata": {
        "id": "aI3K38FMGUlO"
      }
    },
    {
      "cell_type": "markdown",
      "source": [
        "At first, we will prepare an instance of `Dynamics`."
      ],
      "metadata": {
        "id": "5TYSIZdgNpoa"
      }
    },
    {
      "cell_type": "code",
      "source": [
        "dyn_sample = cs.Dynamics.from_sample(cs.SIRFModel, date_range=(\"01Jan2022\", \"31Jan2022\"), tau=1440)\n",
        "sample_df = dyn_sample.simulate()\n",
        "cs.line_plot(sample_df.drop(\"Susceptible\", axis=1), \"Sample: Simulated data (Baseline scenario)\")"
      ],
      "metadata": {
        "colab": {
          "base_uri": "https://localhost:8080/",
          "height": 439
        },
        "id": "a25VZSm2GT_H",
        "outputId": "5059b106-e465-4cc3-e1aa-897e8121727b"
      },
      "execution_count": 6,
      "outputs": [
        {
          "output_type": "display_data",
          "data": {
            "text/plain": [
              "<Figure size 648x432 with 1 Axes>"
            ],
            "image/png": "[encoded data removed]"
          },
          "metadata": {
            "needs_background": "light"
          }
        }
      ]
    },
    {
      "cell_type": "markdown",
      "source": [
        "Then, prepare a `pandas.DataFrame` with time-index and Population/Confirmed/Recovered/Fatal columns. `DataEngineer` class will be useful."
      ],
      "metadata": {
        "id": "FLO1VEIOONKq"
      }
    },
    {
      "cell_type": "code",
      "source": [
        "eng = cs.DataEngineer(layers=[\"Country\"])\n",
        "df = sample_df.reset_index()\n",
        "df.insert(0, \"Country\", \"Sample\")\n",
        "eng.register(data=df)\n",
        "eng.inverse_transform()\n",
        "subset_df, *_ = eng.subset(\n",
        "    geo=\"Sample\", variables=[\"Population\", \"Confirmed\", \"Recovered\", \"Fatal\"]\n",
        ")\n",
        "display(subset_df.head())\n",
        "display(subset_df.tail())"
      ],
      "metadata": {
        "colab": {
          "base_uri": "https://localhost:8080/",
          "height": 458
        },
        "id": "WCphrsfUFDQI",
        "outputId": "6c13d237-cf57-4414-e022-0503cefa0b85"
      },
      "execution_count": 7,
      "outputs": [
        {
          "output_type": "display_data",
          "data": {
            "text/plain": [
              "            Population  Confirmed  Recovered  Fatal\n",
              "Date                                               \n",
              "2022-01-01     1000000       1000          0      0\n",
              "2022-01-02     1000001       1213         80      6\n",
              "2022-01-03     1000000       1451        169     12\n",
              "2022-01-04      999999       1720        271     19\n",
              "2022-01-05     1000001       2025        385     28"
            ],
            "text/html": [
              "\n",
              "  <div id=\"df-259625e2-4813-4595-9672-8a9965bdf7ac\">\n",
              "    <div class=\"colab-df-container\">\n",
              "      <div>\n",
              "<style scoped>\n",
              "    .dataframe tbody tr th:only-of-type {\n",
              "        vertical-align: middle;\n",
              "    }\n",
              "\n",
              "    .dataframe tbody tr th {\n",
              "        vertical-align: top;\n",
              "    }\n",
              "\n",
              "    .dataframe thead th {\n",
              "        text-align: right;\n",
              "    }\n",
              "</style>\n",
              "<table border=\"1\" class=\"dataframe\">\n",
              "  <thead>\n",
              "    <tr style=\"text-align: right;\">\n",
              "      <th></th>\n",
              "      <th>Population</th>\n",
              "      <th>Confirmed</th>\n",
              "      <th>Recovered</th>\n",
              "      <th>Fatal</th>\n",
              "    </tr>\n",
              "    <tr>\n",
              "      <th>Date</th>\n",
              "      <th></th>\n",
              "      <th></th>\n",
              "      <th></th>\n",
              "      <th></th>\n",
              "    </tr>\n",
              "  </thead>\n",
              "  <tbody>\n",
              "    <tr>\n",
              "      <th>2022-01-01</th>\n",
              "      <td>1000000</td>\n",
              "      <td>1000</td>\n",
              "      <td>0</td>\n",
              "      <td>0</td>\n",
              "    </tr>\n",
              "    <tr>\n",
              "      <th>2022-01-02</th>\n",
              "      <td>1000001</td>\n",
              "      <td>1213</td>\n",
              "      <td>80</td>\n",
              "      <td>6</td>\n",
              "    </tr>\n",
              "    <tr>\n",
              "      <th>2022-01-03</th>\n",
              "      <td>1000000</td>\n",
              "      <td>1451</td>\n",
              "      <td>169</td>\n",
              "      <td>12</td>\n",
              "    </tr>\n",
              "    <tr>\n",
              "      <th>2022-01-04</th>\n",
              "      <td>999999</td>\n",
              "      <td>1720</td>\n",
              "      <td>271</td>\n",
              "      <td>19</td>\n",
              "    </tr>\n",
              "    <tr>\n",
              "      <th>2022-01-05</th>\n",
              "      <td>1000001</td>\n",
              "      <td>2025</td>\n",
              "      <td>385</td>\n",
              "      <td>28</td>\n",
              "    </tr>\n",
              "  </tbody>\n",
              "</table>\n",
              "</div>\n",
              "      <button class=\"colab-df-convert\" onclick=\"convertToInteractive('df-259625e2-4813-4595-9672-8a9965bdf7ac')\"\n",
              "              title=\"Convert this dataframe to an interactive table.\"\n",
              "              style=\"display:none;\">\n",
              "        \n",
              "  <svg xmlns=\"http://www.w3.org/2000/svg\" height=\"24px\"viewBox=\"0 0 24 24\"\n",
              "       width=\"24px\">\n",
              "    <path d=\"M0 0h24v24H0V0z\" fill=\"none\"/>\n",
              "    <path d=\"M18.56 5.44l.94 2.06.94-2.06 2.06-.94-2.06-.94-.94-2.06-.94 2.06-2.06.94zm-11 1L8.5 8.5l.94-2.06 2.06-.94-2.06-.94L8.5 2.5l-.94 2.06-2.06.94zm10 10l.94 2.06.94-2.06 2.06-.94-2.06-.94-.94-2.06-.94 2.06-2.06.94z\"/><path d=\"M17.41 7.96l-1.37-1.37c-.4-.4-.92-.59-1.43-.59-.52 0-1.04.2-1.43.59L10.3 9.45l-7.72 7.72c-.78.78-.78 2.05 0 2.83L4 21.41c.39.39.9.59 1.41.59.51 0 1.02-.2 1.41-.59l7.78-7.78 2.81-2.81c.8-.78.8-2.07 0-2.86zM5.41 20L4 18.59l7.72-7.72 1.47 1.35L5.41 20z\"/>\n",
              "  </svg>\n",
              "      </button>\n",
              "      \n",
              "  <style>\n",
              "    .colab-df-container {\n",
              "      display:flex;\n",
              "      flex-wrap:wrap;\n",
              "      gap: 12px;\n",
              "    }\n",
              "\n",
              "    .colab-df-convert {\n",
              "      background-color: #E8F0FE;\n",
              "      border: none;\n",
              "      border-radius: 50%;\n",
              "      cursor: pointer;\n",
              "      display: none;\n",
              "      fill: #1967D2;\n",
              "      height: 32px;\n",
              "      padding: 0 0 0 0;\n",
              "      width: 32px;\n",
              "    }\n",
              "\n",
              "    .colab-df-convert:hover {\n",
              "      background-color: #E2EBFA;\n",
              "      box-shadow: 0px 1px 2px rgba(60, 64, 67, 0.3), 0px 1px 3px 1px rgba(60, 64, 67, 0.15);\n",
              "      fill: #174EA6;\n",
              "    }\n",
              "\n",
              "    [theme=dark] .colab-df-convert {\n",
              "      background-color: #3B4455;\n",
              "      fill: #D2E3FC;\n",
              "    }\n",
              "\n",
              "    [theme=dark] .colab-df-convert:hover {\n",
              "      background-color: #434B5C;\n",
              "      box-shadow: 0px 1px 3px 1px rgba(0, 0, 0, 0.15);\n",
              "      filter: drop-shadow(0px 1px 2px rgba(0, 0, 0, 0.3));\n",
              "      fill: #FFFFFF;\n",
              "    }\n",
              "  </style>\n",
              "\n",
              "      <script>\n",
              "        const buttonEl =\n",
              "          document.querySelector('#df-259625e2-4813-4595-9672-8a9965bdf7ac button.colab-df-convert');\n",
              "        buttonEl.style.display =\n",
              "          google.colab.kernel.accessAllowed ? 'block' : 'none';\n",
              "\n",
              "        async function convertToInteractive(key) {\n",
              "          const element = document.querySelector('#df-259625e2-4813-4595-9672-8a9965bdf7ac');\n",
              "          const dataTable =\n",
              "            await google.colab.kernel.invokeFunction('convertToInteractive',\n",
              "                                                     [key], {});\n",
              "          if (!dataTable) return;\n",
              "\n",
              "          const docLinkHtml = 'Like what you see? Visit the ' +\n",
              "            '<a target=\"_blank\" href=https://colab.research.google.com/notebooks/data_table.ipynb>data table notebook</a>'\n",
              "            + ' to learn more about interactive tables.';\n",
              "          element.innerHTML = '';\n",
              "          dataTable['output_type'] = 'display_data';\n",
              "          await google.colab.output.renderOutput(dataTable, element);\n",
              "          const docLink = document.createElement('div');\n",
              "          docLink.innerHTML = docLinkHtml;\n",
              "          element.appendChild(docLink);\n",
              "        }\n",
              "      </script>\n",
              "    </div>\n",
              "  </div>\n",
              "  "
            ]
          },
          "metadata": {}
        },
        {
          "output_type": "display_data",
          "data": {
            "text/plain": [
              "            Population  Confirmed  Recovered  Fatal\n",
              "Date                                               \n",
              "2022-01-27     1000000      35218      13068    940\n",
              "2022-01-28     1000001      39544      14753   1061\n",
              "2022-01-29     1000000      44357      16637   1196\n",
              "2022-01-30     1000000      49704      18741   1347\n",
              "2022-01-31      999999      55633      21088   1515"
            ],
            "text/html": [
              "\n",
              "  <div id=\"df-12d88071-6eee-493c-ac42-9ee7d4d22681\">\n",
              "    <div class=\"colab-df-container\">\n",
              "      <div>\n",
              "<style scoped>\n",
              "    .dataframe tbody tr th:only-of-type {\n",
              "        vertical-align: middle;\n",
              "    }\n",
              "\n",
              "    .dataframe tbody tr th {\n",
              "        vertical-align: top;\n",
              "    }\n",
              "\n",
              "    .dataframe thead th {\n",
              "        text-align: right;\n",
              "    }\n",
              "</style>\n",
              "<table border=\"1\" class=\"dataframe\">\n",
              "  <thead>\n",
              "    <tr style=\"text-align: right;\">\n",
              "      <th></th>\n",
              "      <th>Population</th>\n",
              "      <th>Confirmed</th>\n",
              "      <th>Recovered</th>\n",
              "      <th>Fatal</th>\n",
              "    </tr>\n",
              "    <tr>\n",
              "      <th>Date</th>\n",
              "      <th></th>\n",
              "      <th></th>\n",
              "      <th></th>\n",
              "      <th></th>\n",
              "    </tr>\n",
              "  </thead>\n",
              "  <tbody>\n",
              "    <tr>\n",
              "      <th>2022-01-27</th>\n",
              "      <td>1000000</td>\n",
              "      <td>35218</td>\n",
              "      <td>13068</td>\n",
              "      <td>940</td>\n",
              "    </tr>\n",
              "    <tr>\n",
              "      <th>2022-01-28</th>\n",
              "      <td>1000001</td>\n",
              "      <td>39544</td>\n",
              "      <td>14753</td>\n",
              "      <td>1061</td>\n",
              "    </tr>\n",
              "    <tr>\n",
              "      <th>2022-01-29</th>\n",
              "      <td>1000000</td>\n",
              "      <td>44357</td>\n",
              "      <td>16637</td>\n",
              "      <td>1196</td>\n",
              "    </tr>\n",
              "    <tr>\n",
              "      <th>2022-01-30</th>\n",
              "      <td>1000000</td>\n",
              "      <td>49704</td>\n",
              "      <td>18741</td>\n",
              "      <td>1347</td>\n",
              "    </tr>\n",
              "    <tr>\n",
              "      <th>2022-01-31</th>\n",
              "      <td>999999</td>\n",
              "      <td>55633</td>\n",
              "      <td>21088</td>\n",
              "      <td>1515</td>\n",
              "    </tr>\n",
              "  </tbody>\n",
              "</table>\n",
              "</div>\n",
              "      <button class=\"colab-df-convert\" onclick=\"convertToInteractive('df-12d88071-6eee-493c-ac42-9ee7d4d22681')\"\n",
              "              title=\"Convert this dataframe to an interactive table.\"\n",
              "              style=\"display:none;\">\n",
              "        \n",
              "  <svg xmlns=\"http://www.w3.org/2000/svg\" height=\"24px\"viewBox=\"0 0 24 24\"\n",
              "       width=\"24px\">\n",
              "    <path d=\"M0 0h24v24H0V0z\" fill=\"none\"/>\n",
              "    <path d=\"M18.56 5.44l.94 2.06.94-2.06 2.06-.94-2.06-.94-.94-2.06-.94 2.06-2.06.94zm-11 1L8.5 8.5l.94-2.06 2.06-.94-2.06-.94L8.5 2.5l-.94 2.06-2.06.94zm10 10l.94 2.06.94-2.06 2.06-.94-2.06-.94-.94-2.06-.94 2.06-2.06.94z\"/><path d=\"M17.41 7.96l-1.37-1.37c-.4-.4-.92-.59-1.43-.59-.52 0-1.04.2-1.43.59L10.3 9.45l-7.72 7.72c-.78.78-.78 2.05 0 2.83L4 21.41c.39.39.9.59 1.41.59.51 0 1.02-.2 1.41-.59l7.78-7.78 2.81-2.81c.8-.78.8-2.07 0-2.86zM5.41 20L4 18.59l7.72-7.72 1.47 1.35L5.41 20z\"/>\n",
              "  </svg>\n",
              "      </button>\n",
              "      \n",
              "  <style>\n",
              "    .colab-df-container {\n",
              "      display:flex;\n",
              "      flex-wrap:wrap;\n",
              "      gap: 12px;\n",
              "    }\n",
              "\n",
              "    .colab-df-convert {\n",
              "      background-color: #E8F0FE;\n",
              "      border: none;\n",
              "      border-radius: 50%;\n",
              "      cursor: pointer;\n",
              "      display: none;\n",
              "      fill: #1967D2;\n",
              "      height: 32px;\n",
              "      padding: 0 0 0 0;\n",
              "      width: 32px;\n",
              "    }\n",
              "\n",
              "    .colab-df-convert:hover {\n",
              "      background-color: #E2EBFA;\n",
              "      box-shadow: 0px 1px 2px rgba(60, 64, 67, 0.3), 0px 1px 3px 1px rgba(60, 64, 67, 0.15);\n",
              "      fill: #174EA6;\n",
              "    }\n",
              "\n",
              "    [theme=dark] .colab-df-convert {\n",
              "      background-color: #3B4455;\n",
              "      fill: #D2E3FC;\n",
              "    }\n",
              "\n",
              "    [theme=dark] .colab-df-convert:hover {\n",
              "      background-color: #434B5C;\n",
              "      box-shadow: 0px 1px 3px 1px rgba(0, 0, 0, 0.15);\n",
              "      filter: drop-shadow(0px 1px 2px rgba(0, 0, 0, 0.3));\n",
              "      fill: #FFFFFF;\n",
              "    }\n",
              "  </style>\n",
              "\n",
              "      <script>\n",
              "        const buttonEl =\n",
              "          document.querySelector('#df-12d88071-6eee-493c-ac42-9ee7d4d22681 button.colab-df-convert');\n",
              "        buttonEl.style.display =\n",
              "          google.colab.kernel.accessAllowed ? 'block' : 'none';\n",
              "\n",
              "        async function convertToInteractive(key) {\n",
              "          const element = document.querySelector('#df-12d88071-6eee-493c-ac42-9ee7d4d22681');\n",
              "          const dataTable =\n",
              "            await google.colab.kernel.invokeFunction('convertToInteractive',\n",
              "                                                     [key], {});\n",
              "          if (!dataTable) return;\n",
              "\n",
              "          const docLinkHtml = 'Like what you see? Visit the ' +\n",
              "            '<a target=\"_blank\" href=https://colab.research.google.com/notebooks/data_table.ipynb>data table notebook</a>'\n",
              "            + ' to learn more about interactive tables.';\n",
              "          element.innerHTML = '';\n",
              "          dataTable['output_type'] = 'display_data';\n",
              "          await google.colab.output.renderOutput(dataTable, element);\n",
              "          const docLink = document.createElement('div');\n",
              "          docLink.innerHTML = docLinkHtml;\n",
              "          element.appendChild(docLink);\n",
              "        }\n",
              "      </script>\n",
              "    </div>\n",
              "  </div>\n",
              "  "
            ]
          },
          "metadata": {}
        }
      ]
    },
    {
      "cell_type": "markdown",
      "source": [
        "Finally, we can create an instance of `ODEScenario`."
      ],
      "metadata": {
        "id": "TrjAhb8JP07Q"
      }
    },
    {
      "cell_type": "code",
      "source": [
        "snr = cs.ODEScenario(data=subset_df, location_name=\"Sample\", complement=False)\n",
        "snr.build_with_dynamics(name=\"Baseline\", dynamics=dyn_sample)\n",
        "# Confirm summar\n",
        "snr.summary()"
      ],
      "metadata": {
        "colab": {
          "base_uri": "https://localhost:8080/",
          "height": 191
        },
        "id": "rr_pa09WP9z9",
        "outputId": "65da70fc-e6ba-45e9-ccf3-d557efa13715"
      },
      "execution_count": 8,
      "outputs": [
        {
          "output_type": "execute_result",
          "data": {
            "text/plain": [
              "                    Start        End   Rt  theta  kappa  rho  sigma  \\\n",
              "Scenario Phase                                                        \n",
              "Baseline 0th   2022-01-01 2022-01-31  2.5  0.002  0.005  0.2  0.075   \n",
              "\n",
              "                alpha1 [-]  1/alpha2 [day]  1/beta [day]  1/gamma [day]  \\\n",
              "Scenario Phase                                                            \n",
              "Baseline 0th         0.002             200             5             13   \n",
              "\n",
              "                        ODE   tau  \n",
              "Scenario Phase                     \n",
              "Baseline 0th    SIR-F Model  1440  "
            ],
            "text/html": [
              "\n",
              "  <div id=\"df-ddab1c46-d991-4d09-8491-91faf95b7210\">\n",
              "    <div class=\"colab-df-container\">\n",
              "      <div>\n",
              "<style scoped>\n",
              "    .dataframe tbody tr th:only-of-type {\n",
              "        vertical-align: middle;\n",
              "    }\n",
              "\n",
              "    .dataframe tbody tr th {\n",
              "        vertical-align: top;\n",
              "    }\n",
              "\n",
              "    .dataframe thead th {\n",
              "        text-align: right;\n",
              "    }\n",
              "</style>\n",
              "<table border=\"1\" class=\"dataframe\">\n",
              "  <thead>\n",
              "    <tr style=\"text-align: right;\">\n",
              "      <th></th>\n",
              "      <th></th>\n",
              "      <th>Start</th>\n",
              "      <th>End</th>\n",
              "      <th>Rt</th>\n",
              "      <th>theta</th>\n",
              "      <th>kappa</th>\n",
              "      <th>rho</th>\n",
              "      <th>sigma</th>\n",
              "      <th>alpha1 [-]</th>\n",
              "      <th>1/alpha2 [day]</th>\n",
              "      <th>1/beta [day]</th>\n",
              "      <th>1/gamma [day]</th>\n",
              "      <th>ODE</th>\n",
              "      <th>tau</th>\n",
              "    </tr>\n",
              "    <tr>\n",
              "      <th>Scenario</th>\n",
              "      <th>Phase</th>\n",
              "      <th></th>\n",
              "      <th></th>\n",
              "      <th></th>\n",
              "      <th></th>\n",
              "      <th></th>\n",
              "      <th></th>\n",
              "      <th></th>\n",
              "      <th></th>\n",
              "      <th></th>\n",
              "      <th></th>\n",
              "      <th></th>\n",
              "      <th></th>\n",
              "      <th></th>\n",
              "    </tr>\n",
              "  </thead>\n",
              "  <tbody>\n",
              "    <tr>\n",
              "      <th>Baseline</th>\n",
              "      <th>0th</th>\n",
              "      <td>2022-01-01</td>\n",
              "      <td>2022-01-31</td>\n",
              "      <td>2.5</td>\n",
              "      <td>0.002</td>\n",
              "      <td>0.005</td>\n",
              "      <td>0.2</td>\n",
              "      <td>0.075</td>\n",
              "      <td>0.002</td>\n",
              "      <td>200</td>\n",
              "      <td>5</td>\n",
              "      <td>13</td>\n",
              "      <td>SIR-F Model</td>\n",
              "      <td>1440</td>\n",
              "    </tr>\n",
              "  </tbody>\n",
              "</table>\n",
              "</div>\n",
              "      <button class=\"colab-df-convert\" onclick=\"convertToInteractive('df-ddab1c46-d991-4d09-8491-91faf95b7210')\"\n",
              "              title=\"Convert this dataframe to an interactive table.\"\n",
              "              style=\"display:none;\">\n",
              "        \n",
              "  <svg xmlns=\"http://www.w3.org/2000/svg\" height=\"24px\"viewBox=\"0 0 24 24\"\n",
              "       width=\"24px\">\n",
              "    <path d=\"M0 0h24v24H0V0z\" fill=\"none\"/>\n",
              "    <path d=\"M18.56 5.44l.94 2.06.94-2.06 2.06-.94-2.06-.94-.94-2.06-.94 2.06-2.06.94zm-11 1L8.5 8.5l.94-2.06 2.06-.94-2.06-.94L8.5 2.5l-.94 2.06-2.06.94zm10 10l.94 2.06.94-2.06 2.06-.94-2.06-.94-.94-2.06-.94 2.06-2.06.94z\"/><path d=\"M17.41 7.96l-1.37-1.37c-.4-.4-.92-.59-1.43-.59-.52 0-1.04.2-1.43.59L10.3 9.45l-7.72 7.72c-.78.78-.78 2.05 0 2.83L4 21.41c.39.39.9.59 1.41.59.51 0 1.02-.2 1.41-.59l7.78-7.78 2.81-2.81c.8-.78.8-2.07 0-2.86zM5.41 20L4 18.59l7.72-7.72 1.47 1.35L5.41 20z\"/>\n",
              "  </svg>\n",
              "      </button>\n",
              "      \n",
              "  <style>\n",
              "    .colab-df-container {\n",
              "      display:flex;\n",
              "      flex-wrap:wrap;\n",
              "      gap: 12px;\n",
              "    }\n",
              "\n",
              "    .colab-df-convert {\n",
              "      background-color: #E8F0FE;\n",
              "      border: none;\n",
              "      border-radius: 50%;\n",
              "      cursor: pointer;\n",
              "      display: none;\n",
              "      fill: #1967D2;\n",
              "      height: 32px;\n",
              "      padding: 0 0 0 0;\n",
              "      width: 32px;\n",
              "    }\n",
              "\n",
              "    .colab-df-convert:hover {\n",
              "      background-color: #E2EBFA;\n",
              "      box-shadow: 0px 1px 2px rgba(60, 64, 67, 0.3), 0px 1px 3px 1px rgba(60, 64, 67, 0.15);\n",
              "      fill: #174EA6;\n",
              "    }\n",
              "\n",
              "    [theme=dark] .colab-df-convert {\n",
              "      background-color: #3B4455;\n",
              "      fill: #D2E3FC;\n",
              "    }\n",
              "\n",
              "    [theme=dark] .colab-df-convert:hover {\n",
              "      background-color: #434B5C;\n",
              "      box-shadow: 0px 1px 3px 1px rgba(0, 0, 0, 0.15);\n",
              "      filter: drop-shadow(0px 1px 2px rgba(0, 0, 0, 0.3));\n",
              "      fill: #FFFFFF;\n",
              "    }\n",
              "  </style>\n",
              "\n",
              "      <script>\n",
              "        const buttonEl =\n",
              "          document.querySelector('#df-ddab1c46-d991-4d09-8491-91faf95b7210 button.colab-df-convert');\n",
              "        buttonEl.style.display =\n",
              "          google.colab.kernel.accessAllowed ? 'block' : 'none';\n",
              "\n",
              "        async function convertToInteractive(key) {\n",
              "          const element = document.querySelector('#df-ddab1c46-d991-4d09-8491-91faf95b7210');\n",
              "          const dataTable =\n",
              "            await google.colab.kernel.invokeFunction('convertToInteractive',\n",
              "                                                     [key], {});\n",
              "          if (!dataTable) return;\n",
              "\n",
              "          const docLinkHtml = 'Like what you see? Visit the ' +\n",
              "            '<a target=\"_blank\" href=https://colab.research.google.com/notebooks/data_table.ipynb>data table notebook</a>'\n",
              "            + ' to learn more about interactive tables.';\n",
              "          element.innerHTML = '';\n",
              "          dataTable['output_type'] = 'display_data';\n",
              "          await google.colab.output.renderOutput(dataTable, element);\n",
              "          const docLink = document.createElement('div');\n",
              "          docLink.innerHTML = docLinkHtml;\n",
              "          element.appendChild(docLink);\n",
              "        }\n",
              "      </script>\n",
              "    </div>\n",
              "  </div>\n",
              "  "
            ]
          },
          "metadata": {},
          "execution_count": 8
        }
      ]
    },
    {
      "cell_type": "markdown",
      "source": [
        "If we need to perform time-series segmentation, tau estimation and ODE parameter estimation, we can use `.build_with_model(name=<str>, model=<ODEModel>, data_range=<tuple of (str, str) or None>, tau=<int or None>` instead of `.build_with_dynamics()`."
      ],
      "metadata": {
        "id": "naZ34Vj9QcAu"
      }
    },
    {
      "cell_type": "markdown",
      "source": [
        "## Set additional scenarios\n",
        "We will define the following scenario as an example to analyze the impact of ODE parameter changes, copying the baseline scenario and add a phase with the changed ODE parameter values. Note that this is just an assumtion. It will be better to change ODE parameter values for your analysis.\n",
        "\n",
        "| name | 01Jan - 31Jan | $\\kappa$ (to 30Jun) | $\\rho$ (to 30Jun) | $\\sigma$ (to 30Jun) |\n",
        "|:---:|:---:|:---:|:---:|:---:|\n",
        "| Baseline | 100% | 100% | 100% | 100% |\n",
        "| Lockdown | 100% | 100% |  50% | 100% |\n",
        "| Medicine | 100% |  50% | 100% | 200% |\n",
        "| Vaccine  | 100% |  60% |  80% | 120% |"
      ],
      "metadata": {
        "id": "--3knphyRAMq"
      }
    },
    {
      "cell_type": "markdown",
      "source": [
        "Get the baseline values of ODE parameters."
      ],
      "metadata": {
        "id": "Gv3gcVVUUphT"
      }
    },
    {
      "cell_type": "code",
      "source": [
        "df = snr.summary()\n",
        "kappa, rho, sigma = df.loc[(\"Baseline\", \"0th\"), [\"kappa\", \"rho\", \"sigma\"]]\n",
        "print(f\"kappa={kappa:.4}, rho={rho:.4}, sigma={sigma:.4}\")"
      ],
      "metadata": {
        "colab": {
          "base_uri": "https://localhost:8080/"
        },
        "id": "eB6bF5q-UWhk",
        "outputId": "379f40a0-9ade-4154-a4b7-036a8bf96f6c"
      },
      "execution_count": 9,
      "outputs": [
        {
          "output_type": "stream",
          "name": "stdout",
          "text": [
            "kappa=0.005, rho=0.2, sigma=0.075\n"
          ]
        }
      ]
    },
    {
      "cell_type": "markdown",
      "source": [
        "### 2.1 Lockdown scenario\n",
        "This scenario assumes that $\\rho$ value will be decreased from 01Feb2022 because of stay-home restriction."
      ],
      "metadata": {
        "id": "biDXrfZiT1mp"
      }
    },
    {
      "cell_type": "code",
      "source": [
        "name = \"Lockdown\"\n",
        "snr.build_with_template(name=name, template=\"Baseline\")\n",
        "snr.append(name=name, end=\"30Jun2022\", rho=rho*0.5)\n",
        "# Simulation\n",
        "snr.simulate(name=name, v=\"01Feb2022\");"
      ],
      "metadata": {
        "colab": {
          "base_uri": "https://localhost:8080/",
          "height": 435
        },
        "id": "Ph_Z6Bi8Tx22",
        "outputId": "f97ab1b3-6358-4ab5-df8d-7656a93f9f7b"
      },
      "execution_count": 10,
      "outputs": [
        {
          "output_type": "display_data",
          "data": {
            "text/plain": [
              "<Figure size 648x432 with 1 Axes>"
            ],
            "image/png": "[encoded data removed]"
          },
          "metadata": {
            "needs_background": "light"
          }
        }
      ]
    },
    {
      "cell_type": "markdown",
      "source": [
        "### 2.2 Medicine senario\n",
        "This scenario assumes that $\\kappa$ will be decreased and $\\sigma$ will be increased because of new medicine development."
      ],
      "metadata": {
        "id": "rPbaOey8B3Xi"
      }
    },
    {
      "cell_type": "code",
      "source": [
        "name = \"Medicine\"\n",
        "snr.build_with_template(name=name, template=\"Baseline\")\n",
        "snr.append(name=name, end=\"30Jun2022\", kappa=kappa*0.5, sigma=sigma*2)\n",
        "# Simulation\n",
        "snr.simulate(name=name, v=\"01Feb2022\");"
      ],
      "metadata": {
        "colab": {
          "base_uri": "https://localhost:8080/",
          "height": 435
        },
        "id": "WhFfI8rDyJ6W",
        "outputId": "4aa1434d-8fd4-4eb6-a394-11207bdfc623"
      },
      "execution_count": 11,
      "outputs": [
        {
          "output_type": "display_data",
          "data": {
            "text/plain": [
              "<Figure size 648x432 with 1 Axes>"
            ],
            "image/png": "[encoded data removed]"
          },
          "metadata": {
            "needs_background": "light"
          }
        }
      ]
    },
    {
      "cell_type": "markdown",
      "source": [
        "### 2.3 Vaccine scenerio\n",
        "This scenario assumes that $\\kappa$ and $\\rho$ will be decreased and $\\sigma$ will be increased because of vaccination."
      ],
      "metadata": {
        "id": "__oymzaryYIC"
      }
    },
    {
      "cell_type": "code",
      "source": [
        "name = \"Vaccine\"\n",
        "snr.build_with_template(name=name, template=\"Baseline\")\n",
        "snr.append(name=name, end=\"30Jun2022\", kappa=kappa*0.6, rho=rho*0.8, sigma=sigma*1.2)\n",
        "# Simulation\n",
        "snr.simulate(name=name, v=\"01Feb2022\");"
      ],
      "metadata": {
        "colab": {
          "base_uri": "https://localhost:8080/",
          "height": 435
        },
        "id": "ZOTdW3BMytT7",
        "outputId": "b129534a-1267-436c-b9d0-373b8ff1bb96"
      },
      "execution_count": 12,
      "outputs": [
        {
          "output_type": "display_data",
          "data": {
            "text/plain": [
              "<Figure size 648x432 with 1 Axes>"
            ],
            "image/png": "[encoded data removed]"
          },
          "metadata": {
            "needs_background": "light"
          }
        }
      ]
    },
    {
      "cell_type": "markdown",
      "source": [
        "### 2.4 Adjustment of the last dates\n",
        "The last dates of the new scenarios are 30Jun2022, but the baseline scanrio ends on 31Jan2022. We need to extend the last phase to the baseline scenario analysis with `ODEScenario().append(name=\"Baseline\")` or `ODEScenario().append()` (useful when we have some unchnaged scenarios)."
      ],
      "metadata": {
        "id": "CGe7zV4ly8lh"
      }
    },
    {
      "cell_type": "markdown",
      "source": [
        "Before appended:"
      ],
      "metadata": {
        "id": "LNB9WLArzuOZ"
      }
    },
    {
      "cell_type": "code",
      "source": [
        "snr.summary().style.applymap(lambda x: \"background-color: yellow\", subset=pd.IndexSlice[(\"Baseline\", \"0th\"), \"End\"])"
      ],
      "metadata": {
        "colab": {
          "base_uri": "https://localhost:8080/",
          "height": 459
        },
        "id": "NxmTg_PNzrHg",
        "outputId": "0dd1b7ad-2f58-4f24-e2d6-c6fefae1c83c"
      },
      "execution_count": 13,
      "outputs": [
        {
          "output_type": "execute_result",
          "data": {
            "text/plain": [
              "<pandas.io.formats.style.Styler at 0x7f00d5b47810>"
            ],
            "text/html": [
              "<style type=\"text/css\">\n",
              "#T_6e7b7_row0_col1 {\n",
              "  background-color: yellow;\n",
              "}\n",
              "</style>\n",
              "<table id=\"T_6e7b7_\" class=\"dataframe\">\n",
              "  <thead>\n",
              "    <tr>\n",
              "      <th class=\"blank\" >&nbsp;</th>\n",
              "      <th class=\"blank level0\" >&nbsp;</th>\n",
              "      <th class=\"col_heading level0 col0\" >Start</th>\n",
              "      <th class=\"col_heading level0 col1\" >End</th>\n",
              "      <th class=\"col_heading level0 col2\" >Rt</th>\n",
              "      <th class=\"col_heading level0 col3\" >theta</th>\n",
              "      <th class=\"col_heading level0 col4\" >kappa</th>\n",
              "      <th class=\"col_heading level0 col5\" >rho</th>\n",
              "      <th class=\"col_heading level0 col6\" >sigma</th>\n",
              "      <th class=\"col_heading level0 col7\" >alpha1 [-]</th>\n",
              "      <th class=\"col_heading level0 col8\" >1/alpha2 [day]</th>\n",
              "      <th class=\"col_heading level0 col9\" >1/beta [day]</th>\n",
              "      <th class=\"col_heading level0 col10\" >1/gamma [day]</th>\n",
              "      <th class=\"col_heading level0 col11\" >ODE</th>\n",
              "      <th class=\"col_heading level0 col12\" >tau</th>\n",
              "    </tr>\n",
              "    <tr>\n",
              "      <th class=\"index_name level0\" >Scenario</th>\n",
              "      <th class=\"index_name level1\" >Phase</th>\n",
              "      <th class=\"blank col0\" >&nbsp;</th>\n",
              "      <th class=\"blank col1\" >&nbsp;</th>\n",
              "      <th class=\"blank col2\" >&nbsp;</th>\n",
              "      <th class=\"blank col3\" >&nbsp;</th>\n",
              "      <th class=\"blank col4\" >&nbsp;</th>\n",
              "      <th class=\"blank col5\" >&nbsp;</th>\n",
              "      <th class=\"blank col6\" >&nbsp;</th>\n",
              "      <th class=\"blank col7\" >&nbsp;</th>\n",
              "      <th class=\"blank col8\" >&nbsp;</th>\n",
              "      <th class=\"blank col9\" >&nbsp;</th>\n",
              "      <th class=\"blank col10\" >&nbsp;</th>\n",
              "      <th class=\"blank col11\" >&nbsp;</th>\n",
              "      <th class=\"blank col12\" >&nbsp;</th>\n",
              "    </tr>\n",
              "  </thead>\n",
              "  <tbody>\n",
              "    <tr>\n",
              "      <th id=\"T_6e7b7_level0_row0\" class=\"row_heading level0 row0\" >Baseline</th>\n",
              "      <th id=\"T_6e7b7_level1_row0\" class=\"row_heading level1 row0\" >0th</th>\n",
              "      <td id=\"T_6e7b7_row0_col0\" class=\"data row0 col0\" >2022-01-01 00:00:00</td>\n",
              "      <td id=\"T_6e7b7_row0_col1\" class=\"data row0 col1\" >2022-01-31 00:00:00</td>\n",
              "      <td id=\"T_6e7b7_row0_col2\" class=\"data row0 col2\" >2.500000</td>\n",
              "      <td id=\"T_6e7b7_row0_col3\" class=\"data row0 col3\" >0.002000</td>\n",
              "      <td id=\"T_6e7b7_row0_col4\" class=\"data row0 col4\" >0.005000</td>\n",
              "      <td id=\"T_6e7b7_row0_col5\" class=\"data row0 col5\" >0.200000</td>\n",
              "      <td id=\"T_6e7b7_row0_col6\" class=\"data row0 col6\" >0.075000</td>\n",
              "      <td id=\"T_6e7b7_row0_col7\" class=\"data row0 col7\" >0.002000</td>\n",
              "      <td id=\"T_6e7b7_row0_col8\" class=\"data row0 col8\" >200</td>\n",
              "      <td id=\"T_6e7b7_row0_col9\" class=\"data row0 col9\" >5</td>\n",
              "      <td id=\"T_6e7b7_row0_col10\" class=\"data row0 col10\" >13</td>\n",
              "      <td id=\"T_6e7b7_row0_col11\" class=\"data row0 col11\" >SIR-F Model</td>\n",
              "      <td id=\"T_6e7b7_row0_col12\" class=\"data row0 col12\" >1440</td>\n",
              "    </tr>\n",
              "    <tr>\n",
              "      <th id=\"T_6e7b7_level0_row1\" class=\"row_heading level0 row1\" rowspan=\"2\">Lockdown</th>\n",
              "      <th id=\"T_6e7b7_level1_row1\" class=\"row_heading level1 row1\" >0th</th>\n",
              "      <td id=\"T_6e7b7_row1_col0\" class=\"data row1 col0\" >2022-01-01 00:00:00</td>\n",
              "      <td id=\"T_6e7b7_row1_col1\" class=\"data row1 col1\" >2022-01-31 00:00:00</td>\n",
              "      <td id=\"T_6e7b7_row1_col2\" class=\"data row1 col2\" >2.500000</td>\n",
              "      <td id=\"T_6e7b7_row1_col3\" class=\"data row1 col3\" >0.002000</td>\n",
              "      <td id=\"T_6e7b7_row1_col4\" class=\"data row1 col4\" >0.005000</td>\n",
              "      <td id=\"T_6e7b7_row1_col5\" class=\"data row1 col5\" >0.200000</td>\n",
              "      <td id=\"T_6e7b7_row1_col6\" class=\"data row1 col6\" >0.075000</td>\n",
              "      <td id=\"T_6e7b7_row1_col7\" class=\"data row1 col7\" >0.002000</td>\n",
              "      <td id=\"T_6e7b7_row1_col8\" class=\"data row1 col8\" >200</td>\n",
              "      <td id=\"T_6e7b7_row1_col9\" class=\"data row1 col9\" >5</td>\n",
              "      <td id=\"T_6e7b7_row1_col10\" class=\"data row1 col10\" >13</td>\n",
              "      <td id=\"T_6e7b7_row1_col11\" class=\"data row1 col11\" >SIR-F Model</td>\n",
              "      <td id=\"T_6e7b7_row1_col12\" class=\"data row1 col12\" >1440</td>\n",
              "    </tr>\n",
              "    <tr>\n",
              "      <th id=\"T_6e7b7_level1_row2\" class=\"row_heading level1 row2\" >1st</th>\n",
              "      <td id=\"T_6e7b7_row2_col0\" class=\"data row2 col0\" >2022-02-01 00:00:00</td>\n",
              "      <td id=\"T_6e7b7_row2_col1\" class=\"data row2 col1\" >2022-06-30 00:00:00</td>\n",
              "      <td id=\"T_6e7b7_row2_col2\" class=\"data row2 col2\" >1.250000</td>\n",
              "      <td id=\"T_6e7b7_row2_col3\" class=\"data row2 col3\" >0.002000</td>\n",
              "      <td id=\"T_6e7b7_row2_col4\" class=\"data row2 col4\" >0.005000</td>\n",
              "      <td id=\"T_6e7b7_row2_col5\" class=\"data row2 col5\" >0.100000</td>\n",
              "      <td id=\"T_6e7b7_row2_col6\" class=\"data row2 col6\" >0.075000</td>\n",
              "      <td id=\"T_6e7b7_row2_col7\" class=\"data row2 col7\" >0.002000</td>\n",
              "      <td id=\"T_6e7b7_row2_col8\" class=\"data row2 col8\" >200</td>\n",
              "      <td id=\"T_6e7b7_row2_col9\" class=\"data row2 col9\" >10</td>\n",
              "      <td id=\"T_6e7b7_row2_col10\" class=\"data row2 col10\" >13</td>\n",
              "      <td id=\"T_6e7b7_row2_col11\" class=\"data row2 col11\" >SIR-F Model</td>\n",
              "      <td id=\"T_6e7b7_row2_col12\" class=\"data row2 col12\" >1440</td>\n",
              "    </tr>\n",
              "    <tr>\n",
              "      <th id=\"T_6e7b7_level0_row3\" class=\"row_heading level0 row3\" rowspan=\"2\">Medicine</th>\n",
              "      <th id=\"T_6e7b7_level1_row3\" class=\"row_heading level1 row3\" >0th</th>\n",
              "      <td id=\"T_6e7b7_row3_col0\" class=\"data row3 col0\" >2022-01-01 00:00:00</td>\n",
              "      <td id=\"T_6e7b7_row3_col1\" class=\"data row3 col1\" >2022-01-31 00:00:00</td>\n",
              "      <td id=\"T_6e7b7_row3_col2\" class=\"data row3 col2\" >2.500000</td>\n",
              "      <td id=\"T_6e7b7_row3_col3\" class=\"data row3 col3\" >0.002000</td>\n",
              "      <td id=\"T_6e7b7_row3_col4\" class=\"data row3 col4\" >0.005000</td>\n",
              "      <td id=\"T_6e7b7_row3_col5\" class=\"data row3 col5\" >0.200000</td>\n",
              "      <td id=\"T_6e7b7_row3_col6\" class=\"data row3 col6\" >0.075000</td>\n",
              "      <td id=\"T_6e7b7_row3_col7\" class=\"data row3 col7\" >0.002000</td>\n",
              "      <td id=\"T_6e7b7_row3_col8\" class=\"data row3 col8\" >200</td>\n",
              "      <td id=\"T_6e7b7_row3_col9\" class=\"data row3 col9\" >5</td>\n",
              "      <td id=\"T_6e7b7_row3_col10\" class=\"data row3 col10\" >13</td>\n",
              "      <td id=\"T_6e7b7_row3_col11\" class=\"data row3 col11\" >SIR-F Model</td>\n",
              "      <td id=\"T_6e7b7_row3_col12\" class=\"data row3 col12\" >1440</td>\n",
              "    </tr>\n",
              "    <tr>\n",
              "      <th id=\"T_6e7b7_level1_row4\" class=\"row_heading level1 row4\" >1st</th>\n",
              "      <td id=\"T_6e7b7_row4_col0\" class=\"data row4 col0\" >2022-02-01 00:00:00</td>\n",
              "      <td id=\"T_6e7b7_row4_col1\" class=\"data row4 col1\" >2022-06-30 00:00:00</td>\n",
              "      <td id=\"T_6e7b7_row4_col2\" class=\"data row4 col2\" >1.310000</td>\n",
              "      <td id=\"T_6e7b7_row4_col3\" class=\"data row4 col3\" >0.002000</td>\n",
              "      <td id=\"T_6e7b7_row4_col4\" class=\"data row4 col4\" >0.002500</td>\n",
              "      <td id=\"T_6e7b7_row4_col5\" class=\"data row4 col5\" >0.200000</td>\n",
              "      <td id=\"T_6e7b7_row4_col6\" class=\"data row4 col6\" >0.150000</td>\n",
              "      <td id=\"T_6e7b7_row4_col7\" class=\"data row4 col7\" >0.002000</td>\n",
              "      <td id=\"T_6e7b7_row4_col8\" class=\"data row4 col8\" >400</td>\n",
              "      <td id=\"T_6e7b7_row4_col9\" class=\"data row4 col9\" >5</td>\n",
              "      <td id=\"T_6e7b7_row4_col10\" class=\"data row4 col10\" >7</td>\n",
              "      <td id=\"T_6e7b7_row4_col11\" class=\"data row4 col11\" >SIR-F Model</td>\n",
              "      <td id=\"T_6e7b7_row4_col12\" class=\"data row4 col12\" >1440</td>\n",
              "    </tr>\n",
              "    <tr>\n",
              "      <th id=\"T_6e7b7_level0_row5\" class=\"row_heading level0 row5\" rowspan=\"2\">Vaccine</th>\n",
              "      <th id=\"T_6e7b7_level1_row5\" class=\"row_heading level1 row5\" >0th</th>\n",
              "      <td id=\"T_6e7b7_row5_col0\" class=\"data row5 col0\" >2022-01-01 00:00:00</td>\n",
              "      <td id=\"T_6e7b7_row5_col1\" class=\"data row5 col1\" >2022-01-31 00:00:00</td>\n",
              "      <td id=\"T_6e7b7_row5_col2\" class=\"data row5 col2\" >2.500000</td>\n",
              "      <td id=\"T_6e7b7_row5_col3\" class=\"data row5 col3\" >0.002000</td>\n",
              "      <td id=\"T_6e7b7_row5_col4\" class=\"data row5 col4\" >0.005000</td>\n",
              "      <td id=\"T_6e7b7_row5_col5\" class=\"data row5 col5\" >0.200000</td>\n",
              "      <td id=\"T_6e7b7_row5_col6\" class=\"data row5 col6\" >0.075000</td>\n",
              "      <td id=\"T_6e7b7_row5_col7\" class=\"data row5 col7\" >0.002000</td>\n",
              "      <td id=\"T_6e7b7_row5_col8\" class=\"data row5 col8\" >200</td>\n",
              "      <td id=\"T_6e7b7_row5_col9\" class=\"data row5 col9\" >5</td>\n",
              "      <td id=\"T_6e7b7_row5_col10\" class=\"data row5 col10\" >13</td>\n",
              "      <td id=\"T_6e7b7_row5_col11\" class=\"data row5 col11\" >SIR-F Model</td>\n",
              "      <td id=\"T_6e7b7_row5_col12\" class=\"data row5 col12\" >1440</td>\n",
              "    </tr>\n",
              "    <tr>\n",
              "      <th id=\"T_6e7b7_level1_row6\" class=\"row_heading level1 row6\" >1st</th>\n",
              "      <td id=\"T_6e7b7_row6_col0\" class=\"data row6 col0\" >2022-02-01 00:00:00</td>\n",
              "      <td id=\"T_6e7b7_row6_col1\" class=\"data row6 col1\" >2022-06-30 00:00:00</td>\n",
              "      <td id=\"T_6e7b7_row6_col2\" class=\"data row6 col2\" >1.720000</td>\n",
              "      <td id=\"T_6e7b7_row6_col3\" class=\"data row6 col3\" >0.002000</td>\n",
              "      <td id=\"T_6e7b7_row6_col4\" class=\"data row6 col4\" >0.003000</td>\n",
              "      <td id=\"T_6e7b7_row6_col5\" class=\"data row6 col5\" >0.160000</td>\n",
              "      <td id=\"T_6e7b7_row6_col6\" class=\"data row6 col6\" >0.090000</td>\n",
              "      <td id=\"T_6e7b7_row6_col7\" class=\"data row6 col7\" >0.002000</td>\n",
              "      <td id=\"T_6e7b7_row6_col8\" class=\"data row6 col8\" >333</td>\n",
              "      <td id=\"T_6e7b7_row6_col9\" class=\"data row6 col9\" >6</td>\n",
              "      <td id=\"T_6e7b7_row6_col10\" class=\"data row6 col10\" >11</td>\n",
              "      <td id=\"T_6e7b7_row6_col11\" class=\"data row6 col11\" >SIR-F Model</td>\n",
              "      <td id=\"T_6e7b7_row6_col12\" class=\"data row6 col12\" >1440</td>\n",
              "    </tr>\n",
              "  </tbody>\n",
              "</table>\n"
            ]
          },
          "metadata": {},
          "execution_count": 13
        }
      ]
    },
    {
      "cell_type": "markdown",
      "source": [
        "Append:"
      ],
      "metadata": {
        "id": "LnHLIy1G0VvU"
      }
    },
    {
      "cell_type": "code",
      "source": [
        "snr.append().summary().style.applymap(lambda x: \"background-color: yellow\", subset=pd.IndexSlice[(\"Baseline\", \"0th\"), \"End\"])"
      ],
      "metadata": {
        "colab": {
          "base_uri": "https://localhost:8080/",
          "height": 459
        },
        "id": "obULOayg0YDH",
        "outputId": "9795acdf-48a5-4e53-bd2a-2992548baa20"
      },
      "execution_count": 14,
      "outputs": [
        {
          "output_type": "execute_result",
          "data": {
            "text/plain": [
              "<pandas.io.formats.style.Styler at 0x7f00d5f1fc10>"
            ],
            "text/html": [
              "<style type=\"text/css\">\n",
              "#T_ceba9_row0_col1 {\n",
              "  background-color: yellow;\n",
              "}\n",
              "</style>\n",
              "<table id=\"T_ceba9_\" class=\"dataframe\">\n",
              "  <thead>\n",
              "    <tr>\n",
              "      <th class=\"blank\" >&nbsp;</th>\n",
              "      <th class=\"blank level0\" >&nbsp;</th>\n",
              "      <th class=\"col_heading level0 col0\" >Start</th>\n",
              "      <th class=\"col_heading level0 col1\" >End</th>\n",
              "      <th class=\"col_heading level0 col2\" >Rt</th>\n",
              "      <th class=\"col_heading level0 col3\" >theta</th>\n",
              "      <th class=\"col_heading level0 col4\" >kappa</th>\n",
              "      <th class=\"col_heading level0 col5\" >rho</th>\n",
              "      <th class=\"col_heading level0 col6\" >sigma</th>\n",
              "      <th class=\"col_heading level0 col7\" >alpha1 [-]</th>\n",
              "      <th class=\"col_heading level0 col8\" >1/alpha2 [day]</th>\n",
              "      <th class=\"col_heading level0 col9\" >1/beta [day]</th>\n",
              "      <th class=\"col_heading level0 col10\" >1/gamma [day]</th>\n",
              "      <th class=\"col_heading level0 col11\" >ODE</th>\n",
              "      <th class=\"col_heading level0 col12\" >tau</th>\n",
              "    </tr>\n",
              "    <tr>\n",
              "      <th class=\"index_name level0\" >Scenario</th>\n",
              "      <th class=\"index_name level1\" >Phase</th>\n",
              "      <th class=\"blank col0\" >&nbsp;</th>\n",
              "      <th class=\"blank col1\" >&nbsp;</th>\n",
              "      <th class=\"blank col2\" >&nbsp;</th>\n",
              "      <th class=\"blank col3\" >&nbsp;</th>\n",
              "      <th class=\"blank col4\" >&nbsp;</th>\n",
              "      <th class=\"blank col5\" >&nbsp;</th>\n",
              "      <th class=\"blank col6\" >&nbsp;</th>\n",
              "      <th class=\"blank col7\" >&nbsp;</th>\n",
              "      <th class=\"blank col8\" >&nbsp;</th>\n",
              "      <th class=\"blank col9\" >&nbsp;</th>\n",
              "      <th class=\"blank col10\" >&nbsp;</th>\n",
              "      <th class=\"blank col11\" >&nbsp;</th>\n",
              "      <th class=\"blank col12\" >&nbsp;</th>\n",
              "    </tr>\n",
              "  </thead>\n",
              "  <tbody>\n",
              "    <tr>\n",
              "      <th id=\"T_ceba9_level0_row0\" class=\"row_heading level0 row0\" >Baseline</th>\n",
              "      <th id=\"T_ceba9_level1_row0\" class=\"row_heading level1 row0\" >0th</th>\n",
              "      <td id=\"T_ceba9_row0_col0\" class=\"data row0 col0\" >2022-01-01 00:00:00</td>\n",
              "      <td id=\"T_ceba9_row0_col1\" class=\"data row0 col1\" >2022-06-30 00:00:00</td>\n",
              "      <td id=\"T_ceba9_row0_col2\" class=\"data row0 col2\" >2.500000</td>\n",
              "      <td id=\"T_ceba9_row0_col3\" class=\"data row0 col3\" >0.002000</td>\n",
              "      <td id=\"T_ceba9_row0_col4\" class=\"data row0 col4\" >0.005000</td>\n",
              "      <td id=\"T_ceba9_row0_col5\" class=\"data row0 col5\" >0.200000</td>\n",
              "      <td id=\"T_ceba9_row0_col6\" class=\"data row0 col6\" >0.075000</td>\n",
              "      <td id=\"T_ceba9_row0_col7\" class=\"data row0 col7\" >0.002000</td>\n",
              "      <td id=\"T_ceba9_row0_col8\" class=\"data row0 col8\" >200</td>\n",
              "      <td id=\"T_ceba9_row0_col9\" class=\"data row0 col9\" >5</td>\n",
              "      <td id=\"T_ceba9_row0_col10\" class=\"data row0 col10\" >13</td>\n",
              "      <td id=\"T_ceba9_row0_col11\" class=\"data row0 col11\" >SIR-F Model</td>\n",
              "      <td id=\"T_ceba9_row0_col12\" class=\"data row0 col12\" >1440</td>\n",
              "    </tr>\n",
              "    <tr>\n",
              "      <th id=\"T_ceba9_level0_row1\" class=\"row_heading level0 row1\" rowspan=\"2\">Lockdown</th>\n",
              "      <th id=\"T_ceba9_level1_row1\" class=\"row_heading level1 row1\" >0th</th>\n",
              "      <td id=\"T_ceba9_row1_col0\" class=\"data row1 col0\" >2022-01-01 00:00:00</td>\n",
              "      <td id=\"T_ceba9_row1_col1\" class=\"data row1 col1\" >2022-01-31 00:00:00</td>\n",
              "      <td id=\"T_ceba9_row1_col2\" class=\"data row1 col2\" >2.500000</td>\n",
              "      <td id=\"T_ceba9_row1_col3\" class=\"data row1 col3\" >0.002000</td>\n",
              "      <td id=\"T_ceba9_row1_col4\" class=\"data row1 col4\" >0.005000</td>\n",
              "      <td id=\"T_ceba9_row1_col5\" class=\"data row1 col5\" >0.200000</td>\n",
              "      <td id=\"T_ceba9_row1_col6\" class=\"data row1 col6\" >0.075000</td>\n",
              "      <td id=\"T_ceba9_row1_col7\" class=\"data row1 col7\" >0.002000</td>\n",
              "      <td id=\"T_ceba9_row1_col8\" class=\"data row1 col8\" >200</td>\n",
              "      <td id=\"T_ceba9_row1_col9\" class=\"data row1 col9\" >5</td>\n",
              "      <td id=\"T_ceba9_row1_col10\" class=\"data row1 col10\" >13</td>\n",
              "      <td id=\"T_ceba9_row1_col11\" class=\"data row1 col11\" >SIR-F Model</td>\n",
              "      <td id=\"T_ceba9_row1_col12\" class=\"data row1 col12\" >1440</td>\n",
              "    </tr>\n",
              "    <tr>\n",
              "      <th id=\"T_ceba9_level1_row2\" class=\"row_heading level1 row2\" >1st</th>\n",
              "      <td id=\"T_ceba9_row2_col0\" class=\"data row2 col0\" >2022-02-01 00:00:00</td>\n",
              "      <td id=\"T_ceba9_row2_col1\" class=\"data row2 col1\" >2022-06-30 00:00:00</td>\n",
              "      <td id=\"T_ceba9_row2_col2\" class=\"data row2 col2\" >1.250000</td>\n",
              "      <td id=\"T_ceba9_row2_col3\" class=\"data row2 col3\" >0.002000</td>\n",
              "      <td id=\"T_ceba9_row2_col4\" class=\"data row2 col4\" >0.005000</td>\n",
              "      <td id=\"T_ceba9_row2_col5\" class=\"data row2 col5\" >0.100000</td>\n",
              "      <td id=\"T_ceba9_row2_col6\" class=\"data row2 col6\" >0.075000</td>\n",
              "      <td id=\"T_ceba9_row2_col7\" class=\"data row2 col7\" >0.002000</td>\n",
              "      <td id=\"T_ceba9_row2_col8\" class=\"data row2 col8\" >200</td>\n",
              "      <td id=\"T_ceba9_row2_col9\" class=\"data row2 col9\" >10</td>\n",
              "      <td id=\"T_ceba9_row2_col10\" class=\"data row2 col10\" >13</td>\n",
              "      <td id=\"T_ceba9_row2_col11\" class=\"data row2 col11\" >SIR-F Model</td>\n",
              "      <td id=\"T_ceba9_row2_col12\" class=\"data row2 col12\" >1440</td>\n",
              "    </tr>\n",
              "    <tr>\n",
              "      <th id=\"T_ceba9_level0_row3\" class=\"row_heading level0 row3\" rowspan=\"2\">Medicine</th>\n",
              "      <th id=\"T_ceba9_level1_row3\" class=\"row_heading level1 row3\" >0th</th>\n",
              "      <td id=\"T_ceba9_row3_col0\" class=\"data row3 col0\" >2022-01-01 00:00:00</td>\n",
              "      <td id=\"T_ceba9_row3_col1\" class=\"data row3 col1\" >2022-01-31 00:00:00</td>\n",
              "      <td id=\"T_ceba9_row3_col2\" class=\"data row3 col2\" >2.500000</td>\n",
              "      <td id=\"T_ceba9_row3_col3\" class=\"data row3 col3\" >0.002000</td>\n",
              "      <td id=\"T_ceba9_row3_col4\" class=\"data row3 col4\" >0.005000</td>\n",
              "      <td id=\"T_ceba9_row3_col5\" class=\"data row3 col5\" >0.200000</td>\n",
              "      <td id=\"T_ceba9_row3_col6\" class=\"data row3 col6\" >0.075000</td>\n",
              "      <td id=\"T_ceba9_row3_col7\" class=\"data row3 col7\" >0.002000</td>\n",
              "      <td id=\"T_ceba9_row3_col8\" class=\"data row3 col8\" >200</td>\n",
              "      <td id=\"T_ceba9_row3_col9\" class=\"data row3 col9\" >5</td>\n",
              "      <td id=\"T_ceba9_row3_col10\" class=\"data row3 col10\" >13</td>\n",
              "      <td id=\"T_ceba9_row3_col11\" class=\"data row3 col11\" >SIR-F Model</td>\n",
              "      <td id=\"T_ceba9_row3_col12\" class=\"data row3 col12\" >1440</td>\n",
              "    </tr>\n",
              "    <tr>\n",
              "      <th id=\"T_ceba9_level1_row4\" class=\"row_heading level1 row4\" >1st</th>\n",
              "      <td id=\"T_ceba9_row4_col0\" class=\"data row4 col0\" >2022-02-01 00:00:00</td>\n",
              "      <td id=\"T_ceba9_row4_col1\" class=\"data row4 col1\" >2022-06-30 00:00:00</td>\n",
              "      <td id=\"T_ceba9_row4_col2\" class=\"data row4 col2\" >1.310000</td>\n",
              "      <td id=\"T_ceba9_row4_col3\" class=\"data row4 col3\" >0.002000</td>\n",
              "      <td id=\"T_ceba9_row4_col4\" class=\"data row4 col4\" >0.002500</td>\n",
              "      <td id=\"T_ceba9_row4_col5\" class=\"data row4 col5\" >0.200000</td>\n",
              "      <td id=\"T_ceba9_row4_col6\" class=\"data row4 col6\" >0.150000</td>\n",
              "      <td id=\"T_ceba9_row4_col7\" class=\"data row4 col7\" >0.002000</td>\n",
              "      <td id=\"T_ceba9_row4_col8\" class=\"data row4 col8\" >400</td>\n",
              "      <td id=\"T_ceba9_row4_col9\" class=\"data row4 col9\" >5</td>\n",
              "      <td id=\"T_ceba9_row4_col10\" class=\"data row4 col10\" >7</td>\n",
              "      <td id=\"T_ceba9_row4_col11\" class=\"data row4 col11\" >SIR-F Model</td>\n",
              "      <td id=\"T_ceba9_row4_col12\" class=\"data row4 col12\" >1440</td>\n",
              "    </tr>\n",
              "    <tr>\n",
              "      <th id=\"T_ceba9_level0_row5\" class=\"row_heading level0 row5\" rowspan=\"2\">Vaccine</th>\n",
              "      <th id=\"T_ceba9_level1_row5\" class=\"row_heading level1 row5\" >0th</th>\n",
              "      <td id=\"T_ceba9_row5_col0\" class=\"data row5 col0\" >2022-01-01 00:00:00</td>\n",
              "      <td id=\"T_ceba9_row5_col1\" class=\"data row5 col1\" >2022-01-31 00:00:00</td>\n",
              "      <td id=\"T_ceba9_row5_col2\" class=\"data row5 col2\" >2.500000</td>\n",
              "      <td id=\"T_ceba9_row5_col3\" class=\"data row5 col3\" >0.002000</td>\n",
              "      <td id=\"T_ceba9_row5_col4\" class=\"data row5 col4\" >0.005000</td>\n",
              "      <td id=\"T_ceba9_row5_col5\" class=\"data row5 col5\" >0.200000</td>\n",
              "      <td id=\"T_ceba9_row5_col6\" class=\"data row5 col6\" >0.075000</td>\n",
              "      <td id=\"T_ceba9_row5_col7\" class=\"data row5 col7\" >0.002000</td>\n",
              "      <td id=\"T_ceba9_row5_col8\" class=\"data row5 col8\" >200</td>\n",
              "      <td id=\"T_ceba9_row5_col9\" class=\"data row5 col9\" >5</td>\n",
              "      <td id=\"T_ceba9_row5_col10\" class=\"data row5 col10\" >13</td>\n",
              "      <td id=\"T_ceba9_row5_col11\" class=\"data row5 col11\" >SIR-F Model</td>\n",
              "      <td id=\"T_ceba9_row5_col12\" class=\"data row5 col12\" >1440</td>\n",
              "    </tr>\n",
              "    <tr>\n",
              "      <th id=\"T_ceba9_level1_row6\" class=\"row_heading level1 row6\" >1st</th>\n",
              "      <td id=\"T_ceba9_row6_col0\" class=\"data row6 col0\" >2022-02-01 00:00:00</td>\n",
              "      <td id=\"T_ceba9_row6_col1\" class=\"data row6 col1\" >2022-06-30 00:00:00</td>\n",
              "      <td id=\"T_ceba9_row6_col2\" class=\"data row6 col2\" >1.720000</td>\n",
              "      <td id=\"T_ceba9_row6_col3\" class=\"data row6 col3\" >0.002000</td>\n",
              "      <td id=\"T_ceba9_row6_col4\" class=\"data row6 col4\" >0.003000</td>\n",
              "      <td id=\"T_ceba9_row6_col5\" class=\"data row6 col5\" >0.160000</td>\n",
              "      <td id=\"T_ceba9_row6_col6\" class=\"data row6 col6\" >0.090000</td>\n",
              "      <td id=\"T_ceba9_row6_col7\" class=\"data row6 col7\" >0.002000</td>\n",
              "      <td id=\"T_ceba9_row6_col8\" class=\"data row6 col8\" >333</td>\n",
              "      <td id=\"T_ceba9_row6_col9\" class=\"data row6 col9\" >6</td>\n",
              "      <td id=\"T_ceba9_row6_col10\" class=\"data row6 col10\" >11</td>\n",
              "      <td id=\"T_ceba9_row6_col11\" class=\"data row6 col11\" >SIR-F Model</td>\n",
              "      <td id=\"T_ceba9_row6_col12\" class=\"data row6 col12\" >1440</td>\n",
              "    </tr>\n",
              "  </tbody>\n",
              "</table>\n"
            ]
          },
          "metadata": {},
          "execution_count": 14
        }
      ]
    },
    {
      "cell_type": "markdown",
      "source": [
        "If we need all values for dates, we can use `ODEScenario().track()` method."
      ],
      "metadata": {
        "id": "53kUItYD5Ypt"
      }
    },
    {
      "cell_type": "code",
      "source": [
        "snr.track()"
      ],
      "metadata": {
        "colab": {
          "base_uri": "https://localhost:8080/",
          "height": 499
        },
        "id": "LtdT1p0x5fis",
        "outputId": "d237cf18-315e-4998-c37d-36d32807b1aa"
      },
      "execution_count": 15,
      "outputs": [
        {
          "output_type": "execute_result",
          "data": {
            "text/plain": [
              "            Scenario Phase    Rt  theta  kappa   rho  sigma  alpha1 [-]  \\\n",
              "Date                                                                      \n",
              "2022-01-01  Baseline   0th   2.5  0.002  0.005   0.2  0.075       0.002   \n",
              "2022-01-02  Baseline   0th   2.5  0.002  0.005   0.2  0.075       0.002   \n",
              "2022-01-03  Baseline   0th   2.5  0.002  0.005   0.2  0.075       0.002   \n",
              "2022-01-04  Baseline   0th   2.5  0.002  0.005   0.2  0.075       0.002   \n",
              "2022-01-05  Baseline   0th   2.5  0.002  0.005   0.2  0.075       0.002   \n",
              "...              ...   ...   ...    ...    ...   ...    ...         ...   \n",
              "2022-06-26   Vaccine   1st  1.72  0.002  0.003  0.16   0.09       0.002   \n",
              "2022-06-27   Vaccine   1st  1.72  0.002  0.003  0.16   0.09       0.002   \n",
              "2022-06-28   Vaccine   1st  1.72  0.002  0.003  0.16   0.09       0.002   \n",
              "2022-06-29   Vaccine   1st  1.72  0.002  0.003  0.16   0.09       0.002   \n",
              "2022-06-30   Vaccine   1st  1.72  0.002  0.003  0.16   0.09       0.002   \n",
              "\n",
              "            1/alpha2 [day]  1/beta [day]  1/gamma [day]          ODE   tau  \n",
              "Date                                                                        \n",
              "2022-01-01             200             5             13  SIR-F Model  1440  \n",
              "2022-01-02             200             5             13  SIR-F Model  1440  \n",
              "2022-01-03             200             5             13  SIR-F Model  1440  \n",
              "2022-01-04             200             5             13  SIR-F Model  1440  \n",
              "2022-01-05             200             5             13  SIR-F Model  1440  \n",
              "...                    ...           ...            ...          ...   ...  \n",
              "2022-06-26             333             6             11  SIR-F Model  1440  \n",
              "2022-06-27             333             6             11  SIR-F Model  1440  \n",
              "2022-06-28             333             6             11  SIR-F Model  1440  \n",
              "2022-06-29             333             6             11  SIR-F Model  1440  \n",
              "2022-06-30             333             6             11  SIR-F Model  1440  \n",
              "\n",
              "[724 rows x 13 columns]"
            ],
            "text/html": [
              "\n",
              "  <div id=\"df-6b937e16-d1ed-48f0-af7e-71d2d016213b\">\n",
              "    <div class=\"colab-df-container\">\n",
              "      <div>\n",
              "<style scoped>\n",
              "    .dataframe tbody tr th:only-of-type {\n",
              "        vertical-align: middle;\n",
              "    }\n",
              "\n",
              "    .dataframe tbody tr th {\n",
              "        vertical-align: top;\n",
              "    }\n",
              "\n",
              "    .dataframe thead th {\n",
              "        text-align: right;\n",
              "    }\n",
              "</style>\n",
              "<table border=\"1\" class=\"dataframe\">\n",
              "  <thead>\n",
              "    <tr style=\"text-align: right;\">\n",
              "      <th></th>\n",
              "      <th>Scenario</th>\n",
              "      <th>Phase</th>\n",
              "      <th>Rt</th>\n",
              "      <th>theta</th>\n",
              "      <th>kappa</th>\n",
              "      <th>rho</th>\n",
              "      <th>sigma</th>\n",
              "      <th>alpha1 [-]</th>\n",
              "      <th>1/alpha2 [day]</th>\n",
              "      <th>1/beta [day]</th>\n",
              "      <th>1/gamma [day]</th>\n",
              "      <th>ODE</th>\n",
              "      <th>tau</th>\n",
              "    </tr>\n",
              "    <tr>\n",
              "      <th>Date</th>\n",
              "      <th></th>\n",
              "      <th></th>\n",
              "      <th></th>\n",
              "      <th></th>\n",
              "      <th></th>\n",
              "      <th></th>\n",
              "      <th></th>\n",
              "      <th></th>\n",
              "      <th></th>\n",
              "      <th></th>\n",
              "      <th></th>\n",
              "      <th></th>\n",
              "      <th></th>\n",
              "    </tr>\n",
              "  </thead>\n",
              "  <tbody>\n",
              "    <tr>\n",
              "      <th>2022-01-01</th>\n",
              "      <td>Baseline</td>\n",
              "      <td>0th</td>\n",
              "      <td>2.5</td>\n",
              "      <td>0.002</td>\n",
              "      <td>0.005</td>\n",
              "      <td>0.2</td>\n",
              "      <td>0.075</td>\n",
              "      <td>0.002</td>\n",
              "      <td>200</td>\n",
              "      <td>5</td>\n",
              "      <td>13</td>\n",
              "      <td>SIR-F Model</td>\n",
              "      <td>1440</td>\n",
              "    </tr>\n",
              "    <tr>\n",
              "      <th>2022-01-02</th>\n",
              "      <td>Baseline</td>\n",
              "      <td>0th</td>\n",
              "      <td>2.5</td>\n",
              "      <td>0.002</td>\n",
              "      <td>0.005</td>\n",
              "      <td>0.2</td>\n",
              "      <td>0.075</td>\n",
              "      <td>0.002</td>\n",
              "      <td>200</td>\n",
              "      <td>5</td>\n",
              "      <td>13</td>\n",
              "      <td>SIR-F Model</td>\n",
              "      <td>1440</td>\n",
              "    </tr>\n",
              "    <tr>\n",
              "      <th>2022-01-03</th>\n",
              "      <td>Baseline</td>\n",
              "      <td>0th</td>\n",
              "      <td>2.5</td>\n",
              "      <td>0.002</td>\n",
              "      <td>0.005</td>\n",
              "      <td>0.2</td>\n",
              "      <td>0.075</td>\n",
              "      <td>0.002</td>\n",
              "      <td>200</td>\n",
              "      <td>5</td>\n",
              "      <td>13</td>\n",
              "      <td>SIR-F Model</td>\n",
              "      <td>1440</td>\n",
              "    </tr>\n",
              "    <tr>\n",
              "      <th>2022-01-04</th>\n",
              "      <td>Baseline</td>\n",
              "      <td>0th</td>\n",
              "      <td>2.5</td>\n",
              "      <td>0.002</td>\n",
              "      <td>0.005</td>\n",
              "      <td>0.2</td>\n",
              "      <td>0.075</td>\n",
              "      <td>0.002</td>\n",
              "      <td>200</td>\n",
              "      <td>5</td>\n",
              "      <td>13</td>\n",
              "      <td>SIR-F Model</td>\n",
              "      <td>1440</td>\n",
              "    </tr>\n",
              "    <tr>\n",
              "      <th>2022-01-05</th>\n",
              "      <td>Baseline</td>\n",
              "      <td>0th</td>\n",
              "      <td>2.5</td>\n",
              "      <td>0.002</td>\n",
              "      <td>0.005</td>\n",
              "      <td>0.2</td>\n",
              "      <td>0.075</td>\n",
              "      <td>0.002</td>\n",
              "      <td>200</td>\n",
              "      <td>5</td>\n",
              "      <td>13</td>\n",
              "      <td>SIR-F Model</td>\n",
              "      <td>1440</td>\n",
              "    </tr>\n",
              "    <tr>\n",
              "      <th>...</th>\n",
              "      <td>...</td>\n",
              "      <td>...</td>\n",
              "      <td>...</td>\n",
              "      <td>...</td>\n",
              "      <td>...</td>\n",
              "      <td>...</td>\n",
              "      <td>...</td>\n",
              "      <td>...</td>\n",
              "      <td>...</td>\n",
              "      <td>...</td>\n",
              "      <td>...</td>\n",
              "      <td>...</td>\n",
              "      <td>...</td>\n",
              "    </tr>\n",
              "    <tr>\n",
              "      <th>2022-06-26</th>\n",
              "      <td>Vaccine</td>\n",
              "      <td>1st</td>\n",
              "      <td>1.72</td>\n",
              "      <td>0.002</td>\n",
              "      <td>0.003</td>\n",
              "      <td>0.16</td>\n",
              "      <td>0.09</td>\n",
              "      <td>0.002</td>\n",
              "      <td>333</td>\n",
              "      <td>6</td>\n",
              "      <td>11</td>\n",
              "      <td>SIR-F Model</td>\n",
              "      <td>1440</td>\n",
              "    </tr>\n",
              "    <tr>\n",
              "      <th>2022-06-27</th>\n",
              "      <td>Vaccine</td>\n",
              "      <td>1st</td>\n",
              "      <td>1.72</td>\n",
              "      <td>0.002</td>\n",
              "      <td>0.003</td>\n",
              "      <td>0.16</td>\n",
              "      <td>0.09</td>\n",
              "      <td>0.002</td>\n",
              "      <td>333</td>\n",
              "      <td>6</td>\n",
              "      <td>11</td>\n",
              "      <td>SIR-F Model</td>\n",
              "      <td>1440</td>\n",
              "    </tr>\n",
              "    <tr>\n",
              "      <th>2022-06-28</th>\n",
              "      <td>Vaccine</td>\n",
              "      <td>1st</td>\n",
              "      <td>1.72</td>\n",
              "      <td>0.002</td>\n",
              "      <td>0.003</td>\n",
              "      <td>0.16</td>\n",
              "      <td>0.09</td>\n",
              "      <td>0.002</td>\n",
              "      <td>333</td>\n",
              "      <td>6</td>\n",
              "      <td>11</td>\n",
              "      <td>SIR-F Model</td>\n",
              "      <td>1440</td>\n",
              "    </tr>\n",
              "    <tr>\n",
              "      <th>2022-06-29</th>\n",
              "      <td>Vaccine</td>\n",
              "      <td>1st</td>\n",
              "      <td>1.72</td>\n",
              "      <td>0.002</td>\n",
              "      <td>0.003</td>\n",
              "      <td>0.16</td>\n",
              "      <td>0.09</td>\n",
              "      <td>0.002</td>\n",
              "      <td>333</td>\n",
              "      <td>6</td>\n",
              "      <td>11</td>\n",
              "      <td>SIR-F Model</td>\n",
              "      <td>1440</td>\n",
              "    </tr>\n",
              "    <tr>\n",
              "      <th>2022-06-30</th>\n",
              "      <td>Vaccine</td>\n",
              "      <td>1st</td>\n",
              "      <td>1.72</td>\n",
              "      <td>0.002</td>\n",
              "      <td>0.003</td>\n",
              "      <td>0.16</td>\n",
              "      <td>0.09</td>\n",
              "      <td>0.002</td>\n",
              "      <td>333</td>\n",
              "      <td>6</td>\n",
              "      <td>11</td>\n",
              "      <td>SIR-F Model</td>\n",
              "      <td>1440</td>\n",
              "    </tr>\n",
              "  </tbody>\n",
              "</table>\n",
              "<p>724 rows × 13 columns</p>\n",
              "</div>\n",
              "      <button class=\"colab-df-convert\" onclick=\"convertToInteractive('df-6b937e16-d1ed-48f0-af7e-71d2d016213b')\"\n",
              "              title=\"Convert this dataframe to an interactive table.\"\n",
              "              style=\"display:none;\">\n",
              "        \n",
              "  <svg xmlns=\"http://www.w3.org/2000/svg\" height=\"24px\"viewBox=\"0 0 24 24\"\n",
              "       width=\"24px\">\n",
              "    <path d=\"M0 0h24v24H0V0z\" fill=\"none\"/>\n",
              "    <path d=\"M18.56 5.44l.94 2.06.94-2.06 2.06-.94-2.06-.94-.94-2.06-.94 2.06-2.06.94zm-11 1L8.5 8.5l.94-2.06 2.06-.94-2.06-.94L8.5 2.5l-.94 2.06-2.06.94zm10 10l.94 2.06.94-2.06 2.06-.94-2.06-.94-.94-2.06-.94 2.06-2.06.94z\"/><path d=\"M17.41 7.96l-1.37-1.37c-.4-.4-.92-.59-1.43-.59-.52 0-1.04.2-1.43.59L10.3 9.45l-7.72 7.72c-.78.78-.78 2.05 0 2.83L4 21.41c.39.39.9.59 1.41.59.51 0 1.02-.2 1.41-.59l7.78-7.78 2.81-2.81c.8-.78.8-2.07 0-2.86zM5.41 20L4 18.59l7.72-7.72 1.47 1.35L5.41 20z\"/>\n",
              "  </svg>\n",
              "      </button>\n",
              "      \n",
              "  <style>\n",
              "    .colab-df-container {\n",
              "      display:flex;\n",
              "      flex-wrap:wrap;\n",
              "      gap: 12px;\n",
              "    }\n",
              "\n",
              "    .colab-df-convert {\n",
              "      background-color: #E8F0FE;\n",
              "      border: none;\n",
              "      border-radius: 50%;\n",
              "      cursor: pointer;\n",
              "      display: none;\n",
              "      fill: #1967D2;\n",
              "      height: 32px;\n",
              "      padding: 0 0 0 0;\n",
              "      width: 32px;\n",
              "    }\n",
              "\n",
              "    .colab-df-convert:hover {\n",
              "      background-color: #E2EBFA;\n",
              "      box-shadow: 0px 1px 2px rgba(60, 64, 67, 0.3), 0px 1px 3px 1px rgba(60, 64, 67, 0.15);\n",
              "      fill: #174EA6;\n",
              "    }\n",
              "\n",
              "    [theme=dark] .colab-df-convert {\n",
              "      background-color: #3B4455;\n",
              "      fill: #D2E3FC;\n",
              "    }\n",
              "\n",
              "    [theme=dark] .colab-df-convert:hover {\n",
              "      background-color: #434B5C;\n",
              "      box-shadow: 0px 1px 3px 1px rgba(0, 0, 0, 0.15);\n",
              "      filter: drop-shadow(0px 1px 2px rgba(0, 0, 0, 0.3));\n",
              "      fill: #FFFFFF;\n",
              "    }\n",
              "  </style>\n",
              "\n",
              "      <script>\n",
              "        const buttonEl =\n",
              "          document.querySelector('#df-6b937e16-d1ed-48f0-af7e-71d2d016213b button.colab-df-convert');\n",
              "        buttonEl.style.display =\n",
              "          google.colab.kernel.accessAllowed ? 'block' : 'none';\n",
              "\n",
              "        async function convertToInteractive(key) {\n",
              "          const element = document.querySelector('#df-6b937e16-d1ed-48f0-af7e-71d2d016213b');\n",
              "          const dataTable =\n",
              "            await google.colab.kernel.invokeFunction('convertToInteractive',\n",
              "                                                     [key], {});\n",
              "          if (!dataTable) return;\n",
              "\n",
              "          const docLinkHtml = 'Like what you see? Visit the ' +\n",
              "            '<a target=\"_blank\" href=https://colab.research.google.com/notebooks/data_table.ipynb>data table notebook</a>'\n",
              "            + ' to learn more about interactive tables.';\n",
              "          element.innerHTML = '';\n",
              "          dataTable['output_type'] = 'display_data';\n",
              "          await google.colab.output.renderOutput(dataTable, element);\n",
              "          const docLink = document.createElement('div');\n",
              "          docLink.innerHTML = docLinkHtml;\n",
              "          element.appendChild(docLink);\n",
              "        }\n",
              "      </script>\n",
              "    </div>\n",
              "  </div>\n",
              "  "
            ]
          },
          "metadata": {},
          "execution_count": 15
        }
      ]
    },
    {
      "cell_type": "markdown",
      "source": [
        "## 3. Compare and evaluate scenarios"
      ],
      "metadata": {
        "id": "HJ_UDNVLBlc_"
      }
    },
    {
      "cell_type": "markdown",
      "source": [
        "### 3.1 Compare the params\n",
        "We will confirm the ODE parameter values and reproduction number with `ODEScenario().compare_param(param)` method."
      ],
      "metadata": {
        "id": "w7JabD7f0nVQ"
      }
    },
    {
      "cell_type": "markdown",
      "source": [
        "Reproduction number:"
      ],
      "metadata": {
        "id": "DqXSKmVg5wz0"
      }
    },
    {
      "cell_type": "code",
      "source": [
        "snr.compare_param(\"Rt\");"
      ],
      "metadata": {
        "colab": {
          "base_uri": "https://localhost:8080/",
          "height": 435
        },
        "id": "hbQUQpkl1Q8B",
        "outputId": "7bcd25fb-1d5b-4193-a3e0-aee995c5189e"
      },
      "execution_count": 16,
      "outputs": [
        {
          "output_type": "display_data",
          "data": {
            "text/plain": [
              "<Figure size 648x432 with 1 Axes>"
            ],
            "image/png": "[encoded data removed]"
          },
          "metadata": {
            "needs_background": "light"
          }
        }
      ]
    },
    {
      "cell_type": "markdown",
      "source": [
        "ODE parameter values:"
      ],
      "metadata": {
        "id": "XIIEVOm75zQK"
      }
    },
    {
      "cell_type": "code",
      "source": [
        "snr.compare_param(\"kappa\");"
      ],
      "metadata": {
        "colab": {
          "base_uri": "https://localhost:8080/",
          "height": 435
        },
        "id": "dEVoq0oe1gc4",
        "outputId": "075eee8b-ca53-435c-f869-5c45de8ddcb2"
      },
      "execution_count": 17,
      "outputs": [
        {
          "output_type": "display_data",
          "data": {
            "text/plain": [
              "<Figure size 648x432 with 1 Axes>"
            ],
            "image/png": "[encoded data removed]"
          },
          "metadata": {
            "needs_background": "light"
          }
        }
      ]
    },
    {
      "cell_type": "code",
      "source": [
        "snr.compare_param(\"rho\");"
      ],
      "metadata": {
        "colab": {
          "base_uri": "https://localhost:8080/",
          "height": 435
        },
        "id": "DbTlIE5I1Yn9",
        "outputId": "ebaf632c-da8f-47a3-f820-e20f39ac11d0"
      },
      "execution_count": 18,
      "outputs": [
        {
          "output_type": "display_data",
          "data": {
            "text/plain": [
              "<Figure size 648x432 with 1 Axes>"
            ],
            "image/png": "[encoded data removed]"
          },
          "metadata": {
            "needs_background": "light"
          }
        }
      ]
    },
    {
      "cell_type": "code",
      "source": [
        "snr.compare_param(\"sigma\");"
      ],
      "metadata": {
        "colab": {
          "base_uri": "https://localhost:8080/",
          "height": 435
        },
        "id": "uVEMVhUc1l98",
        "outputId": "e6ae9f48-b4f5-4e04-8749-1e5f14c30263"
      },
      "execution_count": 19,
      "outputs": [
        {
          "output_type": "display_data",
          "data": {
            "text/plain": [
              "<Figure size 648x432 with 1 Axes>"
            ],
            "image/png": "[encoded data removed]"
          },
          "metadata": {
            "needs_background": "light"
          }
        }
      ]
    },
    {
      "cell_type": "markdown",
      "source": [
        "### 3.2 Compare simulated number of cases\n",
        "We will compare simulated number of cases with `ODEScenario().compare_cases(varialble, date_range=<None or tuple of dates>)` method."
      ],
      "metadata": {
        "id": "TwgTfy6J1raE"
      }
    },
    {
      "cell_type": "code",
      "source": [
        "snr.compare_cases(\"Confirmed\");"
      ],
      "metadata": {
        "colab": {
          "base_uri": "https://localhost:8080/",
          "height": 435
        },
        "id": "LnutBQe12Dc-",
        "outputId": "7d08f2e2-71ec-4f78-83be-84b814314668"
      },
      "execution_count": 20,
      "outputs": [
        {
          "output_type": "display_data",
          "data": {
            "text/plain": [
              "<Figure size 648x432 with 1 Axes>"
            ],
            "image/png": "[encoded data removed]"
          },
          "metadata": {
            "needs_background": "light"
          }
        }
      ]
    },
    {
      "cell_type": "code",
      "source": [
        "snr.compare_cases(\"Fatal\");"
      ],
      "metadata": {
        "colab": {
          "base_uri": "https://localhost:8080/",
          "height": 435
        },
        "id": "Vc-TJYNv3RwK",
        "outputId": "1a116d0d-32a4-4970-9871-1bda61ffce91"
      },
      "execution_count": 21,
      "outputs": [
        {
          "output_type": "display_data",
          "data": {
            "text/plain": [
              "<Figure size 648x432 with 1 Axes>"
            ],
            "image/png": "[encoded data removed]"
          },
          "metadata": {
            "needs_background": "light"
          }
        }
      ]
    },
    {
      "cell_type": "code",
      "source": [
        "snr.compare_cases(\"Recovered\");"
      ],
      "metadata": {
        "colab": {
          "base_uri": "https://localhost:8080/",
          "height": 435
        },
        "id": "ddrWv2kt3caA",
        "outputId": "e473a712-f7cb-4ec9-edc8-40f7e4fec374"
      },
      "execution_count": 22,
      "outputs": [
        {
          "output_type": "display_data",
          "data": {
            "text/plain": [
              "<Figure size 648x432 with 1 Axes>"
            ],
            "image/png": "[encoded data removed]"
          },
          "metadata": {
            "needs_background": "light"
          }
        }
      ]
    },
    {
      "cell_type": "markdown",
      "source": [
        "### 3.3 Describe representative values\n",
        "We can use `ODEScenario.describe()` to describe representative values of simulated number of cases. Max value of Infected and the number of cases on the last date will be shown as a `pandas.DataFrame`. Tjis is useful to confirm the impact of OE parameter changes."
      ],
      "metadata": {
        "id": "3RExHNBb3gNj"
      }
    },
    {
      "cell_type": "code",
      "source": [
        "snr.describe()"
      ],
      "metadata": {
        "colab": {
          "base_uri": "https://localhost:8080/",
          "height": 175
        },
        "id": "m7hi0xxd3v35",
        "outputId": "ebebf516-75bb-4e27-aef2-cad1738f11c4"
      },
      "execution_count": 23,
      "outputs": [
        {
          "output_type": "execute_result",
          "data": {
            "text/plain": [
              "          max(Infected) argmax(Infected)  Confirmed on 30Jun2022  \\\n",
              "Baseline         232733       2022-03-03                  887821   \n",
              "Lockdown          47075       2022-03-09                  421595   \n",
              "Medicine          53834       2022-02-22                  490556   \n",
              "Vaccine          114876       2022-03-10                  709162   \n",
              "\n",
              "          Infected on 30Jun2022  Fatal on 30Jun2022  \n",
              "Baseline                    574               57116  \n",
              "Lockdown                   9267               26559  \n",
              "Medicine                    284               10166  \n",
              "Vaccine                    1720               24956  "
            ],
            "text/html": [
              "\n",
              "  <div id=\"df-5edd99cf-5cf9-4d27-8fb7-972d1acba8d4\">\n",
              "    <div class=\"colab-df-container\">\n",
              "      <div>\n",
              "<style scoped>\n",
              "    .dataframe tbody tr th:only-of-type {\n",
              "        vertical-align: middle;\n",
              "    }\n",
              "\n",
              "    .dataframe tbody tr th {\n",
              "        vertical-align: top;\n",
              "    }\n",
              "\n",
              "    .dataframe thead th {\n",
              "        text-align: right;\n",
              "    }\n",
              "</style>\n",
              "<table border=\"1\" class=\"dataframe\">\n",
              "  <thead>\n",
              "    <tr style=\"text-align: right;\">\n",
              "      <th></th>\n",
              "      <th>max(Infected)</th>\n",
              "      <th>argmax(Infected)</th>\n",
              "      <th>Confirmed on 30Jun2022</th>\n",
              "      <th>Infected on 30Jun2022</th>\n",
              "      <th>Fatal on 30Jun2022</th>\n",
              "    </tr>\n",
              "  </thead>\n",
              "  <tbody>\n",
              "    <tr>\n",
              "      <th>Baseline</th>\n",
              "      <td>232733</td>\n",
              "      <td>2022-03-03</td>\n",
              "      <td>887821</td>\n",
              "      <td>574</td>\n",
              "      <td>57116</td>\n",
              "    </tr>\n",
              "    <tr>\n",
              "      <th>Lockdown</th>\n",
              "      <td>47075</td>\n",
              "      <td>2022-03-09</td>\n",
              "      <td>421595</td>\n",
              "      <td>9267</td>\n",
              "      <td>26559</td>\n",
              "    </tr>\n",
              "    <tr>\n",
              "      <th>Medicine</th>\n",
              "      <td>53834</td>\n",
              "      <td>2022-02-22</td>\n",
              "      <td>490556</td>\n",
              "      <td>284</td>\n",
              "      <td>10166</td>\n",
              "    </tr>\n",
              "    <tr>\n",
              "      <th>Vaccine</th>\n",
              "      <td>114876</td>\n",
              "      <td>2022-03-10</td>\n",
              "      <td>709162</td>\n",
              "      <td>1720</td>\n",
              "      <td>24956</td>\n",
              "    </tr>\n",
              "  </tbody>\n",
              "</table>\n",
              "</div>\n",
              "      <button class=\"colab-df-convert\" onclick=\"convertToInteractive('df-5edd99cf-5cf9-4d27-8fb7-972d1acba8d4')\"\n",
              "              title=\"Convert this dataframe to an interactive table.\"\n",
              "              style=\"display:none;\">\n",
              "        \n",
              "  <svg xmlns=\"http://www.w3.org/2000/svg\" height=\"24px\"viewBox=\"0 0 24 24\"\n",
              "       width=\"24px\">\n",
              "    <path d=\"M0 0h24v24H0V0z\" fill=\"none\"/>\n",
              "    <path d=\"M18.56 5.44l.94 2.06.94-2.06 2.06-.94-2.06-.94-.94-2.06-.94 2.06-2.06.94zm-11 1L8.5 8.5l.94-2.06 2.06-.94-2.06-.94L8.5 2.5l-.94 2.06-2.06.94zm10 10l.94 2.06.94-2.06 2.06-.94-2.06-.94-.94-2.06-.94 2.06-2.06.94z\"/><path d=\"M17.41 7.96l-1.37-1.37c-.4-.4-.92-.59-1.43-.59-.52 0-1.04.2-1.43.59L10.3 9.45l-7.72 7.72c-.78.78-.78 2.05 0 2.83L4 21.41c.39.39.9.59 1.41.59.51 0 1.02-.2 1.41-.59l7.78-7.78 2.81-2.81c.8-.78.8-2.07 0-2.86zM5.41 20L4 18.59l7.72-7.72 1.47 1.35L5.41 20z\"/>\n",
              "  </svg>\n",
              "      </button>\n",
              "      \n",
              "  <style>\n",
              "    .colab-df-container {\n",
              "      display:flex;\n",
              "      flex-wrap:wrap;\n",
              "      gap: 12px;\n",
              "    }\n",
              "\n",
              "    .colab-df-convert {\n",
              "      background-color: #E8F0FE;\n",
              "      border: none;\n",
              "      border-radius: 50%;\n",
              "      cursor: pointer;\n",
              "      display: none;\n",
              "      fill: #1967D2;\n",
              "      height: 32px;\n",
              "      padding: 0 0 0 0;\n",
              "      width: 32px;\n",
              "    }\n",
              "\n",
              "    .colab-df-convert:hover {\n",
              "      background-color: #E2EBFA;\n",
              "      box-shadow: 0px 1px 2px rgba(60, 64, 67, 0.3), 0px 1px 3px 1px rgba(60, 64, 67, 0.15);\n",
              "      fill: #174EA6;\n",
              "    }\n",
              "\n",
              "    [theme=dark] .colab-df-convert {\n",
              "      background-color: #3B4455;\n",
              "      fill: #D2E3FC;\n",
              "    }\n",
              "\n",
              "    [theme=dark] .colab-df-convert:hover {\n",
              "      background-color: #434B5C;\n",
              "      box-shadow: 0px 1px 3px 1px rgba(0, 0, 0, 0.15);\n",
              "      filter: drop-shadow(0px 1px 2px rgba(0, 0, 0, 0.3));\n",
              "      fill: #FFFFFF;\n",
              "    }\n",
              "  </style>\n",
              "\n",
              "      <script>\n",
              "        const buttonEl =\n",
              "          document.querySelector('#df-5edd99cf-5cf9-4d27-8fb7-972d1acba8d4 button.colab-df-convert');\n",
              "        buttonEl.style.display =\n",
              "          google.colab.kernel.accessAllowed ? 'block' : 'none';\n",
              "\n",
              "        async function convertToInteractive(key) {\n",
              "          const element = document.querySelector('#df-5edd99cf-5cf9-4d27-8fb7-972d1acba8d4');\n",
              "          const dataTable =\n",
              "            await google.colab.kernel.invokeFunction('convertToInteractive',\n",
              "                                                     [key], {});\n",
              "          if (!dataTable) return;\n",
              "\n",
              "          const docLinkHtml = 'Like what you see? Visit the ' +\n",
              "            '<a target=\"_blank\" href=https://colab.research.google.com/notebooks/data_table.ipynb>data table notebook</a>'\n",
              "            + ' to learn more about interactive tables.';\n",
              "          element.innerHTML = '';\n",
              "          dataTable['output_type'] = 'display_data';\n",
              "          await google.colab.output.renderOutput(dataTable, element);\n",
              "          const docLink = document.createElement('div');\n",
              "          docLink.innerHTML = docLinkHtml;\n",
              "          element.appendChild(docLink);\n",
              "        }\n",
              "      </script>\n",
              "    </div>\n",
              "  </div>\n",
              "  "
            ]
          },
          "metadata": {},
          "execution_count": 23
        }
      ]
    },
    {
      "cell_type": "markdown",
      "source": [
        "### 3.4 Get representative scenario\n",
        "Which scenario is the best/worst scenario? Specifying quantile, variable name and date, we can confirm that with `ODEScenario().represent(q=<float or tuple of float>, variable=<str>, date=<str or None>, included=<list of str or None>, excluded=<list of str or None>)`. `date=None` means the last date of scenarios."
      ],
      "metadata": {
        "id": "U_iHz9lw7xVN"
      }
    },
    {
      "cell_type": "code",
      "source": [
        "scenarios = snr.represent(q=(0.1, 0.9), variable=\"Confirmed\", excluded=[\"Baseline\"])\n",
        "print(f\" the best: {scenarios[0]} (small number of confirmed cases)\\nthe worst: {scenarios[1]} (large number of confirmed cases)\")"
      ],
      "metadata": {
        "colab": {
          "base_uri": "https://localhost:8080/"
        },
        "id": "jeeNiYC85SQQ",
        "outputId": "c2b508ab-30e7-4cd6-bab0-27b39e9f7e2e"
      },
      "execution_count": 24,
      "outputs": [
        {
          "output_type": "stream",
          "name": "stdout",
          "text": [
            " the best: Lockdown (small number of confirmed cases)\n",
            "the worst: Vaccine (large number of confirmed cases)\n"
          ]
        }
      ]
    },
    {
      "cell_type": "markdown",
      "source": [
        "We can rename a scenario with `ODEScenario().rename(old, new)`."
      ],
      "metadata": {
        "id": "-ZBov9rt-E-h"
      }
    },
    {
      "cell_type": "code",
      "source": [
        "snr.rename(old=scenarios[0], new=\"Best\")\n",
        "snr.rename(old=scenarios[1], new=\"Worst\").describe()"
      ],
      "metadata": {
        "colab": {
          "base_uri": "https://localhost:8080/",
          "height": 175
        },
        "id": "S3z5INVB-VK8",
        "outputId": "a3ce2383-5ed5-4dc7-e70c-1617abdd456c"
      },
      "execution_count": 25,
      "outputs": [
        {
          "output_type": "execute_result",
          "data": {
            "text/plain": [
              "          max(Infected) argmax(Infected)  Confirmed on 30Jun2022  \\\n",
              "Baseline         232733       2022-03-03                  887821   \n",
              "Medicine          53834       2022-02-22                  490556   \n",
              "Best              47075       2022-03-09                  421595   \n",
              "Worst            114876       2022-03-10                  709162   \n",
              "\n",
              "          Infected on 30Jun2022  Fatal on 30Jun2022  \n",
              "Baseline                    574               57116  \n",
              "Medicine                    284               10166  \n",
              "Best                       9267               26559  \n",
              "Worst                      1720               24956  "
            ],
            "text/html": [
              "\n",
              "  <div id=\"df-759d39ad-915f-4004-b327-dcad5f3498a3\">\n",
              "    <div class=\"colab-df-container\">\n",
              "      <div>\n",
              "<style scoped>\n",
              "    .dataframe tbody tr th:only-of-type {\n",
              "        vertical-align: middle;\n",
              "    }\n",
              "\n",
              "    .dataframe tbody tr th {\n",
              "        vertical-align: top;\n",
              "    }\n",
              "\n",
              "    .dataframe thead th {\n",
              "        text-align: right;\n",
              "    }\n",
              "</style>\n",
              "<table border=\"1\" class=\"dataframe\">\n",
              "  <thead>\n",
              "    <tr style=\"text-align: right;\">\n",
              "      <th></th>\n",
              "      <th>max(Infected)</th>\n",
              "      <th>argmax(Infected)</th>\n",
              "      <th>Confirmed on 30Jun2022</th>\n",
              "      <th>Infected on 30Jun2022</th>\n",
              "      <th>Fatal on 30Jun2022</th>\n",
              "    </tr>\n",
              "  </thead>\n",
              "  <tbody>\n",
              "    <tr>\n",
              "      <th>Baseline</th>\n",
              "      <td>232733</td>\n",
              "      <td>2022-03-03</td>\n",
              "      <td>887821</td>\n",
              "      <td>574</td>\n",
              "      <td>57116</td>\n",
              "    </tr>\n",
              "    <tr>\n",
              "      <th>Medicine</th>\n",
              "      <td>53834</td>\n",
              "      <td>2022-02-22</td>\n",
              "      <td>490556</td>\n",
              "      <td>284</td>\n",
              "      <td>10166</td>\n",
              "    </tr>\n",
              "    <tr>\n",
              "      <th>Best</th>\n",
              "      <td>47075</td>\n",
              "      <td>2022-03-09</td>\n",
              "      <td>421595</td>\n",
              "      <td>9267</td>\n",
              "      <td>26559</td>\n",
              "    </tr>\n",
              "    <tr>\n",
              "      <th>Worst</th>\n",
              "      <td>114876</td>\n",
              "      <td>2022-03-10</td>\n",
              "      <td>709162</td>\n",
              "      <td>1720</td>\n",
              "      <td>24956</td>\n",
              "    </tr>\n",
              "  </tbody>\n",
              "</table>\n",
              "</div>\n",
              "      <button class=\"colab-df-convert\" onclick=\"convertToInteractive('df-759d39ad-915f-4004-b327-dcad5f3498a3')\"\n",
              "              title=\"Convert this dataframe to an interactive table.\"\n",
              "              style=\"display:none;\">\n",
              "        \n",
              "  <svg xmlns=\"http://www.w3.org/2000/svg\" height=\"24px\"viewBox=\"0 0 24 24\"\n",
              "       width=\"24px\">\n",
              "    <path d=\"M0 0h24v24H0V0z\" fill=\"none\"/>\n",
              "    <path d=\"M18.56 5.44l.94 2.06.94-2.06 2.06-.94-2.06-.94-.94-2.06-.94 2.06-2.06.94zm-11 1L8.5 8.5l.94-2.06 2.06-.94-2.06-.94L8.5 2.5l-.94 2.06-2.06.94zm10 10l.94 2.06.94-2.06 2.06-.94-2.06-.94-.94-2.06-.94 2.06-2.06.94z\"/><path d=\"M17.41 7.96l-1.37-1.37c-.4-.4-.92-.59-1.43-.59-.52 0-1.04.2-1.43.59L10.3 9.45l-7.72 7.72c-.78.78-.78 2.05 0 2.83L4 21.41c.39.39.9.59 1.41.59.51 0 1.02-.2 1.41-.59l7.78-7.78 2.81-2.81c.8-.78.8-2.07 0-2.86zM5.41 20L4 18.59l7.72-7.72 1.47 1.35L5.41 20z\"/>\n",
              "  </svg>\n",
              "      </button>\n",
              "      \n",
              "  <style>\n",
              "    .colab-df-container {\n",
              "      display:flex;\n",
              "      flex-wrap:wrap;\n",
              "      gap: 12px;\n",
              "    }\n",
              "\n",
              "    .colab-df-convert {\n",
              "      background-color: #E8F0FE;\n",
              "      border: none;\n",
              "      border-radius: 50%;\n",
              "      cursor: pointer;\n",
              "      display: none;\n",
              "      fill: #1967D2;\n",
              "      height: 32px;\n",
              "      padding: 0 0 0 0;\n",
              "      width: 32px;\n",
              "    }\n",
              "\n",
              "    .colab-df-convert:hover {\n",
              "      background-color: #E2EBFA;\n",
              "      box-shadow: 0px 1px 2px rgba(60, 64, 67, 0.3), 0px 1px 3px 1px rgba(60, 64, 67, 0.15);\n",
              "      fill: #174EA6;\n",
              "    }\n",
              "\n",
              "    [theme=dark] .colab-df-convert {\n",
              "      background-color: #3B4455;\n",
              "      fill: #D2E3FC;\n",
              "    }\n",
              "\n",
              "    [theme=dark] .colab-df-convert:hover {\n",
              "      background-color: #434B5C;\n",
              "      box-shadow: 0px 1px 3px 1px rgba(0, 0, 0, 0.15);\n",
              "      filter: drop-shadow(0px 1px 2px rgba(0, 0, 0, 0.3));\n",
              "      fill: #FFFFFF;\n",
              "    }\n",
              "  </style>\n",
              "\n",
              "      <script>\n",
              "        const buttonEl =\n",
              "          document.querySelector('#df-759d39ad-915f-4004-b327-dcad5f3498a3 button.colab-df-convert');\n",
              "        buttonEl.style.display =\n",
              "          google.colab.kernel.accessAllowed ? 'block' : 'none';\n",
              "\n",
              "        async function convertToInteractive(key) {\n",
              "          const element = document.querySelector('#df-759d39ad-915f-4004-b327-dcad5f3498a3');\n",
              "          const dataTable =\n",
              "            await google.colab.kernel.invokeFunction('convertToInteractive',\n",
              "                                                     [key], {});\n",
              "          if (!dataTable) return;\n",
              "\n",
              "          const docLinkHtml = 'Like what you see? Visit the ' +\n",
              "            '<a target=\"_blank\" href=https://colab.research.google.com/notebooks/data_table.ipynb>data table notebook</a>'\n",
              "            + ' to learn more about interactive tables.';\n",
              "          element.innerHTML = '';\n",
              "          dataTable['output_type'] = 'display_data';\n",
              "          await google.colab.output.renderOutput(dataTable, element);\n",
              "          const docLink = document.createElement('div');\n",
              "          docLink.innerHTML = docLinkHtml;\n",
              "          element.appendChild(docLink);\n",
              "        }\n",
              "      </script>\n",
              "    </div>\n",
              "  </div>\n",
              "  "
            ]
          },
          "metadata": {},
          "execution_count": 25
        }
      ]
    },
    {
      "cell_type": "markdown",
      "source": [
        "We can delete a scenario with `ODEScenario().delete(pattern, exact=True)`. Just for demonstration, we will delete the scenario which is not the baseline/best/worst scenario."
      ],
      "metadata": {
        "id": "7zEjX7Qu-Ufk"
      }
    },
    {
      "cell_type": "code",
      "source": [
        "deleted_scenarios = [name for name in snr.describe().index.unique() if name not in [*scenarios, \"Best\", \"Worst\", \"Baseline\"]]\n",
        "deleted_scenarios"
      ],
      "metadata": {
        "colab": {
          "base_uri": "https://localhost:8080/"
        },
        "id": "BhhSqRGq-3Rv",
        "outputId": "cb028499-0c93-49c5-d607-3aa8ad752b94"
      },
      "execution_count": 26,
      "outputs": [
        {
          "output_type": "execute_result",
          "data": {
            "text/plain": [
              "['Medicine']"
            ]
          },
          "metadata": {},
          "execution_count": 26
        }
      ]
    },
    {
      "cell_type": "code",
      "source": [
        "for name in deleted_scenarios:\n",
        "    snr.delete(name, exact=True)\n",
        "snr.describe()"
      ],
      "metadata": {
        "colab": {
          "base_uri": "https://localhost:8080/",
          "height": 143
        },
        "id": "N9sudDgZ-3Wt",
        "outputId": "00edc730-eede-465f-f091-432243ddbb58"
      },
      "execution_count": 27,
      "outputs": [
        {
          "output_type": "execute_result",
          "data": {
            "text/plain": [
              "          max(Infected) argmax(Infected)  Confirmed on 30Jun2022  \\\n",
              "Baseline         232733       2022-03-03                  887821   \n",
              "Best              47075       2022-03-09                  421595   \n",
              "Worst            114876       2022-03-10                  709162   \n",
              "\n",
              "          Infected on 30Jun2022  Fatal on 30Jun2022  \n",
              "Baseline                    574               57116  \n",
              "Best                       9267               26559  \n",
              "Worst                      1720               24956  "
            ],
            "text/html": [
              "\n",
              "  <div id=\"df-d4a60a5a-0fa4-4c9d-a5e5-0278d2090e06\">\n",
              "    <div class=\"colab-df-container\">\n",
              "      <div>\n",
              "<style scoped>\n",
              "    .dataframe tbody tr th:only-of-type {\n",
              "        vertical-align: middle;\n",
              "    }\n",
              "\n",
              "    .dataframe tbody tr th {\n",
              "        vertical-align: top;\n",
              "    }\n",
              "\n",
              "    .dataframe thead th {\n",
              "        text-align: right;\n",
              "    }\n",
              "</style>\n",
              "<table border=\"1\" class=\"dataframe\">\n",
              "  <thead>\n",
              "    <tr style=\"text-align: right;\">\n",
              "      <th></th>\n",
              "      <th>max(Infected)</th>\n",
              "      <th>argmax(Infected)</th>\n",
              "      <th>Confirmed on 30Jun2022</th>\n",
              "      <th>Infected on 30Jun2022</th>\n",
              "      <th>Fatal on 30Jun2022</th>\n",
              "    </tr>\n",
              "  </thead>\n",
              "  <tbody>\n",
              "    <tr>\n",
              "      <th>Baseline</th>\n",
              "      <td>232733</td>\n",
              "      <td>2022-03-03</td>\n",
              "      <td>887821</td>\n",
              "      <td>574</td>\n",
              "      <td>57116</td>\n",
              "    </tr>\n",
              "    <tr>\n",
              "      <th>Best</th>\n",
              "      <td>47075</td>\n",
              "      <td>2022-03-09</td>\n",
              "      <td>421595</td>\n",
              "      <td>9267</td>\n",
              "      <td>26559</td>\n",
              "    </tr>\n",
              "    <tr>\n",
              "      <th>Worst</th>\n",
              "      <td>114876</td>\n",
              "      <td>2022-03-10</td>\n",
              "      <td>709162</td>\n",
              "      <td>1720</td>\n",
              "      <td>24956</td>\n",
              "    </tr>\n",
              "  </tbody>\n",
              "</table>\n",
              "</div>\n",
              "      <button class=\"colab-df-convert\" onclick=\"convertToInteractive('df-d4a60a5a-0fa4-4c9d-a5e5-0278d2090e06')\"\n",
              "              title=\"Convert this dataframe to an interactive table.\"\n",
              "              style=\"display:none;\">\n",
              "        \n",
              "  <svg xmlns=\"http://www.w3.org/2000/svg\" height=\"24px\"viewBox=\"0 0 24 24\"\n",
              "       width=\"24px\">\n",
              "    <path d=\"M0 0h24v24H0V0z\" fill=\"none\"/>\n",
              "    <path d=\"M18.56 5.44l.94 2.06.94-2.06 2.06-.94-2.06-.94-.94-2.06-.94 2.06-2.06.94zm-11 1L8.5 8.5l.94-2.06 2.06-.94-2.06-.94L8.5 2.5l-.94 2.06-2.06.94zm10 10l.94 2.06.94-2.06 2.06-.94-2.06-.94-.94-2.06-.94 2.06-2.06.94z\"/><path d=\"M17.41 7.96l-1.37-1.37c-.4-.4-.92-.59-1.43-.59-.52 0-1.04.2-1.43.59L10.3 9.45l-7.72 7.72c-.78.78-.78 2.05 0 2.83L4 21.41c.39.39.9.59 1.41.59.51 0 1.02-.2 1.41-.59l7.78-7.78 2.81-2.81c.8-.78.8-2.07 0-2.86zM5.41 20L4 18.59l7.72-7.72 1.47 1.35L5.41 20z\"/>\n",
              "  </svg>\n",
              "      </button>\n",
              "      \n",
              "  <style>\n",
              "    .colab-df-container {\n",
              "      display:flex;\n",
              "      flex-wrap:wrap;\n",
              "      gap: 12px;\n",
              "    }\n",
              "\n",
              "    .colab-df-convert {\n",
              "      background-color: #E8F0FE;\n",
              "      border: none;\n",
              "      border-radius: 50%;\n",
              "      cursor: pointer;\n",
              "      display: none;\n",
              "      fill: #1967D2;\n",
              "      height: 32px;\n",
              "      padding: 0 0 0 0;\n",
              "      width: 32px;\n",
              "    }\n",
              "\n",
              "    .colab-df-convert:hover {\n",
              "      background-color: #E2EBFA;\n",
              "      box-shadow: 0px 1px 2px rgba(60, 64, 67, 0.3), 0px 1px 3px 1px rgba(60, 64, 67, 0.15);\n",
              "      fill: #174EA6;\n",
              "    }\n",
              "\n",
              "    [theme=dark] .colab-df-convert {\n",
              "      background-color: #3B4455;\n",
              "      fill: #D2E3FC;\n",
              "    }\n",
              "\n",
              "    [theme=dark] .colab-df-convert:hover {\n",
              "      background-color: #434B5C;\n",
              "      box-shadow: 0px 1px 3px 1px rgba(0, 0, 0, 0.15);\n",
              "      filter: drop-shadow(0px 1px 2px rgba(0, 0, 0, 0.3));\n",
              "      fill: #FFFFFF;\n",
              "    }\n",
              "  </style>\n",
              "\n",
              "      <script>\n",
              "        const buttonEl =\n",
              "          document.querySelector('#df-d4a60a5a-0fa4-4c9d-a5e5-0278d2090e06 button.colab-df-convert');\n",
              "        buttonEl.style.display =\n",
              "          google.colab.kernel.accessAllowed ? 'block' : 'none';\n",
              "\n",
              "        async function convertToInteractive(key) {\n",
              "          const element = document.querySelector('#df-d4a60a5a-0fa4-4c9d-a5e5-0278d2090e06');\n",
              "          const dataTable =\n",
              "            await google.colab.kernel.invokeFunction('convertToInteractive',\n",
              "                                                     [key], {});\n",
              "          if (!dataTable) return;\n",
              "\n",
              "          const docLinkHtml = 'Like what you see? Visit the ' +\n",
              "            '<a target=\"_blank\" href=https://colab.research.google.com/notebooks/data_table.ipynb>data table notebook</a>'\n",
              "            + ' to learn more about interactive tables.';\n",
              "          element.innerHTML = '';\n",
              "          dataTable['output_type'] = 'display_data';\n",
              "          await google.colab.output.renderOutput(dataTable, element);\n",
              "          const docLink = document.createElement('div');\n",
              "          docLink.innerHTML = docLinkHtml;\n",
              "          element.appendChild(docLink);\n",
              "        }\n",
              "      </script>\n",
              "    </div>\n",
              "  </div>\n",
              "  "
            ]
          },
          "metadata": {},
          "execution_count": 27
        }
      ]
    },
    {
      "cell_type": "markdown",
      "source": [
        "We can delete scenarios with regular expressions with `ODEScenario().delete(pattern, exact=True)`. Just for demonstration, we will add scenarios which names start with \"Deleted_\". Then, delete them."
      ],
      "metadata": {
        "id": "t_heEk9UAON6"
      }
    },
    {
      "cell_type": "code",
      "source": [
        "snr.build_with_template(name=\"Deleted_1\", template=\"Baseline\")\n",
        "snr.build_with_template(name=\"Deleted_2\", template=\"Baseline\").describe()"
      ],
      "metadata": {
        "colab": {
          "base_uri": "https://localhost:8080/",
          "height": 206
        },
        "id": "7fAUdOuSAFZz",
        "outputId": "b650899f-3346-4841-a52b-6c5856c613b9"
      },
      "execution_count": 28,
      "outputs": [
        {
          "output_type": "execute_result",
          "data": {
            "text/plain": [
              "           max(Infected) argmax(Infected)  Confirmed on 30Jun2022  \\\n",
              "Baseline          232733       2022-03-03                  887821   \n",
              "Best               47075       2022-03-09                  421595   \n",
              "Worst             114876       2022-03-10                  709162   \n",
              "Deleted_1         232733       2022-03-03                  887821   \n",
              "Deleted_2         232733       2022-03-03                  887821   \n",
              "\n",
              "           Infected on 30Jun2022  Fatal on 30Jun2022  \n",
              "Baseline                     574               57116  \n",
              "Best                        9267               26559  \n",
              "Worst                       1720               24956  \n",
              "Deleted_1                    574               57116  \n",
              "Deleted_2                    574               57116  "
            ],
            "text/html": [
              "\n",
              "  <div id=\"df-1c9a9cd6-1b18-4a68-b3e2-ac9d17ede395\">\n",
              "    <div class=\"colab-df-container\">\n",
              "      <div>\n",
              "<style scoped>\n",
              "    .dataframe tbody tr th:only-of-type {\n",
              "        vertical-align: middle;\n",
              "    }\n",
              "\n",
              "    .dataframe tbody tr th {\n",
              "        vertical-align: top;\n",
              "    }\n",
              "\n",
              "    .dataframe thead th {\n",
              "        text-align: right;\n",
              "    }\n",
              "</style>\n",
              "<table border=\"1\" class=\"dataframe\">\n",
              "  <thead>\n",
              "    <tr style=\"text-align: right;\">\n",
              "      <th></th>\n",
              "      <th>max(Infected)</th>\n",
              "      <th>argmax(Infected)</th>\n",
              "      <th>Confirmed on 30Jun2022</th>\n",
              "      <th>Infected on 30Jun2022</th>\n",
              "      <th>Fatal on 30Jun2022</th>\n",
              "    </tr>\n",
              "  </thead>\n",
              "  <tbody>\n",
              "    <tr>\n",
              "      <th>Baseline</th>\n",
              "      <td>232733</td>\n",
              "      <td>2022-03-03</td>\n",
              "      <td>887821</td>\n",
              "      <td>574</td>\n",
              "      <td>57116</td>\n",
              "    </tr>\n",
              "    <tr>\n",
              "      <th>Best</th>\n",
              "      <td>47075</td>\n",
              "      <td>2022-03-09</td>\n",
              "      <td>421595</td>\n",
              "      <td>9267</td>\n",
              "      <td>26559</td>\n",
              "    </tr>\n",
              "    <tr>\n",
              "      <th>Worst</th>\n",
              "      <td>114876</td>\n",
              "      <td>2022-03-10</td>\n",
              "      <td>709162</td>\n",
              "      <td>1720</td>\n",
              "      <td>24956</td>\n",
              "    </tr>\n",
              "    <tr>\n",
              "      <th>Deleted_1</th>\n",
              "      <td>232733</td>\n",
              "      <td>2022-03-03</td>\n",
              "      <td>887821</td>\n",
              "      <td>574</td>\n",
              "      <td>57116</td>\n",
              "    </tr>\n",
              "    <tr>\n",
              "      <th>Deleted_2</th>\n",
              "      <td>232733</td>\n",
              "      <td>2022-03-03</td>\n",
              "      <td>887821</td>\n",
              "      <td>574</td>\n",
              "      <td>57116</td>\n",
              "    </tr>\n",
              "  </tbody>\n",
              "</table>\n",
              "</div>\n",
              "      <button class=\"colab-df-convert\" onclick=\"convertToInteractive('df-1c9a9cd6-1b18-4a68-b3e2-ac9d17ede395')\"\n",
              "              title=\"Convert this dataframe to an interactive table.\"\n",
              "              style=\"display:none;\">\n",
              "        \n",
              "  <svg xmlns=\"http://www.w3.org/2000/svg\" height=\"24px\"viewBox=\"0 0 24 24\"\n",
              "       width=\"24px\">\n",
              "    <path d=\"M0 0h24v24H0V0z\" fill=\"none\"/>\n",
              "    <path d=\"M18.56 5.44l.94 2.06.94-2.06 2.06-.94-2.06-.94-.94-2.06-.94 2.06-2.06.94zm-11 1L8.5 8.5l.94-2.06 2.06-.94-2.06-.94L8.5 2.5l-.94 2.06-2.06.94zm10 10l.94 2.06.94-2.06 2.06-.94-2.06-.94-.94-2.06-.94 2.06-2.06.94z\"/><path d=\"M17.41 7.96l-1.37-1.37c-.4-.4-.92-.59-1.43-.59-.52 0-1.04.2-1.43.59L10.3 9.45l-7.72 7.72c-.78.78-.78 2.05 0 2.83L4 21.41c.39.39.9.59 1.41.59.51 0 1.02-.2 1.41-.59l7.78-7.78 2.81-2.81c.8-.78.8-2.07 0-2.86zM5.41 20L4 18.59l7.72-7.72 1.47 1.35L5.41 20z\"/>\n",
              "  </svg>\n",
              "      </button>\n",
              "      \n",
              "  <style>\n",
              "    .colab-df-container {\n",
              "      display:flex;\n",
              "      flex-wrap:wrap;\n",
              "      gap: 12px;\n",
              "    }\n",
              "\n",
              "    .colab-df-convert {\n",
              "      background-color: #E8F0FE;\n",
              "      border: none;\n",
              "      border-radius: 50%;\n",
              "      cursor: pointer;\n",
              "      display: none;\n",
              "      fill: #1967D2;\n",
              "      height: 32px;\n",
              "      padding: 0 0 0 0;\n",
              "      width: 32px;\n",
              "    }\n",
              "\n",
              "    .colab-df-convert:hover {\n",
              "      background-color: #E2EBFA;\n",
              "      box-shadow: 0px 1px 2px rgba(60, 64, 67, 0.3), 0px 1px 3px 1px rgba(60, 64, 67, 0.15);\n",
              "      fill: #174EA6;\n",
              "    }\n",
              "\n",
              "    [theme=dark] .colab-df-convert {\n",
              "      background-color: #3B4455;\n",
              "      fill: #D2E3FC;\n",
              "    }\n",
              "\n",
              "    [theme=dark] .colab-df-convert:hover {\n",
              "      background-color: #434B5C;\n",
              "      box-shadow: 0px 1px 3px 1px rgba(0, 0, 0, 0.15);\n",
              "      filter: drop-shadow(0px 1px 2px rgba(0, 0, 0, 0.3));\n",
              "      fill: #FFFFFF;\n",
              "    }\n",
              "  </style>\n",
              "\n",
              "      <script>\n",
              "        const buttonEl =\n",
              "          document.querySelector('#df-1c9a9cd6-1b18-4a68-b3e2-ac9d17ede395 button.colab-df-convert');\n",
              "        buttonEl.style.display =\n",
              "          google.colab.kernel.accessAllowed ? 'block' : 'none';\n",
              "\n",
              "        async function convertToInteractive(key) {\n",
              "          const element = document.querySelector('#df-1c9a9cd6-1b18-4a68-b3e2-ac9d17ede395');\n",
              "          const dataTable =\n",
              "            await google.colab.kernel.invokeFunction('convertToInteractive',\n",
              "                                                     [key], {});\n",
              "          if (!dataTable) return;\n",
              "\n",
              "          const docLinkHtml = 'Like what you see? Visit the ' +\n",
              "            '<a target=\"_blank\" href=https://colab.research.google.com/notebooks/data_table.ipynb>data table notebook</a>'\n",
              "            + ' to learn more about interactive tables.';\n",
              "          element.innerHTML = '';\n",
              "          dataTable['output_type'] = 'display_data';\n",
              "          await google.colab.output.renderOutput(dataTable, element);\n",
              "          const docLink = document.createElement('div');\n",
              "          docLink.innerHTML = docLinkHtml;\n",
              "          element.appendChild(docLink);\n",
              "        }\n",
              "      </script>\n",
              "    </div>\n",
              "  </div>\n",
              "  "
            ]
          },
          "metadata": {},
          "execution_count": 28
        }
      ]
    },
    {
      "cell_type": "code",
      "source": [
        "snr.delete(\"Deleted_\", exact=False).describe()"
      ],
      "metadata": {
        "colab": {
          "base_uri": "https://localhost:8080/",
          "height": 143
        },
        "id": "-syGvy8hAvla",
        "outputId": "4c889d5b-8eec-4e0f-d2d7-19b703973404"
      },
      "execution_count": 29,
      "outputs": [
        {
          "output_type": "execute_result",
          "data": {
            "text/plain": [
              "          max(Infected) argmax(Infected)  Confirmed on 30Jun2022  \\\n",
              "Baseline         232733       2022-03-03                  887821   \n",
              "Best              47075       2022-03-09                  421595   \n",
              "Worst            114876       2022-03-10                  709162   \n",
              "\n",
              "          Infected on 30Jun2022  Fatal on 30Jun2022  \n",
              "Baseline                    574               57116  \n",
              "Best                       9267               26559  \n",
              "Worst                      1720               24956  "
            ],
            "text/html": [
              "\n",
              "  <div id=\"df-dfd67a8d-6d0c-4cee-a968-3537992fea60\">\n",
              "    <div class=\"colab-df-container\">\n",
              "      <div>\n",
              "<style scoped>\n",
              "    .dataframe tbody tr th:only-of-type {\n",
              "        vertical-align: middle;\n",
              "    }\n",
              "\n",
              "    .dataframe tbody tr th {\n",
              "        vertical-align: top;\n",
              "    }\n",
              "\n",
              "    .dataframe thead th {\n",
              "        text-align: right;\n",
              "    }\n",
              "</style>\n",
              "<table border=\"1\" class=\"dataframe\">\n",
              "  <thead>\n",
              "    <tr style=\"text-align: right;\">\n",
              "      <th></th>\n",
              "      <th>max(Infected)</th>\n",
              "      <th>argmax(Infected)</th>\n",
              "      <th>Confirmed on 30Jun2022</th>\n",
              "      <th>Infected on 30Jun2022</th>\n",
              "      <th>Fatal on 30Jun2022</th>\n",
              "    </tr>\n",
              "  </thead>\n",
              "  <tbody>\n",
              "    <tr>\n",
              "      <th>Baseline</th>\n",
              "      <td>232733</td>\n",
              "      <td>2022-03-03</td>\n",
              "      <td>887821</td>\n",
              "      <td>574</td>\n",
              "      <td>57116</td>\n",
              "    </tr>\n",
              "    <tr>\n",
              "      <th>Best</th>\n",
              "      <td>47075</td>\n",
              "      <td>2022-03-09</td>\n",
              "      <td>421595</td>\n",
              "      <td>9267</td>\n",
              "      <td>26559</td>\n",
              "    </tr>\n",
              "    <tr>\n",
              "      <th>Worst</th>\n",
              "      <td>114876</td>\n",
              "      <td>2022-03-10</td>\n",
              "      <td>709162</td>\n",
              "      <td>1720</td>\n",
              "      <td>24956</td>\n",
              "    </tr>\n",
              "  </tbody>\n",
              "</table>\n",
              "</div>\n",
              "      <button class=\"colab-df-convert\" onclick=\"convertToInteractive('df-dfd67a8d-6d0c-4cee-a968-3537992fea60')\"\n",
              "              title=\"Convert this dataframe to an interactive table.\"\n",
              "              style=\"display:none;\">\n",
              "        \n",
              "  <svg xmlns=\"http://www.w3.org/2000/svg\" height=\"24px\"viewBox=\"0 0 24 24\"\n",
              "       width=\"24px\">\n",
              "    <path d=\"M0 0h24v24H0V0z\" fill=\"none\"/>\n",
              "    <path d=\"M18.56 5.44l.94 2.06.94-2.06 2.06-.94-2.06-.94-.94-2.06-.94 2.06-2.06.94zm-11 1L8.5 8.5l.94-2.06 2.06-.94-2.06-.94L8.5 2.5l-.94 2.06-2.06.94zm10 10l.94 2.06.94-2.06 2.06-.94-2.06-.94-.94-2.06-.94 2.06-2.06.94z\"/><path d=\"M17.41 7.96l-1.37-1.37c-.4-.4-.92-.59-1.43-.59-.52 0-1.04.2-1.43.59L10.3 9.45l-7.72 7.72c-.78.78-.78 2.05 0 2.83L4 21.41c.39.39.9.59 1.41.59.51 0 1.02-.2 1.41-.59l7.78-7.78 2.81-2.81c.8-.78.8-2.07 0-2.86zM5.41 20L4 18.59l7.72-7.72 1.47 1.35L5.41 20z\"/>\n",
              "  </svg>\n",
              "      </button>\n",
              "      \n",
              "  <style>\n",
              "    .colab-df-container {\n",
              "      display:flex;\n",
              "      flex-wrap:wrap;\n",
              "      gap: 12px;\n",
              "    }\n",
              "\n",
              "    .colab-df-convert {\n",
              "      background-color: #E8F0FE;\n",
              "      border: none;\n",
              "      border-radius: 50%;\n",
              "      cursor: pointer;\n",
              "      display: none;\n",
              "      fill: #1967D2;\n",
              "      height: 32px;\n",
              "      padding: 0 0 0 0;\n",
              "      width: 32px;\n",
              "    }\n",
              "\n",
              "    .colab-df-convert:hover {\n",
              "      background-color: #E2EBFA;\n",
              "      box-shadow: 0px 1px 2px rgba(60, 64, 67, 0.3), 0px 1px 3px 1px rgba(60, 64, 67, 0.15);\n",
              "      fill: #174EA6;\n",
              "    }\n",
              "\n",
              "    [theme=dark] .colab-df-convert {\n",
              "      background-color: #3B4455;\n",
              "      fill: #D2E3FC;\n",
              "    }\n",
              "\n",
              "    [theme=dark] .colab-df-convert:hover {\n",
              "      background-color: #434B5C;\n",
              "      box-shadow: 0px 1px 3px 1px rgba(0, 0, 0, 0.15);\n",
              "      filter: drop-shadow(0px 1px 2px rgba(0, 0, 0, 0.3));\n",
              "      fill: #FFFFFF;\n",
              "    }\n",
              "  </style>\n",
              "\n",
              "      <script>\n",
              "        const buttonEl =\n",
              "          document.querySelector('#df-dfd67a8d-6d0c-4cee-a968-3537992fea60 button.colab-df-convert');\n",
              "        buttonEl.style.display =\n",
              "          google.colab.kernel.accessAllowed ? 'block' : 'none';\n",
              "\n",
              "        async function convertToInteractive(key) {\n",
              "          const element = document.querySelector('#df-dfd67a8d-6d0c-4cee-a968-3537992fea60');\n",
              "          const dataTable =\n",
              "            await google.colab.kernel.invokeFunction('convertToInteractive',\n",
              "                                                     [key], {});\n",
              "          if (!dataTable) return;\n",
              "\n",
              "          const docLinkHtml = 'Like what you see? Visit the ' +\n",
              "            '<a target=\"_blank\" href=https://colab.research.google.com/notebooks/data_table.ipynb>data table notebook</a>'\n",
              "            + ' to learn more about interactive tables.';\n",
              "          element.innerHTML = '';\n",
              "          dataTable['output_type'] = 'display_data';\n",
              "          await google.colab.output.renderOutput(dataTable, element);\n",
              "          const docLink = document.createElement('div');\n",
              "          docLink.innerHTML = docLinkHtml;\n",
              "          element.appendChild(docLink);\n",
              "        }\n",
              "      </script>\n",
              "    </div>\n",
              "  </div>\n",
              "  "
            ]
          },
          "metadata": {},
          "execution_count": 29
        }
      ]
    },
    {
      "cell_type": "markdown",
      "source": [
        "As explained, we can compare the scenarios with the methods, `ODEScenario().compare_cases()` as an example."
      ],
      "metadata": {
        "id": "hl5DzpL_BLzu"
      }
    },
    {
      "cell_type": "code",
      "source": [
        "snr.compare_cases(\"Confirmed\");"
      ],
      "metadata": {
        "colab": {
          "base_uri": "https://localhost:8080/",
          "height": 435
        },
        "id": "dsVieSwTBWhH",
        "outputId": "50116ff9-dfc6-4173-beef-325ae64bf557"
      },
      "execution_count": 30,
      "outputs": [
        {
          "output_type": "display_data",
          "data": {
            "text/plain": [
              "<Figure size 648x432 with 1 Axes>"
            ],
            "image/png": "[encoded data removed]"
          },
          "metadata": {
            "needs_background": "light"
          }
        }
      ]
    },
    {
      "cell_type": "markdown",
      "source": [
        "## 4. ODE parameter prediction\n",
        "Here, we will predict the ODE parameter values using [AutoTS: a time series package for Python designed for rapidly deploying high-accuracy forecasts at scale](https://github.com/winedarksea/AutoTS)."
      ],
      "metadata": {
        "id": "f8lm09d9B4uM"
      }
    },
    {
      "cell_type": "markdown",
      "source": [
        "`ODEScenario().predict(days, name, **kwargs)` creates scenarios and append a phase, performing prediction ODE parameter prediction for given days. The keyword arguments of `autots.AutoTS()` except for forecast_length (always the same as @days) can be applied."
      ],
      "metadata": {
        "id": "SgYt7feECUIj"
      }
    },
    {
      "cell_type": "markdown",
      "source": [
        "Just for demonstation, we will use actual records in Italy."
      ],
      "metadata": {
        "id": "VDkM3DBWCt2x"
      }
    },
    {
      "cell_type": "code",
      "source": [
        "snr_act.build_with_template(name=\"Predicted\", template=\"Baseline\")\n",
        "snr_act.predict(days=30, name=\"Predicted\");"
      ],
      "metadata": {
        "colab": {
          "base_uri": "https://localhost:8080/"
        },
        "id": "BBT_NIr5ClRK",
        "outputId": "0a9c193d-b239-4e7d-aaf0-afcdae900faf"
      },
      "execution_count": 31,
      "outputs": [
        {
          "output_type": "stream",
          "name": "stdout",
          "text": [
            "Using 1 cpus for n_jobs.\n",
            "Model Number: 1 with model AverageValueNaive in generation 0 of 1\n",
            "Model Number: 2 with model AverageValueNaive in generation 0 of 1\n",
            "Model Number: 3 with model AverageValueNaive in generation 0 of 1\n",
            "Model Number: 4 with model GLS in generation 0 of 1\n",
            "Model Number: 5 with model GLS in generation 0 of 1\n",
            "Model Number: 6 with model LastValueNaive in generation 0 of 1\n",
            "Model Number: 7 with model LastValueNaive in generation 0 of 1\n",
            "Model Number: 8 with model LastValueNaive in generation 0 of 1\n",
            "Model Number: 9 with model LastValueNaive in generation 0 of 1\n",
            "Model Number: 10 with model SeasonalNaive in generation 0 of 1\n",
            "Model Number: 11 with model SeasonalNaive in generation 0 of 1\n",
            "Model Number: 12 with model SeasonalNaive in generation 0 of 1\n",
            "Model Number: 13 with model ConstantNaive in generation 0 of 1\n",
            "Model Number: 14 with model SeasonalNaive in generation 0 of 1\n",
            "Model Number: 15 with model SeasonalNaive in generation 0 of 1\n",
            "Model Number: 16 with model ConstantNaive in generation 0 of 1\n",
            "Model Number: 17 with model LastValueNaive in generation 0 of 1\n",
            "Model Number: 18 with model AverageValueNaive in generation 0 of 1\n",
            "Model Number: 19 with model GLS in generation 0 of 1\n",
            "Model Number: 20 with model SeasonalNaive in generation 0 of 1\n",
            "Model Number: 21 with model ConstantNaive in generation 0 of 1\n",
            "Model Number: 22 with model AverageValueNaive in generation 0 of 1\n",
            "Model Number: 23 with model GLS in generation 0 of 1\n",
            "Model Number: 24 with model AverageValueNaive in generation 0 of 1\n",
            "Model Number: 25 with model SeasonalNaive in generation 0 of 1\n",
            "Model Number: 26 with model ConstantNaive in generation 0 of 1\n",
            "Model Number: 27 with model LastValueNaive in generation 0 of 1\n",
            "Model Number: 28 with model AverageValueNaive in generation 0 of 1\n",
            "Model Number: 29 with model ConstantNaive in generation 0 of 1\n",
            "Model Number: 30 with model ConstantNaive in generation 0 of 1\n",
            "Model Number: 31 with model AverageValueNaive in generation 0 of 1\n",
            "Model Number: 32 with model SeasonalNaive in generation 0 of 1\n",
            "Model Number: 33 with model ConstantNaive in generation 0 of 1\n",
            "Model Number: 34 with model SeasonalNaive in generation 0 of 1\n",
            "Model Number: 35 with model AverageValueNaive in generation 0 of 1\n",
            "Model Number: 36 with model GLS in generation 0 of 1\n",
            "Model Number: 37 with model LastValueNaive in generation 0 of 1\n",
            "Model Number: 38 with model LastValueNaive in generation 0 of 1\n",
            "Model Number: 39 with model ConstantNaive in generation 0 of 1\n",
            "Model Number: 40 with model AverageValueNaive in generation 0 of 1\n",
            "New Generation: 1 of 1\n",
            "Model Number: 41 with model GLS in generation 1 of 1\n",
            "Model Number: 42 with model AverageValueNaive in generation 1 of 1\n",
            "Model Number: 43 with model AverageValueNaive in generation 1 of 1\n",
            "Model Number: 44 with model AverageValueNaive in generation 1 of 1\n",
            "Model Number: 45 with model SeasonalNaive in generation 1 of 1\n",
            "Model Number: 46 with model LastValueNaive in generation 1 of 1\n",
            "Model Number: 47 with model AverageValueNaive in generation 1 of 1\n",
            "Model Number: 48 with model SeasonalNaive in generation 1 of 1\n",
            "Model Number: 49 with model AverageValueNaive in generation 1 of 1\n",
            "Template Eval Error: Exception('Transformer STLFilter failed on fit') in model 49: AverageValueNaive\n",
            "Model Number: 50 with model SeasonalNaive in generation 1 of 1\n",
            "Model Number: 51 with model LastValueNaive in generation 1 of 1\n",
            "Model Number: 52 with model SeasonalNaive in generation 1 of 1\n",
            "Model Number: 53 with model LastValueNaive in generation 1 of 1\n",
            "Model Number: 54 with model ConstantNaive in generation 1 of 1\n",
            "Template Eval Error: ValueError(\"Model returned NaN due to a preprocessing transformer {'fillna': 'median', 'transformations': {'0': 'PowerTransformer', '1': 'RollingMean100thN'}, 'transformation_params': {'0': {}, '1': {}}}. fail_on_forecast_nan=True\") in model 54: ConstantNaive\n",
            "Model Number: 55 with model AverageValueNaive in generation 1 of 1\n",
            "Model Number: 56 with model ConstantNaive in generation 1 of 1\n",
            "Model Number: 57 with model LastValueNaive in generation 1 of 1\n",
            "Model Number: 58 with model ConstantNaive in generation 1 of 1\n",
            "Model Number: 59 with model AverageValueNaive in generation 1 of 1\n",
            "Model Number: 60 with model LastValueNaive in generation 1 of 1\n",
            "Model Number: 61 with model LastValueNaive in generation 1 of 1\n",
            "Model Number: 62 with model GLS in generation 1 of 1\n",
            "Model Number: 63 with model LastValueNaive in generation 1 of 1\n",
            "Model Number: 64 with model LastValueNaive in generation 1 of 1\n",
            "Model Number: 65 with model SeasonalNaive in generation 1 of 1\n",
            "Validation Round: 1\n",
            "Model Number: 1 of 14 with model LastValueNaive for Validation 1\n",
            "📈 1 - LastValueNaive with avg smape 58.59: \n",
            "Model Number: 2 of 14 with model LastValueNaive for Validation 1\n",
            "2 - LastValueNaive with avg smape 58.59: \n",
            "Model Number: 3 of 14 with model LastValueNaive for Validation 1\n",
            "3 - LastValueNaive with avg smape 58.59: \n",
            "Model Number: 4 of 14 with model SeasonalNaive for Validation 1\n",
            "4 - SeasonalNaive with avg smape 59.02: \n",
            "Model Number: 5 of 14 with model SeasonalNaive for Validation 1\n",
            "5 - SeasonalNaive with avg smape 61.4: \n",
            "Model Number: 6 of 14 with model SeasonalNaive for Validation 1\n",
            "6 - SeasonalNaive with avg smape 71.7: \n",
            "Model Number: 7 of 14 with model AverageValueNaive for Validation 1\n",
            "7 - AverageValueNaive with avg smape 85.5: \n",
            "Model Number: 8 of 14 with model AverageValueNaive for Validation 1\n",
            "8 - AverageValueNaive with avg smape 122.39: \n",
            "Model Number: 9 of 14 with model ConstantNaive for Validation 1\n",
            "9 - ConstantNaive with avg smape 77.07: \n",
            "Model Number: 10 of 14 with model ConstantNaive for Validation 1\n",
            "10 - ConstantNaive with avg smape 64.23: \n",
            "Model Number: 11 of 14 with model LastValueNaive for Validation 1\n",
            "11 - LastValueNaive with avg smape 69.84: \n",
            "Model Number: 12 of 14 with model LastValueNaive for Validation 1\n",
            "12 - LastValueNaive with avg smape 58.78: \n",
            "Model Number: 13 of 14 with model ConstantNaive for Validation 1\n",
            "13 - ConstantNaive with avg smape 88.35: \n",
            "Model Number: 14 of 14 with model AverageValueNaive for Validation 1\n",
            "14 - AverageValueNaive with avg smape 121.18: \n",
            "Validation Round: 2\n",
            "Model Number: 1 of 14 with model LastValueNaive for Validation 2\n",
            "📈 1 - LastValueNaive with avg smape 52.47: \n",
            "Model Number: 2 of 14 with model LastValueNaive for Validation 2\n",
            "2 - LastValueNaive with avg smape 52.47: \n",
            "Model Number: 3 of 14 with model LastValueNaive for Validation 2\n",
            "3 - LastValueNaive with avg smape 52.47: \n",
            "Model Number: 4 of 14 with model SeasonalNaive for Validation 2\n",
            "4 - SeasonalNaive with avg smape 54.13: \n",
            "Model Number: 5 of 14 with model SeasonalNaive for Validation 2\n",
            "5 - SeasonalNaive with avg smape 54.75: \n",
            "Model Number: 6 of 14 with model SeasonalNaive for Validation 2\n",
            "6 - SeasonalNaive with avg smape 60.03: \n",
            "Model Number: 7 of 14 with model AverageValueNaive for Validation 2\n",
            "7 - AverageValueNaive with avg smape 67.31: \n",
            "Model Number: 8 of 14 with model AverageValueNaive for Validation 2\n",
            "8 - AverageValueNaive with avg smape 114.97: \n",
            "Model Number: 9 of 14 with model ConstantNaive for Validation 2\n",
            "📈 9 - ConstantNaive with avg smape 50.84: \n",
            "Model Number: 10 of 14 with model ConstantNaive for Validation 2\n",
            "📈 10 - ConstantNaive with avg smape 50.63: \n",
            "Model Number: 11 of 14 with model LastValueNaive for Validation 2\n",
            "11 - LastValueNaive with avg smape 89.87: \n",
            "Model Number: 12 of 14 with model LastValueNaive for Validation 2\n",
            "12 - LastValueNaive with avg smape 52.22: \n",
            "Model Number: 13 of 14 with model ConstantNaive for Validation 2\n",
            "13 - ConstantNaive with avg smape 72.13: \n",
            "Model Number: 14 of 14 with model AverageValueNaive for Validation 2\n",
            "14 - AverageValueNaive with avg smape 115.83: \n",
            "Model Number: 1 with model Ensemble in generation 0 of Horizontal Ensembles\n"
          ]
        }
      ]
    },
    {
      "cell_type": "markdown",
      "source": [
        "Check the result of prediction."
      ],
      "metadata": {
        "id": "nTsaL7icDLNO"
      }
    },
    {
      "cell_type": "code",
      "source": [
        "future_start_date = snr_act.simulate(display=False).index.max() + timedelta(days=1)\n",
        "future_start_date"
      ],
      "metadata": {
        "colab": {
          "base_uri": "https://localhost:8080/"
        },
        "id": "2R7QdfsuD9mv",
        "outputId": "5cd27e40-03df-4589-e295-014b428d4b19"
      },
      "execution_count": 32,
      "outputs": [
        {
          "output_type": "execute_result",
          "data": {
            "text/plain": [
              "Timestamp('2022-08-11 00:00:00')"
            ]
          },
          "metadata": {},
          "execution_count": 32
        }
      ]
    },
    {
      "cell_type": "code",
      "source": [
        "df = snr_act.append().summary()\n",
        "df.loc[df[\"Start\"] >= future_start_date]"
      ],
      "metadata": {
        "colab": {
          "base_uri": "https://localhost:8080/",
          "height": 191
        },
        "id": "9ZNowSNPCr5C",
        "outputId": "2a96e3a4-7c39-460a-8ee2-24d5dcf2bff8"
      },
      "execution_count": 33,
      "outputs": [
        {
          "output_type": "execute_result",
          "data": {
            "text/plain": [
              "                     Start        End    Rt  theta     kappa       rho  \\\n",
              "Scenario  Phase                                                          \n",
              "Predicted 71st  2022-08-11 2022-09-09  1.14    0.0  0.000006  0.004872   \n",
              "\n",
              "                    sigma  alpha1 [-]  1/alpha2 [day]  1/beta [day]  \\\n",
              "Scenario  Phase                                                       \n",
              "Predicted 71st   0.004276         0.0           11440            14   \n",
              "\n",
              "                 1/gamma [day]          ODE  tau  \n",
              "Scenario  Phase                                   \n",
              "Predicted 71st              16  SIR-F Model   96  "
            ],
            "text/html": [
              "\n",
              "  <div id=\"df-bff1bc29-10eb-4c2c-b31d-5d2b0afdbecf\">\n",
              "    <div class=\"colab-df-container\">\n",
              "      <div>\n",
              "<style scoped>\n",
              "    .dataframe tbody tr th:only-of-type {\n",
              "        vertical-align: middle;\n",
              "    }\n",
              "\n",
              "    .dataframe tbody tr th {\n",
              "        vertical-align: top;\n",
              "    }\n",
              "\n",
              "    .dataframe thead th {\n",
              "        text-align: right;\n",
              "    }\n",
              "</style>\n",
              "<table border=\"1\" class=\"dataframe\">\n",
              "  <thead>\n",
              "    <tr style=\"text-align: right;\">\n",
              "      <th></th>\n",
              "      <th></th>\n",
              "      <th>Start</th>\n",
              "      <th>End</th>\n",
              "      <th>Rt</th>\n",
              "      <th>theta</th>\n",
              "      <th>kappa</th>\n",
              "      <th>rho</th>\n",
              "      <th>sigma</th>\n",
              "      <th>alpha1 [-]</th>\n",
              "      <th>1/alpha2 [day]</th>\n",
              "      <th>1/beta [day]</th>\n",
              "      <th>1/gamma [day]</th>\n",
              "      <th>ODE</th>\n",
              "      <th>tau</th>\n",
              "    </tr>\n",
              "    <tr>\n",
              "      <th>Scenario</th>\n",
              "      <th>Phase</th>\n",
              "      <th></th>\n",
              "      <th></th>\n",
              "      <th></th>\n",
              "      <th></th>\n",
              "      <th></th>\n",
              "      <th></th>\n",
              "      <th></th>\n",
              "      <th></th>\n",
              "      <th></th>\n",
              "      <th></th>\n",
              "      <th></th>\n",
              "      <th></th>\n",
              "      <th></th>\n",
              "    </tr>\n",
              "  </thead>\n",
              "  <tbody>\n",
              "    <tr>\n",
              "      <th>Predicted</th>\n",
              "      <th>71st</th>\n",
              "      <td>2022-08-11</td>\n",
              "      <td>2022-09-09</td>\n",
              "      <td>1.14</td>\n",
              "      <td>0.0</td>\n",
              "      <td>0.000006</td>\n",
              "      <td>0.004872</td>\n",
              "      <td>0.004276</td>\n",
              "      <td>0.0</td>\n",
              "      <td>11440</td>\n",
              "      <td>14</td>\n",
              "      <td>16</td>\n",
              "      <td>SIR-F Model</td>\n",
              "      <td>96</td>\n",
              "    </tr>\n",
              "  </tbody>\n",
              "</table>\n",
              "</div>\n",
              "      <button class=\"colab-df-convert\" onclick=\"convertToInteractive('df-bff1bc29-10eb-4c2c-b31d-5d2b0afdbecf')\"\n",
              "              title=\"Convert this dataframe to an interactive table.\"\n",
              "              style=\"display:none;\">\n",
              "        \n",
              "  <svg xmlns=\"http://www.w3.org/2000/svg\" height=\"24px\"viewBox=\"0 0 24 24\"\n",
              "       width=\"24px\">\n",
              "    <path d=\"M0 0h24v24H0V0z\" fill=\"none\"/>\n",
              "    <path d=\"M18.56 5.44l.94 2.06.94-2.06 2.06-.94-2.06-.94-.94-2.06-.94 2.06-2.06.94zm-11 1L8.5 8.5l.94-2.06 2.06-.94-2.06-.94L8.5 2.5l-.94 2.06-2.06.94zm10 10l.94 2.06.94-2.06 2.06-.94-2.06-.94-.94-2.06-.94 2.06-2.06.94z\"/><path d=\"M17.41 7.96l-1.37-1.37c-.4-.4-.92-.59-1.43-.59-.52 0-1.04.2-1.43.59L10.3 9.45l-7.72 7.72c-.78.78-.78 2.05 0 2.83L4 21.41c.39.39.9.59 1.41.59.51 0 1.02-.2 1.41-.59l7.78-7.78 2.81-2.81c.8-.78.8-2.07 0-2.86zM5.41 20L4 18.59l7.72-7.72 1.47 1.35L5.41 20z\"/>\n",
              "  </svg>\n",
              "      </button>\n",
              "      \n",
              "  <style>\n",
              "    .colab-df-container {\n",
              "      display:flex;\n",
              "      flex-wrap:wrap;\n",
              "      gap: 12px;\n",
              "    }\n",
              "\n",
              "    .colab-df-convert {\n",
              "      background-color: #E8F0FE;\n",
              "      border: none;\n",
              "      border-radius: 50%;\n",
              "      cursor: pointer;\n",
              "      display: none;\n",
              "      fill: #1967D2;\n",
              "      height: 32px;\n",
              "      padding: 0 0 0 0;\n",
              "      width: 32px;\n",
              "    }\n",
              "\n",
              "    .colab-df-convert:hover {\n",
              "      background-color: #E2EBFA;\n",
              "      box-shadow: 0px 1px 2px rgba(60, 64, 67, 0.3), 0px 1px 3px 1px rgba(60, 64, 67, 0.15);\n",
              "      fill: #174EA6;\n",
              "    }\n",
              "\n",
              "    [theme=dark] .colab-df-convert {\n",
              "      background-color: #3B4455;\n",
              "      fill: #D2E3FC;\n",
              "    }\n",
              "\n",
              "    [theme=dark] .colab-df-convert:hover {\n",
              "      background-color: #434B5C;\n",
              "      box-shadow: 0px 1px 3px 1px rgba(0, 0, 0, 0.15);\n",
              "      filter: drop-shadow(0px 1px 2px rgba(0, 0, 0, 0.3));\n",
              "      fill: #FFFFFF;\n",
              "    }\n",
              "  </style>\n",
              "\n",
              "      <script>\n",
              "        const buttonEl =\n",
              "          document.querySelector('#df-bff1bc29-10eb-4c2c-b31d-5d2b0afdbecf button.colab-df-convert');\n",
              "        buttonEl.style.display =\n",
              "          google.colab.kernel.accessAllowed ? 'block' : 'none';\n",
              "\n",
              "        async function convertToInteractive(key) {\n",
              "          const element = document.querySelector('#df-bff1bc29-10eb-4c2c-b31d-5d2b0afdbecf');\n",
              "          const dataTable =\n",
              "            await google.colab.kernel.invokeFunction('convertToInteractive',\n",
              "                                                     [key], {});\n",
              "          if (!dataTable) return;\n",
              "\n",
              "          const docLinkHtml = 'Like what you see? Visit the ' +\n",
              "            '<a target=\"_blank\" href=https://colab.research.google.com/notebooks/data_table.ipynb>data table notebook</a>'\n",
              "            + ' to learn more about interactive tables.';\n",
              "          element.innerHTML = '';\n",
              "          dataTable['output_type'] = 'display_data';\n",
              "          await google.colab.output.renderOutput(dataTable, element);\n",
              "          const docLink = document.createElement('div');\n",
              "          docLink.innerHTML = docLinkHtml;\n",
              "          element.appendChild(docLink);\n",
              "        }\n",
              "      </script>\n",
              "    </div>\n",
              "  </div>\n",
              "  "
            ]
          },
          "metadata": {},
          "execution_count": 33
        }
      ]
    },
    {
      "cell_type": "code",
      "source": [
        "snr_act.compare_param(\"Rt\", date_range=(future_start_date, None));"
      ],
      "metadata": {
        "colab": {
          "base_uri": "https://localhost:8080/",
          "height": 435
        },
        "id": "PCJq853GD10r",
        "outputId": "3ef1cac4-304f-4479-d58e-f56d898779b7"
      },
      "execution_count": 34,
      "outputs": [
        {
          "output_type": "display_data",
          "data": {
            "text/plain": [
              "<Figure size 648x432 with 1 Axes>"
            ],
            "image/png": "[encoded data removed]"
          },
          "metadata": {
            "needs_background": "light"
          }
        }
      ]
    },
    {
      "cell_type": "code",
      "source": [
        "snr_act.simulate(name=\"Predicted\");"
      ],
      "metadata": {
        "colab": {
          "base_uri": "https://localhost:8080/",
          "height": 435
        },
        "id": "IBabJudiGLjq",
        "outputId": "f366100f-86b1-47e6-f711-168b2683b5e0"
      },
      "execution_count": 35,
      "outputs": [
        {
          "output_type": "display_data",
          "data": {
            "text/plain": [
              "<Figure size 648x432 with 1 Axes>"
            ],
            "image/png": "[encoded data removed]"
          },
          "metadata": {
            "needs_background": "light"
          }
        }
      ]
    },
    {
      "cell_type": "code",
      "source": [
        "snr_act.describe()"
      ],
      "metadata": {
        "colab": {
          "base_uri": "https://localhost:8080/",
          "height": 112
        },
        "id": "knxtYh2aDJ09",
        "outputId": "887e31e1-ff08-4c21-988c-dc650085609b"
      },
      "execution_count": 44,
      "outputs": [
        {
          "output_type": "execute_result",
          "data": {
            "text/plain": [
              "           max(Infected) argmax(Infected)  Confirmed on 09Sep2022  \\\n",
              "Baseline         2793190       2022-01-18                22210400   \n",
              "Predicted        2793190       2022-01-18                22501716   \n",
              "\n",
              "           Infected on 09Sep2022  Fatal on 09Sep2022  \n",
              "Baseline                  444079              176983  \n",
              "Predicted                 566192              175975  "
            ],
            "text/html": [
              "\n",
              "  <div id=\"df-ed95f92d-d0bd-4555-ae96-4141b471fce9\">\n",
              "    <div class=\"colab-df-container\">\n",
              "      <div>\n",
              "<style scoped>\n",
              "    .dataframe tbody tr th:only-of-type {\n",
              "        vertical-align: middle;\n",
              "    }\n",
              "\n",
              "    .dataframe tbody tr th {\n",
              "        vertical-align: top;\n",
              "    }\n",
              "\n",
              "    .dataframe thead th {\n",
              "        text-align: right;\n",
              "    }\n",
              "</style>\n",
              "<table border=\"1\" class=\"dataframe\">\n",
              "  <thead>\n",
              "    <tr style=\"text-align: right;\">\n",
              "      <th></th>\n",
              "      <th>max(Infected)</th>\n",
              "      <th>argmax(Infected)</th>\n",
              "      <th>Confirmed on 09Sep2022</th>\n",
              "      <th>Infected on 09Sep2022</th>\n",
              "      <th>Fatal on 09Sep2022</th>\n",
              "    </tr>\n",
              "  </thead>\n",
              "  <tbody>\n",
              "    <tr>\n",
              "      <th>Baseline</th>\n",
              "      <td>2793190</td>\n",
              "      <td>2022-01-18</td>\n",
              "      <td>22210400</td>\n",
              "      <td>444079</td>\n",
              "      <td>176983</td>\n",
              "    </tr>\n",
              "    <tr>\n",
              "      <th>Predicted</th>\n",
              "      <td>2793190</td>\n",
              "      <td>2022-01-18</td>\n",
              "      <td>22501716</td>\n",
              "      <td>566192</td>\n",
              "      <td>175975</td>\n",
              "    </tr>\n",
              "  </tbody>\n",
              "</table>\n",
              "</div>\n",
              "      <button class=\"colab-df-convert\" onclick=\"convertToInteractive('df-ed95f92d-d0bd-4555-ae96-4141b471fce9')\"\n",
              "              title=\"Convert this dataframe to an interactive table.\"\n",
              "              style=\"display:none;\">\n",
              "        \n",
              "  <svg xmlns=\"http://www.w3.org/2000/svg\" height=\"24px\"viewBox=\"0 0 24 24\"\n",
              "       width=\"24px\">\n",
              "    <path d=\"M0 0h24v24H0V0z\" fill=\"none\"/>\n",
              "    <path d=\"M18.56 5.44l.94 2.06.94-2.06 2.06-.94-2.06-.94-.94-2.06-.94 2.06-2.06.94zm-11 1L8.5 8.5l.94-2.06 2.06-.94-2.06-.94L8.5 2.5l-.94 2.06-2.06.94zm10 10l.94 2.06.94-2.06 2.06-.94-2.06-.94-.94-2.06-.94 2.06-2.06.94z\"/><path d=\"M17.41 7.96l-1.37-1.37c-.4-.4-.92-.59-1.43-.59-.52 0-1.04.2-1.43.59L10.3 9.45l-7.72 7.72c-.78.78-.78 2.05 0 2.83L4 21.41c.39.39.9.59 1.41.59.51 0 1.02-.2 1.41-.59l7.78-7.78 2.81-2.81c.8-.78.8-2.07 0-2.86zM5.41 20L4 18.59l7.72-7.72 1.47 1.35L5.41 20z\"/>\n",
              "  </svg>\n",
              "      </button>\n",
              "      \n",
              "  <style>\n",
              "    .colab-df-container {\n",
              "      display:flex;\n",
              "      flex-wrap:wrap;\n",
              "      gap: 12px;\n",
              "    }\n",
              "\n",
              "    .colab-df-convert {\n",
              "      background-color: #E8F0FE;\n",
              "      border: none;\n",
              "      border-radius: 50%;\n",
              "      cursor: pointer;\n",
              "      display: none;\n",
              "      fill: #1967D2;\n",
              "      height: 32px;\n",
              "      padding: 0 0 0 0;\n",
              "      width: 32px;\n",
              "    }\n",
              "\n",
              "    .colab-df-convert:hover {\n",
              "      background-color: #E2EBFA;\n",
              "      box-shadow: 0px 1px 2px rgba(60, 64, 67, 0.3), 0px 1px 3px 1px rgba(60, 64, 67, 0.15);\n",
              "      fill: #174EA6;\n",
              "    }\n",
              "\n",
              "    [theme=dark] .colab-df-convert {\n",
              "      background-color: #3B4455;\n",
              "      fill: #D2E3FC;\n",
              "    }\n",
              "\n",
              "    [theme=dark] .colab-df-convert:hover {\n",
              "      background-color: #434B5C;\n",
              "      box-shadow: 0px 1px 3px 1px rgba(0, 0, 0, 0.15);\n",
              "      filter: drop-shadow(0px 1px 2px rgba(0, 0, 0, 0.3));\n",
              "      fill: #FFFFFF;\n",
              "    }\n",
              "  </style>\n",
              "\n",
              "      <script>\n",
              "        const buttonEl =\n",
              "          document.querySelector('#df-ed95f92d-d0bd-4555-ae96-4141b471fce9 button.colab-df-convert');\n",
              "        buttonEl.style.display =\n",
              "          google.colab.kernel.accessAllowed ? 'block' : 'none';\n",
              "\n",
              "        async function convertToInteractive(key) {\n",
              "          const element = document.querySelector('#df-ed95f92d-d0bd-4555-ae96-4141b471fce9');\n",
              "          const dataTable =\n",
              "            await google.colab.kernel.invokeFunction('convertToInteractive',\n",
              "                                                     [key], {});\n",
              "          if (!dataTable) return;\n",
              "\n",
              "          const docLinkHtml = 'Like what you see? Visit the ' +\n",
              "            '<a target=\"_blank\" href=https://colab.research.google.com/notebooks/data_table.ipynb>data table notebook</a>'\n",
              "            + ' to learn more about interactive tables.';\n",
              "          element.innerHTML = '';\n",
              "          dataTable['output_type'] = 'display_data';\n",
              "          await google.colab.output.renderOutput(dataTable, element);\n",
              "          const docLink = document.createElement('div');\n",
              "          docLink.innerHTML = docLinkHtml;\n",
              "          element.appendChild(docLink);\n",
              "        }\n",
              "      </script>\n",
              "    </div>\n",
              "  </div>\n",
              "  "
            ]
          },
          "metadata": {},
          "execution_count": 44
        }
      ]
    },
    {
      "cell_type": "code",
      "source": [
        "ymin_value = snr_act.compare_cases(\"Confirmed\", date_range=(future_start_date, None), display=False).Predicted.min()\n",
        "snr_act.compare_cases(\"Confirmed\", date_range=(future_start_date, None), ylim=(ymin_value, None));"
      ],
      "metadata": {
        "colab": {
          "base_uri": "https://localhost:8080/",
          "height": 435
        },
        "id": "8B7ggz6iDwJ3",
        "outputId": "f667c8db-fb9e-4a3c-eb38-8d65b9a65658"
      },
      "execution_count": 45,
      "outputs": [
        {
          "output_type": "display_data",
          "data": {
            "text/plain": [
              "<Figure size 648x432 with 1 Axes>"
            ],
            "image/png": "[encoded data removed]"
          },
          "metadata": {
            "needs_background": "light"
          }
        }
      ]
    },
    {
      "cell_type": "markdown",
      "source": [
        "Note that minimum value of y in the figure was changed to focus on the diferences of the scenarios."
      ],
      "metadata": {
        "id": "Fy2g1FFYLf5y"
      }
    },
    {
      "cell_type": "markdown",
      "source": [
        "Thank you!"
      ],
      "metadata": {
        "id": "89LdylLoGiCE"
      }
    }
  ]
}