{
  "cells": [
    {
      "cell_type": "markdown",
      "metadata": {
        "colab_type": "text",
        "id": "view-in-github"
      },
      "source": [
        "<a href=\"https://colab.research.google.com/github/lisphilar/covid19-sir/blob/master/example/04_phase_dependent.ipynb\" target=\"_parent\"><img src=\"https://colab.research.google.com/assets/colab-badge.svg\" alt=\"Open In Colab\"/></a>"
      ]
    },
    {
      "cell_type": "markdown",
      "metadata": {
        "id": "i-djSSWUOSGs"
      },
      "source": [
        "# Phase-dependent SIR models\n",
        "SIR-derived ODE models (SIR, SIR-D, SIR-F) assume that ODE parameter values are always constant. Can we apply this assumption to real data?\n",
        "\n",
        "[Kaggle: COVID-19 data with SIR model](https://www.kaggle.com/code/lisphilar/covid-19-data-with-sir-model/notebook) concluded this was No - ODE parameter values change with phases - because measures taken by people changed the situation of COVID-19 outbreak actually. Term \"phase\" means a sequential dates in which the parameters of SIR-derived models are constant. To remove fluctuations from analysis, \"time-dependent\" should be avoided.\n",
        "\n",
        "---\n",
        "\n",
        "The first section will show the dynamics of phase-dependent SIR models with sample data. \n",
        "\n",
        "The Kaggle notebook also suggested detailed steps of applying phase-dependent SIR models to actual data. The second section demonstrates how to divide actual time-series data to phases (time-series segmentation with \"S-R change point analysis\"). The third section is to estimate ODE parameter values of phases (\"ODE parameter estimation\").\n",
        "\n",
        "With fourth section, we will perform them with actual data of Tokyo/Japan as an example."
      ]
    },
    {
      "cell_type": "code",
      "execution_count": 1,
      "metadata": {
        "colab": {
          "base_uri": "https://localhost:8080/",
          "height": 507
        },
        "id": "xFEXKhrGTlzK",
        "outputId": "66cb9f76-7ffe-4391-c54b-ffb1ef6c17c6"
      },
      "outputs": [
        {
          "name": "stdout",
          "output_type": "stream",
          "text": [
            "  Installing build dependencies ... \u001b[?25l\u001b[?25hdone\n",
            "  Getting requirements to build wheel ... \u001b[?25l\u001b[?25hdone\n",
            "    Preparing wheel metadata ... \u001b[?25l\u001b[?25hdone\n",
            "\u001b[K     |████████████████████████████████| 308 kB 3.2 MB/s \n",
            "\u001b[K     |████████████████████████████████| 51 kB 4.8 MB/s \n",
            "\u001b[K     |████████████████████████████████| 62 kB 1.0 MB/s \n",
            "\u001b[K     |████████████████████████████████| 2.0 MB 36.8 MB/s \n",
            "\u001b[K     |████████████████████████████████| 1.0 MB 29.2 MB/s \n",
            "\u001b[K     |████████████████████████████████| 998 kB 33.7 MB/s \n",
            "\u001b[K     |████████████████████████████████| 235 kB 32.9 MB/s \n",
            "\u001b[K     |████████████████████████████████| 96.9 MB 84 kB/s \n",
            "\u001b[K     |████████████████████████████████| 167 kB 38.9 MB/s \n",
            "\u001b[K     |████████████████████████████████| 486 kB 32.0 MB/s \n",
            "\u001b[K     |████████████████████████████████| 6.3 MB 36.1 MB/s \n",
            "\u001b[K     |████████████████████████████████| 16.7 MB 36.5 MB/s \n",
            "\u001b[K     |████████████████████████████████| 81 kB 5.0 MB/s \n",
            "\u001b[K     |████████████████████████████████| 209 kB 39.6 MB/s \n",
            "\u001b[K     |████████████████████████████████| 78 kB 6.0 MB/s \n",
            "\u001b[K     |████████████████████████████████| 49 kB 4.7 MB/s \n",
            "\u001b[K     |████████████████████████████████| 112 kB 38.5 MB/s \n",
            "\u001b[K     |████████████████████████████████| 147 kB 36.8 MB/s \n",
            "\u001b[?25h  Building wheel for covsirphy (PEP 517) ... \u001b[?25l\u001b[?25hdone\n",
            "  Building wheel for country-converter (setup.py) ... \u001b[?25l\u001b[?25hdone\n",
            "  Building wheel for pyperclip (setup.py) ... \u001b[?25l\u001b[?25hdone\n"
          ]
        },
        {
          "data": {
            "text/html": [
              "<style type='text/css'>\n",
              ".datatable table.frame { margin-bottom: 0; }\n",
              ".datatable table.frame thead { border-bottom: none; }\n",
              ".datatable table.frame tr.coltypes td {  color: #FFFFFF;  line-height: 6px;  padding: 0 0.5em;}\n",
              ".datatable .bool    { background: #DDDD99; }\n",
              ".datatable .object  { background: #565656; }\n",
              ".datatable .int     { background: #5D9E5D; }\n",
              ".datatable .float   { background: #4040CC; }\n",
              ".datatable .str     { background: #CC4040; }\n",
              ".datatable .time    { background: #40CC40; }\n",
              ".datatable .row_index {  background: var(--jp-border-color3);  border-right: 1px solid var(--jp-border-color0);  color: var(--jp-ui-font-color3);  font-size: 9px;}\n",
              ".datatable .frame tbody td { text-align: left; }\n",
              ".datatable .frame tr.coltypes .row_index {  background: var(--jp-border-color0);}\n",
              ".datatable th:nth-child(2) { padding-left: 12px; }\n",
              ".datatable .hellipsis {  color: var(--jp-cell-editor-border-color);}\n",
              ".datatable .vellipsis {  background: var(--jp-layout-color0);  color: var(--jp-cell-editor-border-color);}\n",
              ".datatable .na {  color: var(--jp-cell-editor-border-color);  font-size: 80%;}\n",
              ".datatable .sp {  opacity: 0.25;}\n",
              ".datatable .footer { font-size: 9px; }\n",
              ".datatable .frame_dimensions {  background: var(--jp-border-color3);  border-top: 1px solid var(--jp-border-color0);  color: var(--jp-ui-font-color3);  display: inline-block;  opacity: 0.6;  padding: 1px 10px 1px 5px;}\n",
              "</style>\n"
            ],
            "text/plain": [
              "<IPython.core.display.HTML object>"
            ]
          },
          "metadata": {},
          "output_type": "display_data"
        },
        {
          "name": "stderr",
          "output_type": "stream",
          "text": [
            "/usr/local/lib/python3.7/dist-packages/statsmodels/tools/_testing.py:19: FutureWarning: pandas.util.testing is deprecated. Use the functions in the public API at pandas.testing instead.\n",
            "  import pandas.util.testing as tm\n"
          ]
        },
        {
          "data": {
            "application/vnd.google.colaboratory.intrinsic+json": {
              "type": "string"
            },
            "text/plain": [
              "'2.24.0-omicron'"
            ]
          },
          "execution_count": 1,
          "metadata": {},
          "output_type": "execute_result"
        }
      ],
      "source": [
        "from copy import deepcopy\n",
        "from pprint import pprint\n",
        "try:\n",
        "    import covsirphy as cs\n",
        "except ImportError:\n",
        "    !pip install --upgrade \"git+https://github.com/lisphilar/covid19-sir.git#egg=covsirphy\" -qq\n",
        "    import covsirphy as cs\n",
        "try:\n",
        "    import sympy\n",
        "except ImportError:\n",
        "    !pip install sympy\n",
        "    import sympy\n",
        "cs.__version__"
      ]
    },
    {
      "cell_type": "markdown",
      "metadata": {
        "id": "kR6yKAicSltb"
      },
      "source": [
        "## 1. Dynamics of phase-dependent SIR models\n",
        "Using `Dynamics` class, we will simulate phase-dependent SIR model with sample data (two phase) as an example.\n",
        "\n",
        "The 0th phase: 01Jan2022 - 28Feb2022, rho=0.2, sigma=0.075 (preset)  \n",
        "The 1st phase: 01Mar2022 - 30Jun2022, **rho=0.4**, sigma=0.075\n",
        "\n",
        "tau value: 1440 [min] (default)"
      ]
    },
    {
      "cell_type": "markdown",
      "metadata": {
        "id": "WB58I3HrTZ3O"
      },
      "source": [
        "### 1-1. Define the 0th phase\n",
        "As the first step, define the 0th (initial) phase with preset ODE parameter values."
      ]
    },
    {
      "cell_type": "code",
      "execution_count": 2,
      "metadata": {
        "colab": {
          "base_uri": "https://localhost:8080/",
          "height": 112
        },
        "id": "G619MsL1ORsV",
        "outputId": "a1bbe065-9112-48b2-e36e-6dab4fdf8d84"
      },
      "outputs": [
        {
          "data": {
            "text/html": [
              "\n",
              "  <div id=\"df-122e7895-ae11-430c-aac9-36176576b3f2\">\n",
              "    <div class=\"colab-df-container\">\n",
              "      <div>\n",
              "<style scoped>\n",
              "    .dataframe tbody tr th:only-of-type {\n",
              "        vertical-align: middle;\n",
              "    }\n",
              "\n",
              "    .dataframe tbody tr th {\n",
              "        vertical-align: top;\n",
              "    }\n",
              "\n",
              "    .dataframe thead th {\n",
              "        text-align: right;\n",
              "    }\n",
              "</style>\n",
              "<table border=\"1\" class=\"dataframe\">\n",
              "  <thead>\n",
              "    <tr style=\"text-align: right;\">\n",
              "      <th></th>\n",
              "      <th>Start</th>\n",
              "      <th>End</th>\n",
              "      <th>Rt</th>\n",
              "      <th>rho</th>\n",
              "      <th>sigma</th>\n",
              "      <th>1/beta [day]</th>\n",
              "      <th>1/gamma [day]</th>\n",
              "    </tr>\n",
              "    <tr>\n",
              "      <th>Phase</th>\n",
              "      <th></th>\n",
              "      <th></th>\n",
              "      <th></th>\n",
              "      <th></th>\n",
              "      <th></th>\n",
              "      <th></th>\n",
              "      <th></th>\n",
              "    </tr>\n",
              "  </thead>\n",
              "  <tbody>\n",
              "    <tr>\n",
              "      <th>0th</th>\n",
              "      <td>2022-01-01</td>\n",
              "      <td>2022-06-30</td>\n",
              "      <td>2.67</td>\n",
              "      <td>0.2</td>\n",
              "      <td>0.075</td>\n",
              "      <td>5</td>\n",
              "      <td>13</td>\n",
              "    </tr>\n",
              "  </tbody>\n",
              "</table>\n",
              "</div>\n",
              "      <button class=\"colab-df-convert\" onclick=\"convertToInteractive('df-122e7895-ae11-430c-aac9-36176576b3f2')\"\n",
              "              title=\"Convert this dataframe to an interactive table.\"\n",
              "              style=\"display:none;\">\n",
              "        \n",
              "  <svg xmlns=\"http://www.w3.org/2000/svg\" height=\"24px\"viewBox=\"0 0 24 24\"\n",
              "       width=\"24px\">\n",
              "    <path d=\"M0 0h24v24H0V0z\" fill=\"none\"/>\n",
              "    <path d=\"M18.56 5.44l.94 2.06.94-2.06 2.06-.94-2.06-.94-.94-2.06-.94 2.06-2.06.94zm-11 1L8.5 8.5l.94-2.06 2.06-.94-2.06-.94L8.5 2.5l-.94 2.06-2.06.94zm10 10l.94 2.06.94-2.06 2.06-.94-2.06-.94-.94-2.06-.94 2.06-2.06.94z\"/><path d=\"M17.41 7.96l-1.37-1.37c-.4-.4-.92-.59-1.43-.59-.52 0-1.04.2-1.43.59L10.3 9.45l-7.72 7.72c-.78.78-.78 2.05 0 2.83L4 21.41c.39.39.9.59 1.41.59.51 0 1.02-.2 1.41-.59l7.78-7.78 2.81-2.81c.8-.78.8-2.07 0-2.86zM5.41 20L4 18.59l7.72-7.72 1.47 1.35L5.41 20z\"/>\n",
              "  </svg>\n",
              "      </button>\n",
              "      \n",
              "  <style>\n",
              "    .colab-df-container {\n",
              "      display:flex;\n",
              "      flex-wrap:wrap;\n",
              "      gap: 12px;\n",
              "    }\n",
              "\n",
              "    .colab-df-convert {\n",
              "      background-color: #E8F0FE;\n",
              "      border: none;\n",
              "      border-radius: 50%;\n",
              "      cursor: pointer;\n",
              "      display: none;\n",
              "      fill: #1967D2;\n",
              "      height: 32px;\n",
              "      padding: 0 0 0 0;\n",
              "      width: 32px;\n",
              "    }\n",
              "\n",
              "    .colab-df-convert:hover {\n",
              "      background-color: #E2EBFA;\n",
              "      box-shadow: 0px 1px 2px rgba(60, 64, 67, 0.3), 0px 1px 3px 1px rgba(60, 64, 67, 0.15);\n",
              "      fill: #174EA6;\n",
              "    }\n",
              "\n",
              "    [theme=dark] .colab-df-convert {\n",
              "      background-color: #3B4455;\n",
              "      fill: #D2E3FC;\n",
              "    }\n",
              "\n",
              "    [theme=dark] .colab-df-convert:hover {\n",
              "      background-color: #434B5C;\n",
              "      box-shadow: 0px 1px 3px 1px rgba(0, 0, 0, 0.15);\n",
              "      filter: drop-shadow(0px 1px 2px rgba(0, 0, 0, 0.3));\n",
              "      fill: #FFFFFF;\n",
              "    }\n",
              "  </style>\n",
              "\n",
              "      <script>\n",
              "        const buttonEl =\n",
              "          document.querySelector('#df-122e7895-ae11-430c-aac9-36176576b3f2 button.colab-df-convert');\n",
              "        buttonEl.style.display =\n",
              "          google.colab.kernel.accessAllowed ? 'block' : 'none';\n",
              "\n",
              "        async function convertToInteractive(key) {\n",
              "          const element = document.querySelector('#df-122e7895-ae11-430c-aac9-36176576b3f2');\n",
              "          const dataTable =\n",
              "            await google.colab.kernel.invokeFunction('convertToInteractive',\n",
              "                                                     [key], {});\n",
              "          if (!dataTable) return;\n",
              "\n",
              "          const docLinkHtml = 'Like what you see? Visit the ' +\n",
              "            '<a target=\"_blank\" href=https://colab.research.google.com/notebooks/data_table.ipynb>data table notebook</a>'\n",
              "            + ' to learn more about interactive tables.';\n",
              "          element.innerHTML = '';\n",
              "          dataTable['output_type'] = 'display_data';\n",
              "          await google.colab.output.renderOutput(dataTable, element);\n",
              "          const docLink = document.createElement('div');\n",
              "          docLink.innerHTML = docLinkHtml;\n",
              "          element.appendChild(docLink);\n",
              "        }\n",
              "      </script>\n",
              "    </div>\n",
              "  </div>\n",
              "  "
            ],
            "text/plain": [
              "           Start        End    Rt  rho  sigma  1/beta [day]  1/gamma [day]\n",
              "Phase                                                                     \n",
              "0th   2022-01-01 2022-06-30  2.67  0.2  0.075             5             13"
            ]
          },
          "execution_count": 2,
          "metadata": {},
          "output_type": "execute_result"
        }
      ],
      "source": [
        "dyn = cs.Dynamics.from_sample(cs.SIRModel, date_range=(\"01Jan2022\", \"30Jun2022\"), tau=1440)\n",
        "# Show summary\n",
        "dyn.summary()"
      ]
    },
    {
      "cell_type": "markdown",
      "metadata": {
        "id": "-NSzHSEmVAnh"
      },
      "source": [
        "### 1-2. Define the 1st phase\n",
        "Get the current settings of initial values of variables and ODE parameter values as a `pandas.DataFrame`. Then, edit it and register it to the instance."
      ]
    },
    {
      "cell_type": "code",
      "execution_count": 3,
      "metadata": {
        "colab": {
          "base_uri": "https://localhost:8080/",
          "height": 455
        },
        "id": "2hYtsbSaVX3z",
        "outputId": "bb5b88e3-06d7-44b6-b049-7299eb903bd6"
      },
      "outputs": [
        {
          "data": {
            "text/html": [
              "\n",
              "  <div id=\"df-f8a0e7ff-8cbe-4995-929d-789b57cbec25\">\n",
              "    <div class=\"colab-df-container\">\n",
              "      <div>\n",
              "<style scoped>\n",
              "    .dataframe tbody tr th:only-of-type {\n",
              "        vertical-align: middle;\n",
              "    }\n",
              "\n",
              "    .dataframe tbody tr th {\n",
              "        vertical-align: top;\n",
              "    }\n",
              "\n",
              "    .dataframe thead th {\n",
              "        text-align: right;\n",
              "    }\n",
              "</style>\n",
              "<table border=\"1\" class=\"dataframe\">\n",
              "  <thead>\n",
              "    <tr style=\"text-align: right;\">\n",
              "      <th></th>\n",
              "      <th>Susceptible</th>\n",
              "      <th>Infected</th>\n",
              "      <th>Recovered</th>\n",
              "      <th>Fatal</th>\n",
              "      <th>rho</th>\n",
              "      <th>sigma</th>\n",
              "    </tr>\n",
              "    <tr>\n",
              "      <th>Date</th>\n",
              "      <th></th>\n",
              "      <th></th>\n",
              "      <th></th>\n",
              "      <th></th>\n",
              "      <th></th>\n",
              "      <th></th>\n",
              "    </tr>\n",
              "  </thead>\n",
              "  <tbody>\n",
              "    <tr>\n",
              "      <th>2022-01-01</th>\n",
              "      <td>999000</td>\n",
              "      <td>1000</td>\n",
              "      <td>0</td>\n",
              "      <td>0</td>\n",
              "      <td>0.2</td>\n",
              "      <td>0.075</td>\n",
              "    </tr>\n",
              "    <tr>\n",
              "      <th>2022-01-02</th>\n",
              "      <td>&lt;NA&gt;</td>\n",
              "      <td>&lt;NA&gt;</td>\n",
              "      <td>&lt;NA&gt;</td>\n",
              "      <td>&lt;NA&gt;</td>\n",
              "      <td>&lt;NA&gt;</td>\n",
              "      <td>&lt;NA&gt;</td>\n",
              "    </tr>\n",
              "    <tr>\n",
              "      <th>2022-01-03</th>\n",
              "      <td>&lt;NA&gt;</td>\n",
              "      <td>&lt;NA&gt;</td>\n",
              "      <td>&lt;NA&gt;</td>\n",
              "      <td>&lt;NA&gt;</td>\n",
              "      <td>&lt;NA&gt;</td>\n",
              "      <td>&lt;NA&gt;</td>\n",
              "    </tr>\n",
              "    <tr>\n",
              "      <th>2022-01-04</th>\n",
              "      <td>&lt;NA&gt;</td>\n",
              "      <td>&lt;NA&gt;</td>\n",
              "      <td>&lt;NA&gt;</td>\n",
              "      <td>&lt;NA&gt;</td>\n",
              "      <td>&lt;NA&gt;</td>\n",
              "      <td>&lt;NA&gt;</td>\n",
              "    </tr>\n",
              "    <tr>\n",
              "      <th>2022-01-05</th>\n",
              "      <td>&lt;NA&gt;</td>\n",
              "      <td>&lt;NA&gt;</td>\n",
              "      <td>&lt;NA&gt;</td>\n",
              "      <td>&lt;NA&gt;</td>\n",
              "      <td>&lt;NA&gt;</td>\n",
              "      <td>&lt;NA&gt;</td>\n",
              "    </tr>\n",
              "    <tr>\n",
              "      <th>...</th>\n",
              "      <td>...</td>\n",
              "      <td>...</td>\n",
              "      <td>...</td>\n",
              "      <td>...</td>\n",
              "      <td>...</td>\n",
              "      <td>...</td>\n",
              "    </tr>\n",
              "    <tr>\n",
              "      <th>2022-06-26</th>\n",
              "      <td>&lt;NA&gt;</td>\n",
              "      <td>&lt;NA&gt;</td>\n",
              "      <td>&lt;NA&gt;</td>\n",
              "      <td>&lt;NA&gt;</td>\n",
              "      <td>&lt;NA&gt;</td>\n",
              "      <td>&lt;NA&gt;</td>\n",
              "    </tr>\n",
              "    <tr>\n",
              "      <th>2022-06-27</th>\n",
              "      <td>&lt;NA&gt;</td>\n",
              "      <td>&lt;NA&gt;</td>\n",
              "      <td>&lt;NA&gt;</td>\n",
              "      <td>&lt;NA&gt;</td>\n",
              "      <td>&lt;NA&gt;</td>\n",
              "      <td>&lt;NA&gt;</td>\n",
              "    </tr>\n",
              "    <tr>\n",
              "      <th>2022-06-28</th>\n",
              "      <td>&lt;NA&gt;</td>\n",
              "      <td>&lt;NA&gt;</td>\n",
              "      <td>&lt;NA&gt;</td>\n",
              "      <td>&lt;NA&gt;</td>\n",
              "      <td>&lt;NA&gt;</td>\n",
              "      <td>&lt;NA&gt;</td>\n",
              "    </tr>\n",
              "    <tr>\n",
              "      <th>2022-06-29</th>\n",
              "      <td>&lt;NA&gt;</td>\n",
              "      <td>&lt;NA&gt;</td>\n",
              "      <td>&lt;NA&gt;</td>\n",
              "      <td>&lt;NA&gt;</td>\n",
              "      <td>&lt;NA&gt;</td>\n",
              "      <td>&lt;NA&gt;</td>\n",
              "    </tr>\n",
              "    <tr>\n",
              "      <th>2022-06-30</th>\n",
              "      <td>&lt;NA&gt;</td>\n",
              "      <td>&lt;NA&gt;</td>\n",
              "      <td>&lt;NA&gt;</td>\n",
              "      <td>&lt;NA&gt;</td>\n",
              "      <td>&lt;NA&gt;</td>\n",
              "      <td>&lt;NA&gt;</td>\n",
              "    </tr>\n",
              "  </tbody>\n",
              "</table>\n",
              "<p>181 rows × 6 columns</p>\n",
              "</div>\n",
              "      <button class=\"colab-df-convert\" onclick=\"convertToInteractive('df-f8a0e7ff-8cbe-4995-929d-789b57cbec25')\"\n",
              "              title=\"Convert this dataframe to an interactive table.\"\n",
              "              style=\"display:none;\">\n",
              "        \n",
              "  <svg xmlns=\"http://www.w3.org/2000/svg\" height=\"24px\"viewBox=\"0 0 24 24\"\n",
              "       width=\"24px\">\n",
              "    <path d=\"M0 0h24v24H0V0z\" fill=\"none\"/>\n",
              "    <path d=\"M18.56 5.44l.94 2.06.94-2.06 2.06-.94-2.06-.94-.94-2.06-.94 2.06-2.06.94zm-11 1L8.5 8.5l.94-2.06 2.06-.94-2.06-.94L8.5 2.5l-.94 2.06-2.06.94zm10 10l.94 2.06.94-2.06 2.06-.94-2.06-.94-.94-2.06-.94 2.06-2.06.94z\"/><path d=\"M17.41 7.96l-1.37-1.37c-.4-.4-.92-.59-1.43-.59-.52 0-1.04.2-1.43.59L10.3 9.45l-7.72 7.72c-.78.78-.78 2.05 0 2.83L4 21.41c.39.39.9.59 1.41.59.51 0 1.02-.2 1.41-.59l7.78-7.78 2.81-2.81c.8-.78.8-2.07 0-2.86zM5.41 20L4 18.59l7.72-7.72 1.47 1.35L5.41 20z\"/>\n",
              "  </svg>\n",
              "      </button>\n",
              "      \n",
              "  <style>\n",
              "    .colab-df-container {\n",
              "      display:flex;\n",
              "      flex-wrap:wrap;\n",
              "      gap: 12px;\n",
              "    }\n",
              "\n",
              "    .colab-df-convert {\n",
              "      background-color: #E8F0FE;\n",
              "      border: none;\n",
              "      border-radius: 50%;\n",
              "      cursor: pointer;\n",
              "      display: none;\n",
              "      fill: #1967D2;\n",
              "      height: 32px;\n",
              "      padding: 0 0 0 0;\n",
              "      width: 32px;\n",
              "    }\n",
              "\n",
              "    .colab-df-convert:hover {\n",
              "      background-color: #E2EBFA;\n",
              "      box-shadow: 0px 1px 2px rgba(60, 64, 67, 0.3), 0px 1px 3px 1px rgba(60, 64, 67, 0.15);\n",
              "      fill: #174EA6;\n",
              "    }\n",
              "\n",
              "    [theme=dark] .colab-df-convert {\n",
              "      background-color: #3B4455;\n",
              "      fill: #D2E3FC;\n",
              "    }\n",
              "\n",
              "    [theme=dark] .colab-df-convert:hover {\n",
              "      background-color: #434B5C;\n",
              "      box-shadow: 0px 1px 3px 1px rgba(0, 0, 0, 0.15);\n",
              "      filter: drop-shadow(0px 1px 2px rgba(0, 0, 0, 0.3));\n",
              "      fill: #FFFFFF;\n",
              "    }\n",
              "  </style>\n",
              "\n",
              "      <script>\n",
              "        const buttonEl =\n",
              "          document.querySelector('#df-f8a0e7ff-8cbe-4995-929d-789b57cbec25 button.colab-df-convert');\n",
              "        buttonEl.style.display =\n",
              "          google.colab.kernel.accessAllowed ? 'block' : 'none';\n",
              "\n",
              "        async function convertToInteractive(key) {\n",
              "          const element = document.querySelector('#df-f8a0e7ff-8cbe-4995-929d-789b57cbec25');\n",
              "          const dataTable =\n",
              "            await google.colab.kernel.invokeFunction('convertToInteractive',\n",
              "                                                     [key], {});\n",
              "          if (!dataTable) return;\n",
              "\n",
              "          const docLinkHtml = 'Like what you see? Visit the ' +\n",
              "            '<a target=\"_blank\" href=https://colab.research.google.com/notebooks/data_table.ipynb>data table notebook</a>'\n",
              "            + ' to learn more about interactive tables.';\n",
              "          element.innerHTML = '';\n",
              "          dataTable['output_type'] = 'display_data';\n",
              "          await google.colab.output.renderOutput(dataTable, element);\n",
              "          const docLink = document.createElement('div');\n",
              "          docLink.innerHTML = docLinkHtml;\n",
              "          element.appendChild(docLink);\n",
              "        }\n",
              "      </script>\n",
              "    </div>\n",
              "  </div>\n",
              "  "
            ],
            "text/plain": [
              "            Susceptible  Infected  Recovered  Fatal   rho  sigma\n",
              "Date                                                            \n",
              "2022-01-01       999000      1000          0      0   0.2  0.075\n",
              "2022-01-02         <NA>      <NA>       <NA>   <NA>  <NA>   <NA>\n",
              "2022-01-03         <NA>      <NA>       <NA>   <NA>  <NA>   <NA>\n",
              "2022-01-04         <NA>      <NA>       <NA>   <NA>  <NA>   <NA>\n",
              "2022-01-05         <NA>      <NA>       <NA>   <NA>  <NA>   <NA>\n",
              "...                 ...       ...        ...    ...   ...    ...\n",
              "2022-06-26         <NA>      <NA>       <NA>   <NA>  <NA>   <NA>\n",
              "2022-06-27         <NA>      <NA>       <NA>   <NA>  <NA>   <NA>\n",
              "2022-06-28         <NA>      <NA>       <NA>   <NA>  <NA>   <NA>\n",
              "2022-06-29         <NA>      <NA>       <NA>   <NA>  <NA>   <NA>\n",
              "2022-06-30         <NA>      <NA>       <NA>   <NA>  <NA>   <NA>\n",
              "\n",
              "[181 rows x 6 columns]"
            ]
          },
          "execution_count": 3,
          "metadata": {},
          "output_type": "execute_result"
        }
      ],
      "source": [
        "before_df = dyn.register()\n",
        "before_df"
      ]
    },
    {
      "cell_type": "markdown",
      "metadata": {
        "id": "2y5M1xMIVi4d"
      },
      "source": [
        "Without NAs:"
      ]
    },
    {
      "cell_type": "code",
      "execution_count": 4,
      "metadata": {
        "colab": {
          "base_uri": "https://localhost:8080/",
          "height": 112
        },
        "id": "JqggdENIVlO5",
        "outputId": "cb49af21-9823-4ea1-b1f9-38ce16e42809"
      },
      "outputs": [
        {
          "data": {
            "text/html": [
              "\n",
              "  <div id=\"df-70e49191-af48-4928-b84b-5ae5bab38554\">\n",
              "    <div class=\"colab-df-container\">\n",
              "      <div>\n",
              "<style scoped>\n",
              "    .dataframe tbody tr th:only-of-type {\n",
              "        vertical-align: middle;\n",
              "    }\n",
              "\n",
              "    .dataframe tbody tr th {\n",
              "        vertical-align: top;\n",
              "    }\n",
              "\n",
              "    .dataframe thead th {\n",
              "        text-align: right;\n",
              "    }\n",
              "</style>\n",
              "<table border=\"1\" class=\"dataframe\">\n",
              "  <thead>\n",
              "    <tr style=\"text-align: right;\">\n",
              "      <th></th>\n",
              "      <th>Susceptible</th>\n",
              "      <th>Infected</th>\n",
              "      <th>Recovered</th>\n",
              "      <th>Fatal</th>\n",
              "      <th>rho</th>\n",
              "      <th>sigma</th>\n",
              "    </tr>\n",
              "    <tr>\n",
              "      <th>Date</th>\n",
              "      <th></th>\n",
              "      <th></th>\n",
              "      <th></th>\n",
              "      <th></th>\n",
              "      <th></th>\n",
              "      <th></th>\n",
              "    </tr>\n",
              "  </thead>\n",
              "  <tbody>\n",
              "    <tr>\n",
              "      <th>2022-01-01</th>\n",
              "      <td>999000</td>\n",
              "      <td>1000</td>\n",
              "      <td>0</td>\n",
              "      <td>0</td>\n",
              "      <td>0.2</td>\n",
              "      <td>0.075</td>\n",
              "    </tr>\n",
              "  </tbody>\n",
              "</table>\n",
              "</div>\n",
              "      <button class=\"colab-df-convert\" onclick=\"convertToInteractive('df-70e49191-af48-4928-b84b-5ae5bab38554')\"\n",
              "              title=\"Convert this dataframe to an interactive table.\"\n",
              "              style=\"display:none;\">\n",
              "        \n",
              "  <svg xmlns=\"http://www.w3.org/2000/svg\" height=\"24px\"viewBox=\"0 0 24 24\"\n",
              "       width=\"24px\">\n",
              "    <path d=\"M0 0h24v24H0V0z\" fill=\"none\"/>\n",
              "    <path d=\"M18.56 5.44l.94 2.06.94-2.06 2.06-.94-2.06-.94-.94-2.06-.94 2.06-2.06.94zm-11 1L8.5 8.5l.94-2.06 2.06-.94-2.06-.94L8.5 2.5l-.94 2.06-2.06.94zm10 10l.94 2.06.94-2.06 2.06-.94-2.06-.94-.94-2.06-.94 2.06-2.06.94z\"/><path d=\"M17.41 7.96l-1.37-1.37c-.4-.4-.92-.59-1.43-.59-.52 0-1.04.2-1.43.59L10.3 9.45l-7.72 7.72c-.78.78-.78 2.05 0 2.83L4 21.41c.39.39.9.59 1.41.59.51 0 1.02-.2 1.41-.59l7.78-7.78 2.81-2.81c.8-.78.8-2.07 0-2.86zM5.41 20L4 18.59l7.72-7.72 1.47 1.35L5.41 20z\"/>\n",
              "  </svg>\n",
              "      </button>\n",
              "      \n",
              "  <style>\n",
              "    .colab-df-container {\n",
              "      display:flex;\n",
              "      flex-wrap:wrap;\n",
              "      gap: 12px;\n",
              "    }\n",
              "\n",
              "    .colab-df-convert {\n",
              "      background-color: #E8F0FE;\n",
              "      border: none;\n",
              "      border-radius: 50%;\n",
              "      cursor: pointer;\n",
              "      display: none;\n",
              "      fill: #1967D2;\n",
              "      height: 32px;\n",
              "      padding: 0 0 0 0;\n",
              "      width: 32px;\n",
              "    }\n",
              "\n",
              "    .colab-df-convert:hover {\n",
              "      background-color: #E2EBFA;\n",
              "      box-shadow: 0px 1px 2px rgba(60, 64, 67, 0.3), 0px 1px 3px 1px rgba(60, 64, 67, 0.15);\n",
              "      fill: #174EA6;\n",
              "    }\n",
              "\n",
              "    [theme=dark] .colab-df-convert {\n",
              "      background-color: #3B4455;\n",
              "      fill: #D2E3FC;\n",
              "    }\n",
              "\n",
              "    [theme=dark] .colab-df-convert:hover {\n",
              "      background-color: #434B5C;\n",
              "      box-shadow: 0px 1px 3px 1px rgba(0, 0, 0, 0.15);\n",
              "      filter: drop-shadow(0px 1px 2px rgba(0, 0, 0, 0.3));\n",
              "      fill: #FFFFFF;\n",
              "    }\n",
              "  </style>\n",
              "\n",
              "      <script>\n",
              "        const buttonEl =\n",
              "          document.querySelector('#df-70e49191-af48-4928-b84b-5ae5bab38554 button.colab-df-convert');\n",
              "        buttonEl.style.display =\n",
              "          google.colab.kernel.accessAllowed ? 'block' : 'none';\n",
              "\n",
              "        async function convertToInteractive(key) {\n",
              "          const element = document.querySelector('#df-70e49191-af48-4928-b84b-5ae5bab38554');\n",
              "          const dataTable =\n",
              "            await google.colab.kernel.invokeFunction('convertToInteractive',\n",
              "                                                     [key], {});\n",
              "          if (!dataTable) return;\n",
              "\n",
              "          const docLinkHtml = 'Like what you see? Visit the ' +\n",
              "            '<a target=\"_blank\" href=https://colab.research.google.com/notebooks/data_table.ipynb>data table notebook</a>'\n",
              "            + ' to learn more about interactive tables.';\n",
              "          element.innerHTML = '';\n",
              "          dataTable['output_type'] = 'display_data';\n",
              "          await google.colab.output.renderOutput(dataTable, element);\n",
              "          const docLink = document.createElement('div');\n",
              "          docLink.innerHTML = docLinkHtml;\n",
              "          element.appendChild(docLink);\n",
              "        }\n",
              "      </script>\n",
              "    </div>\n",
              "  </div>\n",
              "  "
            ],
            "text/plain": [
              "            Susceptible  Infected  Recovered  Fatal  rho  sigma\n",
              "Date                                                           \n",
              "2022-01-01       999000      1000          0      0  0.2  0.075"
            ]
          },
          "execution_count": 4,
          "metadata": {},
          "output_type": "execute_result"
        }
      ],
      "source": [
        "before_df.dropna(how=\"all\")"
      ]
    },
    {
      "cell_type": "markdown",
      "metadata": {
        "id": "_zdacZ-pVi-F"
      },
      "source": [
        "Edit the dataframe to set the ODE parameter values of the 1st phase."
      ]
    },
    {
      "cell_type": "code",
      "execution_count": 5,
      "metadata": {
        "colab": {
          "base_uri": "https://localhost:8080/",
          "height": 455
        },
        "id": "xAtyvN_SWJcx",
        "outputId": "6770595f-8a88-4808-8d8c-689db65bb696"
      },
      "outputs": [
        {
          "data": {
            "text/html": [
              "\n",
              "  <div id=\"df-737ee151-34ef-436f-9871-b3b75276c5dc\">\n",
              "    <div class=\"colab-df-container\">\n",
              "      <div>\n",
              "<style scoped>\n",
              "    .dataframe tbody tr th:only-of-type {\n",
              "        vertical-align: middle;\n",
              "    }\n",
              "\n",
              "    .dataframe tbody tr th {\n",
              "        vertical-align: top;\n",
              "    }\n",
              "\n",
              "    .dataframe thead th {\n",
              "        text-align: right;\n",
              "    }\n",
              "</style>\n",
              "<table border=\"1\" class=\"dataframe\">\n",
              "  <thead>\n",
              "    <tr style=\"text-align: right;\">\n",
              "      <th></th>\n",
              "      <th>Susceptible</th>\n",
              "      <th>Infected</th>\n",
              "      <th>Recovered</th>\n",
              "      <th>Fatal</th>\n",
              "      <th>rho</th>\n",
              "      <th>sigma</th>\n",
              "    </tr>\n",
              "    <tr>\n",
              "      <th>Date</th>\n",
              "      <th></th>\n",
              "      <th></th>\n",
              "      <th></th>\n",
              "      <th></th>\n",
              "      <th></th>\n",
              "      <th></th>\n",
              "    </tr>\n",
              "  </thead>\n",
              "  <tbody>\n",
              "    <tr>\n",
              "      <th>2022-01-01</th>\n",
              "      <td>999000</td>\n",
              "      <td>1000</td>\n",
              "      <td>0</td>\n",
              "      <td>0</td>\n",
              "      <td>0.2</td>\n",
              "      <td>0.075</td>\n",
              "    </tr>\n",
              "    <tr>\n",
              "      <th>2022-01-02</th>\n",
              "      <td>&lt;NA&gt;</td>\n",
              "      <td>&lt;NA&gt;</td>\n",
              "      <td>&lt;NA&gt;</td>\n",
              "      <td>&lt;NA&gt;</td>\n",
              "      <td>&lt;NA&gt;</td>\n",
              "      <td>&lt;NA&gt;</td>\n",
              "    </tr>\n",
              "    <tr>\n",
              "      <th>2022-01-03</th>\n",
              "      <td>&lt;NA&gt;</td>\n",
              "      <td>&lt;NA&gt;</td>\n",
              "      <td>&lt;NA&gt;</td>\n",
              "      <td>&lt;NA&gt;</td>\n",
              "      <td>&lt;NA&gt;</td>\n",
              "      <td>&lt;NA&gt;</td>\n",
              "    </tr>\n",
              "    <tr>\n",
              "      <th>2022-01-04</th>\n",
              "      <td>&lt;NA&gt;</td>\n",
              "      <td>&lt;NA&gt;</td>\n",
              "      <td>&lt;NA&gt;</td>\n",
              "      <td>&lt;NA&gt;</td>\n",
              "      <td>&lt;NA&gt;</td>\n",
              "      <td>&lt;NA&gt;</td>\n",
              "    </tr>\n",
              "    <tr>\n",
              "      <th>2022-01-05</th>\n",
              "      <td>&lt;NA&gt;</td>\n",
              "      <td>&lt;NA&gt;</td>\n",
              "      <td>&lt;NA&gt;</td>\n",
              "      <td>&lt;NA&gt;</td>\n",
              "      <td>&lt;NA&gt;</td>\n",
              "      <td>&lt;NA&gt;</td>\n",
              "    </tr>\n",
              "    <tr>\n",
              "      <th>...</th>\n",
              "      <td>...</td>\n",
              "      <td>...</td>\n",
              "      <td>...</td>\n",
              "      <td>...</td>\n",
              "      <td>...</td>\n",
              "      <td>...</td>\n",
              "    </tr>\n",
              "    <tr>\n",
              "      <th>2022-06-26</th>\n",
              "      <td>&lt;NA&gt;</td>\n",
              "      <td>&lt;NA&gt;</td>\n",
              "      <td>&lt;NA&gt;</td>\n",
              "      <td>&lt;NA&gt;</td>\n",
              "      <td>&lt;NA&gt;</td>\n",
              "      <td>&lt;NA&gt;</td>\n",
              "    </tr>\n",
              "    <tr>\n",
              "      <th>2022-06-27</th>\n",
              "      <td>&lt;NA&gt;</td>\n",
              "      <td>&lt;NA&gt;</td>\n",
              "      <td>&lt;NA&gt;</td>\n",
              "      <td>&lt;NA&gt;</td>\n",
              "      <td>&lt;NA&gt;</td>\n",
              "      <td>&lt;NA&gt;</td>\n",
              "    </tr>\n",
              "    <tr>\n",
              "      <th>2022-06-28</th>\n",
              "      <td>&lt;NA&gt;</td>\n",
              "      <td>&lt;NA&gt;</td>\n",
              "      <td>&lt;NA&gt;</td>\n",
              "      <td>&lt;NA&gt;</td>\n",
              "      <td>&lt;NA&gt;</td>\n",
              "      <td>&lt;NA&gt;</td>\n",
              "    </tr>\n",
              "    <tr>\n",
              "      <th>2022-06-29</th>\n",
              "      <td>&lt;NA&gt;</td>\n",
              "      <td>&lt;NA&gt;</td>\n",
              "      <td>&lt;NA&gt;</td>\n",
              "      <td>&lt;NA&gt;</td>\n",
              "      <td>&lt;NA&gt;</td>\n",
              "      <td>&lt;NA&gt;</td>\n",
              "    </tr>\n",
              "    <tr>\n",
              "      <th>2022-06-30</th>\n",
              "      <td>&lt;NA&gt;</td>\n",
              "      <td>&lt;NA&gt;</td>\n",
              "      <td>&lt;NA&gt;</td>\n",
              "      <td>&lt;NA&gt;</td>\n",
              "      <td>&lt;NA&gt;</td>\n",
              "      <td>&lt;NA&gt;</td>\n",
              "    </tr>\n",
              "  </tbody>\n",
              "</table>\n",
              "<p>181 rows × 6 columns</p>\n",
              "</div>\n",
              "      <button class=\"colab-df-convert\" onclick=\"convertToInteractive('df-737ee151-34ef-436f-9871-b3b75276c5dc')\"\n",
              "              title=\"Convert this dataframe to an interactive table.\"\n",
              "              style=\"display:none;\">\n",
              "        \n",
              "  <svg xmlns=\"http://www.w3.org/2000/svg\" height=\"24px\"viewBox=\"0 0 24 24\"\n",
              "       width=\"24px\">\n",
              "    <path d=\"M0 0h24v24H0V0z\" fill=\"none\"/>\n",
              "    <path d=\"M18.56 5.44l.94 2.06.94-2.06 2.06-.94-2.06-.94-.94-2.06-.94 2.06-2.06.94zm-11 1L8.5 8.5l.94-2.06 2.06-.94-2.06-.94L8.5 2.5l-.94 2.06-2.06.94zm10 10l.94 2.06.94-2.06 2.06-.94-2.06-.94-.94-2.06-.94 2.06-2.06.94z\"/><path d=\"M17.41 7.96l-1.37-1.37c-.4-.4-.92-.59-1.43-.59-.52 0-1.04.2-1.43.59L10.3 9.45l-7.72 7.72c-.78.78-.78 2.05 0 2.83L4 21.41c.39.39.9.59 1.41.59.51 0 1.02-.2 1.41-.59l7.78-7.78 2.81-2.81c.8-.78.8-2.07 0-2.86zM5.41 20L4 18.59l7.72-7.72 1.47 1.35L5.41 20z\"/>\n",
              "  </svg>\n",
              "      </button>\n",
              "      \n",
              "  <style>\n",
              "    .colab-df-container {\n",
              "      display:flex;\n",
              "      flex-wrap:wrap;\n",
              "      gap: 12px;\n",
              "    }\n",
              "\n",
              "    .colab-df-convert {\n",
              "      background-color: #E8F0FE;\n",
              "      border: none;\n",
              "      border-radius: 50%;\n",
              "      cursor: pointer;\n",
              "      display: none;\n",
              "      fill: #1967D2;\n",
              "      height: 32px;\n",
              "      padding: 0 0 0 0;\n",
              "      width: 32px;\n",
              "    }\n",
              "\n",
              "    .colab-df-convert:hover {\n",
              "      background-color: #E2EBFA;\n",
              "      box-shadow: 0px 1px 2px rgba(60, 64, 67, 0.3), 0px 1px 3px 1px rgba(60, 64, 67, 0.15);\n",
              "      fill: #174EA6;\n",
              "    }\n",
              "\n",
              "    [theme=dark] .colab-df-convert {\n",
              "      background-color: #3B4455;\n",
              "      fill: #D2E3FC;\n",
              "    }\n",
              "\n",
              "    [theme=dark] .colab-df-convert:hover {\n",
              "      background-color: #434B5C;\n",
              "      box-shadow: 0px 1px 3px 1px rgba(0, 0, 0, 0.15);\n",
              "      filter: drop-shadow(0px 1px 2px rgba(0, 0, 0, 0.3));\n",
              "      fill: #FFFFFF;\n",
              "    }\n",
              "  </style>\n",
              "\n",
              "      <script>\n",
              "        const buttonEl =\n",
              "          document.querySelector('#df-737ee151-34ef-436f-9871-b3b75276c5dc button.colab-df-convert');\n",
              "        buttonEl.style.display =\n",
              "          google.colab.kernel.accessAllowed ? 'block' : 'none';\n",
              "\n",
              "        async function convertToInteractive(key) {\n",
              "          const element = document.querySelector('#df-737ee151-34ef-436f-9871-b3b75276c5dc');\n",
              "          const dataTable =\n",
              "            await google.colab.kernel.invokeFunction('convertToInteractive',\n",
              "                                                     [key], {});\n",
              "          if (!dataTable) return;\n",
              "\n",
              "          const docLinkHtml = 'Like what you see? Visit the ' +\n",
              "            '<a target=\"_blank\" href=https://colab.research.google.com/notebooks/data_table.ipynb>data table notebook</a>'\n",
              "            + ' to learn more about interactive tables.';\n",
              "          element.innerHTML = '';\n",
              "          dataTable['output_type'] = 'display_data';\n",
              "          await google.colab.output.renderOutput(dataTable, element);\n",
              "          const docLink = document.createElement('div');\n",
              "          docLink.innerHTML = docLinkHtml;\n",
              "          element.appendChild(docLink);\n",
              "        }\n",
              "      </script>\n",
              "    </div>\n",
              "  </div>\n",
              "  "
            ],
            "text/plain": [
              "            Susceptible  Infected  Recovered  Fatal   rho  sigma\n",
              "Date                                                            \n",
              "2022-01-01       999000      1000          0      0   0.2  0.075\n",
              "2022-01-02         <NA>      <NA>       <NA>   <NA>  <NA>   <NA>\n",
              "2022-01-03         <NA>      <NA>       <NA>   <NA>  <NA>   <NA>\n",
              "2022-01-04         <NA>      <NA>       <NA>   <NA>  <NA>   <NA>\n",
              "2022-01-05         <NA>      <NA>       <NA>   <NA>  <NA>   <NA>\n",
              "...                 ...       ...        ...    ...   ...    ...\n",
              "2022-06-26         <NA>      <NA>       <NA>   <NA>  <NA>   <NA>\n",
              "2022-06-27         <NA>      <NA>       <NA>   <NA>  <NA>   <NA>\n",
              "2022-06-28         <NA>      <NA>       <NA>   <NA>  <NA>   <NA>\n",
              "2022-06-29         <NA>      <NA>       <NA>   <NA>  <NA>   <NA>\n",
              "2022-06-30         <NA>      <NA>       <NA>   <NA>  <NA>   <NA>\n",
              "\n",
              "[181 rows x 6 columns]"
            ]
          },
          "execution_count": 5,
          "metadata": {},
          "output_type": "execute_result"
        }
      ],
      "source": [
        "setting_df = dyn.register()\n",
        "setting_df.loc[\"01Mar2022\", [\"rho\", \"sigma\"]] = [0.4, 0.075]\n",
        "setting_df"
      ]
    },
    {
      "cell_type": "markdown",
      "metadata": {
        "id": "qHPmQ4D7WFfh"
      },
      "source": [
        "Without NAs:"
      ]
    },
    {
      "cell_type": "code",
      "execution_count": 6,
      "metadata": {
        "colab": {
          "base_uri": "https://localhost:8080/",
          "height": 143
        },
        "id": "-HiBH5R5WN2J",
        "outputId": "15c9d086-1d56-4710-fd46-c8040fe02da1"
      },
      "outputs": [
        {
          "data": {
            "text/html": [
              "\n",
              "  <div id=\"df-213c5e34-3f1c-4055-8b6e-cf09fe8716ad\">\n",
              "    <div class=\"colab-df-container\">\n",
              "      <div>\n",
              "<style scoped>\n",
              "    .dataframe tbody tr th:only-of-type {\n",
              "        vertical-align: middle;\n",
              "    }\n",
              "\n",
              "    .dataframe tbody tr th {\n",
              "        vertical-align: top;\n",
              "    }\n",
              "\n",
              "    .dataframe thead th {\n",
              "        text-align: right;\n",
              "    }\n",
              "</style>\n",
              "<table border=\"1\" class=\"dataframe\">\n",
              "  <thead>\n",
              "    <tr style=\"text-align: right;\">\n",
              "      <th></th>\n",
              "      <th>Susceptible</th>\n",
              "      <th>Infected</th>\n",
              "      <th>Recovered</th>\n",
              "      <th>Fatal</th>\n",
              "      <th>rho</th>\n",
              "      <th>sigma</th>\n",
              "    </tr>\n",
              "    <tr>\n",
              "      <th>Date</th>\n",
              "      <th></th>\n",
              "      <th></th>\n",
              "      <th></th>\n",
              "      <th></th>\n",
              "      <th></th>\n",
              "      <th></th>\n",
              "    </tr>\n",
              "  </thead>\n",
              "  <tbody>\n",
              "    <tr>\n",
              "      <th>2022-01-01</th>\n",
              "      <td>999000</td>\n",
              "      <td>1000</td>\n",
              "      <td>0</td>\n",
              "      <td>0</td>\n",
              "      <td>0.2</td>\n",
              "      <td>0.075</td>\n",
              "    </tr>\n",
              "    <tr>\n",
              "      <th>2022-03-01</th>\n",
              "      <td>&lt;NA&gt;</td>\n",
              "      <td>&lt;NA&gt;</td>\n",
              "      <td>&lt;NA&gt;</td>\n",
              "      <td>&lt;NA&gt;</td>\n",
              "      <td>0.4</td>\n",
              "      <td>0.075</td>\n",
              "    </tr>\n",
              "  </tbody>\n",
              "</table>\n",
              "</div>\n",
              "      <button class=\"colab-df-convert\" onclick=\"convertToInteractive('df-213c5e34-3f1c-4055-8b6e-cf09fe8716ad')\"\n",
              "              title=\"Convert this dataframe to an interactive table.\"\n",
              "              style=\"display:none;\">\n",
              "        \n",
              "  <svg xmlns=\"http://www.w3.org/2000/svg\" height=\"24px\"viewBox=\"0 0 24 24\"\n",
              "       width=\"24px\">\n",
              "    <path d=\"M0 0h24v24H0V0z\" fill=\"none\"/>\n",
              "    <path d=\"M18.56 5.44l.94 2.06.94-2.06 2.06-.94-2.06-.94-.94-2.06-.94 2.06-2.06.94zm-11 1L8.5 8.5l.94-2.06 2.06-.94-2.06-.94L8.5 2.5l-.94 2.06-2.06.94zm10 10l.94 2.06.94-2.06 2.06-.94-2.06-.94-.94-2.06-.94 2.06-2.06.94z\"/><path d=\"M17.41 7.96l-1.37-1.37c-.4-.4-.92-.59-1.43-.59-.52 0-1.04.2-1.43.59L10.3 9.45l-7.72 7.72c-.78.78-.78 2.05 0 2.83L4 21.41c.39.39.9.59 1.41.59.51 0 1.02-.2 1.41-.59l7.78-7.78 2.81-2.81c.8-.78.8-2.07 0-2.86zM5.41 20L4 18.59l7.72-7.72 1.47 1.35L5.41 20z\"/>\n",
              "  </svg>\n",
              "      </button>\n",
              "      \n",
              "  <style>\n",
              "    .colab-df-container {\n",
              "      display:flex;\n",
              "      flex-wrap:wrap;\n",
              "      gap: 12px;\n",
              "    }\n",
              "\n",
              "    .colab-df-convert {\n",
              "      background-color: #E8F0FE;\n",
              "      border: none;\n",
              "      border-radius: 50%;\n",
              "      cursor: pointer;\n",
              "      display: none;\n",
              "      fill: #1967D2;\n",
              "      height: 32px;\n",
              "      padding: 0 0 0 0;\n",
              "      width: 32px;\n",
              "    }\n",
              "\n",
              "    .colab-df-convert:hover {\n",
              "      background-color: #E2EBFA;\n",
              "      box-shadow: 0px 1px 2px rgba(60, 64, 67, 0.3), 0px 1px 3px 1px rgba(60, 64, 67, 0.15);\n",
              "      fill: #174EA6;\n",
              "    }\n",
              "\n",
              "    [theme=dark] .colab-df-convert {\n",
              "      background-color: #3B4455;\n",
              "      fill: #D2E3FC;\n",
              "    }\n",
              "\n",
              "    [theme=dark] .colab-df-convert:hover {\n",
              "      background-color: #434B5C;\n",
              "      box-shadow: 0px 1px 3px 1px rgba(0, 0, 0, 0.15);\n",
              "      filter: drop-shadow(0px 1px 2px rgba(0, 0, 0, 0.3));\n",
              "      fill: #FFFFFF;\n",
              "    }\n",
              "  </style>\n",
              "\n",
              "      <script>\n",
              "        const buttonEl =\n",
              "          document.querySelector('#df-213c5e34-3f1c-4055-8b6e-cf09fe8716ad button.colab-df-convert');\n",
              "        buttonEl.style.display =\n",
              "          google.colab.kernel.accessAllowed ? 'block' : 'none';\n",
              "\n",
              "        async function convertToInteractive(key) {\n",
              "          const element = document.querySelector('#df-213c5e34-3f1c-4055-8b6e-cf09fe8716ad');\n",
              "          const dataTable =\n",
              "            await google.colab.kernel.invokeFunction('convertToInteractive',\n",
              "                                                     [key], {});\n",
              "          if (!dataTable) return;\n",
              "\n",
              "          const docLinkHtml = 'Like what you see? Visit the ' +\n",
              "            '<a target=\"_blank\" href=https://colab.research.google.com/notebooks/data_table.ipynb>data table notebook</a>'\n",
              "            + ' to learn more about interactive tables.';\n",
              "          element.innerHTML = '';\n",
              "          dataTable['output_type'] = 'display_data';\n",
              "          await google.colab.output.renderOutput(dataTable, element);\n",
              "          const docLink = document.createElement('div');\n",
              "          docLink.innerHTML = docLinkHtml;\n",
              "          element.appendChild(docLink);\n",
              "        }\n",
              "      </script>\n",
              "    </div>\n",
              "  </div>\n",
              "  "
            ],
            "text/plain": [
              "            Susceptible  Infected  Recovered  Fatal  rho  sigma\n",
              "Date                                                           \n",
              "2022-01-01       999000      1000          0      0  0.2  0.075\n",
              "2022-03-01         <NA>      <NA>       <NA>   <NA>  0.4  0.075"
            ]
          },
          "execution_count": 6,
          "metadata": {},
          "output_type": "execute_result"
        }
      ],
      "source": [
        "setting_df.dropna(how=\"all\")"
      ]
    },
    {
      "cell_type": "markdown",
      "metadata": {
        "id": "_p6KSrETW3C3"
      },
      "source": [
        "Register the new settings. Because initial values on 01Mar2022 will be calculated with analytical solution of the 0th phase, they were not registered manually."
      ]
    },
    {
      "cell_type": "code",
      "execution_count": 7,
      "metadata": {
        "colab": {
          "base_uri": "https://localhost:8080/",
          "height": 143
        },
        "id": "Ky5WpuGkW2Pb",
        "outputId": "59c6c3a6-10f8-4d3d-b0af-c38e0c1922ea"
      },
      "outputs": [
        {
          "data": {
            "text/html": [
              "\n",
              "  <div id=\"df-84ac0ab7-3df4-4135-99ab-5b71539ded9c\">\n",
              "    <div class=\"colab-df-container\">\n",
              "      <div>\n",
              "<style scoped>\n",
              "    .dataframe tbody tr th:only-of-type {\n",
              "        vertical-align: middle;\n",
              "    }\n",
              "\n",
              "    .dataframe tbody tr th {\n",
              "        vertical-align: top;\n",
              "    }\n",
              "\n",
              "    .dataframe thead th {\n",
              "        text-align: right;\n",
              "    }\n",
              "</style>\n",
              "<table border=\"1\" class=\"dataframe\">\n",
              "  <thead>\n",
              "    <tr style=\"text-align: right;\">\n",
              "      <th></th>\n",
              "      <th>Start</th>\n",
              "      <th>End</th>\n",
              "      <th>Rt</th>\n",
              "      <th>rho</th>\n",
              "      <th>sigma</th>\n",
              "      <th>1/beta [day]</th>\n",
              "      <th>1/gamma [day]</th>\n",
              "    </tr>\n",
              "    <tr>\n",
              "      <th>Phase</th>\n",
              "      <th></th>\n",
              "      <th></th>\n",
              "      <th></th>\n",
              "      <th></th>\n",
              "      <th></th>\n",
              "      <th></th>\n",
              "      <th></th>\n",
              "    </tr>\n",
              "  </thead>\n",
              "  <tbody>\n",
              "    <tr>\n",
              "      <th>0th</th>\n",
              "      <td>2022-01-01</td>\n",
              "      <td>2022-02-28</td>\n",
              "      <td>2.67</td>\n",
              "      <td>0.2</td>\n",
              "      <td>0.075</td>\n",
              "      <td>5</td>\n",
              "      <td>13</td>\n",
              "    </tr>\n",
              "    <tr>\n",
              "      <th>1st</th>\n",
              "      <td>2022-03-01</td>\n",
              "      <td>2022-06-30</td>\n",
              "      <td>5.33</td>\n",
              "      <td>0.4</td>\n",
              "      <td>0.075</td>\n",
              "      <td>2</td>\n",
              "      <td>13</td>\n",
              "    </tr>\n",
              "  </tbody>\n",
              "</table>\n",
              "</div>\n",
              "      <button class=\"colab-df-convert\" onclick=\"convertToInteractive('df-84ac0ab7-3df4-4135-99ab-5b71539ded9c')\"\n",
              "              title=\"Convert this dataframe to an interactive table.\"\n",
              "              style=\"display:none;\">\n",
              "        \n",
              "  <svg xmlns=\"http://www.w3.org/2000/svg\" height=\"24px\"viewBox=\"0 0 24 24\"\n",
              "       width=\"24px\">\n",
              "    <path d=\"M0 0h24v24H0V0z\" fill=\"none\"/>\n",
              "    <path d=\"M18.56 5.44l.94 2.06.94-2.06 2.06-.94-2.06-.94-.94-2.06-.94 2.06-2.06.94zm-11 1L8.5 8.5l.94-2.06 2.06-.94-2.06-.94L8.5 2.5l-.94 2.06-2.06.94zm10 10l.94 2.06.94-2.06 2.06-.94-2.06-.94-.94-2.06-.94 2.06-2.06.94z\"/><path d=\"M17.41 7.96l-1.37-1.37c-.4-.4-.92-.59-1.43-.59-.52 0-1.04.2-1.43.59L10.3 9.45l-7.72 7.72c-.78.78-.78 2.05 0 2.83L4 21.41c.39.39.9.59 1.41.59.51 0 1.02-.2 1.41-.59l7.78-7.78 2.81-2.81c.8-.78.8-2.07 0-2.86zM5.41 20L4 18.59l7.72-7.72 1.47 1.35L5.41 20z\"/>\n",
              "  </svg>\n",
              "      </button>\n",
              "      \n",
              "  <style>\n",
              "    .colab-df-container {\n",
              "      display:flex;\n",
              "      flex-wrap:wrap;\n",
              "      gap: 12px;\n",
              "    }\n",
              "\n",
              "    .colab-df-convert {\n",
              "      background-color: #E8F0FE;\n",
              "      border: none;\n",
              "      border-radius: 50%;\n",
              "      cursor: pointer;\n",
              "      display: none;\n",
              "      fill: #1967D2;\n",
              "      height: 32px;\n",
              "      padding: 0 0 0 0;\n",
              "      width: 32px;\n",
              "    }\n",
              "\n",
              "    .colab-df-convert:hover {\n",
              "      background-color: #E2EBFA;\n",
              "      box-shadow: 0px 1px 2px rgba(60, 64, 67, 0.3), 0px 1px 3px 1px rgba(60, 64, 67, 0.15);\n",
              "      fill: #174EA6;\n",
              "    }\n",
              "\n",
              "    [theme=dark] .colab-df-convert {\n",
              "      background-color: #3B4455;\n",
              "      fill: #D2E3FC;\n",
              "    }\n",
              "\n",
              "    [theme=dark] .colab-df-convert:hover {\n",
              "      background-color: #434B5C;\n",
              "      box-shadow: 0px 1px 3px 1px rgba(0, 0, 0, 0.15);\n",
              "      filter: drop-shadow(0px 1px 2px rgba(0, 0, 0, 0.3));\n",
              "      fill: #FFFFFF;\n",
              "    }\n",
              "  </style>\n",
              "\n",
              "      <script>\n",
              "        const buttonEl =\n",
              "          document.querySelector('#df-84ac0ab7-3df4-4135-99ab-5b71539ded9c button.colab-df-convert');\n",
              "        buttonEl.style.display =\n",
              "          google.colab.kernel.accessAllowed ? 'block' : 'none';\n",
              "\n",
              "        async function convertToInteractive(key) {\n",
              "          const element = document.querySelector('#df-84ac0ab7-3df4-4135-99ab-5b71539ded9c');\n",
              "          const dataTable =\n",
              "            await google.colab.kernel.invokeFunction('convertToInteractive',\n",
              "                                                     [key], {});\n",
              "          if (!dataTable) return;\n",
              "\n",
              "          const docLinkHtml = 'Like what you see? Visit the ' +\n",
              "            '<a target=\"_blank\" href=https://colab.research.google.com/notebooks/data_table.ipynb>data table notebook</a>'\n",
              "            + ' to learn more about interactive tables.';\n",
              "          element.innerHTML = '';\n",
              "          dataTable['output_type'] = 'display_data';\n",
              "          await google.colab.output.renderOutput(dataTable, element);\n",
              "          const docLink = document.createElement('div');\n",
              "          docLink.innerHTML = docLinkHtml;\n",
              "          element.appendChild(docLink);\n",
              "        }\n",
              "      </script>\n",
              "    </div>\n",
              "  </div>\n",
              "  "
            ],
            "text/plain": [
              "           Start        End    Rt  rho  sigma  1/beta [day]  1/gamma [day]\n",
              "Phase                                                                     \n",
              "0th   2022-01-01 2022-02-28  2.67  0.2  0.075             5             13\n",
              "1st   2022-03-01 2022-06-30  5.33  0.4  0.075             2             13"
            ]
          },
          "execution_count": 7,
          "metadata": {},
          "output_type": "execute_result"
        }
      ],
      "source": [
        "dyn.register(setting_df)\n",
        "# Show summary\n",
        "dyn.summary()"
      ]
    },
    {
      "cell_type": "markdown",
      "metadata": {
        "id": "2PgvDnd_ajsg"
      },
      "source": [
        "High-lightened:"
      ]
    },
    {
      "cell_type": "code",
      "execution_count": 8,
      "metadata": {
        "colab": {
          "base_uri": "https://localhost:8080/",
          "height": 143
        },
        "id": "uJwTUDxoagcH",
        "outputId": "55c5d265-4bf6-4bfd-ac7a-be37f779dc62"
      },
      "outputs": [
        {
          "data": {
            "text/html": [
              "<style type=\"text/css\">\n",
              "#T_795e7_row0_col5, #T_795e7_row1_col2, #T_795e7_row1_col3 {\n",
              "  background-color: yellow;\n",
              "}\n",
              "</style>\n",
              "<table id=\"T_795e7_\" class=\"dataframe\">\n",
              "  <thead>\n",
              "    <tr>\n",
              "      <th class=\"blank level0\" >&nbsp;</th>\n",
              "      <th class=\"col_heading level0 col0\" >Start</th>\n",
              "      <th class=\"col_heading level0 col1\" >End</th>\n",
              "      <th class=\"col_heading level0 col2\" >Rt</th>\n",
              "      <th class=\"col_heading level0 col3\" >rho</th>\n",
              "      <th class=\"col_heading level0 col4\" >sigma</th>\n",
              "      <th class=\"col_heading level0 col5\" >1/beta [day]</th>\n",
              "      <th class=\"col_heading level0 col6\" >1/gamma [day]</th>\n",
              "    </tr>\n",
              "    <tr>\n",
              "      <th class=\"index_name level0\" >Phase</th>\n",
              "      <th class=\"blank col0\" >&nbsp;</th>\n",
              "      <th class=\"blank col1\" >&nbsp;</th>\n",
              "      <th class=\"blank col2\" >&nbsp;</th>\n",
              "      <th class=\"blank col3\" >&nbsp;</th>\n",
              "      <th class=\"blank col4\" >&nbsp;</th>\n",
              "      <th class=\"blank col5\" >&nbsp;</th>\n",
              "      <th class=\"blank col6\" >&nbsp;</th>\n",
              "    </tr>\n",
              "  </thead>\n",
              "  <tbody>\n",
              "    <tr>\n",
              "      <th id=\"T_795e7_level0_row0\" class=\"row_heading level0 row0\" >0th</th>\n",
              "      <td id=\"T_795e7_row0_col0\" class=\"data row0 col0\" >2022-01-01 00:00:00</td>\n",
              "      <td id=\"T_795e7_row0_col1\" class=\"data row0 col1\" >2022-02-28 00:00:00</td>\n",
              "      <td id=\"T_795e7_row0_col2\" class=\"data row0 col2\" >2.670000</td>\n",
              "      <td id=\"T_795e7_row0_col3\" class=\"data row0 col3\" >0.200000</td>\n",
              "      <td id=\"T_795e7_row0_col4\" class=\"data row0 col4\" >0.075000</td>\n",
              "      <td id=\"T_795e7_row0_col5\" class=\"data row0 col5\" >5</td>\n",
              "      <td id=\"T_795e7_row0_col6\" class=\"data row0 col6\" >13</td>\n",
              "    </tr>\n",
              "    <tr>\n",
              "      <th id=\"T_795e7_level0_row1\" class=\"row_heading level0 row1\" >1st</th>\n",
              "      <td id=\"T_795e7_row1_col0\" class=\"data row1 col0\" >2022-03-01 00:00:00</td>\n",
              "      <td id=\"T_795e7_row1_col1\" class=\"data row1 col1\" >2022-06-30 00:00:00</td>\n",
              "      <td id=\"T_795e7_row1_col2\" class=\"data row1 col2\" >5.330000</td>\n",
              "      <td id=\"T_795e7_row1_col3\" class=\"data row1 col3\" >0.400000</td>\n",
              "      <td id=\"T_795e7_row1_col4\" class=\"data row1 col4\" >0.075000</td>\n",
              "      <td id=\"T_795e7_row1_col5\" class=\"data row1 col5\" >2</td>\n",
              "      <td id=\"T_795e7_row1_col6\" class=\"data row1 col6\" >13</td>\n",
              "    </tr>\n",
              "  </tbody>\n",
              "</table>\n"
            ],
            "text/plain": [
              "<pandas.io.formats.style.Styler at 0x7f7b2794fad0>"
            ]
          },
          "execution_count": 8,
          "metadata": {},
          "output_type": "execute_result"
        }
      ],
      "source": [
        "dyn.summary().style.highlight_max(subset=[\"Rt\", \"rho\", \"1/beta [day]\"])"
      ]
    },
    {
      "cell_type": "markdown",
      "metadata": {
        "id": "OVKsl7aQ_Log"
      },
      "source": [
        "With the same way, we can set additional phases, if necessary for your analysis."
      ]
    },
    {
      "cell_type": "markdown",
      "metadata": {
        "id": "ENWQFhxaXICA"
      },
      "source": [
        "### 1-3. Track ODE parameter values\n",
        "Confirm the phase-dependent ODE parameter values and Rt (reproduction number) by plotting."
      ]
    },
    {
      "cell_type": "code",
      "execution_count": 9,
      "metadata": {
        "colab": {
          "base_uri": "https://localhost:8080/",
          "height": 486
        },
        "id": "rUcWXTHwXXQc",
        "outputId": "185a4f04-3118-4f1e-db19-fb64b71316d2"
      },
      "outputs": [
        {
          "data": {
            "image/png": "[encoded data removed]",
            "text/plain": [
              "<Figure size 432x288 with 1 Axes>"
            ]
          },
          "metadata": {
            "needs_background": "light"
          },
          "output_type": "display_data"
        },
        {
          "data": {
            "text/html": [
              "<style type=\"text/css\">\n",
              "#T_b2a7e_row0_col3, #T_b2a7e_row1_col3, #T_b2a7e_row2_col0, #T_b2a7e_row2_col1, #T_b2a7e_row3_col0, #T_b2a7e_row3_col1 {\n",
              "  background-color: yellow;\n",
              "}\n",
              "</style>\n",
              "<table id=\"T_b2a7e_\" class=\"dataframe\">\n",
              "  <thead>\n",
              "    <tr>\n",
              "      <th class=\"blank level0\" >&nbsp;</th>\n",
              "      <th class=\"col_heading level0 col0\" >Rt</th>\n",
              "      <th class=\"col_heading level0 col1\" >rho</th>\n",
              "      <th class=\"col_heading level0 col2\" >sigma</th>\n",
              "      <th class=\"col_heading level0 col3\" >1/beta [day]</th>\n",
              "      <th class=\"col_heading level0 col4\" >1/gamma [day]</th>\n",
              "    </tr>\n",
              "    <tr>\n",
              "      <th class=\"index_name level0\" >Date</th>\n",
              "      <th class=\"blank col0\" >&nbsp;</th>\n",
              "      <th class=\"blank col1\" >&nbsp;</th>\n",
              "      <th class=\"blank col2\" >&nbsp;</th>\n",
              "      <th class=\"blank col3\" >&nbsp;</th>\n",
              "      <th class=\"blank col4\" >&nbsp;</th>\n",
              "    </tr>\n",
              "  </thead>\n",
              "  <tbody>\n",
              "    <tr>\n",
              "      <th id=\"T_b2a7e_level0_row0\" class=\"row_heading level0 row0\" >2022-02-27 00:00:00</th>\n",
              "      <td id=\"T_b2a7e_row0_col0\" class=\"data row0 col0\" >2.670000</td>\n",
              "      <td id=\"T_b2a7e_row0_col1\" class=\"data row0 col1\" >0.200000</td>\n",
              "      <td id=\"T_b2a7e_row0_col2\" class=\"data row0 col2\" >0.075000</td>\n",
              "      <td id=\"T_b2a7e_row0_col3\" class=\"data row0 col3\" >5</td>\n",
              "      <td id=\"T_b2a7e_row0_col4\" class=\"data row0 col4\" >13</td>\n",
              "    </tr>\n",
              "    <tr>\n",
              "      <th id=\"T_b2a7e_level0_row1\" class=\"row_heading level0 row1\" >2022-02-28 00:00:00</th>\n",
              "      <td id=\"T_b2a7e_row1_col0\" class=\"data row1 col0\" >2.670000</td>\n",
              "      <td id=\"T_b2a7e_row1_col1\" class=\"data row1 col1\" >0.200000</td>\n",
              "      <td id=\"T_b2a7e_row1_col2\" class=\"data row1 col2\" >0.075000</td>\n",
              "      <td id=\"T_b2a7e_row1_col3\" class=\"data row1 col3\" >5</td>\n",
              "      <td id=\"T_b2a7e_row1_col4\" class=\"data row1 col4\" >13</td>\n",
              "    </tr>\n",
              "    <tr>\n",
              "      <th id=\"T_b2a7e_level0_row2\" class=\"row_heading level0 row2\" >2022-03-01 00:00:00</th>\n",
              "      <td id=\"T_b2a7e_row2_col0\" class=\"data row2 col0\" >5.330000</td>\n",
              "      <td id=\"T_b2a7e_row2_col1\" class=\"data row2 col1\" >0.400000</td>\n",
              "      <td id=\"T_b2a7e_row2_col2\" class=\"data row2 col2\" >0.075000</td>\n",
              "      <td id=\"T_b2a7e_row2_col3\" class=\"data row2 col3\" >2</td>\n",
              "      <td id=\"T_b2a7e_row2_col4\" class=\"data row2 col4\" >13</td>\n",
              "    </tr>\n",
              "    <tr>\n",
              "      <th id=\"T_b2a7e_level0_row3\" class=\"row_heading level0 row3\" >2022-03-02 00:00:00</th>\n",
              "      <td id=\"T_b2a7e_row3_col0\" class=\"data row3 col0\" >5.330000</td>\n",
              "      <td id=\"T_b2a7e_row3_col1\" class=\"data row3 col1\" >0.400000</td>\n",
              "      <td id=\"T_b2a7e_row3_col2\" class=\"data row3 col2\" >0.075000</td>\n",
              "      <td id=\"T_b2a7e_row3_col3\" class=\"data row3 col3\" >2</td>\n",
              "      <td id=\"T_b2a7e_row3_col4\" class=\"data row3 col4\" >13</td>\n",
              "    </tr>\n",
              "  </tbody>\n",
              "</table>\n"
            ],
            "text/plain": [
              "<pandas.io.formats.style.Styler at 0x7f7af8c930d0>"
            ]
          },
          "execution_count": 9,
          "metadata": {},
          "output_type": "execute_result"
        }
      ],
      "source": [
        "df = dyn.track()\n",
        "cs.line_plot(\n",
        "    df[\"Rt\"],\n",
        "    title=f\"Sample data of {dyn.model_name}: phase-dependent Rt values\",\n",
        "    ylabel=\"Reproduction number\",\n",
        "    show_legend=False,\n",
        "    v=dyn.start_dates()[1:]\n",
        ")\n",
        "df.loc[\"27Feb2022\": \"02Mar2022\"].style.highlight_max(subset=[\"Rt\", \"rho\", \"1/beta [day]\"])"
      ]
    },
    {
      "cell_type": "markdown",
      "metadata": {
        "id": "yK5iZz_FXXyX"
      },
      "source": [
        "### 1-4. Simulation\n",
        "With `Dynamics().simulate()`, simulate the phase-dependent ODE model with numerical analysis of each phase. Because we did not specify the initial values on the start date of the 1st phase, simulated values on the 1st phase's start date will be used as the initial values of the 1st phase."
      ]
    },
    {
      "cell_type": "code",
      "execution_count": 10,
      "metadata": {
        "colab": {
          "base_uri": "https://localhost:8080/",
          "height": 297
        },
        "id": "dNnw37Z_bZiu",
        "outputId": "9e0767eb-9f58-41e8-bab3-9bc917c5f46a"
      },
      "outputs": [
        {
          "data": {
            "image/png": "[encoded data removed]",
            "text/plain": [
              "<Figure size 432x288 with 1 Axes>"
            ]
          },
          "metadata": {
            "needs_background": "light"
          },
          "output_type": "display_data"
        }
      ],
      "source": [
        "df = dyn.simulate(model_specific=True)\n",
        "cs.line_plot(df, title=f\"Two-phase {dyn.model_name}\", v=dyn.start_dates()[1:])"
      ]
    },
    {
      "cell_type": "markdown",
      "metadata": {
        "id": "vjJuz6u9XX2W"
      },
      "source": [
        "When we need convert model-specific variables to model-free variables (Susceptible/Infected/Fatal/Recovered), we will set `model_specific=False` (default).\n",
        "SIR model cannot separate \"Fatal\" cases and \"Recovered\" cases into different groups. Please use SIR-D model or SIR-F model if the following role is not acceptable for your analysis.\n",
        "\n",
        "- \"Fatal\" is always equal to 0\n",
        "- \"Recovered\" is equal to \"Fatal or Recovered\" of SIR model"
      ]
    },
    {
      "cell_type": "code",
      "execution_count": 11,
      "metadata": {
        "colab": {
          "base_uri": "https://localhost:8080/",
          "height": 297
        },
        "id": "L4qXK-sgb52h",
        "outputId": "ab1ee490-4107-404b-8470-4bacb4f006a7"
      },
      "outputs": [
        {
          "data": {
            "image/png": "[encoded data removed]",
            "text/plain": [
              "<Figure size 432x288 with 1 Axes>"
            ]
          },
          "metadata": {
            "needs_background": "light"
          },
          "output_type": "display_data"
        }
      ],
      "source": [
        "df = dyn.simulate(model_specific=False)\n",
        "cs.line_plot(df, title=f\"Two-phase {dyn.model_name}\", v=dyn.start_dates()[1:])"
      ]
    },
    {
      "cell_type": "markdown",
      "metadata": {
        "id": "KMLu1rZhXX5f"
      },
      "source": [
        "### 1-5. Observable variables\n",
        "Actually, observable variables are Population/Confirmed/Infected/Recovered. We can calculate Population and Confirmed as follows.\n",
        "\n",
        "- Confirmed = Infected + Fatal + Recovered\n",
        "- Population = Susceptible + Confirmed"
      ]
    },
    {
      "cell_type": "code",
      "execution_count": 12,
      "metadata": {
        "colab": {
          "base_uri": "https://localhost:8080/",
          "height": 297
        },
        "id": "_cCXm157cWAQ",
        "outputId": "966c1ea5-1154-4c91-9cc0-5d3f0efccf67"
      },
      "outputs": [
        {
          "data": {
            "image/png": "[encoded data removed]",
            "text/plain": [
              "<Figure size 432x288 with 1 Axes>"
            ]
          },
          "metadata": {
            "needs_background": "light"
          },
          "output_type": "display_data"
        }
      ],
      "source": [
        "real_df = dyn.simulate(model_specific=False)\n",
        "real_df[\"Confirmed\"] = real_df[[\"Infected\", \"Fatal\", \"Recovered\"]].sum(axis=1)\n",
        "real_df[\"Population\"] = real_df[[\"Susceptible\", \"Confirmed\"]].sum(axis=1)\n",
        "real_df = real_df.loc[:, [\"Population\", \"Confirmed\", \"Recovered\", \"Fatal\"]]\n",
        "cs.line_plot(real_df, title=f\"Two-phase {dyn.model_name} with observable variables\", v=dyn.start_dates()[1:])"
      ]
    },
    {
      "cell_type": "markdown",
      "metadata": {
        "id": "R7eOE1_9S8lR"
      },
      "source": [
        "## 2. S-R change point analysis\n",
        "S-R change point analysis (S-R trend analysis) is a technique to find the change points of phases with actual time-series data."
      ]
    },
    {
      "cell_type": "markdown",
      "metadata": {
        "id": "te79Q10hXXWe"
      },
      "source": [
        "### 2-1. S-R plane\n",
        "Author of the Kaggle Notebook considered S-R plane. This idea (S-R plane) is from [Balkew, Teshome Mogessie, \"The SIR Model When S(t) is a Multi-Exponential Function.\" (2010).Electronic Theses and Dissertations.Paper 1747](https://dc.etsu.edu/cgi/viewcontent.cgi?article=3102&context=etd). This is for simplest SIR model, but we can apply it to SIR-F model."
      ]
    },
    {
      "cell_type": "markdown",
      "metadata": {
        "id": "NcJJsW0pcnys"
      },
      "source": [
        "We will focus on the following equations of SIR-derived ODE models.\n",
        "\n",
        "\\begin{align*}\n",
        "& \\frac{\\mathrm{d}S}{\\mathrm{d}T}= - \\frac{\\beta}{N} S I  \\\\\n",
        "& \\frac{\\mathrm{d}R}{\\mathrm{d}T}= \\gamma I  \\\\\n",
        "\\end{align*}"
      ]
    },
    {
      "cell_type": "markdown",
      "metadata": {
        "id": "CA8yKFwFYIr4"
      },
      "source": [
        "When $I > 0$, this leads to\n",
        "\\begin{align*}\n",
        "& \\frac{\\mathrm{d}S}{\\mathrm{d}R}= - \\frac{\\beta}{N \\gamma} S  \\\\\n",
        "& \\beta, \\gamma, N: const.\n",
        "\\end{align*}"
      ]
    },
    {
      "cell_type": "markdown",
      "metadata": {
        "id": "KfIEpOSIZ29u"
      },
      "source": [
        "Because $S(0) = N$, $S$ is a function of $R$ as follows."
      ]
    },
    {
      "cell_type": "code",
      "execution_count": 13,
      "metadata": {
        "colab": {
          "base_uri": "https://localhost:8080/",
          "height": 42
        },
        "id": "GTagHuQlSxL0",
        "outputId": "00b9dd12-4f8c-478b-c9cd-4b52370bc795"
      },
      "outputs": [
        {
          "data": {
            "text/latex": [
              "$\\displaystyle S{\\left(R \\right)} = N e^{- \\frac{R \\beta}{N \\gamma}}$"
            ],
            "text/plain": [
              "Eq(S(R), N*exp(-R*\\beta/(N*\\gamma)))"
            ]
          },
          "execution_count": 13,
          "metadata": {},
          "output_type": "execute_result"
        }
      ],
      "source": [
        "S = sympy.symbols(\"S\", cls=sympy.Function)\n",
        "N, R  = sympy.symbols(\"N R\", positive=True)\n",
        "beta, gamma = sympy.symbols(r\"\\beta \\gamma\", positive=True)\n",
        "dS = - beta / (N * gamma) * S(R)\n",
        "sr = sympy.dsolve(S(R).diff(R) - dS, hint=\"separable\", ics={S(0): N})\n",
        "sr"
      ]
    },
    {
      "cell_type": "markdown",
      "metadata": {
        "id": "TX8cRHYqb5zM"
      },
      "source": [
        "### 2-2. log(S) vs. R plane\n",
        "Then,"
      ]
    },
    {
      "cell_type": "code",
      "execution_count": 14,
      "metadata": {
        "colab": {
          "base_uri": "https://localhost:8080/",
          "height": 55
        },
        "id": "wzx6yxMob8wV",
        "outputId": "30d78ed8-05e7-4f7f-df34-e14b867f0546"
      },
      "outputs": [
        {
          "data": {
            "text/latex": [
              "$\\displaystyle \\log{\\left(S{\\left(R \\right)} \\right)} = \\log{\\left(N \\right)} - \\frac{R \\beta}{N \\gamma}$"
            ],
            "text/plain": [
              "Eq(log(S(R)), log(N) - R*\\beta/(N*\\gamma))"
            ]
          },
          "execution_count": 14,
          "metadata": {},
          "output_type": "execute_result"
        }
      ],
      "source": [
        "sympy.Eq(sympy.simplify(sympy.log(sr.lhs)), sympy.simplify(sympy.log(sr.rhs)))"
      ]
    },
    {
      "cell_type": "markdown",
      "metadata": {
        "id": "xthi2mLbc0d5"
      },
      "source": [
        "Where $a=\\cfrac{\\beta}{N \\gamma} \\ (> 0)$,\n",
        "\\begin{align*}\n",
        "& \\log S_{(R)} = - a R + \\log N  \\\\\n",
        "& N: const.\n",
        "\\end{align*}"
      ]
    },
    {
      "cell_type": "markdown",
      "metadata": {
        "id": "AUWFzfyTeL56"
      },
      "source": [
        " $\\log S$ decreases constantly with increase of $R$, when the records follow a SIR-derived model and the parameter values of the model are constant. Plot of $(x, y) = (R, \\log S)$ shows a line."
      ]
    },
    {
      "cell_type": "code",
      "execution_count": 15,
      "metadata": {
        "colab": {
          "base_uri": "https://localhost:8080/",
          "height": 297
        },
        "id": "QLSZBOARfqii",
        "outputId": "98088530-6a26-4296-938a-1e084ebdea9d"
      },
      "outputs": [
        {
          "data": {
            "image/png": "[encoded data removed]",
            "text/plain": [
              "<Figure size 432x288 with 1 Axes>"
            ]
          },
          "metadata": {
            "needs_background": "light"
          },
          "output_type": "display_data"
        }
      ],
      "source": [
        "model = deepcopy(cs.SIRFModel)\n",
        "sirf = model.from_sample()\n",
        "solved_df = sirf.solve()\n",
        "sr_df = model.sr(model.inverse_transform(solved_df))\n",
        "corr = sr_df[\"log10(S)\"].corr(sr_df[\"R\"]).round(5)\n",
        "cs.line_plot(\n",
        "    sr_df.set_index(\"R\"),\n",
        "    title=f\"{model.name()}: logS - R plane (corr: {corr})\",\n",
        "    xlabel=\"R\", xlim=(0, None),\n",
        "    ylabel=\"log10(S)\", ylim=(None, None),\n",
        "    show_legend=False\n",
        ")"
      ]
    },
    {
      "cell_type": "markdown",
      "metadata": {
        "id": "oHwpOuBtg2Mh"
      },
      "source": [
        "Initial values on the first date was set, but the summary shows just a phase with no set ODE parameter values."
      ]
    },
    {
      "cell_type": "markdown",
      "metadata": {
        "id": "Wz4bNHNkW_UG"
      },
      "source": [
        "Limitations:  \n",
        "Because $a=\\cfrac{\\beta}{N \\gamma}$, the changes of $\\alpha_1$ and $\\alpha_2$ of SIR-D/SIR-F model cannot be detected."
      ]
    },
    {
      "cell_type": "markdown",
      "metadata": {
        "id": "lijK-hsatI1L"
      },
      "source": [
        "### 2-3. Plane of phase-dependent models\n",
        "Correlation coefficient is about -1.0 when ODE parameter values are constant The slope of the line may change when the ODE parameter values are changed."
      ]
    },
    {
      "cell_type": "markdown",
      "metadata": {
        "id": "EdRpKxWqt8RH"
      },
      "source": [
        "Sample data of phase-dependent SIR-F model is here."
      ]
    },
    {
      "cell_type": "code",
      "execution_count": 16,
      "metadata": {
        "colab": {
          "base_uri": "https://localhost:8080/",
          "height": 269
        },
        "id": "H-eUolWdiGfT",
        "outputId": "b9ccdd06-34f8-416c-98be-d9c67b10bca5"
      },
      "outputs": [
        {
          "data": {
            "text/html": [
              "<style type=\"text/css\">\n",
              "#T_04ed3_row0_col2 {\n",
              "  background-color: #dddbec;\n",
              "  color: #000000;\n",
              "}\n",
              "#T_04ed3_row0_col3, #T_04ed3_row0_col4, #T_04ed3_row1_col4, #T_04ed3_row1_col5, #T_04ed3_row2_col4, #T_04ed3_row3_col2, #T_04ed3_row3_col5, #T_04ed3_row4_col4, #T_04ed3_row4_col5, #T_04ed3_row4_col6, #T_04ed3_row5_col4, #T_04ed3_row5_col5, #T_04ed3_row5_col6 {\n",
              "  background-color: #023858;\n",
              "  color: #f1f1f1;\n",
              "}\n",
              "#T_04ed3_row0_col5 {\n",
              "  background-color: #dbdaeb;\n",
              "  color: #000000;\n",
              "}\n",
              "#T_04ed3_row0_col6, #T_04ed3_row1_col6, #T_04ed3_row2_col2, #T_04ed3_row2_col5, #T_04ed3_row2_col6, #T_04ed3_row3_col4, #T_04ed3_row3_col6, #T_04ed3_row5_col3 {\n",
              "  background-color: #fff7fb;\n",
              "  color: #000000;\n",
              "}\n",
              "#T_04ed3_row1_col2 {\n",
              "  background-color: #034369;\n",
              "  color: #f1f1f1;\n",
              "}\n",
              "#T_04ed3_row1_col3, #T_04ed3_row2_col3, #T_04ed3_row3_col3, #T_04ed3_row4_col3 {\n",
              "  background-color: #f0eaf4;\n",
              "  color: #000000;\n",
              "}\n",
              "#T_04ed3_row4_col2, #T_04ed3_row5_col2 {\n",
              "  background-color: #d8d7e9;\n",
              "  color: #000000;\n",
              "}\n",
              "</style>\n",
              "<table id=\"T_04ed3_\" class=\"dataframe\">\n",
              "  <thead>\n",
              "    <tr>\n",
              "      <th class=\"blank level0\" >&nbsp;</th>\n",
              "      <th class=\"col_heading level0 col0\" >Start</th>\n",
              "      <th class=\"col_heading level0 col1\" >End</th>\n",
              "      <th class=\"col_heading level0 col2\" >Rt</th>\n",
              "      <th class=\"col_heading level0 col3\" >theta</th>\n",
              "      <th class=\"col_heading level0 col4\" >kappa</th>\n",
              "      <th class=\"col_heading level0 col5\" >rho</th>\n",
              "      <th class=\"col_heading level0 col6\" >sigma</th>\n",
              "    </tr>\n",
              "    <tr>\n",
              "      <th class=\"index_name level0\" >Phase</th>\n",
              "      <th class=\"blank col0\" >&nbsp;</th>\n",
              "      <th class=\"blank col1\" >&nbsp;</th>\n",
              "      <th class=\"blank col2\" >&nbsp;</th>\n",
              "      <th class=\"blank col3\" >&nbsp;</th>\n",
              "      <th class=\"blank col4\" >&nbsp;</th>\n",
              "      <th class=\"blank col5\" >&nbsp;</th>\n",
              "      <th class=\"blank col6\" >&nbsp;</th>\n",
              "    </tr>\n",
              "  </thead>\n",
              "  <tbody>\n",
              "    <tr>\n",
              "      <th id=\"T_04ed3_level0_row0\" class=\"row_heading level0 row0\" >0th</th>\n",
              "      <td id=\"T_04ed3_row0_col0\" class=\"data row0 col0\" >2022-01-01 00:00:00</td>\n",
              "      <td id=\"T_04ed3_row0_col1\" class=\"data row0 col1\" >2022-02-17 00:00:00</td>\n",
              "      <td id=\"T_04ed3_row0_col2\" class=\"data row0 col2\" >2.5000</td>\n",
              "      <td id=\"T_04ed3_row0_col3\" class=\"data row0 col3\" >0.0020</td>\n",
              "      <td id=\"T_04ed3_row0_col4\" class=\"data row0 col4\" >0.0050</td>\n",
              "      <td id=\"T_04ed3_row0_col5\" class=\"data row0 col5\" >0.2000</td>\n",
              "      <td id=\"T_04ed3_row0_col6\" class=\"data row0 col6\" >0.0750</td>\n",
              "    </tr>\n",
              "    <tr>\n",
              "      <th id=\"T_04ed3_level0_row1\" class=\"row_heading level0 row1\" >1st</th>\n",
              "      <td id=\"T_04ed3_row1_col0\" class=\"data row1 col0\" >2022-02-18 00:00:00</td>\n",
              "      <td id=\"T_04ed3_row1_col1\" class=\"data row1 col1\" >2022-02-23 00:00:00</td>\n",
              "      <td id=\"T_04ed3_row1_col2\" class=\"data row1 col2\" >5.0000</td>\n",
              "      <td id=\"T_04ed3_row1_col3\" class=\"data row1 col3\" >0.0002</td>\n",
              "      <td id=\"T_04ed3_row1_col4\" class=\"data row1 col4\" >0.0050</td>\n",
              "      <td id=\"T_04ed3_row1_col5\" class=\"data row1 col5\" >0.4000</td>\n",
              "      <td id=\"T_04ed3_row1_col6\" class=\"data row1 col6\" >0.0750</td>\n",
              "    </tr>\n",
              "    <tr>\n",
              "      <th id=\"T_04ed3_level0_row2\" class=\"row_heading level0 row2\" >2nd</th>\n",
              "      <td id=\"T_04ed3_row2_col0\" class=\"data row2 col0\" >2022-02-24 00:00:00</td>\n",
              "      <td id=\"T_04ed3_row2_col1\" class=\"data row2 col1\" >2022-02-28 00:00:00</td>\n",
              "      <td id=\"T_04ed3_row2_col2\" class=\"data row2 col2\" >1.8700</td>\n",
              "      <td id=\"T_04ed3_row2_col3\" class=\"data row2 col3\" >0.0002</td>\n",
              "      <td id=\"T_04ed3_row2_col4\" class=\"data row2 col4\" >0.0050</td>\n",
              "      <td id=\"T_04ed3_row2_col5\" class=\"data row2 col5\" >0.1500</td>\n",
              "      <td id=\"T_04ed3_row2_col6\" class=\"data row2 col6\" >0.0750</td>\n",
              "    </tr>\n",
              "    <tr>\n",
              "      <th id=\"T_04ed3_level0_row3\" class=\"row_heading level0 row3\" >3rd</th>\n",
              "      <td id=\"T_04ed3_row3_col0\" class=\"data row3 col0\" >2022-03-01 00:00:00</td>\n",
              "      <td id=\"T_04ed3_row3_col1\" class=\"data row3 col1\" >2022-03-07 00:00:00</td>\n",
              "      <td id=\"T_04ed3_row3_col2\" class=\"data row3 col2\" >5.1300</td>\n",
              "      <td id=\"T_04ed3_row3_col3\" class=\"data row3 col3\" >0.0002</td>\n",
              "      <td id=\"T_04ed3_row3_col4\" class=\"data row3 col4\" >0.0030</td>\n",
              "      <td id=\"T_04ed3_row3_col5\" class=\"data row3 col5\" >0.4000</td>\n",
              "      <td id=\"T_04ed3_row3_col6\" class=\"data row3 col6\" >0.0750</td>\n",
              "    </tr>\n",
              "    <tr>\n",
              "      <th id=\"T_04ed3_level0_row4\" class=\"row_heading level0 row4\" >4th</th>\n",
              "      <td id=\"T_04ed3_row4_col0\" class=\"data row4 col0\" >2022-03-08 00:00:00</td>\n",
              "      <td id=\"T_04ed3_row4_col1\" class=\"data row4 col1\" >2022-03-14 00:00:00</td>\n",
              "      <td id=\"T_04ed3_row4_col2\" class=\"data row4 col2\" >2.5800</td>\n",
              "      <td id=\"T_04ed3_row4_col3\" class=\"data row4 col3\" >0.0002</td>\n",
              "      <td id=\"T_04ed3_row4_col4\" class=\"data row4 col4\" >0.0050</td>\n",
              "      <td id=\"T_04ed3_row4_col5\" class=\"data row4 col5\" >0.4000</td>\n",
              "      <td id=\"T_04ed3_row4_col6\" class=\"data row4 col6\" >0.1500</td>\n",
              "    </tr>\n",
              "    <tr>\n",
              "      <th id=\"T_04ed3_level0_row5\" class=\"row_heading level0 row5\" >5th</th>\n",
              "      <td id=\"T_04ed3_row5_col0\" class=\"data row5 col0\" >2022-03-15 00:00:00</td>\n",
              "      <td id=\"T_04ed3_row5_col1\" class=\"data row5 col1\" >2022-06-30 00:00:00</td>\n",
              "      <td id=\"T_04ed3_row5_col2\" class=\"data row5 col2\" >2.5800</td>\n",
              "      <td id=\"T_04ed3_row5_col3\" class=\"data row5 col3\" >0.0000</td>\n",
              "      <td id=\"T_04ed3_row5_col4\" class=\"data row5 col4\" >0.0050</td>\n",
              "      <td id=\"T_04ed3_row5_col5\" class=\"data row5 col5\" >0.4000</td>\n",
              "      <td id=\"T_04ed3_row5_col6\" class=\"data row5 col6\" >0.1500</td>\n",
              "    </tr>\n",
              "  </tbody>\n",
              "</table>\n"
            ],
            "text/plain": [
              "<pandas.io.formats.style.Styler at 0x7f7af8e2b510>"
            ]
          },
          "execution_count": 16,
          "metadata": {},
          "output_type": "execute_result"
        }
      ],
      "source": [
        "dyn = cs.Dynamics.from_sample(cs.SIRFModel, date_range=(\"01Jan2022\", \"30Jun2022\"))\n",
        "# Set some phases by changing ODE parameter values\n",
        "df = dyn.register()\n",
        "parameters = [\"theta\", \"kappa\", \"rho\", \"sigma\"]\n",
        "df.loc[\"18Feb2022\", parameters] = [0.0002, 0.005, 0.40, 0.075]\n",
        "df.loc[\"24Feb2022\", parameters] = [0.0002, 0.005, 0.15, 0.075]\n",
        "df.loc[\"01Mar2022\", parameters] = [0.0002, 0.003, 0.40, 0.075]\n",
        "df.loc[\"08Mar2022\", parameters] = [0.0002, 0.005, 0.40, 0.150]\n",
        "df.loc[\"15Mar2022\", parameters] = [0.0000, 0.005, 0.40, 0.150]\n",
        "dyn.register(df)\n",
        "# Show summary\n",
        "dyn.summary()[[\"Start\", \"End\", \"Rt\", *parameters]].style.set_precision(4).background_gradient()"
      ]
    },
    {
      "cell_type": "markdown",
      "metadata": {
        "id": "keBshVo3uCcN"
      },
      "source": [
        "Dynamics:"
      ]
    },
    {
      "cell_type": "code",
      "execution_count": 17,
      "metadata": {
        "colab": {
          "base_uri": "https://localhost:8080/",
          "height": 300
        },
        "id": "AKlcoL52o9v_",
        "outputId": "ae360d01-1f84-466b-d708-a3a1f7a884e7"
      },
      "outputs": [
        {
          "data": {
            "image/png": "[encoded data removed]",
            "text/plain": [
              "<Figure size 432x288 with 1 Axes>"
            ]
          },
          "metadata": {
            "needs_background": "light"
          },
          "output_type": "display_data"
        }
      ],
      "source": [
        "model = deepcopy(cs.SIRFModel)\n",
        "df = dyn.simulate(model_specific=True)\n",
        "cs.line_plot(\n",
        "    df[[\"Susceptible\", \"Recovered\"]],\n",
        "    color_dict={\"Susceptible\": \"blue\", \"Recovered\": \"green\"},\n",
        "    title=f\"Phase-dependent {model.name()}: dynamics\",\n",
        "    v=dyn.start_dates()[1:],\n",
        "    bbox_to_anchor=(0.5, -0.3), bbox_loc=\"lower center\",\n",
        ")"
      ]
    },
    {
      "cell_type": "markdown",
      "metadata": {
        "id": "lppuH43MuEBO"
      },
      "source": [
        "Plot of $(R, \\log _{10} S)$: with vertical lines on change points (= start dates of phases 1st - last):"
      ]
    },
    {
      "cell_type": "code",
      "execution_count": 18,
      "metadata": {
        "colab": {
          "base_uri": "https://localhost:8080/",
          "height": 297
        },
        "id": "XjCu7EuxnjcH",
        "outputId": "714ade10-c488-467b-b661-858f2ac21d92"
      },
      "outputs": [
        {
          "data": {
            "image/png": "[encoded data removed]",
            "text/plain": [
              "<Figure size 432x288 with 1 Axes>"
            ]
          },
          "metadata": {
            "needs_background": "light"
          },
          "output_type": "display_data"
        }
      ],
      "source": [
        "model = deepcopy(cs.SIRFModel)\n",
        "# Get (R, log10S)\n",
        "sr_df = model.sr(dyn.simulate())\n",
        "# Plotting\n",
        "cs.line_plot(\n",
        "    sr_df.set_index(\"R\"),\n",
        "    title=f\"Phase-dependent {model.name()}: logS - R plane\\nwith vertical lines on change points\",\n",
        "    xlabel=\"R\", xlim=(0, None),\n",
        "    ylabel=\"log10(S)\", ylim=(None, None),\n",
        "    show_legend=False,\n",
        "    v=[sr_df.loc[d, \"R\"] for d in dyn.start_dates()[1:]],\n",
        ")"
      ]
    },
    {
      "cell_type": "markdown",
      "metadata": {
        "id": "Cu1YDvX7uk90"
      },
      "source": [
        "With the plotting, we can confirm most of the change points (except for 5th - 6th: difficult because the change was for $\\alpha_1$)."
      ]
    },
    {
      "cell_type": "markdown",
      "metadata": {
        "id": "cWtSYWl1csqV"
      },
      "source": [
        "### 2.4 Time-series segmentation\n",
        "The previous sub-sections demonstrated that change points of S-R trend suggest change points of phases. Here, we will detect the change points of S-R trend with `Dynamics().detect()` via `Dynamics.segment()`. They uses [ruptures library: change point detection in Python](https://github.com/deepcharles/ruptures) for off-line change point detection."
      ]
    },
    {
      "cell_type": "markdown",
      "metadata": {
        "id": "MbgCfl4ieKF5"
      },
      "source": [
        "We will prepare a dataset which has the 0th - 5th phase."
      ]
    },
    {
      "cell_type": "code",
      "execution_count": 19,
      "metadata": {
        "colab": {
          "base_uri": "https://localhost:8080/",
          "height": 300
        },
        "id": "slT2powMegud",
        "outputId": "e04477e7-8b37-48cc-9176-cb1556b6b200"
      },
      "outputs": [
        {
          "data": {
            "image/png": "[encoded data removed]",
            "text/plain": [
              "<Figure size 432x288 with 1 Axes>"
            ]
          },
          "metadata": {
            "needs_background": "light"
          },
          "output_type": "display_data"
        }
      ],
      "source": [
        "dyn = cs.Dynamics.from_sample(cs.SIRFModel, date_range=(\"01Jan2022\", \"30Jun2022\"), tau=1440)\n",
        "# Set some phases by changing ODE parameter values\n",
        "df = dyn.register()\n",
        "parameters = [\"theta\", \"kappa\", \"rho\", \"sigma\"]\n",
        "df.loc[\"18Feb2022\", parameters] = [0.0002, 0.005, 0.40, 0.075]\n",
        "df.loc[\"24Feb2022\", parameters] = [0.0002, 0.005, 0.15, 0.075]\n",
        "df.loc[\"01Mar2022\", parameters] = [0.0002, 0.003, 0.40, 0.075]\n",
        "df.loc[\"08Mar2022\", parameters] = [0.0002, 0.005, 0.40, 0.150]\n",
        "df.loc[\"15Mar2022\", parameters] = [0.0000, 0.005, 0.40, 0.150]\n",
        "dyn.register(df)\n",
        "# Simulation\n",
        "sim_df = dyn.simulate(model_specific=False)\n",
        "cs.line_plot(\n",
        "    sim_df,\n",
        "    title=f\"Prepared dataset with phases and {dyn.model_name}\",\n",
        "    bbox_to_anchor=(0.5, -0.3),\n",
        ")"
      ]
    },
    {
      "cell_type": "markdown",
      "metadata": {
        "id": "jcU9JCfTfMY2"
      },
      "source": [
        "Create an instance of `Dynamics` with the prepared data. Note that the instance does not know the change points of phases."
      ]
    },
    {
      "cell_type": "code",
      "execution_count": 20,
      "metadata": {
        "colab": {
          "base_uri": "https://localhost:8080/",
          "height": 112
        },
        "id": "TN3lyZTqbENx",
        "outputId": "b14ca2be-43ed-4221-e725-b95366010c61"
      },
      "outputs": [
        {
          "data": {
            "text/html": [
              "\n",
              "  <div id=\"df-2ac1f0fb-3a0d-4693-8898-e1c312279684\">\n",
              "    <div class=\"colab-df-container\">\n",
              "      <div>\n",
              "<style scoped>\n",
              "    .dataframe tbody tr th:only-of-type {\n",
              "        vertical-align: middle;\n",
              "    }\n",
              "\n",
              "    .dataframe tbody tr th {\n",
              "        vertical-align: top;\n",
              "    }\n",
              "\n",
              "    .dataframe thead th {\n",
              "        text-align: right;\n",
              "    }\n",
              "</style>\n",
              "<table border=\"1\" class=\"dataframe\">\n",
              "  <thead>\n",
              "    <tr style=\"text-align: right;\">\n",
              "      <th></th>\n",
              "      <th>Start</th>\n",
              "      <th>End</th>\n",
              "    </tr>\n",
              "    <tr>\n",
              "      <th>Phase</th>\n",
              "      <th></th>\n",
              "      <th></th>\n",
              "    </tr>\n",
              "  </thead>\n",
              "  <tbody>\n",
              "    <tr>\n",
              "      <th>0th</th>\n",
              "      <td>2022-01-01</td>\n",
              "      <td>2022-06-30</td>\n",
              "    </tr>\n",
              "  </tbody>\n",
              "</table>\n",
              "</div>\n",
              "      <button class=\"colab-df-convert\" onclick=\"convertToInteractive('df-2ac1f0fb-3a0d-4693-8898-e1c312279684')\"\n",
              "              title=\"Convert this dataframe to an interactive table.\"\n",
              "              style=\"display:none;\">\n",
              "        \n",
              "  <svg xmlns=\"http://www.w3.org/2000/svg\" height=\"24px\"viewBox=\"0 0 24 24\"\n",
              "       width=\"24px\">\n",
              "    <path d=\"M0 0h24v24H0V0z\" fill=\"none\"/>\n",
              "    <path d=\"M18.56 5.44l.94 2.06.94-2.06 2.06-.94-2.06-.94-.94-2.06-.94 2.06-2.06.94zm-11 1L8.5 8.5l.94-2.06 2.06-.94-2.06-.94L8.5 2.5l-.94 2.06-2.06.94zm10 10l.94 2.06.94-2.06 2.06-.94-2.06-.94-.94-2.06-.94 2.06-2.06.94z\"/><path d=\"M17.41 7.96l-1.37-1.37c-.4-.4-.92-.59-1.43-.59-.52 0-1.04.2-1.43.59L10.3 9.45l-7.72 7.72c-.78.78-.78 2.05 0 2.83L4 21.41c.39.39.9.59 1.41.59.51 0 1.02-.2 1.41-.59l7.78-7.78 2.81-2.81c.8-.78.8-2.07 0-2.86zM5.41 20L4 18.59l7.72-7.72 1.47 1.35L5.41 20z\"/>\n",
              "  </svg>\n",
              "      </button>\n",
              "      \n",
              "  <style>\n",
              "    .colab-df-container {\n",
              "      display:flex;\n",
              "      flex-wrap:wrap;\n",
              "      gap: 12px;\n",
              "    }\n",
              "\n",
              "    .colab-df-convert {\n",
              "      background-color: #E8F0FE;\n",
              "      border: none;\n",
              "      border-radius: 50%;\n",
              "      cursor: pointer;\n",
              "      display: none;\n",
              "      fill: #1967D2;\n",
              "      height: 32px;\n",
              "      padding: 0 0 0 0;\n",
              "      width: 32px;\n",
              "    }\n",
              "\n",
              "    .colab-df-convert:hover {\n",
              "      background-color: #E2EBFA;\n",
              "      box-shadow: 0px 1px 2px rgba(60, 64, 67, 0.3), 0px 1px 3px 1px rgba(60, 64, 67, 0.15);\n",
              "      fill: #174EA6;\n",
              "    }\n",
              "\n",
              "    [theme=dark] .colab-df-convert {\n",
              "      background-color: #3B4455;\n",
              "      fill: #D2E3FC;\n",
              "    }\n",
              "\n",
              "    [theme=dark] .colab-df-convert:hover {\n",
              "      background-color: #434B5C;\n",
              "      box-shadow: 0px 1px 3px 1px rgba(0, 0, 0, 0.15);\n",
              "      filter: drop-shadow(0px 1px 2px rgba(0, 0, 0, 0.3));\n",
              "      fill: #FFFFFF;\n",
              "    }\n",
              "  </style>\n",
              "\n",
              "      <script>\n",
              "        const buttonEl =\n",
              "          document.querySelector('#df-2ac1f0fb-3a0d-4693-8898-e1c312279684 button.colab-df-convert');\n",
              "        buttonEl.style.display =\n",
              "          google.colab.kernel.accessAllowed ? 'block' : 'none';\n",
              "\n",
              "        async function convertToInteractive(key) {\n",
              "          const element = document.querySelector('#df-2ac1f0fb-3a0d-4693-8898-e1c312279684');\n",
              "          const dataTable =\n",
              "            await google.colab.kernel.invokeFunction('convertToInteractive',\n",
              "                                                     [key], {});\n",
              "          if (!dataTable) return;\n",
              "\n",
              "          const docLinkHtml = 'Like what you see? Visit the ' +\n",
              "            '<a target=\"_blank\" href=https://colab.research.google.com/notebooks/data_table.ipynb>data table notebook</a>'\n",
              "            + ' to learn more about interactive tables.';\n",
              "          element.innerHTML = '';\n",
              "          dataTable['output_type'] = 'display_data';\n",
              "          await google.colab.output.renderOutput(dataTable, element);\n",
              "          const docLink = document.createElement('div');\n",
              "          docLink.innerHTML = docLinkHtml;\n",
              "          element.appendChild(docLink);\n",
              "        }\n",
              "      </script>\n",
              "    </div>\n",
              "  </div>\n",
              "  "
            ],
            "text/plain": [
              "           Start        End\n",
              "Phase                      \n",
              "0th   2022-01-01 2022-06-30"
            ]
          },
          "metadata": {},
          "output_type": "display_data"
        }
      ],
      "source": [
        "dyn_sim = cs.Dynamics.from_data(model=cs.SIRFModel, data=sim_df, tau=None, name=\"Sample data\")\n",
        "# Show summary\n",
        "display(dyn_sim.summary())"
      ]
    },
    {
      "cell_type": "markdown",
      "metadata": {
        "id": "mrzBo8Uhiwnw"
      },
      "source": [
        "`Dynamics().detect()` performs S-R change point analysis (trend analysis) and show the trend on S-R plane. Dot lines are the change points of phases.\n",
        "\n",
        "With `algo` argument, we can select the algorithm and models to detect the change points from “Binseg-normal” (default), “Pelt-rbf”, “Binseg-rbf”, “BottomUp-rbf”, “BottomUp-normal”. Please refer to [the documentation of ruptures library](https://centre-borelli.github.io/ruptures-docs/).\n",
        "\n",
        "Additionally, we can specify the minimum size of phases with argument `min_size=7` (as default, [days])."
      ]
    },
    {
      "cell_type": "code",
      "execution_count": 21,
      "metadata": {
        "colab": {
          "base_uri": "https://localhost:8080/",
          "height": 767
        },
        "id": "FmpX6W5ybt8g",
        "outputId": "914fc99f-3e63-4eeb-bd18-b54bf5642239"
      },
      "outputs": [
        {
          "data": {
            "image/png": "[encoded data removed]",
            "text/plain": [
              "<Figure size 432x288 with 1 Axes>"
            ]
          },
          "metadata": {
            "needs_background": "light"
          },
          "output_type": "display_data"
        },
        {
          "name": "stdout",
          "output_type": "stream",
          "text": [
            "[Timestamp('2022-02-11 00:00:00'),\n",
            " Timestamp('2022-02-20 00:00:00'),\n",
            " Timestamp('2022-03-04 00:00:00'),\n",
            " Timestamp('2022-03-14 00:00:00')]\n"
          ]
        },
        {
          "data": {
            "text/html": [
              "\n",
              "  <div id=\"df-2646207d-7c1a-4296-a69f-af2426d1dc2f\">\n",
              "    <div class=\"colab-df-container\">\n",
              "      <div>\n",
              "<style scoped>\n",
              "    .dataframe tbody tr th:only-of-type {\n",
              "        vertical-align: middle;\n",
              "    }\n",
              "\n",
              "    .dataframe tbody tr th {\n",
              "        vertical-align: top;\n",
              "    }\n",
              "\n",
              "    .dataframe thead th {\n",
              "        text-align: right;\n",
              "    }\n",
              "</style>\n",
              "<table border=\"1\" class=\"dataframe\">\n",
              "  <thead>\n",
              "    <tr style=\"text-align: right;\">\n",
              "      <th></th>\n",
              "      <th>Actual</th>\n",
              "      <th>0th</th>\n",
              "      <th>1st</th>\n",
              "      <th>2nd</th>\n",
              "      <th>3rd</th>\n",
              "      <th>4th</th>\n",
              "      <th>Fitted</th>\n",
              "    </tr>\n",
              "    <tr>\n",
              "      <th>R</th>\n",
              "      <th></th>\n",
              "      <th></th>\n",
              "      <th></th>\n",
              "      <th></th>\n",
              "      <th></th>\n",
              "      <th></th>\n",
              "      <th></th>\n",
              "    </tr>\n",
              "  </thead>\n",
              "  <tbody>\n",
              "    <tr>\n",
              "      <th>0</th>\n",
              "      <td>5.999565</td>\n",
              "      <td>5.999569</td>\n",
              "      <td>NaN</td>\n",
              "      <td>NaN</td>\n",
              "      <td>NaN</td>\n",
              "      <td>NaN</td>\n",
              "      <td>5.999569</td>\n",
              "    </tr>\n",
              "    <tr>\n",
              "      <th>80</th>\n",
              "      <td>5.999473</td>\n",
              "      <td>5.999476</td>\n",
              "      <td>NaN</td>\n",
              "      <td>NaN</td>\n",
              "      <td>NaN</td>\n",
              "      <td>NaN</td>\n",
              "      <td>5.999476</td>\n",
              "    </tr>\n",
              "    <tr>\n",
              "      <th>169</th>\n",
              "      <td>5.999369</td>\n",
              "      <td>5.999373</td>\n",
              "      <td>NaN</td>\n",
              "      <td>NaN</td>\n",
              "      <td>NaN</td>\n",
              "      <td>NaN</td>\n",
              "      <td>5.999373</td>\n",
              "    </tr>\n",
              "    <tr>\n",
              "      <th>271</th>\n",
              "      <td>5.999252</td>\n",
              "      <td>5.999255</td>\n",
              "      <td>NaN</td>\n",
              "      <td>NaN</td>\n",
              "      <td>NaN</td>\n",
              "      <td>NaN</td>\n",
              "      <td>5.999255</td>\n",
              "    </tr>\n",
              "    <tr>\n",
              "      <th>385</th>\n",
              "      <td>5.999120</td>\n",
              "      <td>5.999123</td>\n",
              "      <td>NaN</td>\n",
              "      <td>NaN</td>\n",
              "      <td>NaN</td>\n",
              "      <td>NaN</td>\n",
              "      <td>5.999123</td>\n",
              "    </tr>\n",
              "    <tr>\n",
              "      <th>...</th>\n",
              "      <td>...</td>\n",
              "      <td>...</td>\n",
              "      <td>...</td>\n",
              "      <td>...</td>\n",
              "      <td>...</td>\n",
              "      <td>...</td>\n",
              "      <td>...</td>\n",
              "    </tr>\n",
              "    <tr>\n",
              "      <th>910075</th>\n",
              "      <td>4.652981</td>\n",
              "      <td>NaN</td>\n",
              "      <td>NaN</td>\n",
              "      <td>NaN</td>\n",
              "      <td>NaN</td>\n",
              "      <td>4.652989</td>\n",
              "      <td>4.652989</td>\n",
              "    </tr>\n",
              "    <tr>\n",
              "      <th>910076</th>\n",
              "      <td>4.652981</td>\n",
              "      <td>NaN</td>\n",
              "      <td>NaN</td>\n",
              "      <td>NaN</td>\n",
              "      <td>NaN</td>\n",
              "      <td>4.652988</td>\n",
              "      <td>4.652988</td>\n",
              "    </tr>\n",
              "    <tr>\n",
              "      <th>910077</th>\n",
              "      <td>4.652981</td>\n",
              "      <td>NaN</td>\n",
              "      <td>NaN</td>\n",
              "      <td>NaN</td>\n",
              "      <td>NaN</td>\n",
              "      <td>4.652986</td>\n",
              "      <td>4.652986</td>\n",
              "    </tr>\n",
              "    <tr>\n",
              "      <th>910078</th>\n",
              "      <td>4.652981</td>\n",
              "      <td>NaN</td>\n",
              "      <td>NaN</td>\n",
              "      <td>NaN</td>\n",
              "      <td>NaN</td>\n",
              "      <td>4.652985</td>\n",
              "      <td>4.652985</td>\n",
              "    </tr>\n",
              "    <tr>\n",
              "      <th>910079</th>\n",
              "      <td>4.652981</td>\n",
              "      <td>NaN</td>\n",
              "      <td>NaN</td>\n",
              "      <td>NaN</td>\n",
              "      <td>NaN</td>\n",
              "      <td>4.652984</td>\n",
              "      <td>4.652984</td>\n",
              "    </tr>\n",
              "  </tbody>\n",
              "</table>\n",
              "<p>153 rows × 7 columns</p>\n",
              "</div>\n",
              "      <button class=\"colab-df-convert\" onclick=\"convertToInteractive('df-2646207d-7c1a-4296-a69f-af2426d1dc2f')\"\n",
              "              title=\"Convert this dataframe to an interactive table.\"\n",
              "              style=\"display:none;\">\n",
              "        \n",
              "  <svg xmlns=\"http://www.w3.org/2000/svg\" height=\"24px\"viewBox=\"0 0 24 24\"\n",
              "       width=\"24px\">\n",
              "    <path d=\"M0 0h24v24H0V0z\" fill=\"none\"/>\n",
              "    <path d=\"M18.56 5.44l.94 2.06.94-2.06 2.06-.94-2.06-.94-.94-2.06-.94 2.06-2.06.94zm-11 1L8.5 8.5l.94-2.06 2.06-.94-2.06-.94L8.5 2.5l-.94 2.06-2.06.94zm10 10l.94 2.06.94-2.06 2.06-.94-2.06-.94-.94-2.06-.94 2.06-2.06.94z\"/><path d=\"M17.41 7.96l-1.37-1.37c-.4-.4-.92-.59-1.43-.59-.52 0-1.04.2-1.43.59L10.3 9.45l-7.72 7.72c-.78.78-.78 2.05 0 2.83L4 21.41c.39.39.9.59 1.41.59.51 0 1.02-.2 1.41-.59l7.78-7.78 2.81-2.81c.8-.78.8-2.07 0-2.86zM5.41 20L4 18.59l7.72-7.72 1.47 1.35L5.41 20z\"/>\n",
              "  </svg>\n",
              "      </button>\n",
              "      \n",
              "  <style>\n",
              "    .colab-df-container {\n",
              "      display:flex;\n",
              "      flex-wrap:wrap;\n",
              "      gap: 12px;\n",
              "    }\n",
              "\n",
              "    .colab-df-convert {\n",
              "      background-color: #E8F0FE;\n",
              "      border: none;\n",
              "      border-radius: 50%;\n",
              "      cursor: pointer;\n",
              "      display: none;\n",
              "      fill: #1967D2;\n",
              "      height: 32px;\n",
              "      padding: 0 0 0 0;\n",
              "      width: 32px;\n",
              "    }\n",
              "\n",
              "    .colab-df-convert:hover {\n",
              "      background-color: #E2EBFA;\n",
              "      box-shadow: 0px 1px 2px rgba(60, 64, 67, 0.3), 0px 1px 3px 1px rgba(60, 64, 67, 0.15);\n",
              "      fill: #174EA6;\n",
              "    }\n",
              "\n",
              "    [theme=dark] .colab-df-convert {\n",
              "      background-color: #3B4455;\n",
              "      fill: #D2E3FC;\n",
              "    }\n",
              "\n",
              "    [theme=dark] .colab-df-convert:hover {\n",
              "      background-color: #434B5C;\n",
              "      box-shadow: 0px 1px 3px 1px rgba(0, 0, 0, 0.15);\n",
              "      filter: drop-shadow(0px 1px 2px rgba(0, 0, 0, 0.3));\n",
              "      fill: #FFFFFF;\n",
              "    }\n",
              "  </style>\n",
              "\n",
              "      <script>\n",
              "        const buttonEl =\n",
              "          document.querySelector('#df-2646207d-7c1a-4296-a69f-af2426d1dc2f button.colab-df-convert');\n",
              "        buttonEl.style.display =\n",
              "          google.colab.kernel.accessAllowed ? 'block' : 'none';\n",
              "\n",
              "        async function convertToInteractive(key) {\n",
              "          const element = document.querySelector('#df-2646207d-7c1a-4296-a69f-af2426d1dc2f');\n",
              "          const dataTable =\n",
              "            await google.colab.kernel.invokeFunction('convertToInteractive',\n",
              "                                                     [key], {});\n",
              "          if (!dataTable) return;\n",
              "\n",
              "          const docLinkHtml = 'Like what you see? Visit the ' +\n",
              "            '<a target=\"_blank\" href=https://colab.research.google.com/notebooks/data_table.ipynb>data table notebook</a>'\n",
              "            + ' to learn more about interactive tables.';\n",
              "          element.innerHTML = '';\n",
              "          dataTable['output_type'] = 'display_data';\n",
              "          await google.colab.output.renderOutput(dataTable, element);\n",
              "          const docLink = document.createElement('div');\n",
              "          docLink.innerHTML = docLinkHtml;\n",
              "          element.appendChild(docLink);\n",
              "        }\n",
              "      </script>\n",
              "    </div>\n",
              "  </div>\n",
              "  "
            ],
            "text/plain": [
              "          Actual       0th  1st  2nd  3rd       4th    Fitted\n",
              "R                                                            \n",
              "0       5.999565  5.999569  NaN  NaN  NaN       NaN  5.999569\n",
              "80      5.999473  5.999476  NaN  NaN  NaN       NaN  5.999476\n",
              "169     5.999369  5.999373  NaN  NaN  NaN       NaN  5.999373\n",
              "271     5.999252  5.999255  NaN  NaN  NaN       NaN  5.999255\n",
              "385     5.999120  5.999123  NaN  NaN  NaN       NaN  5.999123\n",
              "...          ...       ...  ...  ...  ...       ...       ...\n",
              "910075  4.652981       NaN  NaN  NaN  NaN  4.652989  4.652989\n",
              "910076  4.652981       NaN  NaN  NaN  NaN  4.652988  4.652988\n",
              "910077  4.652981       NaN  NaN  NaN  NaN  4.652986  4.652986\n",
              "910078  4.652981       NaN  NaN  NaN  NaN  4.652985  4.652985\n",
              "910079  4.652981       NaN  NaN  NaN  NaN  4.652984  4.652984\n",
              "\n",
              "[153 rows x 7 columns]"
            ]
          },
          "metadata": {},
          "output_type": "display_data"
        }
      ],
      "source": [
        "points, fit_df = dyn_sim.detect(algo=\"Binseg-rbf\", min_size=7)\n",
        "# List of change points\n",
        "pprint(points)\n",
        "# Plotted values\n",
        "display(fit_df)"
      ]
    },
    {
      "cell_type": "markdown",
      "metadata": {
        "id": "wlACik1Tk2Xp"
      },
      "source": [
        "Note that detected phases are un-registered to the instance."
      ]
    },
    {
      "cell_type": "code",
      "execution_count": 22,
      "metadata": {
        "colab": {
          "base_uri": "https://localhost:8080/",
          "height": 112
        },
        "id": "bihPBw7Zk9jE",
        "outputId": "fcbde64a-d22c-47dc-ba19-9f46cb4eb477"
      },
      "outputs": [
        {
          "data": {
            "text/html": [
              "\n",
              "  <div id=\"df-fad56b46-998c-4839-aa19-ab353ea93dca\">\n",
              "    <div class=\"colab-df-container\">\n",
              "      <div>\n",
              "<style scoped>\n",
              "    .dataframe tbody tr th:only-of-type {\n",
              "        vertical-align: middle;\n",
              "    }\n",
              "\n",
              "    .dataframe tbody tr th {\n",
              "        vertical-align: top;\n",
              "    }\n",
              "\n",
              "    .dataframe thead th {\n",
              "        text-align: right;\n",
              "    }\n",
              "</style>\n",
              "<table border=\"1\" class=\"dataframe\">\n",
              "  <thead>\n",
              "    <tr style=\"text-align: right;\">\n",
              "      <th></th>\n",
              "      <th>Start</th>\n",
              "      <th>End</th>\n",
              "    </tr>\n",
              "    <tr>\n",
              "      <th>Phase</th>\n",
              "      <th></th>\n",
              "      <th></th>\n",
              "    </tr>\n",
              "  </thead>\n",
              "  <tbody>\n",
              "    <tr>\n",
              "      <th>0th</th>\n",
              "      <td>2022-01-01</td>\n",
              "      <td>2022-06-30</td>\n",
              "    </tr>\n",
              "  </tbody>\n",
              "</table>\n",
              "</div>\n",
              "      <button class=\"colab-df-convert\" onclick=\"convertToInteractive('df-fad56b46-998c-4839-aa19-ab353ea93dca')\"\n",
              "              title=\"Convert this dataframe to an interactive table.\"\n",
              "              style=\"display:none;\">\n",
              "        \n",
              "  <svg xmlns=\"http://www.w3.org/2000/svg\" height=\"24px\"viewBox=\"0 0 24 24\"\n",
              "       width=\"24px\">\n",
              "    <path d=\"M0 0h24v24H0V0z\" fill=\"none\"/>\n",
              "    <path d=\"M18.56 5.44l.94 2.06.94-2.06 2.06-.94-2.06-.94-.94-2.06-.94 2.06-2.06.94zm-11 1L8.5 8.5l.94-2.06 2.06-.94-2.06-.94L8.5 2.5l-.94 2.06-2.06.94zm10 10l.94 2.06.94-2.06 2.06-.94-2.06-.94-.94-2.06-.94 2.06-2.06.94z\"/><path d=\"M17.41 7.96l-1.37-1.37c-.4-.4-.92-.59-1.43-.59-.52 0-1.04.2-1.43.59L10.3 9.45l-7.72 7.72c-.78.78-.78 2.05 0 2.83L4 21.41c.39.39.9.59 1.41.59.51 0 1.02-.2 1.41-.59l7.78-7.78 2.81-2.81c.8-.78.8-2.07 0-2.86zM5.41 20L4 18.59l7.72-7.72 1.47 1.35L5.41 20z\"/>\n",
              "  </svg>\n",
              "      </button>\n",
              "      \n",
              "  <style>\n",
              "    .colab-df-container {\n",
              "      display:flex;\n",
              "      flex-wrap:wrap;\n",
              "      gap: 12px;\n",
              "    }\n",
              "\n",
              "    .colab-df-convert {\n",
              "      background-color: #E8F0FE;\n",
              "      border: none;\n",
              "      border-radius: 50%;\n",
              "      cursor: pointer;\n",
              "      display: none;\n",
              "      fill: #1967D2;\n",
              "      height: 32px;\n",
              "      padding: 0 0 0 0;\n",
              "      width: 32px;\n",
              "    }\n",
              "\n",
              "    .colab-df-convert:hover {\n",
              "      background-color: #E2EBFA;\n",
              "      box-shadow: 0px 1px 2px rgba(60, 64, 67, 0.3), 0px 1px 3px 1px rgba(60, 64, 67, 0.15);\n",
              "      fill: #174EA6;\n",
              "    }\n",
              "\n",
              "    [theme=dark] .colab-df-convert {\n",
              "      background-color: #3B4455;\n",
              "      fill: #D2E3FC;\n",
              "    }\n",
              "\n",
              "    [theme=dark] .colab-df-convert:hover {\n",
              "      background-color: #434B5C;\n",
              "      box-shadow: 0px 1px 3px 1px rgba(0, 0, 0, 0.15);\n",
              "      filter: drop-shadow(0px 1px 2px rgba(0, 0, 0, 0.3));\n",
              "      fill: #FFFFFF;\n",
              "    }\n",
              "  </style>\n",
              "\n",
              "      <script>\n",
              "        const buttonEl =\n",
              "          document.querySelector('#df-fad56b46-998c-4839-aa19-ab353ea93dca button.colab-df-convert');\n",
              "        buttonEl.style.display =\n",
              "          google.colab.kernel.accessAllowed ? 'block' : 'none';\n",
              "\n",
              "        async function convertToInteractive(key) {\n",
              "          const element = document.querySelector('#df-fad56b46-998c-4839-aa19-ab353ea93dca');\n",
              "          const dataTable =\n",
              "            await google.colab.kernel.invokeFunction('convertToInteractive',\n",
              "                                                     [key], {});\n",
              "          if (!dataTable) return;\n",
              "\n",
              "          const docLinkHtml = 'Like what you see? Visit the ' +\n",
              "            '<a target=\"_blank\" href=https://colab.research.google.com/notebooks/data_table.ipynb>data table notebook</a>'\n",
              "            + ' to learn more about interactive tables.';\n",
              "          element.innerHTML = '';\n",
              "          dataTable['output_type'] = 'display_data';\n",
              "          await google.colab.output.renderOutput(dataTable, element);\n",
              "          const docLink = document.createElement('div');\n",
              "          docLink.innerHTML = docLinkHtml;\n",
              "          element.appendChild(docLink);\n",
              "        }\n",
              "      </script>\n",
              "    </div>\n",
              "  </div>\n",
              "  "
            ],
            "text/plain": [
              "           Start        End\n",
              "Phase                      \n",
              "0th   2022-01-01 2022-06-30"
            ]
          },
          "execution_count": 22,
          "metadata": {},
          "output_type": "execute_result"
        }
      ],
      "source": [
        "dyn_sim.summary()"
      ]
    },
    {
      "cell_type": "markdown",
      "metadata": {
        "id": "iYKQMuN7mgn0"
      },
      "source": [
        "To perform time-series segmentation with S-R trend analysis, we will use `Dynamics().segment()`, which accepts all keyword arguments of `Dynamics().detect()`."
      ]
    },
    {
      "cell_type": "code",
      "execution_count": 23,
      "metadata": {
        "colab": {
          "base_uri": "https://localhost:8080/",
          "height": 480
        },
        "id": "0MGrcG-gnDj7",
        "outputId": "52404408-20e7-4415-e312-e9ad96ee704c"
      },
      "outputs": [
        {
          "data": {
            "image/png": "[encoded data removed]",
            "text/plain": [
              "<Figure size 432x288 with 1 Axes>"
            ]
          },
          "metadata": {
            "needs_background": "light"
          },
          "output_type": "display_data"
        },
        {
          "data": {
            "text/html": [
              "\n",
              "  <div id=\"df-61439767-3bf0-4e47-98c8-b4aa543374a5\">\n",
              "    <div class=\"colab-df-container\">\n",
              "      <div>\n",
              "<style scoped>\n",
              "    .dataframe tbody tr th:only-of-type {\n",
              "        vertical-align: middle;\n",
              "    }\n",
              "\n",
              "    .dataframe tbody tr th {\n",
              "        vertical-align: top;\n",
              "    }\n",
              "\n",
              "    .dataframe thead th {\n",
              "        text-align: right;\n",
              "    }\n",
              "</style>\n",
              "<table border=\"1\" class=\"dataframe\">\n",
              "  <thead>\n",
              "    <tr style=\"text-align: right;\">\n",
              "      <th></th>\n",
              "      <th>Start</th>\n",
              "      <th>End</th>\n",
              "    </tr>\n",
              "    <tr>\n",
              "      <th>Phase</th>\n",
              "      <th></th>\n",
              "      <th></th>\n",
              "    </tr>\n",
              "  </thead>\n",
              "  <tbody>\n",
              "    <tr>\n",
              "      <th>0th</th>\n",
              "      <td>2022-01-01</td>\n",
              "      <td>2022-02-10</td>\n",
              "    </tr>\n",
              "    <tr>\n",
              "      <th>1st</th>\n",
              "      <td>2022-02-11</td>\n",
              "      <td>2022-02-19</td>\n",
              "    </tr>\n",
              "    <tr>\n",
              "      <th>2nd</th>\n",
              "      <td>2022-02-20</td>\n",
              "      <td>2022-03-03</td>\n",
              "    </tr>\n",
              "    <tr>\n",
              "      <th>3rd</th>\n",
              "      <td>2022-03-04</td>\n",
              "      <td>2022-03-13</td>\n",
              "    </tr>\n",
              "    <tr>\n",
              "      <th>4th</th>\n",
              "      <td>2022-03-14</td>\n",
              "      <td>2022-06-30</td>\n",
              "    </tr>\n",
              "  </tbody>\n",
              "</table>\n",
              "</div>\n",
              "      <button class=\"colab-df-convert\" onclick=\"convertToInteractive('df-61439767-3bf0-4e47-98c8-b4aa543374a5')\"\n",
              "              title=\"Convert this dataframe to an interactive table.\"\n",
              "              style=\"display:none;\">\n",
              "        \n",
              "  <svg xmlns=\"http://www.w3.org/2000/svg\" height=\"24px\"viewBox=\"0 0 24 24\"\n",
              "       width=\"24px\">\n",
              "    <path d=\"M0 0h24v24H0V0z\" fill=\"none\"/>\n",
              "    <path d=\"M18.56 5.44l.94 2.06.94-2.06 2.06-.94-2.06-.94-.94-2.06-.94 2.06-2.06.94zm-11 1L8.5 8.5l.94-2.06 2.06-.94-2.06-.94L8.5 2.5l-.94 2.06-2.06.94zm10 10l.94 2.06.94-2.06 2.06-.94-2.06-.94-.94-2.06-.94 2.06-2.06.94z\"/><path d=\"M17.41 7.96l-1.37-1.37c-.4-.4-.92-.59-1.43-.59-.52 0-1.04.2-1.43.59L10.3 9.45l-7.72 7.72c-.78.78-.78 2.05 0 2.83L4 21.41c.39.39.9.59 1.41.59.51 0 1.02-.2 1.41-.59l7.78-7.78 2.81-2.81c.8-.78.8-2.07 0-2.86zM5.41 20L4 18.59l7.72-7.72 1.47 1.35L5.41 20z\"/>\n",
              "  </svg>\n",
              "      </button>\n",
              "      \n",
              "  <style>\n",
              "    .colab-df-container {\n",
              "      display:flex;\n",
              "      flex-wrap:wrap;\n",
              "      gap: 12px;\n",
              "    }\n",
              "\n",
              "    .colab-df-convert {\n",
              "      background-color: #E8F0FE;\n",
              "      border: none;\n",
              "      border-radius: 50%;\n",
              "      cursor: pointer;\n",
              "      display: none;\n",
              "      fill: #1967D2;\n",
              "      height: 32px;\n",
              "      padding: 0 0 0 0;\n",
              "      width: 32px;\n",
              "    }\n",
              "\n",
              "    .colab-df-convert:hover {\n",
              "      background-color: #E2EBFA;\n",
              "      box-shadow: 0px 1px 2px rgba(60, 64, 67, 0.3), 0px 1px 3px 1px rgba(60, 64, 67, 0.15);\n",
              "      fill: #174EA6;\n",
              "    }\n",
              "\n",
              "    [theme=dark] .colab-df-convert {\n",
              "      background-color: #3B4455;\n",
              "      fill: #D2E3FC;\n",
              "    }\n",
              "\n",
              "    [theme=dark] .colab-df-convert:hover {\n",
              "      background-color: #434B5C;\n",
              "      box-shadow: 0px 1px 3px 1px rgba(0, 0, 0, 0.15);\n",
              "      filter: drop-shadow(0px 1px 2px rgba(0, 0, 0, 0.3));\n",
              "      fill: #FFFFFF;\n",
              "    }\n",
              "  </style>\n",
              "\n",
              "      <script>\n",
              "        const buttonEl =\n",
              "          document.querySelector('#df-61439767-3bf0-4e47-98c8-b4aa543374a5 button.colab-df-convert');\n",
              "        buttonEl.style.display =\n",
              "          google.colab.kernel.accessAllowed ? 'block' : 'none';\n",
              "\n",
              "        async function convertToInteractive(key) {\n",
              "          const element = document.querySelector('#df-61439767-3bf0-4e47-98c8-b4aa543374a5');\n",
              "          const dataTable =\n",
              "            await google.colab.kernel.invokeFunction('convertToInteractive',\n",
              "                                                     [key], {});\n",
              "          if (!dataTable) return;\n",
              "\n",
              "          const docLinkHtml = 'Like what you see? Visit the ' +\n",
              "            '<a target=\"_blank\" href=https://colab.research.google.com/notebooks/data_table.ipynb>data table notebook</a>'\n",
              "            + ' to learn more about interactive tables.';\n",
              "          element.innerHTML = '';\n",
              "          dataTable['output_type'] = 'display_data';\n",
              "          await google.colab.output.renderOutput(dataTable, element);\n",
              "          const docLink = document.createElement('div');\n",
              "          docLink.innerHTML = docLinkHtml;\n",
              "          element.appendChild(docLink);\n",
              "        }\n",
              "      </script>\n",
              "    </div>\n",
              "  </div>\n",
              "  "
            ],
            "text/plain": [
              "           Start        End\n",
              "Phase                      \n",
              "0th   2022-01-01 2022-02-10\n",
              "1st   2022-02-11 2022-02-19\n",
              "2nd   2022-02-20 2022-03-03\n",
              "3rd   2022-03-04 2022-03-13\n",
              "4th   2022-03-14 2022-06-30"
            ]
          },
          "execution_count": 23,
          "metadata": {},
          "output_type": "execute_result"
        }
      ],
      "source": [
        "dyn_sim.segment(algo=\"Binseg-rbf\", min_size=7)\n",
        "# Show summary\n",
        "dyn_sim.summary()"
      ]
    },
    {
      "cell_type": "markdown",
      "metadata": {
        "id": "QsPLEU8unfag"
      },
      "source": [
        "If we need to add new change points or over-write change points, we will use `Dynamics().segment(points=<list>, overwrite=<bool>)`."
      ]
    },
    {
      "cell_type": "code",
      "execution_count": 24,
      "metadata": {
        "colab": {
          "base_uri": "https://localhost:8080/",
          "height": 206
        },
        "id": "jQHuS4BMn68R",
        "outputId": "2210a523-773d-4c6a-98c0-b16585a20c31"
      },
      "outputs": [
        {
          "data": {
            "text/html": [
              "\n",
              "  <div id=\"df-15a1d3a8-9f88-4d8a-815d-b290abf2aeff\">\n",
              "    <div class=\"colab-df-container\">\n",
              "      <div>\n",
              "<style scoped>\n",
              "    .dataframe tbody tr th:only-of-type {\n",
              "        vertical-align: middle;\n",
              "    }\n",
              "\n",
              "    .dataframe tbody tr th {\n",
              "        vertical-align: top;\n",
              "    }\n",
              "\n",
              "    .dataframe thead th {\n",
              "        text-align: right;\n",
              "    }\n",
              "</style>\n",
              "<table border=\"1\" class=\"dataframe\">\n",
              "  <thead>\n",
              "    <tr style=\"text-align: right;\">\n",
              "      <th></th>\n",
              "      <th>Start</th>\n",
              "      <th>End</th>\n",
              "    </tr>\n",
              "    <tr>\n",
              "      <th>Phase</th>\n",
              "      <th></th>\n",
              "      <th></th>\n",
              "    </tr>\n",
              "  </thead>\n",
              "  <tbody>\n",
              "    <tr>\n",
              "      <th>0th</th>\n",
              "      <td>2022-01-01</td>\n",
              "      <td>2022-02-28</td>\n",
              "    </tr>\n",
              "    <tr>\n",
              "      <th>1st</th>\n",
              "      <td>2022-03-01</td>\n",
              "      <td>2022-04-30</td>\n",
              "    </tr>\n",
              "    <tr>\n",
              "      <th>2nd</th>\n",
              "      <td>2022-05-01</td>\n",
              "      <td>2022-05-31</td>\n",
              "    </tr>\n",
              "    <tr>\n",
              "      <th>3rd</th>\n",
              "      <td>2022-06-01</td>\n",
              "      <td>2022-06-30</td>\n",
              "    </tr>\n",
              "  </tbody>\n",
              "</table>\n",
              "</div>\n",
              "      <button class=\"colab-df-convert\" onclick=\"convertToInteractive('df-15a1d3a8-9f88-4d8a-815d-b290abf2aeff')\"\n",
              "              title=\"Convert this dataframe to an interactive table.\"\n",
              "              style=\"display:none;\">\n",
              "        \n",
              "  <svg xmlns=\"http://www.w3.org/2000/svg\" height=\"24px\"viewBox=\"0 0 24 24\"\n",
              "       width=\"24px\">\n",
              "    <path d=\"M0 0h24v24H0V0z\" fill=\"none\"/>\n",
              "    <path d=\"M18.56 5.44l.94 2.06.94-2.06 2.06-.94-2.06-.94-.94-2.06-.94 2.06-2.06.94zm-11 1L8.5 8.5l.94-2.06 2.06-.94-2.06-.94L8.5 2.5l-.94 2.06-2.06.94zm10 10l.94 2.06.94-2.06 2.06-.94-2.06-.94-.94-2.06-.94 2.06-2.06.94z\"/><path d=\"M17.41 7.96l-1.37-1.37c-.4-.4-.92-.59-1.43-.59-.52 0-1.04.2-1.43.59L10.3 9.45l-7.72 7.72c-.78.78-.78 2.05 0 2.83L4 21.41c.39.39.9.59 1.41.59.51 0 1.02-.2 1.41-.59l7.78-7.78 2.81-2.81c.8-.78.8-2.07 0-2.86zM5.41 20L4 18.59l7.72-7.72 1.47 1.35L5.41 20z\"/>\n",
              "  </svg>\n",
              "      </button>\n",
              "      \n",
              "  <style>\n",
              "    .colab-df-container {\n",
              "      display:flex;\n",
              "      flex-wrap:wrap;\n",
              "      gap: 12px;\n",
              "    }\n",
              "\n",
              "    .colab-df-convert {\n",
              "      background-color: #E8F0FE;\n",
              "      border: none;\n",
              "      border-radius: 50%;\n",
              "      cursor: pointer;\n",
              "      display: none;\n",
              "      fill: #1967D2;\n",
              "      height: 32px;\n",
              "      padding: 0 0 0 0;\n",
              "      width: 32px;\n",
              "    }\n",
              "\n",
              "    .colab-df-convert:hover {\n",
              "      background-color: #E2EBFA;\n",
              "      box-shadow: 0px 1px 2px rgba(60, 64, 67, 0.3), 0px 1px 3px 1px rgba(60, 64, 67, 0.15);\n",
              "      fill: #174EA6;\n",
              "    }\n",
              "\n",
              "    [theme=dark] .colab-df-convert {\n",
              "      background-color: #3B4455;\n",
              "      fill: #D2E3FC;\n",
              "    }\n",
              "\n",
              "    [theme=dark] .colab-df-convert:hover {\n",
              "      background-color: #434B5C;\n",
              "      box-shadow: 0px 1px 3px 1px rgba(0, 0, 0, 0.15);\n",
              "      filter: drop-shadow(0px 1px 2px rgba(0, 0, 0, 0.3));\n",
              "      fill: #FFFFFF;\n",
              "    }\n",
              "  </style>\n",
              "\n",
              "      <script>\n",
              "        const buttonEl =\n",
              "          document.querySelector('#df-15a1d3a8-9f88-4d8a-815d-b290abf2aeff button.colab-df-convert');\n",
              "        buttonEl.style.display =\n",
              "          google.colab.kernel.accessAllowed ? 'block' : 'none';\n",
              "\n",
              "        async function convertToInteractive(key) {\n",
              "          const element = document.querySelector('#df-15a1d3a8-9f88-4d8a-815d-b290abf2aeff');\n",
              "          const dataTable =\n",
              "            await google.colab.kernel.invokeFunction('convertToInteractive',\n",
              "                                                     [key], {});\n",
              "          if (!dataTable) return;\n",
              "\n",
              "          const docLinkHtml = 'Like what you see? Visit the ' +\n",
              "            '<a target=\"_blank\" href=https://colab.research.google.com/notebooks/data_table.ipynb>data table notebook</a>'\n",
              "            + ' to learn more about interactive tables.';\n",
              "          element.innerHTML = '';\n",
              "          dataTable['output_type'] = 'display_data';\n",
              "          await google.colab.output.renderOutput(dataTable, element);\n",
              "          const docLink = document.createElement('div');\n",
              "          docLink.innerHTML = docLinkHtml;\n",
              "          element.appendChild(docLink);\n",
              "        }\n",
              "      </script>\n",
              "    </div>\n",
              "  </div>\n",
              "  "
            ],
            "text/plain": [
              "           Start        End\n",
              "Phase                      \n",
              "0th   2022-01-01 2022-02-28\n",
              "1st   2022-03-01 2022-04-30\n",
              "2nd   2022-05-01 2022-05-31\n",
              "3rd   2022-06-01 2022-06-30"
            ]
          },
          "execution_count": 24,
          "metadata": {},
          "output_type": "execute_result"
        }
      ],
      "source": [
        "# Over-write\n",
        "dyn_sim.segment(points=[\"01Mar2022\", \"01Jun2022\"], overwrite=True)\n",
        "# Add\n",
        "dyn_sim.segment(points=[\"01May2022\"], overwrite=False)\n",
        "# Show summary\n",
        "dyn_sim.summary()"
      ]
    },
    {
      "cell_type": "markdown",
      "metadata": {
        "id": "Do_D_H5zTAPB"
      },
      "source": [
        "## 3. ODE parameter estimation\n",
        "This section demonstrates how to estimate tau value (constant for all phases) and the ODE parameter values of phases."
      ]
    },
    {
      "cell_type": "markdown",
      "metadata": {
        "id": "exz8f6e9_80V"
      },
      "source": [
        "### 3.1 Preparation\n",
        "Create an `Dynamics()` instance which has a dataset with 6 phases (the 0th - 5th). The instance knows change points, but does not know tau value and ODE parameter values."
      ]
    },
    {
      "cell_type": "markdown",
      "metadata": {
        "id": "NtoiVicmAwZt"
      },
      "source": [
        "Create dataset."
      ]
    },
    {
      "cell_type": "code",
      "execution_count": 25,
      "metadata": {
        "colab": {
          "base_uri": "https://localhost:8080/",
          "height": 300
        },
        "id": "UcNvQ20UAlje",
        "outputId": "3d8526fb-ad66-46d0-cbf9-285263140808"
      },
      "outputs": [
        {
          "data": {
            "image/png": "[encoded data removed]",
            "text/plain": [
              "<Figure size 432x288 with 1 Axes>"
            ]
          },
          "metadata": {
            "needs_background": "light"
          },
          "output_type": "display_data"
        }
      ],
      "source": [
        "dyn = cs.Dynamics.from_sample(cs.SIRFModel, date_range=(\"01Jan2022\", \"30Jun2022\"), tau=1440)\n",
        "# Set some phases by changing ODE parameter values\n",
        "df = dyn.register()\n",
        "parameters = [\"theta\", \"kappa\", \"rho\", \"sigma\"]\n",
        "df.loc[\"18Feb2022\", parameters] = [0.0002, 0.005, 0.40, 0.075]\n",
        "df.loc[\"24Feb2022\", parameters] = [0.0002, 0.005, 0.15, 0.075]\n",
        "df.loc[\"01Mar2022\", parameters] = [0.0002, 0.003, 0.40, 0.075]\n",
        "df.loc[\"08Mar2022\", parameters] = [0.0002, 0.005, 0.40, 0.150]\n",
        "df.loc[\"15Mar2022\", parameters] = [0.0000, 0.005, 0.40, 0.150]\n",
        "dyn.register(df)\n",
        "# Simulation\n",
        "sim_df = dyn.simulate(model_specific=False)\n",
        "cs.line_plot(\n",
        "    sim_df,\n",
        "    title=f\"Prepared dataset with phases and {dyn.model_name}\",\n",
        "    bbox_to_anchor=(0.5, -0.3),\n",
        ")"
      ]
    },
    {
      "cell_type": "markdown",
      "metadata": {
        "id": "N_UvBaZYA9l0"
      },
      "source": [
        "Create `Dynamics()` instance."
      ]
    },
    {
      "cell_type": "code",
      "execution_count": 26,
      "metadata": {
        "colab": {
          "base_uri": "https://localhost:8080/",
          "height": 286
        },
        "id": "H9snUqKAA5Zf",
        "outputId": "6fa6a424-864d-419e-eb3d-7246798c0f9f"
      },
      "outputs": [
        {
          "name": "stdout",
          "output_type": "stream",
          "text": [
            "Tau value [min]: un-set\n"
          ]
        },
        {
          "data": {
            "text/html": [
              "\n",
              "  <div id=\"df-cdbd4ad9-3d45-44ac-9729-e433cd6a147b\">\n",
              "    <div class=\"colab-df-container\">\n",
              "      <div>\n",
              "<style scoped>\n",
              "    .dataframe tbody tr th:only-of-type {\n",
              "        vertical-align: middle;\n",
              "    }\n",
              "\n",
              "    .dataframe tbody tr th {\n",
              "        vertical-align: top;\n",
              "    }\n",
              "\n",
              "    .dataframe thead th {\n",
              "        text-align: right;\n",
              "    }\n",
              "</style>\n",
              "<table border=\"1\" class=\"dataframe\">\n",
              "  <thead>\n",
              "    <tr style=\"text-align: right;\">\n",
              "      <th></th>\n",
              "      <th>Start</th>\n",
              "      <th>End</th>\n",
              "    </tr>\n",
              "    <tr>\n",
              "      <th>Phase</th>\n",
              "      <th></th>\n",
              "      <th></th>\n",
              "    </tr>\n",
              "  </thead>\n",
              "  <tbody>\n",
              "    <tr>\n",
              "      <th>0th</th>\n",
              "      <td>2022-01-01</td>\n",
              "      <td>2022-02-17</td>\n",
              "    </tr>\n",
              "    <tr>\n",
              "      <th>1st</th>\n",
              "      <td>2022-02-18</td>\n",
              "      <td>2022-02-23</td>\n",
              "    </tr>\n",
              "    <tr>\n",
              "      <th>2nd</th>\n",
              "      <td>2022-02-24</td>\n",
              "      <td>2022-02-28</td>\n",
              "    </tr>\n",
              "    <tr>\n",
              "      <th>3rd</th>\n",
              "      <td>2022-03-01</td>\n",
              "      <td>2022-03-07</td>\n",
              "    </tr>\n",
              "    <tr>\n",
              "      <th>4th</th>\n",
              "      <td>2022-03-08</td>\n",
              "      <td>2022-03-14</td>\n",
              "    </tr>\n",
              "    <tr>\n",
              "      <th>5th</th>\n",
              "      <td>2022-03-15</td>\n",
              "      <td>2022-06-30</td>\n",
              "    </tr>\n",
              "  </tbody>\n",
              "</table>\n",
              "</div>\n",
              "      <button class=\"colab-df-convert\" onclick=\"convertToInteractive('df-cdbd4ad9-3d45-44ac-9729-e433cd6a147b')\"\n",
              "              title=\"Convert this dataframe to an interactive table.\"\n",
              "              style=\"display:none;\">\n",
              "        \n",
              "  <svg xmlns=\"http://www.w3.org/2000/svg\" height=\"24px\"viewBox=\"0 0 24 24\"\n",
              "       width=\"24px\">\n",
              "    <path d=\"M0 0h24v24H0V0z\" fill=\"none\"/>\n",
              "    <path d=\"M18.56 5.44l.94 2.06.94-2.06 2.06-.94-2.06-.94-.94-2.06-.94 2.06-2.06.94zm-11 1L8.5 8.5l.94-2.06 2.06-.94-2.06-.94L8.5 2.5l-.94 2.06-2.06.94zm10 10l.94 2.06.94-2.06 2.06-.94-2.06-.94-.94-2.06-.94 2.06-2.06.94z\"/><path d=\"M17.41 7.96l-1.37-1.37c-.4-.4-.92-.59-1.43-.59-.52 0-1.04.2-1.43.59L10.3 9.45l-7.72 7.72c-.78.78-.78 2.05 0 2.83L4 21.41c.39.39.9.59 1.41.59.51 0 1.02-.2 1.41-.59l7.78-7.78 2.81-2.81c.8-.78.8-2.07 0-2.86zM5.41 20L4 18.59l7.72-7.72 1.47 1.35L5.41 20z\"/>\n",
              "  </svg>\n",
              "      </button>\n",
              "      \n",
              "  <style>\n",
              "    .colab-df-container {\n",
              "      display:flex;\n",
              "      flex-wrap:wrap;\n",
              "      gap: 12px;\n",
              "    }\n",
              "\n",
              "    .colab-df-convert {\n",
              "      background-color: #E8F0FE;\n",
              "      border: none;\n",
              "      border-radius: 50%;\n",
              "      cursor: pointer;\n",
              "      display: none;\n",
              "      fill: #1967D2;\n",
              "      height: 32px;\n",
              "      padding: 0 0 0 0;\n",
              "      width: 32px;\n",
              "    }\n",
              "\n",
              "    .colab-df-convert:hover {\n",
              "      background-color: #E2EBFA;\n",
              "      box-shadow: 0px 1px 2px rgba(60, 64, 67, 0.3), 0px 1px 3px 1px rgba(60, 64, 67, 0.15);\n",
              "      fill: #174EA6;\n",
              "    }\n",
              "\n",
              "    [theme=dark] .colab-df-convert {\n",
              "      background-color: #3B4455;\n",
              "      fill: #D2E3FC;\n",
              "    }\n",
              "\n",
              "    [theme=dark] .colab-df-convert:hover {\n",
              "      background-color: #434B5C;\n",
              "      box-shadow: 0px 1px 3px 1px rgba(0, 0, 0, 0.15);\n",
              "      filter: drop-shadow(0px 1px 2px rgba(0, 0, 0, 0.3));\n",
              "      fill: #FFFFFF;\n",
              "    }\n",
              "  </style>\n",
              "\n",
              "      <script>\n",
              "        const buttonEl =\n",
              "          document.querySelector('#df-cdbd4ad9-3d45-44ac-9729-e433cd6a147b button.colab-df-convert');\n",
              "        buttonEl.style.display =\n",
              "          google.colab.kernel.accessAllowed ? 'block' : 'none';\n",
              "\n",
              "        async function convertToInteractive(key) {\n",
              "          const element = document.querySelector('#df-cdbd4ad9-3d45-44ac-9729-e433cd6a147b');\n",
              "          const dataTable =\n",
              "            await google.colab.kernel.invokeFunction('convertToInteractive',\n",
              "                                                     [key], {});\n",
              "          if (!dataTable) return;\n",
              "\n",
              "          const docLinkHtml = 'Like what you see? Visit the ' +\n",
              "            '<a target=\"_blank\" href=https://colab.research.google.com/notebooks/data_table.ipynb>data table notebook</a>'\n",
              "            + ' to learn more about interactive tables.';\n",
              "          element.innerHTML = '';\n",
              "          dataTable['output_type'] = 'display_data';\n",
              "          await google.colab.output.renderOutput(dataTable, element);\n",
              "          const docLink = document.createElement('div');\n",
              "          docLink.innerHTML = docLinkHtml;\n",
              "          element.appendChild(docLink);\n",
              "        }\n",
              "      </script>\n",
              "    </div>\n",
              "  </div>\n",
              "  "
            ],
            "text/plain": [
              "           Start        End\n",
              "Phase                      \n",
              "0th   2022-01-01 2022-02-17\n",
              "1st   2022-02-18 2022-02-23\n",
              "2nd   2022-02-24 2022-02-28\n",
              "3rd   2022-03-01 2022-03-07\n",
              "4th   2022-03-08 2022-03-14\n",
              "5th   2022-03-15 2022-06-30"
            ]
          },
          "metadata": {},
          "output_type": "display_data"
        }
      ],
      "source": [
        "dyn_est = cs.Dynamics.from_data(cs.SIRFModel, data=sim_df, tau=None, name=\"Sample data\")\n",
        "dyn_est.segment(points=[\"18Feb2022\", \"24Feb2022\", \"01Mar2022\", \"08Mar2022\", \"15Mar2022\"])\n",
        "# Show tau value\n",
        "print(f\"Tau value [min]: {dyn_est.tau or 'un-set'}\")\n",
        "# Show summary\n",
        "display(dyn_est.summary())"
      ]
    },
    {
      "cell_type": "markdown",
      "metadata": {
        "id": "gIgw2aWiZZOd"
      },
      "source": [
        "### 3.2 Tau estimation\n",
        "Before ODE parameter estimation, we need to select tau value [min]. Tau value is expected to be constant for all phases because tau value is a parameter used to convert actual time (with unit [min]) to time steps (without units) from divisors of 1440).\n",
        "\n",
        "`Dynamics().estimate_tau(metric=\"RMSLE\", q=0.5, digits=None, n_jobs=None)` (as default) sets the best tau value for the registered data, estimating ODE parameters with quantiles.\n",
        "\n",
        "Arguments:\n",
        "\n",
        "* metric (str): metric name for scoring when selecting best tau value\n",
        "* q (float): the quantiles to compute, values between (0, 1)\n",
        "* digits (int or None): effective digits of ODE parameter values or None (skip rounding)\n",
        "* n_jobs (int or None): the number of parallel jobs or None (CPU count)\n",
        "\n",
        "Metrics (selectable candidates of `metric`):\n",
        "\n",
        "* ME: maximum residual error\n",
        "* MAE: mean absolute error\n",
        "* MSE: mean square error\n",
        "* MSLE: mean squared logarithmic error\n",
        "* MAPE: mean absolute percentage error\n",
        "* RMSE: root mean squared error\n",
        "* RMSLE: root mean squared logarithmic error\n",
        "* R2: the coefficient of determination\n",
        "\n",
        "\n",
        "For example, RMSLE score will be calculated with the following equation.\n",
        "\\begin{align*}\n",
        "\\mathrm{RMSLE} = \\sqrt{\\cfrac{1}{n}\\sum_{i=1}^{n}(log_{10}(A_{i} + 1) - log_{10}(P_{i} + 1))^2}\n",
        "\\end{align*}\n",
        "Where $A$ is the observed (actual) values, $P$ is estimated (predicted) values. Variables are $S (i=1), I (i=2), R (i=3)\\ \\mathrm{and}\\ F (i=n=4)$ for SIR-F model. When RMSLE score is low, hyperparameter estimation is highly accurate. Please refer to external sites, including [Medium: What’s the Difference Between RMSE and RMSLE?](https://medium.com/analytics-vidhya/root-mean-square-log-error-rmse-vs-rmlse-935c6cc1802a)."
      ]
    },
    {
      "cell_type": "code",
      "execution_count": 27,
      "metadata": {
        "colab": {
          "base_uri": "https://localhost:8080/",
          "height": 309
        },
        "id": "5pk2pASUFfUS",
        "outputId": "93434b62-15cd-4673-f1b7-831d55819970"
      },
      "outputs": [
        {
          "name": "stdout",
          "output_type": "stream",
          "text": [
            "Tau value [min]: 48\n"
          ]
        },
        {
          "data": {
            "image/png": "[encoded data removed]",
            "text/plain": [
              "<Figure size 432x288 with 1 Axes>"
            ]
          },
          "metadata": {
            "needs_background": "light"
          },
          "output_type": "display_data"
        }
      ],
      "source": [
        "metric = \"RMSLE\"\n",
        "tau, score_df = dyn_est.estimate_tau(metric=metric)\n",
        "print(f\"Tau value [min]: {dyn_est.tau or 'un-set'}\")\n",
        "score_df.plot.line(\n",
        "    title=f\"Tau estimation: {metric} scores (selected tau: {tau} [min])\",\n",
        "    xlabel=\"Tau value [min]\", ylabel=metric, legend=False\n",
        ");"
      ]
    },
    {
      "cell_type": "markdown",
      "metadata": {
        "id": "ntZeNrycLCMZ"
      },
      "source": [
        "### 3.3 ODE parameter estimation\n",
        "`Dynamics().estimate_params(metric=\"RMSLE\", digits=None, n_jobs=None, **kwargs)` (as default) sets ODE parameter values optimized for the registered data with hyperparameter optimization using [Optuna library](https://github.com/optuna/optuna).\n",
        "\n",
        "Arguments of `Dynamics().estimate_params`:\n",
        "\n",
        "* metric (str): metric name for scoring when optimizing ODE parameter values of phases\n",
        "* digits (int or None): effective digits of ODE parameter values or None (skip rounding)\n",
        "* n_jobs (int or None): the number of parallel jobs or None (CPU count)\n",
        "* **kwargs: keyword arguments of optimization\n",
        "    * quantiles (tuple(int, int)): quantiles to cut parameter range, like confidence interval, (0.1, 0.9) as default\n",
        "    * timeout (int): timeout of optimization, 180 as default\n",
        "    * timeout_iteration (int): timeout of one iteration, 1 as default\n",
        "    * tail_n (int): the number of iterations to decide whether score did not change for the last iterations, 4 as default\n",
        "    * allowance (tuple(float, float)): the allowance of the max predicted values, (0.99, 1.01) as default\n",
        "    * pruner (str): kind of pruner (hyperband, median, threshold or percentile), \"threshold\" as default\n",
        "    * upper (float): works for \"threshold\" pruner, intermediate score is larger than this value, it prunes, 0.5 as default\n",
        "    * percentile (float): works for \"Percentile\" pruner, the best intermediate value is in the bottom percentile among trials, it prunes, 50 as default\n",
        "    * constant_liar (bool): whether use constant liar to reduce search effort or not, False as default"
      ]
    },
    {
      "cell_type": "code",
      "execution_count": 28,
      "metadata": {
        "colab": {
          "base_uri": "https://localhost:8080/",
          "height": 460
        },
        "id": "8hGCWgsmNrzQ",
        "outputId": "71371225-326c-4e5a-8e88-e99219ad06e3"
      },
      "outputs": [
        {
          "name": "stdout",
          "output_type": "stream",
          "text": [
            "\n",
            "<SIR-F Model: parameter estimation>\n",
            "Running optimization with 2 CPUs...\n",
            "\t2022-01-01 - 2022-02-17: finished   83 trials in 0 min 17 sec\n",
            "\t2022-02-18 - 2022-02-23: finished  134 trials in 0 min 20 sec\n",
            "\t2022-03-01 - 2022-03-07: finished   83 trials in 0 min 11 sec\n",
            "\t2022-02-24 - 2022-02-28: finished  114 trials in 0 min 15 sec\n",
            "\t2022-03-08 - 2022-03-14: finished   50 trials in 0 min  5 sec\n",
            "\t2022-03-15 - 2022-06-30: finished   37 trials in 0 min  6 sec\n",
            "Completed optimization. Total: 0 min 40 sec\n",
            "\n"
          ]
        },
        {
          "data": {
            "text/html": [
              "\n",
              "  <div id=\"df-b5e14871-81a4-43d5-b6ce-ce74c8deb928\">\n",
              "    <div class=\"colab-df-container\">\n",
              "      <div>\n",
              "<style scoped>\n",
              "    .dataframe tbody tr th:only-of-type {\n",
              "        vertical-align: middle;\n",
              "    }\n",
              "\n",
              "    .dataframe tbody tr th {\n",
              "        vertical-align: top;\n",
              "    }\n",
              "\n",
              "    .dataframe thead th {\n",
              "        text-align: right;\n",
              "    }\n",
              "</style>\n",
              "<table border=\"1\" class=\"dataframe\">\n",
              "  <thead>\n",
              "    <tr style=\"text-align: right;\">\n",
              "      <th></th>\n",
              "      <th>theta</th>\n",
              "      <th>kappa</th>\n",
              "      <th>rho</th>\n",
              "      <th>sigma</th>\n",
              "      <th>RMSLE</th>\n",
              "      <th>Trials</th>\n",
              "      <th>Runtime</th>\n",
              "    </tr>\n",
              "    <tr>\n",
              "      <th>Start</th>\n",
              "      <th></th>\n",
              "      <th></th>\n",
              "      <th></th>\n",
              "      <th></th>\n",
              "      <th></th>\n",
              "      <th></th>\n",
              "      <th></th>\n",
              "    </tr>\n",
              "  </thead>\n",
              "  <tbody>\n",
              "    <tr>\n",
              "      <th>2022-01-01</th>\n",
              "      <td>0.000147</td>\n",
              "      <td>0.000177</td>\n",
              "      <td>0.006628</td>\n",
              "      <td>0.002471</td>\n",
              "      <td>0.01042</td>\n",
              "      <td>83</td>\n",
              "      <td>0 min 17 sec</td>\n",
              "    </tr>\n",
              "    <tr>\n",
              "      <th>2022-02-18</th>\n",
              "      <td>0.000041</td>\n",
              "      <td>0.000189</td>\n",
              "      <td>0.015273</td>\n",
              "      <td>0.002822</td>\n",
              "      <td>0.048189</td>\n",
              "      <td>134</td>\n",
              "      <td>0 min 20 sec</td>\n",
              "    </tr>\n",
              "    <tr>\n",
              "      <th>2022-02-24</th>\n",
              "      <td>0.000162</td>\n",
              "      <td>0.000212</td>\n",
              "      <td>0.006511</td>\n",
              "      <td>0.00317</td>\n",
              "      <td>0.037923</td>\n",
              "      <td>114</td>\n",
              "      <td>0 min 15 sec</td>\n",
              "    </tr>\n",
              "    <tr>\n",
              "      <th>2022-03-01</th>\n",
              "      <td>0.000106</td>\n",
              "      <td>0.000116</td>\n",
              "      <td>0.016229</td>\n",
              "      <td>0.002904</td>\n",
              "      <td>0.054562</td>\n",
              "      <td>83</td>\n",
              "      <td>0 min 11 sec</td>\n",
              "    </tr>\n",
              "    <tr>\n",
              "      <th>2022-03-08</th>\n",
              "      <td>0.004007</td>\n",
              "      <td>0.000204</td>\n",
              "      <td>0.016932</td>\n",
              "      <td>0.00611</td>\n",
              "      <td>0.061927</td>\n",
              "      <td>50</td>\n",
              "      <td>0 min  5 sec</td>\n",
              "    </tr>\n",
              "    <tr>\n",
              "      <th>2022-03-15</th>\n",
              "      <td>0.241138</td>\n",
              "      <td>0.0</td>\n",
              "      <td>0.005515</td>\n",
              "      <td>0.004765</td>\n",
              "      <td>0.113495</td>\n",
              "      <td>37</td>\n",
              "      <td>0 min  6 sec</td>\n",
              "    </tr>\n",
              "  </tbody>\n",
              "</table>\n",
              "</div>\n",
              "      <button class=\"colab-df-convert\" onclick=\"convertToInteractive('df-b5e14871-81a4-43d5-b6ce-ce74c8deb928')\"\n",
              "              title=\"Convert this dataframe to an interactive table.\"\n",
              "              style=\"display:none;\">\n",
              "        \n",
              "  <svg xmlns=\"http://www.w3.org/2000/svg\" height=\"24px\"viewBox=\"0 0 24 24\"\n",
              "       width=\"24px\">\n",
              "    <path d=\"M0 0h24v24H0V0z\" fill=\"none\"/>\n",
              "    <path d=\"M18.56 5.44l.94 2.06.94-2.06 2.06-.94-2.06-.94-.94-2.06-.94 2.06-2.06.94zm-11 1L8.5 8.5l.94-2.06 2.06-.94-2.06-.94L8.5 2.5l-.94 2.06-2.06.94zm10 10l.94 2.06.94-2.06 2.06-.94-2.06-.94-.94-2.06-.94 2.06-2.06.94z\"/><path d=\"M17.41 7.96l-1.37-1.37c-.4-.4-.92-.59-1.43-.59-.52 0-1.04.2-1.43.59L10.3 9.45l-7.72 7.72c-.78.78-.78 2.05 0 2.83L4 21.41c.39.39.9.59 1.41.59.51 0 1.02-.2 1.41-.59l7.78-7.78 2.81-2.81c.8-.78.8-2.07 0-2.86zM5.41 20L4 18.59l7.72-7.72 1.47 1.35L5.41 20z\"/>\n",
              "  </svg>\n",
              "      </button>\n",
              "      \n",
              "  <style>\n",
              "    .colab-df-container {\n",
              "      display:flex;\n",
              "      flex-wrap:wrap;\n",
              "      gap: 12px;\n",
              "    }\n",
              "\n",
              "    .colab-df-convert {\n",
              "      background-color: #E8F0FE;\n",
              "      border: none;\n",
              "      border-radius: 50%;\n",
              "      cursor: pointer;\n",
              "      display: none;\n",
              "      fill: #1967D2;\n",
              "      height: 32px;\n",
              "      padding: 0 0 0 0;\n",
              "      width: 32px;\n",
              "    }\n",
              "\n",
              "    .colab-df-convert:hover {\n",
              "      background-color: #E2EBFA;\n",
              "      box-shadow: 0px 1px 2px rgba(60, 64, 67, 0.3), 0px 1px 3px 1px rgba(60, 64, 67, 0.15);\n",
              "      fill: #174EA6;\n",
              "    }\n",
              "\n",
              "    [theme=dark] .colab-df-convert {\n",
              "      background-color: #3B4455;\n",
              "      fill: #D2E3FC;\n",
              "    }\n",
              "\n",
              "    [theme=dark] .colab-df-convert:hover {\n",
              "      background-color: #434B5C;\n",
              "      box-shadow: 0px 1px 3px 1px rgba(0, 0, 0, 0.15);\n",
              "      filter: drop-shadow(0px 1px 2px rgba(0, 0, 0, 0.3));\n",
              "      fill: #FFFFFF;\n",
              "    }\n",
              "  </style>\n",
              "\n",
              "      <script>\n",
              "        const buttonEl =\n",
              "          document.querySelector('#df-b5e14871-81a4-43d5-b6ce-ce74c8deb928 button.colab-df-convert');\n",
              "        buttonEl.style.display =\n",
              "          google.colab.kernel.accessAllowed ? 'block' : 'none';\n",
              "\n",
              "        async function convertToInteractive(key) {\n",
              "          const element = document.querySelector('#df-b5e14871-81a4-43d5-b6ce-ce74c8deb928');\n",
              "          const dataTable =\n",
              "            await google.colab.kernel.invokeFunction('convertToInteractive',\n",
              "                                                     [key], {});\n",
              "          if (!dataTable) return;\n",
              "\n",
              "          const docLinkHtml = 'Like what you see? Visit the ' +\n",
              "            '<a target=\"_blank\" href=https://colab.research.google.com/notebooks/data_table.ipynb>data table notebook</a>'\n",
              "            + ' to learn more about interactive tables.';\n",
              "          element.innerHTML = '';\n",
              "          dataTable['output_type'] = 'display_data';\n",
              "          await google.colab.output.renderOutput(dataTable, element);\n",
              "          const docLink = document.createElement('div');\n",
              "          docLink.innerHTML = docLinkHtml;\n",
              "          element.appendChild(docLink);\n",
              "        }\n",
              "      </script>\n",
              "    </div>\n",
              "  </div>\n",
              "  "
            ],
            "text/plain": [
              "               theta     kappa       rho     sigma     RMSLE  Trials  \\\n",
              "Start                                                                  \n",
              "2022-01-01  0.000147  0.000177  0.006628  0.002471   0.01042      83   \n",
              "2022-02-18  0.000041  0.000189  0.015273  0.002822  0.048189     134   \n",
              "2022-02-24  0.000162  0.000212  0.006511   0.00317  0.037923     114   \n",
              "2022-03-01  0.000106  0.000116  0.016229  0.002904  0.054562      83   \n",
              "2022-03-08  0.004007  0.000204  0.016932   0.00611  0.061927      50   \n",
              "2022-03-15  0.241138       0.0  0.005515  0.004765  0.113495      37   \n",
              "\n",
              "                 Runtime  \n",
              "Start                     \n",
              "2022-01-01  0 min 17 sec  \n",
              "2022-02-18  0 min 20 sec  \n",
              "2022-02-24  0 min 15 sec  \n",
              "2022-03-01  0 min 11 sec  \n",
              "2022-03-08  0 min  5 sec  \n",
              "2022-03-15  0 min  6 sec  "
            ]
          },
          "metadata": {},
          "output_type": "display_data"
        }
      ],
      "source": [
        "est_df = dyn_est.estimate_params()\n",
        "# Show RMSLE scores pf phases\n",
        "est_df = est_df.drop_duplicates()\n",
        "est_df.index.name = \"Start\"\n",
        "display(est_df)"
      ]
    },
    {
      "cell_type": "code",
      "execution_count": 29,
      "metadata": {
        "colab": {
          "base_uri": "https://localhost:8080/",
          "height": 313
        },
        "id": "fpnL63K0QJWt",
        "outputId": "db41fe33-004c-4b33-c285-d048d0a1dfa6"
      },
      "outputs": [
        {
          "data": {
            "text/html": [
              "\n",
              "  <div id=\"df-506e0ef7-bf56-443d-bdd7-4eba20ede85d\">\n",
              "    <div class=\"colab-df-container\">\n",
              "      <div>\n",
              "<style scoped>\n",
              "    .dataframe tbody tr th:only-of-type {\n",
              "        vertical-align: middle;\n",
              "    }\n",
              "\n",
              "    .dataframe tbody tr th {\n",
              "        vertical-align: top;\n",
              "    }\n",
              "\n",
              "    .dataframe thead th {\n",
              "        text-align: right;\n",
              "    }\n",
              "</style>\n",
              "<table border=\"1\" class=\"dataframe\">\n",
              "  <thead>\n",
              "    <tr style=\"text-align: right;\">\n",
              "      <th></th>\n",
              "      <th>Start</th>\n",
              "      <th>End</th>\n",
              "      <th>Rt</th>\n",
              "      <th>theta</th>\n",
              "      <th>kappa</th>\n",
              "      <th>rho</th>\n",
              "      <th>sigma</th>\n",
              "      <th>alpha1 [-]</th>\n",
              "      <th>1/alpha2 [day]</th>\n",
              "      <th>1/beta [day]</th>\n",
              "      <th>1/gamma [day]</th>\n",
              "    </tr>\n",
              "    <tr>\n",
              "      <th>Phase</th>\n",
              "      <th></th>\n",
              "      <th></th>\n",
              "      <th></th>\n",
              "      <th></th>\n",
              "      <th></th>\n",
              "      <th></th>\n",
              "      <th></th>\n",
              "      <th></th>\n",
              "      <th></th>\n",
              "      <th></th>\n",
              "      <th></th>\n",
              "    </tr>\n",
              "  </thead>\n",
              "  <tbody>\n",
              "    <tr>\n",
              "      <th>0th</th>\n",
              "      <td>2022-01-01</td>\n",
              "      <td>2022-02-17</td>\n",
              "      <td>2.5</td>\n",
              "      <td>0.000147</td>\n",
              "      <td>0.000177</td>\n",
              "      <td>0.006628</td>\n",
              "      <td>0.002471</td>\n",
              "      <td>0.0</td>\n",
              "      <td>188</td>\n",
              "      <td>5</td>\n",
              "      <td>13</td>\n",
              "    </tr>\n",
              "    <tr>\n",
              "      <th>1st</th>\n",
              "      <td>2022-02-18</td>\n",
              "      <td>2022-02-23</td>\n",
              "      <td>5.07</td>\n",
              "      <td>0.000041</td>\n",
              "      <td>0.000189</td>\n",
              "      <td>0.015273</td>\n",
              "      <td>0.002822</td>\n",
              "      <td>0.0</td>\n",
              "      <td>176</td>\n",
              "      <td>2</td>\n",
              "      <td>12</td>\n",
              "    </tr>\n",
              "    <tr>\n",
              "      <th>2nd</th>\n",
              "      <td>2022-02-24</td>\n",
              "      <td>2022-02-28</td>\n",
              "      <td>1.92</td>\n",
              "      <td>0.000162</td>\n",
              "      <td>0.000212</td>\n",
              "      <td>0.006511</td>\n",
              "      <td>0.00317</td>\n",
              "      <td>0.0</td>\n",
              "      <td>157</td>\n",
              "      <td>5</td>\n",
              "      <td>11</td>\n",
              "    </tr>\n",
              "    <tr>\n",
              "      <th>3rd</th>\n",
              "      <td>2022-03-01</td>\n",
              "      <td>2022-03-07</td>\n",
              "      <td>5.37</td>\n",
              "      <td>0.000106</td>\n",
              "      <td>0.000116</td>\n",
              "      <td>0.016229</td>\n",
              "      <td>0.002904</td>\n",
              "      <td>0.0</td>\n",
              "      <td>288</td>\n",
              "      <td>2</td>\n",
              "      <td>11</td>\n",
              "    </tr>\n",
              "    <tr>\n",
              "      <th>4th</th>\n",
              "      <td>2022-03-08</td>\n",
              "      <td>2022-03-14</td>\n",
              "      <td>2.67</td>\n",
              "      <td>0.004007</td>\n",
              "      <td>0.000204</td>\n",
              "      <td>0.016932</td>\n",
              "      <td>0.00611</td>\n",
              "      <td>0.004</td>\n",
              "      <td>163</td>\n",
              "      <td>2</td>\n",
              "      <td>5</td>\n",
              "    </tr>\n",
              "    <tr>\n",
              "      <th>5th</th>\n",
              "      <td>2022-03-15</td>\n",
              "      <td>2022-06-30</td>\n",
              "      <td>0.88</td>\n",
              "      <td>0.241138</td>\n",
              "      <td>0.0</td>\n",
              "      <td>0.005515</td>\n",
              "      <td>0.004765</td>\n",
              "      <td>0.241</td>\n",
              "      <td>2313029</td>\n",
              "      <td>6</td>\n",
              "      <td>7</td>\n",
              "    </tr>\n",
              "  </tbody>\n",
              "</table>\n",
              "</div>\n",
              "      <button class=\"colab-df-convert\" onclick=\"convertToInteractive('df-506e0ef7-bf56-443d-bdd7-4eba20ede85d')\"\n",
              "              title=\"Convert this dataframe to an interactive table.\"\n",
              "              style=\"display:none;\">\n",
              "        \n",
              "  <svg xmlns=\"http://www.w3.org/2000/svg\" height=\"24px\"viewBox=\"0 0 24 24\"\n",
              "       width=\"24px\">\n",
              "    <path d=\"M0 0h24v24H0V0z\" fill=\"none\"/>\n",
              "    <path d=\"M18.56 5.44l.94 2.06.94-2.06 2.06-.94-2.06-.94-.94-2.06-.94 2.06-2.06.94zm-11 1L8.5 8.5l.94-2.06 2.06-.94-2.06-.94L8.5 2.5l-.94 2.06-2.06.94zm10 10l.94 2.06.94-2.06 2.06-.94-2.06-.94-.94-2.06-.94 2.06-2.06.94z\"/><path d=\"M17.41 7.96l-1.37-1.37c-.4-.4-.92-.59-1.43-.59-.52 0-1.04.2-1.43.59L10.3 9.45l-7.72 7.72c-.78.78-.78 2.05 0 2.83L4 21.41c.39.39.9.59 1.41.59.51 0 1.02-.2 1.41-.59l7.78-7.78 2.81-2.81c.8-.78.8-2.07 0-2.86zM5.41 20L4 18.59l7.72-7.72 1.47 1.35L5.41 20z\"/>\n",
              "  </svg>\n",
              "      </button>\n",
              "      \n",
              "  <style>\n",
              "    .colab-df-container {\n",
              "      display:flex;\n",
              "      flex-wrap:wrap;\n",
              "      gap: 12px;\n",
              "    }\n",
              "\n",
              "    .colab-df-convert {\n",
              "      background-color: #E8F0FE;\n",
              "      border: none;\n",
              "      border-radius: 50%;\n",
              "      cursor: pointer;\n",
              "      display: none;\n",
              "      fill: #1967D2;\n",
              "      height: 32px;\n",
              "      padding: 0 0 0 0;\n",
              "      width: 32px;\n",
              "    }\n",
              "\n",
              "    .colab-df-convert:hover {\n",
              "      background-color: #E2EBFA;\n",
              "      box-shadow: 0px 1px 2px rgba(60, 64, 67, 0.3), 0px 1px 3px 1px rgba(60, 64, 67, 0.15);\n",
              "      fill: #174EA6;\n",
              "    }\n",
              "\n",
              "    [theme=dark] .colab-df-convert {\n",
              "      background-color: #3B4455;\n",
              "      fill: #D2E3FC;\n",
              "    }\n",
              "\n",
              "    [theme=dark] .colab-df-convert:hover {\n",
              "      background-color: #434B5C;\n",
              "      box-shadow: 0px 1px 3px 1px rgba(0, 0, 0, 0.15);\n",
              "      filter: drop-shadow(0px 1px 2px rgba(0, 0, 0, 0.3));\n",
              "      fill: #FFFFFF;\n",
              "    }\n",
              "  </style>\n",
              "\n",
              "      <script>\n",
              "        const buttonEl =\n",
              "          document.querySelector('#df-506e0ef7-bf56-443d-bdd7-4eba20ede85d button.colab-df-convert');\n",
              "        buttonEl.style.display =\n",
              "          google.colab.kernel.accessAllowed ? 'block' : 'none';\n",
              "\n",
              "        async function convertToInteractive(key) {\n",
              "          const element = document.querySelector('#df-506e0ef7-bf56-443d-bdd7-4eba20ede85d');\n",
              "          const dataTable =\n",
              "            await google.colab.kernel.invokeFunction('convertToInteractive',\n",
              "                                                     [key], {});\n",
              "          if (!dataTable) return;\n",
              "\n",
              "          const docLinkHtml = 'Like what you see? Visit the ' +\n",
              "            '<a target=\"_blank\" href=https://colab.research.google.com/notebooks/data_table.ipynb>data table notebook</a>'\n",
              "            + ' to learn more about interactive tables.';\n",
              "          element.innerHTML = '';\n",
              "          dataTable['output_type'] = 'display_data';\n",
              "          await google.colab.output.renderOutput(dataTable, element);\n",
              "          const docLink = document.createElement('div');\n",
              "          docLink.innerHTML = docLinkHtml;\n",
              "          element.appendChild(docLink);\n",
              "        }\n",
              "      </script>\n",
              "    </div>\n",
              "  </div>\n",
              "  "
            ],
            "text/plain": [
              "           Start        End    Rt     theta     kappa       rho     sigma  \\\n",
              "Phase                                                                       \n",
              "0th   2022-01-01 2022-02-17   2.5  0.000147  0.000177  0.006628  0.002471   \n",
              "1st   2022-02-18 2022-02-23  5.07  0.000041  0.000189  0.015273  0.002822   \n",
              "2nd   2022-02-24 2022-02-28  1.92  0.000162  0.000212  0.006511   0.00317   \n",
              "3rd   2022-03-01 2022-03-07  5.37  0.000106  0.000116  0.016229  0.002904   \n",
              "4th   2022-03-08 2022-03-14  2.67  0.004007  0.000204  0.016932   0.00611   \n",
              "5th   2022-03-15 2022-06-30  0.88  0.241138       0.0  0.005515  0.004765   \n",
              "\n",
              "       alpha1 [-]  1/alpha2 [day]  1/beta [day]  1/gamma [day]  \n",
              "Phase                                                           \n",
              "0th           0.0             188             5             13  \n",
              "1st           0.0             176             2             12  \n",
              "2nd           0.0             157             5             11  \n",
              "3rd           0.0             288             2             11  \n",
              "4th         0.004             163             2              5  \n",
              "5th         0.241         2313029             6              7  "
            ]
          },
          "execution_count": 29,
          "metadata": {},
          "output_type": "execute_result"
        }
      ],
      "source": [
        "dyn_est.summary()"
      ]
    },
    {
      "cell_type": "markdown",
      "metadata": {
        "id": "j6TdX8d0ypui"
      },
      "source": [
        "## 4. With actual data\n",
        "This section demonstrates how to divide actual time-series data with phases (\"S-R change point analysis\") and to estimate ODE parameter values of phases (\"ODE parameter estimation\")."
      ]
    },
    {
      "cell_type": "markdown",
      "metadata": {
        "id": "Gtxn1Rb4ykO3"
      },
      "source": [
        "### 4-1. Data preparation\n",
        "Prepare actual prefecture-level time-series data in Japan for demonstration."
      ]
    },
    {
      "cell_type": "markdown",
      "metadata": {
        "id": "uX5PyJ3oycno"
      },
      "source": [
        "Download the dataset."
      ]
    },
    {
      "cell_type": "code",
      "execution_count": 30,
      "metadata": {
        "colab": {
          "base_uri": "https://localhost:8080/"
        },
        "id": "fyDXuJGRyd1Y",
        "outputId": "2b740ef5-0400-42af-995f-5d53333270dc"
      },
      "outputs": [
        {
          "name": "stdout",
          "output_type": "stream",
          "text": [
            "Retrieving COVID-19 dataset from https://github.com/lisphilar/covid19-sir/data/\n",
            "Retrieving datasets from COVID-19 Data Hub https://covid19datahub.io/\n"
          ]
        }
      ],
      "source": [
        "eng = cs.DataEngineer()\n",
        "eng.download(country=None, databases=[\"japan\", \"covid19dh\"]);"
      ]
    },
    {
      "cell_type": "markdown",
      "metadata": {
        "id": "7_2NSubiyZxn"
      },
      "source": [
        "Data cleaning, transformation, subsetting, complement."
      ]
    },
    {
      "cell_type": "code",
      "execution_count": 31,
      "metadata": {
        "colab": {
          "base_uri": "https://localhost:8080/",
          "height": 290
        },
        "id": "3HgEyZ2MyToz",
        "outputId": "b0e2d50e-f5bd-4032-870f-53424ea81d07"
      },
      "outputs": [
        {
          "name": "stdout",
          "output_type": "stream",
          "text": [
            "monotonic increasing complemented confirmed data and \n",
            "monotonic increasing complemented fatal data and \n",
            "monotonic increasing complemented recovered data\n"
          ]
        },
        {
          "data": {
            "text/html": [
              "\n",
              "  <div id=\"df-831be6ed-efbe-496d-9aa7-a108e76729e2\">\n",
              "    <div class=\"colab-df-container\">\n",
              "      <div>\n",
              "<style scoped>\n",
              "    .dataframe tbody tr th:only-of-type {\n",
              "        vertical-align: middle;\n",
              "    }\n",
              "\n",
              "    .dataframe tbody tr th {\n",
              "        vertical-align: top;\n",
              "    }\n",
              "\n",
              "    .dataframe thead th {\n",
              "        text-align: right;\n",
              "    }\n",
              "</style>\n",
              "<table border=\"1\" class=\"dataframe\">\n",
              "  <thead>\n",
              "    <tr style=\"text-align: right;\">\n",
              "      <th></th>\n",
              "      <th>Susceptible</th>\n",
              "      <th>Infected</th>\n",
              "      <th>Recovered</th>\n",
              "      <th>Fatal</th>\n",
              "    </tr>\n",
              "    <tr>\n",
              "      <th>Date</th>\n",
              "      <th></th>\n",
              "      <th></th>\n",
              "      <th></th>\n",
              "      <th></th>\n",
              "    </tr>\n",
              "  </thead>\n",
              "  <tbody>\n",
              "    <tr>\n",
              "      <th>2022-08-01</th>\n",
              "      <td>11754165</td>\n",
              "      <td>279748</td>\n",
              "      <td>1904271</td>\n",
              "      <td>4672</td>\n",
              "    </tr>\n",
              "    <tr>\n",
              "      <th>2022-08-02</th>\n",
              "      <td>11723323</td>\n",
              "      <td>265708</td>\n",
              "      <td>1949144</td>\n",
              "      <td>4681</td>\n",
              "    </tr>\n",
              "    <tr>\n",
              "      <th>2022-08-03</th>\n",
              "      <td>11684383</td>\n",
              "      <td>290580</td>\n",
              "      <td>1963200</td>\n",
              "      <td>4693</td>\n",
              "    </tr>\n",
              "    <tr>\n",
              "      <th>2022-08-04</th>\n",
              "      <td>11649044</td>\n",
              "      <td>280287</td>\n",
              "      <td>2008817</td>\n",
              "      <td>4708</td>\n",
              "    </tr>\n",
              "    <tr>\n",
              "      <th>2022-08-05</th>\n",
              "      <td>11611277</td>\n",
              "      <td>290316</td>\n",
              "      <td>2036534</td>\n",
              "      <td>4729</td>\n",
              "    </tr>\n",
              "  </tbody>\n",
              "</table>\n",
              "</div>\n",
              "      <button class=\"colab-df-convert\" onclick=\"convertToInteractive('df-831be6ed-efbe-496d-9aa7-a108e76729e2')\"\n",
              "              title=\"Convert this dataframe to an interactive table.\"\n",
              "              style=\"display:none;\">\n",
              "        \n",
              "  <svg xmlns=\"http://www.w3.org/2000/svg\" height=\"24px\"viewBox=\"0 0 24 24\"\n",
              "       width=\"24px\">\n",
              "    <path d=\"M0 0h24v24H0V0z\" fill=\"none\"/>\n",
              "    <path d=\"M18.56 5.44l.94 2.06.94-2.06 2.06-.94-2.06-.94-.94-2.06-.94 2.06-2.06.94zm-11 1L8.5 8.5l.94-2.06 2.06-.94-2.06-.94L8.5 2.5l-.94 2.06-2.06.94zm10 10l.94 2.06.94-2.06 2.06-.94-2.06-.94-.94-2.06-.94 2.06-2.06.94z\"/><path d=\"M17.41 7.96l-1.37-1.37c-.4-.4-.92-.59-1.43-.59-.52 0-1.04.2-1.43.59L10.3 9.45l-7.72 7.72c-.78.78-.78 2.05 0 2.83L4 21.41c.39.39.9.59 1.41.59.51 0 1.02-.2 1.41-.59l7.78-7.78 2.81-2.81c.8-.78.8-2.07 0-2.86zM5.41 20L4 18.59l7.72-7.72 1.47 1.35L5.41 20z\"/>\n",
              "  </svg>\n",
              "      </button>\n",
              "      \n",
              "  <style>\n",
              "    .colab-df-container {\n",
              "      display:flex;\n",
              "      flex-wrap:wrap;\n",
              "      gap: 12px;\n",
              "    }\n",
              "\n",
              "    .colab-df-convert {\n",
              "      background-color: #E8F0FE;\n",
              "      border: none;\n",
              "      border-radius: 50%;\n",
              "      cursor: pointer;\n",
              "      display: none;\n",
              "      fill: #1967D2;\n",
              "      height: 32px;\n",
              "      padding: 0 0 0 0;\n",
              "      width: 32px;\n",
              "    }\n",
              "\n",
              "    .colab-df-convert:hover {\n",
              "      background-color: #E2EBFA;\n",
              "      box-shadow: 0px 1px 2px rgba(60, 64, 67, 0.3), 0px 1px 3px 1px rgba(60, 64, 67, 0.15);\n",
              "      fill: #174EA6;\n",
              "    }\n",
              "\n",
              "    [theme=dark] .colab-df-convert {\n",
              "      background-color: #3B4455;\n",
              "      fill: #D2E3FC;\n",
              "    }\n",
              "\n",
              "    [theme=dark] .colab-df-convert:hover {\n",
              "      background-color: #434B5C;\n",
              "      box-shadow: 0px 1px 3px 1px rgba(0, 0, 0, 0.15);\n",
              "      filter: drop-shadow(0px 1px 2px rgba(0, 0, 0, 0.3));\n",
              "      fill: #FFFFFF;\n",
              "    }\n",
              "  </style>\n",
              "\n",
              "      <script>\n",
              "        const buttonEl =\n",
              "          document.querySelector('#df-831be6ed-efbe-496d-9aa7-a108e76729e2 button.colab-df-convert');\n",
              "        buttonEl.style.display =\n",
              "          google.colab.kernel.accessAllowed ? 'block' : 'none';\n",
              "\n",
              "        async function convertToInteractive(key) {\n",
              "          const element = document.querySelector('#df-831be6ed-efbe-496d-9aa7-a108e76729e2');\n",
              "          const dataTable =\n",
              "            await google.colab.kernel.invokeFunction('convertToInteractive',\n",
              "                                                     [key], {});\n",
              "          if (!dataTable) return;\n",
              "\n",
              "          const docLinkHtml = 'Like what you see? Visit the ' +\n",
              "            '<a target=\"_blank\" href=https://colab.research.google.com/notebooks/data_table.ipynb>data table notebook</a>'\n",
              "            + ' to learn more about interactive tables.';\n",
              "          element.innerHTML = '';\n",
              "          dataTable['output_type'] = 'display_data';\n",
              "          await google.colab.output.renderOutput(dataTable, element);\n",
              "          const docLink = document.createElement('div');\n",
              "          docLink.innerHTML = docLinkHtml;\n",
              "          element.appendChild(docLink);\n",
              "        }\n",
              "      </script>\n",
              "    </div>\n",
              "  </div>\n",
              "  "
            ],
            "text/plain": [
              "            Susceptible  Infected  Recovered  Fatal\n",
              "Date                                               \n",
              "2022-08-01     11754165    279748    1904271   4672\n",
              "2022-08-02     11723323    265708    1949144   4681\n",
              "2022-08-03     11684383    290580    1963200   4693\n",
              "2022-08-04     11649044    280287    2008817   4708\n",
              "2022-08-05     11611277    290316    2036534   4729"
            ]
          },
          "execution_count": 31,
          "metadata": {},
          "output_type": "execute_result"
        }
      ],
      "source": [
        "eng.clean()\n",
        "eng.transform()\n",
        "actual_df, status, _ = eng.subset(geo=(\"Japan\",), variables=\"SIRF\", complement=True)\n",
        "print(status)\n",
        "actual_df.tail()"
      ]
    },
    {
      "cell_type": "markdown",
      "metadata": {
        "id": "AQJ0cehsyOzS"
      },
      "source": [
        "Plotting: removed \"Susceptible\" from the figure because \"Susceptible\" >> max(\"Infected\", \"Infected\", \"Recovered\")."
      ]
    },
    {
      "cell_type": "code",
      "execution_count": 32,
      "metadata": {
        "colab": {
          "base_uri": "https://localhost:8080/",
          "height": 297
        },
        "id": "V4wov0m-gFzt",
        "outputId": "6dbc2b8e-02ca-45b5-fc75-17014e9ac5e2"
      },
      "outputs": [
        {
          "data": {
            "image/png": "[encoded data removed]",
            "text/plain": [
              "<Figure size 432x288 with 1 Axes>"
            ]
          },
          "metadata": {
            "needs_background": "light"
          },
          "output_type": "display_data"
        }
      ],
      "source": [
        "cs.line_plot(actual_df.drop(\"Susceptible\", axis=1), \"Actual data in Japan\")"
      ]
    },
    {
      "cell_type": "markdown",
      "metadata": {
        "id": "CIVFeSLXgXZg"
      },
      "source": [
        "With the data, create an instance of `Dynamics` class."
      ]
    },
    {
      "cell_type": "code",
      "execution_count": 33,
      "metadata": {
        "colab": {
          "base_uri": "https://localhost:8080/",
          "height": 238
        },
        "id": "M2ONiP5Age0D",
        "outputId": "5d5d0c83-51c6-4b04-e942-bee22a6b5aee"
      },
      "outputs": [
        {
          "data": {
            "text/html": [
              "\n",
              "  <div id=\"df-1971562f-9ae1-4107-acb3-b5ad923445c1\">\n",
              "    <div class=\"colab-df-container\">\n",
              "      <div>\n",
              "<style scoped>\n",
              "    .dataframe tbody tr th:only-of-type {\n",
              "        vertical-align: middle;\n",
              "    }\n",
              "\n",
              "    .dataframe tbody tr th {\n",
              "        vertical-align: top;\n",
              "    }\n",
              "\n",
              "    .dataframe thead th {\n",
              "        text-align: right;\n",
              "    }\n",
              "</style>\n",
              "<table border=\"1\" class=\"dataframe\">\n",
              "  <thead>\n",
              "    <tr style=\"text-align: right;\">\n",
              "      <th></th>\n",
              "      <th>Susceptible</th>\n",
              "      <th>Infected</th>\n",
              "      <th>Recovered</th>\n",
              "      <th>Fatal</th>\n",
              "      <th>theta</th>\n",
              "      <th>kappa</th>\n",
              "      <th>rho</th>\n",
              "      <th>sigma</th>\n",
              "    </tr>\n",
              "    <tr>\n",
              "      <th>Date</th>\n",
              "      <th></th>\n",
              "      <th></th>\n",
              "      <th></th>\n",
              "      <th></th>\n",
              "      <th></th>\n",
              "      <th></th>\n",
              "      <th></th>\n",
              "      <th></th>\n",
              "    </tr>\n",
              "  </thead>\n",
              "  <tbody>\n",
              "    <tr>\n",
              "      <th>2022-08-01</th>\n",
              "      <td>11754165</td>\n",
              "      <td>279748</td>\n",
              "      <td>1904271</td>\n",
              "      <td>4672</td>\n",
              "      <td>&lt;NA&gt;</td>\n",
              "      <td>&lt;NA&gt;</td>\n",
              "      <td>&lt;NA&gt;</td>\n",
              "      <td>&lt;NA&gt;</td>\n",
              "    </tr>\n",
              "    <tr>\n",
              "      <th>2022-08-02</th>\n",
              "      <td>11723323</td>\n",
              "      <td>265708</td>\n",
              "      <td>1949144</td>\n",
              "      <td>4681</td>\n",
              "      <td>&lt;NA&gt;</td>\n",
              "      <td>&lt;NA&gt;</td>\n",
              "      <td>&lt;NA&gt;</td>\n",
              "      <td>&lt;NA&gt;</td>\n",
              "    </tr>\n",
              "    <tr>\n",
              "      <th>2022-08-03</th>\n",
              "      <td>11684383</td>\n",
              "      <td>290580</td>\n",
              "      <td>1963200</td>\n",
              "      <td>4693</td>\n",
              "      <td>&lt;NA&gt;</td>\n",
              "      <td>&lt;NA&gt;</td>\n",
              "      <td>&lt;NA&gt;</td>\n",
              "      <td>&lt;NA&gt;</td>\n",
              "    </tr>\n",
              "    <tr>\n",
              "      <th>2022-08-04</th>\n",
              "      <td>11649044</td>\n",
              "      <td>280287</td>\n",
              "      <td>2008817</td>\n",
              "      <td>4708</td>\n",
              "      <td>&lt;NA&gt;</td>\n",
              "      <td>&lt;NA&gt;</td>\n",
              "      <td>&lt;NA&gt;</td>\n",
              "      <td>&lt;NA&gt;</td>\n",
              "    </tr>\n",
              "    <tr>\n",
              "      <th>2022-08-05</th>\n",
              "      <td>11611277</td>\n",
              "      <td>290316</td>\n",
              "      <td>2036534</td>\n",
              "      <td>4729</td>\n",
              "      <td>&lt;NA&gt;</td>\n",
              "      <td>&lt;NA&gt;</td>\n",
              "      <td>&lt;NA&gt;</td>\n",
              "      <td>&lt;NA&gt;</td>\n",
              "    </tr>\n",
              "  </tbody>\n",
              "</table>\n",
              "</div>\n",
              "      <button class=\"colab-df-convert\" onclick=\"convertToInteractive('df-1971562f-9ae1-4107-acb3-b5ad923445c1')\"\n",
              "              title=\"Convert this dataframe to an interactive table.\"\n",
              "              style=\"display:none;\">\n",
              "        \n",
              "  <svg xmlns=\"http://www.w3.org/2000/svg\" height=\"24px\"viewBox=\"0 0 24 24\"\n",
              "       width=\"24px\">\n",
              "    <path d=\"M0 0h24v24H0V0z\" fill=\"none\"/>\n",
              "    <path d=\"M18.56 5.44l.94 2.06.94-2.06 2.06-.94-2.06-.94-.94-2.06-.94 2.06-2.06.94zm-11 1L8.5 8.5l.94-2.06 2.06-.94-2.06-.94L8.5 2.5l-.94 2.06-2.06.94zm10 10l.94 2.06.94-2.06 2.06-.94-2.06-.94-.94-2.06-.94 2.06-2.06.94z\"/><path d=\"M17.41 7.96l-1.37-1.37c-.4-.4-.92-.59-1.43-.59-.52 0-1.04.2-1.43.59L10.3 9.45l-7.72 7.72c-.78.78-.78 2.05 0 2.83L4 21.41c.39.39.9.59 1.41.59.51 0 1.02-.2 1.41-.59l7.78-7.78 2.81-2.81c.8-.78.8-2.07 0-2.86zM5.41 20L4 18.59l7.72-7.72 1.47 1.35L5.41 20z\"/>\n",
              "  </svg>\n",
              "      </button>\n",
              "      \n",
              "  <style>\n",
              "    .colab-df-container {\n",
              "      display:flex;\n",
              "      flex-wrap:wrap;\n",
              "      gap: 12px;\n",
              "    }\n",
              "\n",
              "    .colab-df-convert {\n",
              "      background-color: #E8F0FE;\n",
              "      border: none;\n",
              "      border-radius: 50%;\n",
              "      cursor: pointer;\n",
              "      display: none;\n",
              "      fill: #1967D2;\n",
              "      height: 32px;\n",
              "      padding: 0 0 0 0;\n",
              "      width: 32px;\n",
              "    }\n",
              "\n",
              "    .colab-df-convert:hover {\n",
              "      background-color: #E2EBFA;\n",
              "      box-shadow: 0px 1px 2px rgba(60, 64, 67, 0.3), 0px 1px 3px 1px rgba(60, 64, 67, 0.15);\n",
              "      fill: #174EA6;\n",
              "    }\n",
              "\n",
              "    [theme=dark] .colab-df-convert {\n",
              "      background-color: #3B4455;\n",
              "      fill: #D2E3FC;\n",
              "    }\n",
              "\n",
              "    [theme=dark] .colab-df-convert:hover {\n",
              "      background-color: #434B5C;\n",
              "      box-shadow: 0px 1px 3px 1px rgba(0, 0, 0, 0.15);\n",
              "      filter: drop-shadow(0px 1px 2px rgba(0, 0, 0, 0.3));\n",
              "      fill: #FFFFFF;\n",
              "    }\n",
              "  </style>\n",
              "\n",
              "      <script>\n",
              "        const buttonEl =\n",
              "          document.querySelector('#df-1971562f-9ae1-4107-acb3-b5ad923445c1 button.colab-df-convert');\n",
              "        buttonEl.style.display =\n",
              "          google.colab.kernel.accessAllowed ? 'block' : 'none';\n",
              "\n",
              "        async function convertToInteractive(key) {\n",
              "          const element = document.querySelector('#df-1971562f-9ae1-4107-acb3-b5ad923445c1');\n",
              "          const dataTable =\n",
              "            await google.colab.kernel.invokeFunction('convertToInteractive',\n",
              "                                                     [key], {});\n",
              "          if (!dataTable) return;\n",
              "\n",
              "          const docLinkHtml = 'Like what you see? Visit the ' +\n",
              "            '<a target=\"_blank\" href=https://colab.research.google.com/notebooks/data_table.ipynb>data table notebook</a>'\n",
              "            + ' to learn more about interactive tables.';\n",
              "          element.innerHTML = '';\n",
              "          dataTable['output_type'] = 'display_data';\n",
              "          await google.colab.output.renderOutput(dataTable, element);\n",
              "          const docLink = document.createElement('div');\n",
              "          docLink.innerHTML = docLinkHtml;\n",
              "          element.appendChild(docLink);\n",
              "        }\n",
              "      </script>\n",
              "    </div>\n",
              "  </div>\n",
              "  "
            ],
            "text/plain": [
              "            Susceptible  Infected  Recovered  Fatal  theta  kappa   rho  sigma\n",
              "Date                                                                          \n",
              "2022-08-01     11754165    279748    1904271   4672   <NA>   <NA>  <NA>   <NA>\n",
              "2022-08-02     11723323    265708    1949144   4681   <NA>   <NA>  <NA>   <NA>\n",
              "2022-08-03     11684383    290580    1963200   4693   <NA>   <NA>  <NA>   <NA>\n",
              "2022-08-04     11649044    280287    2008817   4708   <NA>   <NA>  <NA>   <NA>\n",
              "2022-08-05     11611277    290316    2036534   4729   <NA>   <NA>  <NA>   <NA>"
            ]
          },
          "execution_count": 33,
          "metadata": {},
          "output_type": "execute_result"
        }
      ],
      "source": [
        "dyn_act = cs.Dynamics.from_data(model=cs.SIRFModel, data=actual_df, name=\"Japan\")\n",
        "# Show registered values\n",
        "dyn_act.register().tail()"
      ]
    },
    {
      "cell_type": "code",
      "execution_count": 34,
      "metadata": {
        "colab": {
          "base_uri": "https://localhost:8080/",
          "height": 112
        },
        "id": "xcEItU_RhaQI",
        "outputId": "d64250f1-0bfb-4cb0-b306-992e7b8b44cf"
      },
      "outputs": [
        {
          "data": {
            "text/html": [
              "\n",
              "  <div id=\"df-d871ab56-c498-49a2-bcdc-78c47705d4c6\">\n",
              "    <div class=\"colab-df-container\">\n",
              "      <div>\n",
              "<style scoped>\n",
              "    .dataframe tbody tr th:only-of-type {\n",
              "        vertical-align: middle;\n",
              "    }\n",
              "\n",
              "    .dataframe tbody tr th {\n",
              "        vertical-align: top;\n",
              "    }\n",
              "\n",
              "    .dataframe thead th {\n",
              "        text-align: right;\n",
              "    }\n",
              "</style>\n",
              "<table border=\"1\" class=\"dataframe\">\n",
              "  <thead>\n",
              "    <tr style=\"text-align: right;\">\n",
              "      <th></th>\n",
              "      <th>Start</th>\n",
              "      <th>End</th>\n",
              "    </tr>\n",
              "    <tr>\n",
              "      <th>Phase</th>\n",
              "      <th></th>\n",
              "      <th></th>\n",
              "    </tr>\n",
              "  </thead>\n",
              "  <tbody>\n",
              "    <tr>\n",
              "      <th>0th</th>\n",
              "      <td>2020-01-15</td>\n",
              "      <td>2022-08-05</td>\n",
              "    </tr>\n",
              "  </tbody>\n",
              "</table>\n",
              "</div>\n",
              "      <button class=\"colab-df-convert\" onclick=\"convertToInteractive('df-d871ab56-c498-49a2-bcdc-78c47705d4c6')\"\n",
              "              title=\"Convert this dataframe to an interactive table.\"\n",
              "              style=\"display:none;\">\n",
              "        \n",
              "  <svg xmlns=\"http://www.w3.org/2000/svg\" height=\"24px\"viewBox=\"0 0 24 24\"\n",
              "       width=\"24px\">\n",
              "    <path d=\"M0 0h24v24H0V0z\" fill=\"none\"/>\n",
              "    <path d=\"M18.56 5.44l.94 2.06.94-2.06 2.06-.94-2.06-.94-.94-2.06-.94 2.06-2.06.94zm-11 1L8.5 8.5l.94-2.06 2.06-.94-2.06-.94L8.5 2.5l-.94 2.06-2.06.94zm10 10l.94 2.06.94-2.06 2.06-.94-2.06-.94-.94-2.06-.94 2.06-2.06.94z\"/><path d=\"M17.41 7.96l-1.37-1.37c-.4-.4-.92-.59-1.43-.59-.52 0-1.04.2-1.43.59L10.3 9.45l-7.72 7.72c-.78.78-.78 2.05 0 2.83L4 21.41c.39.39.9.59 1.41.59.51 0 1.02-.2 1.41-.59l7.78-7.78 2.81-2.81c.8-.78.8-2.07 0-2.86zM5.41 20L4 18.59l7.72-7.72 1.47 1.35L5.41 20z\"/>\n",
              "  </svg>\n",
              "      </button>\n",
              "      \n",
              "  <style>\n",
              "    .colab-df-container {\n",
              "      display:flex;\n",
              "      flex-wrap:wrap;\n",
              "      gap: 12px;\n",
              "    }\n",
              "\n",
              "    .colab-df-convert {\n",
              "      background-color: #E8F0FE;\n",
              "      border: none;\n",
              "      border-radius: 50%;\n",
              "      cursor: pointer;\n",
              "      display: none;\n",
              "      fill: #1967D2;\n",
              "      height: 32px;\n",
              "      padding: 0 0 0 0;\n",
              "      width: 32px;\n",
              "    }\n",
              "\n",
              "    .colab-df-convert:hover {\n",
              "      background-color: #E2EBFA;\n",
              "      box-shadow: 0px 1px 2px rgba(60, 64, 67, 0.3), 0px 1px 3px 1px rgba(60, 64, 67, 0.15);\n",
              "      fill: #174EA6;\n",
              "    }\n",
              "\n",
              "    [theme=dark] .colab-df-convert {\n",
              "      background-color: #3B4455;\n",
              "      fill: #D2E3FC;\n",
              "    }\n",
              "\n",
              "    [theme=dark] .colab-df-convert:hover {\n",
              "      background-color: #434B5C;\n",
              "      box-shadow: 0px 1px 3px 1px rgba(0, 0, 0, 0.15);\n",
              "      filter: drop-shadow(0px 1px 2px rgba(0, 0, 0, 0.3));\n",
              "      fill: #FFFFFF;\n",
              "    }\n",
              "  </style>\n",
              "\n",
              "      <script>\n",
              "        const buttonEl =\n",
              "          document.querySelector('#df-d871ab56-c498-49a2-bcdc-78c47705d4c6 button.colab-df-convert');\n",
              "        buttonEl.style.display =\n",
              "          google.colab.kernel.accessAllowed ? 'block' : 'none';\n",
              "\n",
              "        async function convertToInteractive(key) {\n",
              "          const element = document.querySelector('#df-d871ab56-c498-49a2-bcdc-78c47705d4c6');\n",
              "          const dataTable =\n",
              "            await google.colab.kernel.invokeFunction('convertToInteractive',\n",
              "                                                     [key], {});\n",
              "          if (!dataTable) return;\n",
              "\n",
              "          const docLinkHtml = 'Like what you see? Visit the ' +\n",
              "            '<a target=\"_blank\" href=https://colab.research.google.com/notebooks/data_table.ipynb>data table notebook</a>'\n",
              "            + ' to learn more about interactive tables.';\n",
              "          element.innerHTML = '';\n",
              "          dataTable['output_type'] = 'display_data';\n",
              "          await google.colab.output.renderOutput(dataTable, element);\n",
              "          const docLink = document.createElement('div');\n",
              "          docLink.innerHTML = docLinkHtml;\n",
              "          element.appendChild(docLink);\n",
              "        }\n",
              "      </script>\n",
              "    </div>\n",
              "  </div>\n",
              "  "
            ],
            "text/plain": [
              "           Start        End\n",
              "Phase                      \n",
              "0th   2020-01-15 2022-08-05"
            ]
          },
          "execution_count": 34,
          "metadata": {},
          "output_type": "execute_result"
        }
      ],
      "source": [
        "# Show summary\n",
        "dyn_act.summary()"
      ]
    },
    {
      "cell_type": "markdown",
      "metadata": {
        "id": "9mSf2WevzX8o"
      },
      "source": [
        "### 4-2. Time-series segmentation\n",
        "With `Dynamics.segment()`, we will apply S-R change point analysis (trend analysis) to the prepared actual data."
      ]
    },
    {
      "cell_type": "code",
      "execution_count": 35,
      "metadata": {
        "colab": {
          "base_uri": "https://localhost:8080/",
          "height": 418
        },
        "id": "xqIT8cgIz428",
        "outputId": "06ce58bc-162c-4868-ca87-56b53da3f842"
      },
      "outputs": [
        {
          "data": {
            "image/png": "[encoded data removed]",
            "text/plain": [
              "<Figure size 432x288 with 1 Axes>"
            ]
          },
          "metadata": {
            "needs_background": "light"
          },
          "output_type": "display_data"
        },
        {
          "data": {
            "text/html": [
              "\n",
              "  <div id=\"df-9a0cecec-7d52-4ef0-8b9b-819e864f39b0\">\n",
              "    <div class=\"colab-df-container\">\n",
              "      <div>\n",
              "<style scoped>\n",
              "    .dataframe tbody tr th:only-of-type {\n",
              "        vertical-align: middle;\n",
              "    }\n",
              "\n",
              "    .dataframe tbody tr th {\n",
              "        vertical-align: top;\n",
              "    }\n",
              "\n",
              "    .dataframe thead th {\n",
              "        text-align: right;\n",
              "    }\n",
              "</style>\n",
              "<table border=\"1\" class=\"dataframe\">\n",
              "  <thead>\n",
              "    <tr style=\"text-align: right;\">\n",
              "      <th>Phase</th>\n",
              "      <th>0th</th>\n",
              "      <th>1st</th>\n",
              "      <th>2nd</th>\n",
              "      <th>3rd</th>\n",
              "      <th>4th</th>\n",
              "      <th>5th</th>\n",
              "      <th>6th</th>\n",
              "      <th>7th</th>\n",
              "      <th>8th</th>\n",
              "      <th>9th</th>\n",
              "      <th>10th</th>\n",
              "      <th>11th</th>\n",
              "    </tr>\n",
              "  </thead>\n",
              "  <tbody>\n",
              "    <tr>\n",
              "      <th>Start</th>\n",
              "      <td>2020-01-15</td>\n",
              "      <td>2020-08-02</td>\n",
              "      <td>2020-10-07</td>\n",
              "      <td>2021-01-10</td>\n",
              "      <td>2021-03-02</td>\n",
              "      <td>2021-05-06</td>\n",
              "      <td>2021-08-06</td>\n",
              "      <td>2021-09-25</td>\n",
              "      <td>2021-12-06</td>\n",
              "      <td>2022-01-27</td>\n",
              "      <td>2022-04-04</td>\n",
              "      <td>2022-06-16</td>\n",
              "    </tr>\n",
              "    <tr>\n",
              "      <th>End</th>\n",
              "      <td>2020-08-01</td>\n",
              "      <td>2020-10-06</td>\n",
              "      <td>2021-01-09</td>\n",
              "      <td>2021-03-01</td>\n",
              "      <td>2021-05-05</td>\n",
              "      <td>2021-08-05</td>\n",
              "      <td>2021-09-24</td>\n",
              "      <td>2021-12-05</td>\n",
              "      <td>2022-01-26</td>\n",
              "      <td>2022-04-03</td>\n",
              "      <td>2022-06-15</td>\n",
              "      <td>2022-08-05</td>\n",
              "    </tr>\n",
              "  </tbody>\n",
              "</table>\n",
              "</div>\n",
              "      <button class=\"colab-df-convert\" onclick=\"convertToInteractive('df-9a0cecec-7d52-4ef0-8b9b-819e864f39b0')\"\n",
              "              title=\"Convert this dataframe to an interactive table.\"\n",
              "              style=\"display:none;\">\n",
              "        \n",
              "  <svg xmlns=\"http://www.w3.org/2000/svg\" height=\"24px\"viewBox=\"0 0 24 24\"\n",
              "       width=\"24px\">\n",
              "    <path d=\"M0 0h24v24H0V0z\" fill=\"none\"/>\n",
              "    <path d=\"M18.56 5.44l.94 2.06.94-2.06 2.06-.94-2.06-.94-.94-2.06-.94 2.06-2.06.94zm-11 1L8.5 8.5l.94-2.06 2.06-.94-2.06-.94L8.5 2.5l-.94 2.06-2.06.94zm10 10l.94 2.06.94-2.06 2.06-.94-2.06-.94-.94-2.06-.94 2.06-2.06.94z\"/><path d=\"M17.41 7.96l-1.37-1.37c-.4-.4-.92-.59-1.43-.59-.52 0-1.04.2-1.43.59L10.3 9.45l-7.72 7.72c-.78.78-.78 2.05 0 2.83L4 21.41c.39.39.9.59 1.41.59.51 0 1.02-.2 1.41-.59l7.78-7.78 2.81-2.81c.8-.78.8-2.07 0-2.86zM5.41 20L4 18.59l7.72-7.72 1.47 1.35L5.41 20z\"/>\n",
              "  </svg>\n",
              "      </button>\n",
              "      \n",
              "  <style>\n",
              "    .colab-df-container {\n",
              "      display:flex;\n",
              "      flex-wrap:wrap;\n",
              "      gap: 12px;\n",
              "    }\n",
              "\n",
              "    .colab-df-convert {\n",
              "      background-color: #E8F0FE;\n",
              "      border: none;\n",
              "      border-radius: 50%;\n",
              "      cursor: pointer;\n",
              "      display: none;\n",
              "      fill: #1967D2;\n",
              "      height: 32px;\n",
              "      padding: 0 0 0 0;\n",
              "      width: 32px;\n",
              "    }\n",
              "\n",
              "    .colab-df-convert:hover {\n",
              "      background-color: #E2EBFA;\n",
              "      box-shadow: 0px 1px 2px rgba(60, 64, 67, 0.3), 0px 1px 3px 1px rgba(60, 64, 67, 0.15);\n",
              "      fill: #174EA6;\n",
              "    }\n",
              "\n",
              "    [theme=dark] .colab-df-convert {\n",
              "      background-color: #3B4455;\n",
              "      fill: #D2E3FC;\n",
              "    }\n",
              "\n",
              "    [theme=dark] .colab-df-convert:hover {\n",
              "      background-color: #434B5C;\n",
              "      box-shadow: 0px 1px 3px 1px rgba(0, 0, 0, 0.15);\n",
              "      filter: drop-shadow(0px 1px 2px rgba(0, 0, 0, 0.3));\n",
              "      fill: #FFFFFF;\n",
              "    }\n",
              "  </style>\n",
              "\n",
              "      <script>\n",
              "        const buttonEl =\n",
              "          document.querySelector('#df-9a0cecec-7d52-4ef0-8b9b-819e864f39b0 button.colab-df-convert');\n",
              "        buttonEl.style.display =\n",
              "          google.colab.kernel.accessAllowed ? 'block' : 'none';\n",
              "\n",
              "        async function convertToInteractive(key) {\n",
              "          const element = document.querySelector('#df-9a0cecec-7d52-4ef0-8b9b-819e864f39b0');\n",
              "          const dataTable =\n",
              "            await google.colab.kernel.invokeFunction('convertToInteractive',\n",
              "                                                     [key], {});\n",
              "          if (!dataTable) return;\n",
              "\n",
              "          const docLinkHtml = 'Like what you see? Visit the ' +\n",
              "            '<a target=\"_blank\" href=https://colab.research.google.com/notebooks/data_table.ipynb>data table notebook</a>'\n",
              "            + ' to learn more about interactive tables.';\n",
              "          element.innerHTML = '';\n",
              "          dataTable['output_type'] = 'display_data';\n",
              "          await google.colab.output.renderOutput(dataTable, element);\n",
              "          const docLink = document.createElement('div');\n",
              "          docLink.innerHTML = docLinkHtml;\n",
              "          element.appendChild(docLink);\n",
              "        }\n",
              "      </script>\n",
              "    </div>\n",
              "  </div>\n",
              "  "
            ],
            "text/plain": [
              "Phase        0th        1st        2nd        3rd        4th        5th  \\\n",
              "Start 2020-01-15 2020-08-02 2020-10-07 2021-01-10 2021-03-02 2021-05-06   \n",
              "End   2020-08-01 2020-10-06 2021-01-09 2021-03-01 2021-05-05 2021-08-05   \n",
              "\n",
              "Phase        6th        7th        8th        9th       10th       11th  \n",
              "Start 2021-08-06 2021-09-25 2021-12-06 2022-01-27 2022-04-04 2022-06-16  \n",
              "End   2021-09-24 2021-12-05 2022-01-26 2022-04-03 2022-06-15 2022-08-05  "
            ]
          },
          "execution_count": 35,
          "metadata": {},
          "output_type": "execute_result"
        }
      ],
      "source": [
        "dyn_act.segment(algo=\"Binseg-normal\", min_size=50, overwrite=True);\n",
        "# Show summary\n",
        "dyn_act.summary().T"
      ]
    },
    {
      "cell_type": "markdown",
      "metadata": {
        "id": "Y0T69l_GZaaR"
      },
      "source": [
        "### 4-3. Parameter estimation\n",
        "`Dynamics().estimate(**kwargs)` performs `Dynamics().estimate_tau()` and `Dynamics().estimate_params()` in order."
      ]
    },
    {
      "cell_type": "code",
      "execution_count": 36,
      "metadata": {
        "colab": {
          "base_uri": "https://localhost:8080/",
          "height": 814
        },
        "id": "FH1VR1Y3TBo5",
        "outputId": "65068c84-1421-4c19-a1a4-4bdfb13a9b8a"
      },
      "outputs": [
        {
          "name": "stdout",
          "output_type": "stream",
          "text": [
            "\n",
            "<SIR-F Model: parameter estimation>\n",
            "Running optimization with 2 CPUs...\n",
            "\t2020-01-15 - 2020-08-01: finished   20 trials in 0 min  6 sec\n",
            "\t2020-10-07 - 2021-01-09: finished   46 trials in 0 min  9 sec\n",
            "\t2021-01-10 - 2021-03-01: finished   32 trials in 0 min  5 sec\n",
            "\t2020-08-02 - 2020-10-06: finished   57 trials in 0 min 10 sec\n",
            "\t2021-03-02 - 2021-05-05: finished   65 trials in 0 min 11 sec\n",
            "\t2021-08-06 - 2021-09-24: finished   55 trials in 0 min  8 sec\n",
            "\t2021-09-25 - 2021-12-05: finished   47 trials in 0 min  8 sec\n",
            "\t2021-05-06 - 2021-08-05: finished   45 trials in 0 min  9 sec\n",
            "\t2022-04-04 - 2022-06-15: finished   46 trials in 0 min  7 sec\n",
            "\t2021-12-06 - 2022-01-26: finished  111 trials in 0 min 19 sec\n",
            "\t2022-06-16 - 2022-08-05: finished   83 trials in 0 min 14 sec\n",
            "\t2022-01-27 - 2022-04-03: finished  101 trials in 0 min 13 sec\n",
            "Completed optimization. Total: 1 min  8 sec\n",
            "\n",
            "Tau value [min]: 36\n"
          ]
        },
        {
          "data": {
            "text/html": [
              "\n",
              "  <div id=\"df-a82669cf-e39d-447b-aa7e-a3c07c9cf59f\">\n",
              "    <div class=\"colab-df-container\">\n",
              "      <div>\n",
              "<style scoped>\n",
              "    .dataframe tbody tr th:only-of-type {\n",
              "        vertical-align: middle;\n",
              "    }\n",
              "\n",
              "    .dataframe tbody tr th {\n",
              "        vertical-align: top;\n",
              "    }\n",
              "\n",
              "    .dataframe thead th {\n",
              "        text-align: right;\n",
              "    }\n",
              "</style>\n",
              "<table border=\"1\" class=\"dataframe\">\n",
              "  <thead>\n",
              "    <tr style=\"text-align: right;\">\n",
              "      <th></th>\n",
              "      <th>Start</th>\n",
              "      <th>End</th>\n",
              "      <th>Rt</th>\n",
              "      <th>theta</th>\n",
              "      <th>kappa</th>\n",
              "      <th>rho</th>\n",
              "      <th>sigma</th>\n",
              "      <th>alpha1 [-]</th>\n",
              "      <th>1/alpha2 [day]</th>\n",
              "      <th>1/beta [day]</th>\n",
              "      <th>1/gamma [day]</th>\n",
              "    </tr>\n",
              "    <tr>\n",
              "      <th>Phase</th>\n",
              "      <th></th>\n",
              "      <th></th>\n",
              "      <th></th>\n",
              "      <th></th>\n",
              "      <th></th>\n",
              "      <th></th>\n",
              "      <th></th>\n",
              "      <th></th>\n",
              "      <th></th>\n",
              "      <th></th>\n",
              "      <th></th>\n",
              "    </tr>\n",
              "  </thead>\n",
              "  <tbody>\n",
              "    <tr>\n",
              "      <th>0th</th>\n",
              "      <td>2020-01-15</td>\n",
              "      <td>2020-08-01</td>\n",
              "      <td>1.0</td>\n",
              "      <td>0.34481</td>\n",
              "      <td>0.000168</td>\n",
              "      <td>0.003339</td>\n",
              "      <td>0.002018</td>\n",
              "      <td>0.345</td>\n",
              "      <td>149</td>\n",
              "      <td>7</td>\n",
              "      <td>12</td>\n",
              "    </tr>\n",
              "    <tr>\n",
              "      <th>1st</th>\n",
              "      <td>2020-08-02</td>\n",
              "      <td>2020-10-06</td>\n",
              "      <td>0.86</td>\n",
              "      <td>0.003019</td>\n",
              "      <td>0.000033</td>\n",
              "      <td>0.002331</td>\n",
              "      <td>0.002672</td>\n",
              "      <td>0.003</td>\n",
              "      <td>755</td>\n",
              "      <td>11</td>\n",
              "      <td>9</td>\n",
              "    </tr>\n",
              "    <tr>\n",
              "      <th>2nd</th>\n",
              "      <td>2020-10-07</td>\n",
              "      <td>2021-01-09</td>\n",
              "      <td>1.27</td>\n",
              "      <td>0.003107</td>\n",
              "      <td>0.000006</td>\n",
              "      <td>0.001627</td>\n",
              "      <td>0.001273</td>\n",
              "      <td>0.003</td>\n",
              "      <td>3953</td>\n",
              "      <td>15</td>\n",
              "      <td>20</td>\n",
              "    </tr>\n",
              "    <tr>\n",
              "      <th>3rd</th>\n",
              "      <td>2021-01-10</td>\n",
              "      <td>2021-03-01</td>\n",
              "      <td>0.65</td>\n",
              "      <td>0.012345</td>\n",
              "      <td>0.000031</td>\n",
              "      <td>0.002452</td>\n",
              "      <td>0.003722</td>\n",
              "      <td>0.012</td>\n",
              "      <td>801</td>\n",
              "      <td>10</td>\n",
              "      <td>7</td>\n",
              "    </tr>\n",
              "    <tr>\n",
              "      <th>4th</th>\n",
              "      <td>2021-03-02</td>\n",
              "      <td>2021-05-05</td>\n",
              "      <td>1.08</td>\n",
              "      <td>0.000445</td>\n",
              "      <td>0.000056</td>\n",
              "      <td>0.003228</td>\n",
              "      <td>0.002931</td>\n",
              "      <td>0.0</td>\n",
              "      <td>446</td>\n",
              "      <td>8</td>\n",
              "      <td>9</td>\n",
              "    </tr>\n",
              "    <tr>\n",
              "      <th>5th</th>\n",
              "      <td>2021-05-06</td>\n",
              "      <td>2021-08-05</td>\n",
              "      <td>1.05</td>\n",
              "      <td>0.001077</td>\n",
              "      <td>0.0</td>\n",
              "      <td>0.002083</td>\n",
              "      <td>0.001976</td>\n",
              "      <td>0.001</td>\n",
              "      <td>158823</td>\n",
              "      <td>12</td>\n",
              "      <td>13</td>\n",
              "    </tr>\n",
              "    <tr>\n",
              "      <th>6th</th>\n",
              "      <td>2021-08-06</td>\n",
              "      <td>2021-09-24</td>\n",
              "      <td>0.83</td>\n",
              "      <td>0.003059</td>\n",
              "      <td>0.000034</td>\n",
              "      <td>0.002739</td>\n",
              "      <td>0.00324</td>\n",
              "      <td>0.003</td>\n",
              "      <td>743</td>\n",
              "      <td>9</td>\n",
              "      <td>8</td>\n",
              "    </tr>\n",
              "    <tr>\n",
              "      <th>7th</th>\n",
              "      <td>2021-09-25</td>\n",
              "      <td>2021-12-05</td>\n",
              "      <td>0.38</td>\n",
              "      <td>0.18381</td>\n",
              "      <td>0.000101</td>\n",
              "      <td>0.000879</td>\n",
              "      <td>0.001773</td>\n",
              "      <td>0.184</td>\n",
              "      <td>248</td>\n",
              "      <td>28</td>\n",
              "      <td>14</td>\n",
              "    </tr>\n",
              "    <tr>\n",
              "      <th>8th</th>\n",
              "      <td>2021-12-06</td>\n",
              "      <td>2022-01-26</td>\n",
              "      <td>2.53</td>\n",
              "      <td>0.001663</td>\n",
              "      <td>0.000013</td>\n",
              "      <td>0.003218</td>\n",
              "      <td>0.001257</td>\n",
              "      <td>0.002</td>\n",
              "      <td>1877</td>\n",
              "      <td>8</td>\n",
              "      <td>20</td>\n",
              "    </tr>\n",
              "    <tr>\n",
              "      <th>9th</th>\n",
              "      <td>2022-01-27</td>\n",
              "      <td>2022-04-03</td>\n",
              "      <td>1.14</td>\n",
              "      <td>0.000126</td>\n",
              "      <td>0.000004</td>\n",
              "      <td>0.003104</td>\n",
              "      <td>0.002718</td>\n",
              "      <td>0.0</td>\n",
              "      <td>7001</td>\n",
              "      <td>8</td>\n",
              "      <td>9</td>\n",
              "    </tr>\n",
              "    <tr>\n",
              "      <th>10th</th>\n",
              "      <td>2022-04-04</td>\n",
              "      <td>2022-06-15</td>\n",
              "      <td>0.77</td>\n",
              "      <td>0.006002</td>\n",
              "      <td>0.000002</td>\n",
              "      <td>0.001513</td>\n",
              "      <td>0.001948</td>\n",
              "      <td>0.006</td>\n",
              "      <td>13295</td>\n",
              "      <td>17</td>\n",
              "      <td>13</td>\n",
              "    </tr>\n",
              "    <tr>\n",
              "      <th>11th</th>\n",
              "      <td>2022-06-16</td>\n",
              "      <td>2022-08-05</td>\n",
              "      <td>1.92</td>\n",
              "      <td>0.00244</td>\n",
              "      <td>0.000002</td>\n",
              "      <td>0.003909</td>\n",
              "      <td>0.002031</td>\n",
              "      <td>0.002</td>\n",
              "      <td>10533</td>\n",
              "      <td>6</td>\n",
              "      <td>12</td>\n",
              "    </tr>\n",
              "  </tbody>\n",
              "</table>\n",
              "</div>\n",
              "      <button class=\"colab-df-convert\" onclick=\"convertToInteractive('df-a82669cf-e39d-447b-aa7e-a3c07c9cf59f')\"\n",
              "              title=\"Convert this dataframe to an interactive table.\"\n",
              "              style=\"display:none;\">\n",
              "        \n",
              "  <svg xmlns=\"http://www.w3.org/2000/svg\" height=\"24px\"viewBox=\"0 0 24 24\"\n",
              "       width=\"24px\">\n",
              "    <path d=\"M0 0h24v24H0V0z\" fill=\"none\"/>\n",
              "    <path d=\"M18.56 5.44l.94 2.06.94-2.06 2.06-.94-2.06-.94-.94-2.06-.94 2.06-2.06.94zm-11 1L8.5 8.5l.94-2.06 2.06-.94-2.06-.94L8.5 2.5l-.94 2.06-2.06.94zm10 10l.94 2.06.94-2.06 2.06-.94-2.06-.94-.94-2.06-.94 2.06-2.06.94z\"/><path d=\"M17.41 7.96l-1.37-1.37c-.4-.4-.92-.59-1.43-.59-.52 0-1.04.2-1.43.59L10.3 9.45l-7.72 7.72c-.78.78-.78 2.05 0 2.83L4 21.41c.39.39.9.59 1.41.59.51 0 1.02-.2 1.41-.59l7.78-7.78 2.81-2.81c.8-.78.8-2.07 0-2.86zM5.41 20L4 18.59l7.72-7.72 1.47 1.35L5.41 20z\"/>\n",
              "  </svg>\n",
              "      </button>\n",
              "      \n",
              "  <style>\n",
              "    .colab-df-container {\n",
              "      display:flex;\n",
              "      flex-wrap:wrap;\n",
              "      gap: 12px;\n",
              "    }\n",
              "\n",
              "    .colab-df-convert {\n",
              "      background-color: #E8F0FE;\n",
              "      border: none;\n",
              "      border-radius: 50%;\n",
              "      cursor: pointer;\n",
              "      display: none;\n",
              "      fill: #1967D2;\n",
              "      height: 32px;\n",
              "      padding: 0 0 0 0;\n",
              "      width: 32px;\n",
              "    }\n",
              "\n",
              "    .colab-df-convert:hover {\n",
              "      background-color: #E2EBFA;\n",
              "      box-shadow: 0px 1px 2px rgba(60, 64, 67, 0.3), 0px 1px 3px 1px rgba(60, 64, 67, 0.15);\n",
              "      fill: #174EA6;\n",
              "    }\n",
              "\n",
              "    [theme=dark] .colab-df-convert {\n",
              "      background-color: #3B4455;\n",
              "      fill: #D2E3FC;\n",
              "    }\n",
              "\n",
              "    [theme=dark] .colab-df-convert:hover {\n",
              "      background-color: #434B5C;\n",
              "      box-shadow: 0px 1px 3px 1px rgba(0, 0, 0, 0.15);\n",
              "      filter: drop-shadow(0px 1px 2px rgba(0, 0, 0, 0.3));\n",
              "      fill: #FFFFFF;\n",
              "    }\n",
              "  </style>\n",
              "\n",
              "      <script>\n",
              "        const buttonEl =\n",
              "          document.querySelector('#df-a82669cf-e39d-447b-aa7e-a3c07c9cf59f button.colab-df-convert');\n",
              "        buttonEl.style.display =\n",
              "          google.colab.kernel.accessAllowed ? 'block' : 'none';\n",
              "\n",
              "        async function convertToInteractive(key) {\n",
              "          const element = document.querySelector('#df-a82669cf-e39d-447b-aa7e-a3c07c9cf59f');\n",
              "          const dataTable =\n",
              "            await google.colab.kernel.invokeFunction('convertToInteractive',\n",
              "                                                     [key], {});\n",
              "          if (!dataTable) return;\n",
              "\n",
              "          const docLinkHtml = 'Like what you see? Visit the ' +\n",
              "            '<a target=\"_blank\" href=https://colab.research.google.com/notebooks/data_table.ipynb>data table notebook</a>'\n",
              "            + ' to learn more about interactive tables.';\n",
              "          element.innerHTML = '';\n",
              "          dataTable['output_type'] = 'display_data';\n",
              "          await google.colab.output.renderOutput(dataTable, element);\n",
              "          const docLink = document.createElement('div');\n",
              "          docLink.innerHTML = docLinkHtml;\n",
              "          element.appendChild(docLink);\n",
              "        }\n",
              "      </script>\n",
              "    </div>\n",
              "  </div>\n",
              "  "
            ],
            "text/plain": [
              "           Start        End    Rt     theta     kappa       rho     sigma  \\\n",
              "Phase                                                                       \n",
              "0th   2020-01-15 2020-08-01   1.0   0.34481  0.000168  0.003339  0.002018   \n",
              "1st   2020-08-02 2020-10-06  0.86  0.003019  0.000033  0.002331  0.002672   \n",
              "2nd   2020-10-07 2021-01-09  1.27  0.003107  0.000006  0.001627  0.001273   \n",
              "3rd   2021-01-10 2021-03-01  0.65  0.012345  0.000031  0.002452  0.003722   \n",
              "4th   2021-03-02 2021-05-05  1.08  0.000445  0.000056  0.003228  0.002931   \n",
              "5th   2021-05-06 2021-08-05  1.05  0.001077       0.0  0.002083  0.001976   \n",
              "6th   2021-08-06 2021-09-24  0.83  0.003059  0.000034  0.002739   0.00324   \n",
              "7th   2021-09-25 2021-12-05  0.38   0.18381  0.000101  0.000879  0.001773   \n",
              "8th   2021-12-06 2022-01-26  2.53  0.001663  0.000013  0.003218  0.001257   \n",
              "9th   2022-01-27 2022-04-03  1.14  0.000126  0.000004  0.003104  0.002718   \n",
              "10th  2022-04-04 2022-06-15  0.77  0.006002  0.000002  0.001513  0.001948   \n",
              "11th  2022-06-16 2022-08-05  1.92   0.00244  0.000002  0.003909  0.002031   \n",
              "\n",
              "       alpha1 [-]  1/alpha2 [day]  1/beta [day]  1/gamma [day]  \n",
              "Phase                                                           \n",
              "0th         0.345             149             7             12  \n",
              "1st         0.003             755            11              9  \n",
              "2nd         0.003            3953            15             20  \n",
              "3rd         0.012             801            10              7  \n",
              "4th           0.0             446             8              9  \n",
              "5th         0.001          158823            12             13  \n",
              "6th         0.003             743             9              8  \n",
              "7th         0.184             248            28             14  \n",
              "8th         0.002            1877             8             20  \n",
              "9th           0.0            7001             8              9  \n",
              "10th        0.006           13295            17             13  \n",
              "11th        0.002           10533             6             12  "
            ]
          },
          "execution_count": 36,
          "metadata": {},
          "output_type": "execute_result"
        }
      ],
      "source": [
        "dyn_act.estimate()\n",
        "print(f\"Tau value [min]: {dyn_act.tau or 'un-set'}\")\n",
        "# Show summary\n",
        "dyn_act.summary()"
      ]
    },
    {
      "cell_type": "markdown",
      "metadata": {
        "id": "dUWqKegYavEz"
      },
      "source": [
        "### 4-4. Accuracy evaluation\n",
        "Compare the simulated results and actual records, and evaluate the differences.\n",
        "\n",
        "Arguments:\n",
        "- date_range (tuple of (str or pandas.Timestamp or None) or None): range of dates to evaluate or None (the first and the last date)\n",
        "- metric (str): metric to evaluate the difference, \"RMSLE\" as default\n",
        "- display (bool): whether display figure of comparison or not\n",
        "- kwargs: keyword arguments of `covsirphy.compare_plot()`"
      ]
    },
    {
      "cell_type": "code",
      "execution_count": 37,
      "metadata": {
        "colab": {
          "base_uri": "https://localhost:8080/",
          "height": 890
        },
        "id": "OUgWyXafbKt8",
        "outputId": "1796b8b0-f27d-4ce4-dcfa-0b109868d7fc"
      },
      "outputs": [
        {
          "data": {
            "image/png": "[encoded data removed]",
            "text/plain": [
              "<Figure size 648x864 with 4 Axes>"
            ]
          },
          "metadata": {
            "needs_background": "light"
          },
          "output_type": "display_data"
        },
        {
          "name": "stdout",
          "output_type": "stream",
          "text": [
            "RMSLE: 2.495 (overall score for time-series segmentation, tau estimation and ODE parameter estimation)\n"
          ]
        }
      ],
      "source": [
        "metric = \"RMSLE\"\n",
        "score = dyn_act.evaluate(metric=metric)\n",
        "print(f\"{metric}: {score:.4} (overall score for time-series segmentation, tau estimation and ODE parameter estimation)\")"
      ]
    },
    {
      "cell_type": "markdown",
      "metadata": {
        "id": "DnjXyhedb-5q"
      },
      "source": [
        "### 4-5. Simulation\n",
        "Simulate the dynamics with the estimated parameter sets of phases."
      ]
    },
    {
      "cell_type": "code",
      "execution_count": 38,
      "metadata": {
        "id": "H2OeoFMGdc7C"
      },
      "outputs": [],
      "source": [
        "simulated_df = dyn_act.simulate()"
      ]
    },
    {
      "cell_type": "code",
      "execution_count": 39,
      "metadata": {
        "colab": {
          "base_uri": "https://localhost:8080/",
          "height": 300
        },
        "id": "aqcukbQPcJZq",
        "outputId": "7572918d-7fa4-4ccb-c099-27871c632f6a"
      },
      "outputs": [
        {
          "data": {
            "image/png": "[encoded data removed]",
            "text/plain": [
              "<Figure size 432x288 with 1 Axes>"
            ]
          },
          "metadata": {
            "needs_background": "light"
          },
          "output_type": "display_data"
        }
      ],
      "source": [
        "cs.line_plot(\n",
        "    simulated_df.drop(\"Susceptible\", axis=1),\n",
        "    title=\"Simulated data in Tokyo/Japan\",\n",
        "    v=dyn.start_dates()[1:],\n",
        "    bbox_to_anchor=(0.5, -0.3),\n",
        ")"
      ]
    },
    {
      "cell_type": "markdown",
      "metadata": {
        "id": "Q4-GsiBVc8el"
      },
      "source": [
        "When we need to simulate for the last 30 days, we can use `Dynamics().parse_days(days=-30, ref=\"last\")`."
      ]
    },
    {
      "cell_type": "code",
      "execution_count": 40,
      "metadata": {
        "colab": {
          "base_uri": "https://localhost:8080/",
          "height": 294
        },
        "id": "7zhsVFdPdZ1w",
        "outputId": "86cf0c85-fcdc-4f79-8e30-0338cb6a88c9"
      },
      "outputs": [
        {
          "data": {
            "image/png": "[encoded data removed]",
            "text/plain": [
              "<Figure size 432x288 with 1 Axes>"
            ]
          },
          "metadata": {
            "needs_background": "light"
          },
          "output_type": "display_data"
        }
      ],
      "source": [
        "start, end = dyn_act.parse_days(days=-30, ref=\"last\")\n",
        "cs.line_plot(\n",
        "    simulated_df.drop(\"Susceptible\", axis=1).loc[start: end],\n",
        "    title=f\"Simulated: Japan, {start: %Y-%m-%d} - {end: %Y-%m-%d}\",\n",
        "    bbox_to_anchor=(0.5, -0.3),\n",
        "    y_integer=True,\n",
        ")"
      ]
    },
    {
      "cell_type": "markdown",
      "metadata": {
        "id": "SxEbdWVngFGK"
      },
      "source": [
        "When we need to perform simulation for th 5th and 6th phase, We can use `Dynamics().parse_phases(phases=[\"5th\", \"6th\"])`)."
      ]
    },
    {
      "cell_type": "code",
      "execution_count": 41,
      "metadata": {
        "colab": {
          "base_uri": "https://localhost:8080/",
          "height": 294
        },
        "id": "aB8xJ3Q2f17B",
        "outputId": "c01250c7-632c-4473-c80e-8d9f4d184703"
      },
      "outputs": [
        {
          "data": {
            "image/png": "[encoded data removed]",
            "text/plain": [
              "<Figure size 432x288 with 1 Axes>"
            ]
          },
          "metadata": {
            "needs_background": "light"
          },
          "output_type": "display_data"
        }
      ],
      "source": [
        "start, end = dyn_act.parse_phases(phases=[\"5th\", \"6th\"])\n",
        "cs.line_plot(\n",
        "    simulated_df.drop(\"Susceptible\", axis=1).loc[start: end],\n",
        "    title=f\"Simulated: Japan, {start: %Y-%m-%d} - {end: %Y-%m-%d}\",\n",
        "    bbox_to_anchor=(0.5, -0.3),\n",
        "    y_integer=True,\n",
        ")"
      ]
    },
    {
      "cell_type": "markdown",
      "metadata": {
        "id": "4wCZTY8mgjKI"
      },
      "source": [
        "### 4-6. Tracking of ODE parameters\n",
        "Track the estimated ODE parameter values."
      ]
    },
    {
      "cell_type": "code",
      "execution_count": 42,
      "metadata": {
        "colab": {
          "base_uri": "https://localhost:8080/",
          "height": 238
        },
        "id": "BSlhTVejgzZ6",
        "outputId": "1961ad71-8664-4493-e280-7971fe269fc0"
      },
      "outputs": [
        {
          "data": {
            "text/html": [
              "\n",
              "  <div id=\"df-a8b22d83-fce2-4109-a8ff-02c7b7bd32f8\">\n",
              "    <div class=\"colab-df-container\">\n",
              "      <div>\n",
              "<style scoped>\n",
              "    .dataframe tbody tr th:only-of-type {\n",
              "        vertical-align: middle;\n",
              "    }\n",
              "\n",
              "    .dataframe tbody tr th {\n",
              "        vertical-align: top;\n",
              "    }\n",
              "\n",
              "    .dataframe thead th {\n",
              "        text-align: right;\n",
              "    }\n",
              "</style>\n",
              "<table border=\"1\" class=\"dataframe\">\n",
              "  <thead>\n",
              "    <tr style=\"text-align: right;\">\n",
              "      <th></th>\n",
              "      <th>Rt</th>\n",
              "      <th>theta</th>\n",
              "      <th>kappa</th>\n",
              "      <th>rho</th>\n",
              "      <th>sigma</th>\n",
              "      <th>alpha1 [-]</th>\n",
              "      <th>1/alpha2 [day]</th>\n",
              "      <th>1/beta [day]</th>\n",
              "      <th>1/gamma [day]</th>\n",
              "    </tr>\n",
              "    <tr>\n",
              "      <th>Date</th>\n",
              "      <th></th>\n",
              "      <th></th>\n",
              "      <th></th>\n",
              "      <th></th>\n",
              "      <th></th>\n",
              "      <th></th>\n",
              "      <th></th>\n",
              "      <th></th>\n",
              "      <th></th>\n",
              "    </tr>\n",
              "  </thead>\n",
              "  <tbody>\n",
              "    <tr>\n",
              "      <th>2022-08-01</th>\n",
              "      <td>1.92</td>\n",
              "      <td>0.00244</td>\n",
              "      <td>0.000002</td>\n",
              "      <td>0.003909</td>\n",
              "      <td>0.002031</td>\n",
              "      <td>0.002</td>\n",
              "      <td>10533</td>\n",
              "      <td>6</td>\n",
              "      <td>12</td>\n",
              "    </tr>\n",
              "    <tr>\n",
              "      <th>2022-08-02</th>\n",
              "      <td>1.92</td>\n",
              "      <td>0.00244</td>\n",
              "      <td>0.000002</td>\n",
              "      <td>0.003909</td>\n",
              "      <td>0.002031</td>\n",
              "      <td>0.002</td>\n",
              "      <td>10533</td>\n",
              "      <td>6</td>\n",
              "      <td>12</td>\n",
              "    </tr>\n",
              "    <tr>\n",
              "      <th>2022-08-03</th>\n",
              "      <td>1.92</td>\n",
              "      <td>0.00244</td>\n",
              "      <td>0.000002</td>\n",
              "      <td>0.003909</td>\n",
              "      <td>0.002031</td>\n",
              "      <td>0.002</td>\n",
              "      <td>10533</td>\n",
              "      <td>6</td>\n",
              "      <td>12</td>\n",
              "    </tr>\n",
              "    <tr>\n",
              "      <th>2022-08-04</th>\n",
              "      <td>1.92</td>\n",
              "      <td>0.00244</td>\n",
              "      <td>0.000002</td>\n",
              "      <td>0.003909</td>\n",
              "      <td>0.002031</td>\n",
              "      <td>0.002</td>\n",
              "      <td>10533</td>\n",
              "      <td>6</td>\n",
              "      <td>12</td>\n",
              "    </tr>\n",
              "    <tr>\n",
              "      <th>2022-08-05</th>\n",
              "      <td>1.92</td>\n",
              "      <td>0.00244</td>\n",
              "      <td>0.000002</td>\n",
              "      <td>0.003909</td>\n",
              "      <td>0.002031</td>\n",
              "      <td>0.002</td>\n",
              "      <td>10533</td>\n",
              "      <td>6</td>\n",
              "      <td>12</td>\n",
              "    </tr>\n",
              "  </tbody>\n",
              "</table>\n",
              "</div>\n",
              "      <button class=\"colab-df-convert\" onclick=\"convertToInteractive('df-a8b22d83-fce2-4109-a8ff-02c7b7bd32f8')\"\n",
              "              title=\"Convert this dataframe to an interactive table.\"\n",
              "              style=\"display:none;\">\n",
              "        \n",
              "  <svg xmlns=\"http://www.w3.org/2000/svg\" height=\"24px\"viewBox=\"0 0 24 24\"\n",
              "       width=\"24px\">\n",
              "    <path d=\"M0 0h24v24H0V0z\" fill=\"none\"/>\n",
              "    <path d=\"M18.56 5.44l.94 2.06.94-2.06 2.06-.94-2.06-.94-.94-2.06-.94 2.06-2.06.94zm-11 1L8.5 8.5l.94-2.06 2.06-.94-2.06-.94L8.5 2.5l-.94 2.06-2.06.94zm10 10l.94 2.06.94-2.06 2.06-.94-2.06-.94-.94-2.06-.94 2.06-2.06.94z\"/><path d=\"M17.41 7.96l-1.37-1.37c-.4-.4-.92-.59-1.43-.59-.52 0-1.04.2-1.43.59L10.3 9.45l-7.72 7.72c-.78.78-.78 2.05 0 2.83L4 21.41c.39.39.9.59 1.41.59.51 0 1.02-.2 1.41-.59l7.78-7.78 2.81-2.81c.8-.78.8-2.07 0-2.86zM5.41 20L4 18.59l7.72-7.72 1.47 1.35L5.41 20z\"/>\n",
              "  </svg>\n",
              "      </button>\n",
              "      \n",
              "  <style>\n",
              "    .colab-df-container {\n",
              "      display:flex;\n",
              "      flex-wrap:wrap;\n",
              "      gap: 12px;\n",
              "    }\n",
              "\n",
              "    .colab-df-convert {\n",
              "      background-color: #E8F0FE;\n",
              "      border: none;\n",
              "      border-radius: 50%;\n",
              "      cursor: pointer;\n",
              "      display: none;\n",
              "      fill: #1967D2;\n",
              "      height: 32px;\n",
              "      padding: 0 0 0 0;\n",
              "      width: 32px;\n",
              "    }\n",
              "\n",
              "    .colab-df-convert:hover {\n",
              "      background-color: #E2EBFA;\n",
              "      box-shadow: 0px 1px 2px rgba(60, 64, 67, 0.3), 0px 1px 3px 1px rgba(60, 64, 67, 0.15);\n",
              "      fill: #174EA6;\n",
              "    }\n",
              "\n",
              "    [theme=dark] .colab-df-convert {\n",
              "      background-color: #3B4455;\n",
              "      fill: #D2E3FC;\n",
              "    }\n",
              "\n",
              "    [theme=dark] .colab-df-convert:hover {\n",
              "      background-color: #434B5C;\n",
              "      box-shadow: 0px 1px 3px 1px rgba(0, 0, 0, 0.15);\n",
              "      filter: drop-shadow(0px 1px 2px rgba(0, 0, 0, 0.3));\n",
              "      fill: #FFFFFF;\n",
              "    }\n",
              "  </style>\n",
              "\n",
              "      <script>\n",
              "        const buttonEl =\n",
              "          document.querySelector('#df-a8b22d83-fce2-4109-a8ff-02c7b7bd32f8 button.colab-df-convert');\n",
              "        buttonEl.style.display =\n",
              "          google.colab.kernel.accessAllowed ? 'block' : 'none';\n",
              "\n",
              "        async function convertToInteractive(key) {\n",
              "          const element = document.querySelector('#df-a8b22d83-fce2-4109-a8ff-02c7b7bd32f8');\n",
              "          const dataTable =\n",
              "            await google.colab.kernel.invokeFunction('convertToInteractive',\n",
              "                                                     [key], {});\n",
              "          if (!dataTable) return;\n",
              "\n",
              "          const docLinkHtml = 'Like what you see? Visit the ' +\n",
              "            '<a target=\"_blank\" href=https://colab.research.google.com/notebooks/data_table.ipynb>data table notebook</a>'\n",
              "            + ' to learn more about interactive tables.';\n",
              "          element.innerHTML = '';\n",
              "          dataTable['output_type'] = 'display_data';\n",
              "          await google.colab.output.renderOutput(dataTable, element);\n",
              "          const docLink = document.createElement('div');\n",
              "          docLink.innerHTML = docLinkHtml;\n",
              "          element.appendChild(docLink);\n",
              "        }\n",
              "      </script>\n",
              "    </div>\n",
              "  </div>\n",
              "  "
            ],
            "text/plain": [
              "              Rt    theta     kappa       rho     sigma  alpha1 [-]  \\\n",
              "Date                                                                  \n",
              "2022-08-01  1.92  0.00244  0.000002  0.003909  0.002031       0.002   \n",
              "2022-08-02  1.92  0.00244  0.000002  0.003909  0.002031       0.002   \n",
              "2022-08-03  1.92  0.00244  0.000002  0.003909  0.002031       0.002   \n",
              "2022-08-04  1.92  0.00244  0.000002  0.003909  0.002031       0.002   \n",
              "2022-08-05  1.92  0.00244  0.000002  0.003909  0.002031       0.002   \n",
              "\n",
              "            1/alpha2 [day]  1/beta [day]  1/gamma [day]  \n",
              "Date                                                     \n",
              "2022-08-01           10533             6             12  \n",
              "2022-08-02           10533             6             12  \n",
              "2022-08-03           10533             6             12  \n",
              "2022-08-04           10533             6             12  \n",
              "2022-08-05           10533             6             12  "
            ]
          },
          "execution_count": 42,
          "metadata": {},
          "output_type": "execute_result"
        }
      ],
      "source": [
        "track_df = dyn_act.track()\n",
        "track_df.tail()"
      ]
    },
    {
      "cell_type": "code",
      "execution_count": 43,
      "metadata": {
        "colab": {
          "base_uri": "https://localhost:8080/"
        },
        "id": "CJ7fyqVYjeAl",
        "outputId": "d46ce775-4547-4611-856f-f332f44d5d46"
      },
      "outputs": [
        {
          "data": {
            "text/plain": [
              "Index(['Rt', 'theta', 'kappa', 'rho', 'sigma', 'alpha1 [-]', '1/alpha2 [day]',\n",
              "       '1/beta [day]', '1/gamma [day]'],\n",
              "      dtype='object')"
            ]
          },
          "execution_count": 43,
          "metadata": {},
          "output_type": "execute_result"
        }
      ],
      "source": [
        "track_df.columns"
      ]
    },
    {
      "cell_type": "code",
      "execution_count": 44,
      "metadata": {
        "id": "tdS-WgkWh1e6"
      },
      "outputs": [],
      "source": [
        "def history(param_name, title=None, h=None):\n",
        "    \"\"\"Display the history of ODE parameter values tracked with global `track_df`.\n",
        "    \n",
        "    Args:\n",
        "        param_name (str): name of the parameter\n",
        "        title (str or None): figure title or Nome (@param_name will be used)\n",
        "        h (list/tuple[int/float] or None): list of y values of horizontal lines or None\n",
        "    \"\"\"\n",
        "    global track_df\n",
        "    cs.line_plot(\n",
        "        track_df.loc[:, param_name],\n",
        "        title=title or f\"Tracked {param_name}\",\n",
        "        ylabel=param_name,\n",
        "        math_scale=False,\n",
        "        h=h,\n",
        "        show_legend=False,\n",
        "    )"
      ]
    },
    {
      "cell_type": "markdown",
      "metadata": {
        "id": "Xe8N4Ty2gte5"
      },
      "source": [
        "$\\theta$ and $\\alpha_1$:  \n",
        "Enhancement of PCR tests suppressed the number of fatal cases before confirmation."
      ]
    },
    {
      "cell_type": "code",
      "execution_count": 45,
      "metadata": {
        "colab": {
          "base_uri": "https://localhost:8080/",
          "height": 297
        },
        "id": "nAYDzakQgxGy",
        "outputId": "9ee1177b-df6a-4053-fcd5-e02af81ae67e"
      },
      "outputs": [
        {
          "data": {
            "image/png": "[encoded data removed]",
            "text/plain": [
              "<Figure size 432x288 with 1 Axes>"
            ]
          },
          "metadata": {
            "needs_background": "light"
          },
          "output_type": "display_data"
        }
      ],
      "source": [
        "history(\"theta\")"
      ]
    },
    {
      "cell_type": "code",
      "execution_count": 46,
      "metadata": {
        "colab": {
          "base_uri": "https://localhost:8080/",
          "height": 297
        },
        "id": "Bj-5qBSci4iS",
        "outputId": "874be414-33c5-46a2-8df5-b98bb65f307d"
      },
      "outputs": [
        {
          "data": {
            "image/png": "[encoded data removed]",
            "text/plain": [
              "<Figure size 432x288 with 1 Axes>"
            ]
          },
          "metadata": {
            "needs_background": "light"
          },
          "output_type": "display_data"
        }
      ],
      "source": [
        "history(\"alpha1 [-]\")"
      ]
    },
    {
      "cell_type": "markdown",
      "metadata": {
        "id": "6SvQAubXhZbZ"
      },
      "source": [
        "$\\kappa$ and $1/\\alpha_2$:  \n",
        "Enhancement of medical system suppressed the number of fatal cases."
      ]
    },
    {
      "cell_type": "code",
      "execution_count": 47,
      "metadata": {
        "colab": {
          "base_uri": "https://localhost:8080/",
          "height": 297
        },
        "id": "cr1Bf-_pgxJ4",
        "outputId": "f569100d-80c0-465c-afb2-895e2f865c0f"
      },
      "outputs": [
        {
          "data": {
            "image/png": "[encoded data removed]",
            "text/plain": [
              "<Figure size 432x288 with 1 Axes>"
            ]
          },
          "metadata": {
            "needs_background": "light"
          },
          "output_type": "display_data"
        }
      ],
      "source": [
        "history(\"kappa\")"
      ]
    },
    {
      "cell_type": "code",
      "execution_count": 48,
      "metadata": {
        "colab": {
          "base_uri": "https://localhost:8080/",
          "height": 297
        },
        "id": "YbpBjmXNjtYO",
        "outputId": "4a3084cb-f7ff-4778-8be3-cb1165e89793"
      },
      "outputs": [
        {
          "data": {
            "image/png": "[encoded data removed]",
            "text/plain": [
              "<Figure size 432x288 with 1 Axes>"
            ]
          },
          "metadata": {
            "needs_background": "light"
          },
          "output_type": "display_data"
        }
      ],
      "source": [
        "history(\"1/alpha2 [day]\")"
      ]
    },
    {
      "cell_type": "markdown",
      "metadata": {
        "id": "jylsSvErhc36"
      },
      "source": [
        "$\\rho$ and $1/\\beta$:  \n",
        "Contact rate was changed with emergency declaration in Tokyo."
      ]
    },
    {
      "cell_type": "code",
      "execution_count": 49,
      "metadata": {
        "colab": {
          "base_uri": "https://localhost:8080/",
          "height": 297
        },
        "id": "rFu5Z_MWgxMI",
        "outputId": "6a3dd1c9-393c-4097-d5d7-530a4dd69fe2"
      },
      "outputs": [
        {
          "data": {
            "image/png": "[encoded data removed]",
            "text/plain": [
              "<Figure size 432x288 with 1 Axes>"
            ]
          },
          "metadata": {
            "needs_background": "light"
          },
          "output_type": "display_data"
        }
      ],
      "source": [
        "history(\"rho\")"
      ]
    },
    {
      "cell_type": "code",
      "execution_count": 50,
      "metadata": {
        "colab": {
          "base_uri": "https://localhost:8080/",
          "height": 297
        },
        "id": "SZLa-h-jjwhO",
        "outputId": "a0c92b18-8ae9-4173-ed13-7bb05518cbf8"
      },
      "outputs": [
        {
          "data": {
            "image/png": "[encoded data removed]",
            "text/plain": [
              "<Figure size 432x288 with 1 Axes>"
            ]
          },
          "metadata": {
            "needs_background": "light"
          },
          "output_type": "display_data"
        }
      ],
      "source": [
        "history(\"1/beta [day]\")"
      ]
    },
    {
      "cell_type": "markdown",
      "metadata": {
        "id": "c8V_jaPOhtFS"
      },
      "source": [
        "$\\sigma$ and $1/\\gamma$:  \n",
        "Recovery period is not changed clearly at this time."
      ]
    },
    {
      "cell_type": "code",
      "execution_count": 51,
      "metadata": {
        "colab": {
          "base_uri": "https://localhost:8080/",
          "height": 297
        },
        "id": "q2PQs1SGgxOp",
        "outputId": "92f3c5ee-b198-4015-f497-81f357367c39"
      },
      "outputs": [
        {
          "data": {
            "image/png": "[encoded data removed]",
            "text/plain": [
              "<Figure size 432x288 with 1 Axes>"
            ]
          },
          "metadata": {
            "needs_background": "light"
          },
          "output_type": "display_data"
        }
      ],
      "source": [
        "history(\"sigma\")"
      ]
    },
    {
      "cell_type": "code",
      "execution_count": 52,
      "metadata": {
        "colab": {
          "base_uri": "https://localhost:8080/",
          "height": 297
        },
        "id": "WFVjEAFbjxV1",
        "outputId": "9354beda-f06a-4b03-c46b-c64d68577304"
      },
      "outputs": [
        {
          "data": {
            "image/png": "[encoded data removed]",
            "text/plain": [
              "<Figure size 432x288 with 1 Axes>"
            ]
          },
          "metadata": {
            "needs_background": "light"
          },
          "output_type": "display_data"
        }
      ],
      "source": [
        "history(\"1/gamma [day]\")"
      ]
    },
    {
      "cell_type": "markdown",
      "metadata": {
        "id": "QvFF5piEhxCf"
      },
      "source": [
        "Reproduction number:  \n",
        "Rt > 1 means explosive outbreak."
      ]
    },
    {
      "cell_type": "code",
      "execution_count": 53,
      "metadata": {
        "colab": {
          "base_uri": "https://localhost:8080/",
          "height": 297
        },
        "id": "BOBswDZ6gxQ_",
        "outputId": "bcc5f45f-9f28-4c70-d30c-421b9fd75618"
      },
      "outputs": [
        {
          "data": {
            "image/png": "[encoded data removed]",
            "text/plain": [
              "<Figure size 432x288 with 1 Axes>"
            ]
          },
          "metadata": {
            "needs_background": "light"
          },
          "output_type": "display_data"
        }
      ],
      "source": [
        "history(\"Rt\", title=\"Tracked reproduction number\", h=1.0)"
      ]
    },
    {
      "cell_type": "markdown",
      "metadata": {
        "id": "0zCi_W-DcW-7"
      },
      "source": [
        "Thank you!"
      ]
    }
  ],
  "metadata": {
    "colab": {
      "collapsed_sections": [],
      "include_colab_link": true,
      "name": "04_phase_dependent.ipynb",
      "provenance": [],
      "toc_visible": true
    },
    "kernelspec": {
      "display_name": "Python 3.9.8 ('.venv': poetry)",
      "language": "python",
      "name": "python3"
    },
    "language_info": {
      "name": "python",
      "version": "3.9.8"
    },
    "vscode": {
      "interpreter": {
        "hash": "22bb74880181aee4909a67ef083e714bf83db977b91038d43aef8b1870a4f681"
      }
    }
  },
  "nbformat": 4,
  "nbformat_minor": 0
}
