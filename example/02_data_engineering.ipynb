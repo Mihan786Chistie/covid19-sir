{
  "cells": [
    {
      "cell_type": "markdown",
      "metadata": {
        "colab_type": "text",
        "id": "view-in-github"
      },
      "source": [
        "<a href=\"https://colab.research.google.com/github/lisphilar/covid19-sir/blob/master/example/02_data_engineering.ipynb\" target=\"_parent\"><img src=\"https://colab.research.google.com/assets/colab-badge.svg\" alt=\"Open In Colab\"/></a>"
      ]
    },
    {
      "cell_type": "markdown",
      "metadata": {
        "id": "kUpbQk_WOhdK"
      },
      "source": [
        "# Data engineering\n",
        "With [Data preparation tutorial](https://github.com/lisphilar/covid19-sir/blob/master/example/01_data_preparation.ipynb), we prepared datasets (geospatial time-series data) to analyze.  As the next step of data engineering, we will perform the followings here.\n",
        "\n",
        "1. Data cleaning\n",
        "2. Data transformation\n",
        "3. Arithmetic operations\n",
        "4. EDA at a geospatial layer\n",
        "5. Data subsetting for a location and data complement\n",
        "6. EDA of subset\n",
        "\n",
        "Note that EDA = explanatory data analysis"
      ]
    },
    {
      "cell_type": "code",
      "execution_count": 1,
      "metadata": {
        "colab": {
          "base_uri": "https://localhost:8080/",
          "height": 507
        },
        "id": "j1uZf_TbOHX_",
        "outputId": "b1aa9e32-b054-4566-e201-e87bf7a717fe"
      },
      "outputs": [
        {
          "name": "stdout",
          "output_type": "stream",
          "text": [
            "  Installing build dependencies ... \u001b[?25l\u001b[?25hdone\n",
            "  Getting requirements to build wheel ... \u001b[?25l\u001b[?25hdone\n",
            "    Preparing wheel metadata ... \u001b[?25l\u001b[?25hdone\n",
            "\u001b[K     |████████████████████████████████| 167 kB 3.1 MB/s \n",
            "\u001b[K     |████████████████████████████████| 51 kB 6.0 MB/s \n",
            "\u001b[K     |████████████████████████████████| 486 kB 39.9 MB/s \n",
            "\u001b[K     |████████████████████████████████| 2.0 MB 46.8 MB/s \n",
            "\u001b[K     |████████████████████████████████| 62 kB 1.4 MB/s \n",
            "\u001b[K     |████████████████████████████████| 235 kB 58.4 MB/s \n",
            "\u001b[K     |████████████████████████████████| 998 kB 59.7 MB/s \n",
            "\u001b[K     |████████████████████████████████| 308 kB 52.1 MB/s \n",
            "\u001b[K     |████████████████████████████████| 96.9 MB 109 kB/s \n",
            "\u001b[K     |████████████████████████████████| 1.0 MB 48.3 MB/s \n",
            "\u001b[K     |████████████████████████████████| 16.7 MB 32.9 MB/s \n",
            "\u001b[K     |████████████████████████████████| 6.3 MB 51.0 MB/s \n",
            "\u001b[K     |████████████████████████████████| 209 kB 51.7 MB/s \n",
            "\u001b[K     |████████████████████████████████| 81 kB 9.0 MB/s \n",
            "\u001b[K     |████████████████████████████████| 78 kB 7.7 MB/s \n",
            "\u001b[K     |████████████████████████████████| 147 kB 59.6 MB/s \n",
            "\u001b[K     |████████████████████████████████| 112 kB 52.5 MB/s \n",
            "\u001b[K     |████████████████████████████████| 49 kB 5.9 MB/s \n",
            "\u001b[?25h  Building wheel for covsirphy (PEP 517) ... \u001b[?25l\u001b[?25hdone\n",
            "  Building wheel for country-converter (setup.py) ... \u001b[?25l\u001b[?25hdone\n",
            "  Building wheel for pyperclip (setup.py) ... \u001b[?25l\u001b[?25hdone\n"
          ]
        },
        {
          "data": {
            "text/html": [
              "<style type='text/css'>\n",
              ".datatable table.frame { margin-bottom: 0; }\n",
              ".datatable table.frame thead { border-bottom: none; }\n",
              ".datatable table.frame tr.coltypes td {  color: #FFFFFF;  line-height: 6px;  padding: 0 0.5em;}\n",
              ".datatable .bool    { background: #DDDD99; }\n",
              ".datatable .object  { background: #565656; }\n",
              ".datatable .int     { background: #5D9E5D; }\n",
              ".datatable .float   { background: #4040CC; }\n",
              ".datatable .str     { background: #CC4040; }\n",
              ".datatable .time    { background: #40CC40; }\n",
              ".datatable .row_index {  background: var(--jp-border-color3);  border-right: 1px solid var(--jp-border-color0);  color: var(--jp-ui-font-color3);  font-size: 9px;}\n",
              ".datatable .frame tbody td { text-align: left; }\n",
              ".datatable .frame tr.coltypes .row_index {  background: var(--jp-border-color0);}\n",
              ".datatable th:nth-child(2) { padding-left: 12px; }\n",
              ".datatable .hellipsis {  color: var(--jp-cell-editor-border-color);}\n",
              ".datatable .vellipsis {  background: var(--jp-layout-color0);  color: var(--jp-cell-editor-border-color);}\n",
              ".datatable .na {  color: var(--jp-cell-editor-border-color);  font-size: 80%;}\n",
              ".datatable .sp {  opacity: 0.25;}\n",
              ".datatable .footer { font-size: 9px; }\n",
              ".datatable .frame_dimensions {  background: var(--jp-border-color3);  border-top: 1px solid var(--jp-border-color0);  color: var(--jp-ui-font-color3);  display: inline-block;  opacity: 0.6;  padding: 1px 10px 1px 5px;}\n",
              "</style>\n"
            ],
            "text/plain": [
              "<IPython.core.display.HTML object>"
            ]
          },
          "metadata": {},
          "output_type": "display_data"
        },
        {
          "name": "stderr",
          "output_type": "stream",
          "text": [
            "/usr/local/lib/python3.7/dist-packages/statsmodels/tools/_testing.py:19: FutureWarning: pandas.util.testing is deprecated. Use the functions in the public API at pandas.testing instead.\n",
            "  import pandas.util.testing as tm\n"
          ]
        },
        {
          "data": {
            "application/vnd.google.colaboratory.intrinsic+json": {
              "type": "string"
            },
            "text/plain": [
              "'2.24.0-omicron'"
            ]
          },
          "execution_count": 1,
          "metadata": {},
          "output_type": "execute_result"
        }
      ],
      "source": [
        "from pprint import pprint\n",
        "try:\n",
        "    import covsirphy as cs\n",
        "except ImportError:\n",
        "    !pip install --upgrade \"git+https://github.com/lisphilar/covid19-sir.git#egg=covsirphy\" -qq\n",
        "    import covsirphy as cs\n",
        "import numpy as np\n",
        "cs.__version__"
      ]
    },
    {
      "cell_type": "markdown",
      "metadata": {
        "id": "3WbDfMogRp_v"
      },
      "source": [
        "We will use the recommended datasets at country-level data as an example."
      ]
    },
    {
      "cell_type": "code",
      "execution_count": 2,
      "metadata": {
        "colab": {
          "base_uri": "https://localhost:8080/"
        },
        "id": "wiAS8CkKRdCM",
        "outputId": "1d988331-a8bb-475f-a503-34affc86459f"
      },
      "outputs": [
        {
          "name": "stdout",
          "output_type": "stream",
          "text": [
            "Retrieving COVID-19 dataset from https://github.com/lisphilar/covid19-sir/data/\n",
            "Retrieving datasets from COVID-19 Data Hub https://covid19datahub.io/\n",
            "Retrieving datasets from COVID-19 Open Data by Google Cloud Platform https://github.com/GoogleCloudPlatform/covid-19-open-data\n",
            "Retrieving datasets from Our World In Data https://github.com/owid/covid-19-data/\n",
            "<class 'pandas.core.frame.DataFrame'>\n",
            "RangeIndex: 210976 entries, 0 to 210975\n",
            "Data columns (total 36 columns):\n",
            " #   Column                               Non-Null Count   Dtype         \n",
            "---  ------                               --------------   -----         \n",
            " 0   ISO3                                 210976 non-null  category      \n",
            " 1   Province                             210976 non-null  category      \n",
            " 2   City                                 210976 non-null  category      \n",
            " 3   Date                                 210976 non-null  datetime64[ns]\n",
            " 4   Cancel_events                        167216 non-null  object        \n",
            " 5   Confirmed                            191571 non-null  object        \n",
            " 6   Contact_tracing                      167118 non-null  object        \n",
            " 7   Country                              208802 non-null  string        \n",
            " 8   Fatal                                175144 non-null  object        \n",
            " 9   Gatherings_restrictions              167213 non-null  object        \n",
            " 10  Information_campaigns                167169 non-null  object        \n",
            " 11  Internal_movement_restrictions       167187 non-null  object        \n",
            " 12  International_movement_restrictions  167198 non-null  object        \n",
            " 13  Mobility_grocery_and_pharmacy        111522 non-null  object        \n",
            " 14  Mobility_parks                       111438 non-null  object        \n",
            " 15  Mobility_residential                 111199 non-null  object        \n",
            " 16  Mobility_retail_and_recreation       111592 non-null  object        \n",
            " 17  Mobility_transit_stations            112482 non-null  object        \n",
            " 18  Mobility_workplaces                  112919 non-null  object        \n",
            " 19  Population                           207875 non-null  object        \n",
            " 20  Product                              108550 non-null  string        \n",
            " 21  Recovered                            71209 non-null   object        \n",
            " 22  School_closing                       167252 non-null  object        \n",
            " 23  Stay_home_restrictions               167169 non-null  object        \n",
            " 24  Stringency_index                     167086 non-null  object        \n",
            " 25  Testing_policy                       167146 non-null  object        \n",
            " 26  Tests                                84779 non-null   object        \n",
            " 27  Transport_closing                    167202 non-null  object        \n",
            " 28  Vaccinated_1st                       908 non-null     object        \n",
            " 29  Vaccinated_2nd                       908 non-null     object        \n",
            " 30  Vaccinated_3rd                       908 non-null     object        \n",
            " 31  Vaccinated_full                      45264 non-null   object        \n",
            " 32  Vaccinated_once                      47577 non-null   object        \n",
            " 33  Vaccinations                         50175 non-null   object        \n",
            " 34  Vaccinations_boosters                23398 non-null   object        \n",
            " 35  Workplace_closing                    167249 non-null  object        \n",
            "dtypes: category(3), datetime64[ns](1), object(30), string(2)\n",
            "memory usage: 53.9+ MB\n"
          ]
        }
      ],
      "source": [
        "eng = cs.DataEngineer()\n",
        "eng.download()\n",
        "eng.all().info()"
      ]
    },
    {
      "cell_type": "markdown",
      "metadata": {
        "id": "ipoi8IyqQcry"
      },
      "source": [
        "## 1. Data cleaning\n",
        "`DataEngineer().clean()` performs the following data cleaning functionalities. By applying a list of strings to `kinds` argument (eg. `kinds=[\"resample\"]`), we can specify the cleaning method(s).\n",
        "\n",
        "\n",
        "* \"convert_date\": Convert dtype of date column to pandas.Timestamp.\n",
        "* \"resample\": Resample records with dates.\n",
        "* \"fillna\": Fill NA values with '-' (layers) and the previous values and 0."
      ]
    },
    {
      "cell_type": "code",
      "execution_count": 3,
      "metadata": {
        "colab": {
          "base_uri": "https://localhost:8080/"
        },
        "id": "ijYm41OwTPrM",
        "outputId": "d3fdf5e7-a750-4018-c092-2a7193fa9418"
      },
      "outputs": [
        {
          "name": "stdout",
          "output_type": "stream",
          "text": [
            "<class 'pandas.core.frame.DataFrame'>\n",
            "RangeIndex: 211041 entries, 0 to 211040\n",
            "Data columns (total 36 columns):\n",
            " #   Column                               Non-Null Count   Dtype         \n",
            "---  ------                               --------------   -----         \n",
            " 0   ISO3                                 211041 non-null  category      \n",
            " 1   Province                             211041 non-null  category      \n",
            " 2   City                                 211041 non-null  category      \n",
            " 3   Date                                 211041 non-null  datetime64[ns]\n",
            " 4   Cancel_events                        211041 non-null  Int64         \n",
            " 5   Confirmed                            211041 non-null  Int64         \n",
            " 6   Contact_tracing                      211041 non-null  Int64         \n",
            " 7   Country                              211041 non-null  object        \n",
            " 8   Fatal                                211041 non-null  Int64         \n",
            " 9   Gatherings_restrictions              211041 non-null  Int64         \n",
            " 10  Information_campaigns                211041 non-null  Int64         \n",
            " 11  Internal_movement_restrictions       211041 non-null  Int64         \n",
            " 12  International_movement_restrictions  211041 non-null  Int64         \n",
            " 13  Mobility_grocery_and_pharmacy        211041 non-null  Int64         \n",
            " 14  Mobility_parks                       211041 non-null  Int64         \n",
            " 15  Mobility_residential                 211041 non-null  Int64         \n",
            " 16  Mobility_retail_and_recreation       211041 non-null  Int64         \n",
            " 17  Mobility_transit_stations            211041 non-null  Int64         \n",
            " 18  Mobility_workplaces                  211041 non-null  Int64         \n",
            " 19  Population                           211041 non-null  Int64         \n",
            " 20  Product                              211041 non-null  object        \n",
            " 21  Recovered                            211041 non-null  Int64         \n",
            " 22  School_closing                       211041 non-null  Int64         \n",
            " 23  Stay_home_restrictions               211041 non-null  Int64         \n",
            " 24  Stringency_index                     211041 non-null  Float64       \n",
            " 25  Testing_policy                       211041 non-null  Int64         \n",
            " 26  Tests                                211041 non-null  Int64         \n",
            " 27  Transport_closing                    211041 non-null  Int64         \n",
            " 28  Vaccinated_1st                       211041 non-null  Int64         \n",
            " 29  Vaccinated_2nd                       211041 non-null  Int64         \n",
            " 30  Vaccinated_3rd                       211041 non-null  Int64         \n",
            " 31  Vaccinated_full                      211041 non-null  Int64         \n",
            " 32  Vaccinated_once                      211041 non-null  Int64         \n",
            " 33  Vaccinations                         211041 non-null  Int64         \n",
            " 34  Vaccinations_boosters                211041 non-null  Int64         \n",
            " 35  Workplace_closing                    211041 non-null  Int64         \n",
            "dtypes: Float64(1), Int64(29), category(3), datetime64[ns](1), object(2)\n",
            "memory usage: 60.0+ MB\n"
          ]
        }
      ],
      "source": [
        "eng.clean()\n",
        "eng.all().info()"
      ]
    },
    {
      "cell_type": "markdown",
      "metadata": {
        "id": "AZHepK1WQhAP"
      },
      "source": [
        "## 2. Data transformation\n",
        "Transform all registered data, calculating the number of susceptible and infected cases. This is required to analyze real data with SIR-derived models.\n",
        "\n",
        "- Susceptible = Population - Confirmed\n",
        "- Infected = Confirmed - Fatal - Recovered"
      ]
    },
    {
      "cell_type": "code",
      "execution_count": 4,
      "metadata": {
        "id": "Ah3PPRmkUTPm"
      },
      "outputs": [],
      "source": [
        "main_variables = [\"Population\", \"Susceptible\", \"Confirmed\", \"Infected\", \"Fatal\", \"Recovered\"]"
      ]
    },
    {
      "cell_type": "code",
      "execution_count": 5,
      "metadata": {
        "colab": {
          "base_uri": "https://localhost:8080/",
          "height": 206
        },
        "id": "mQljdcP3TxNz",
        "outputId": "fad8ba31-56b7-47e0-fee7-b74956b3ea41"
      },
      "outputs": [
        {
          "data": {
            "text/html": [
              "\n",
              "  <div id=\"df-de6a02cd-99dd-494a-90e1-ad98d7c44f5c\">\n",
              "    <div class=\"colab-df-container\">\n",
              "      <div>\n",
              "<style scoped>\n",
              "    .dataframe tbody tr th:only-of-type {\n",
              "        vertical-align: middle;\n",
              "    }\n",
              "\n",
              "    .dataframe tbody tr th {\n",
              "        vertical-align: top;\n",
              "    }\n",
              "\n",
              "    .dataframe thead th {\n",
              "        text-align: right;\n",
              "    }\n",
              "</style>\n",
              "<table border=\"1\" class=\"dataframe\">\n",
              "  <thead>\n",
              "    <tr style=\"text-align: right;\">\n",
              "      <th></th>\n",
              "      <th>ISO3</th>\n",
              "      <th>Province</th>\n",
              "      <th>City</th>\n",
              "      <th>Date</th>\n",
              "      <th>Population</th>\n",
              "      <th>Susceptible</th>\n",
              "      <th>Confirmed</th>\n",
              "      <th>Infected</th>\n",
              "      <th>Fatal</th>\n",
              "      <th>Recovered</th>\n",
              "    </tr>\n",
              "  </thead>\n",
              "  <tbody>\n",
              "    <tr>\n",
              "      <th>211036</th>\n",
              "      <td>ZWE</td>\n",
              "      <td>-</td>\n",
              "      <td>-</td>\n",
              "      <td>2022-08-01</td>\n",
              "      <td>14439018</td>\n",
              "      <td>14182636</td>\n",
              "      <td>256382</td>\n",
              "      <td>167811</td>\n",
              "      <td>5577</td>\n",
              "      <td>82994</td>\n",
              "    </tr>\n",
              "    <tr>\n",
              "      <th>211037</th>\n",
              "      <td>ZWE</td>\n",
              "      <td>-</td>\n",
              "      <td>-</td>\n",
              "      <td>2022-08-02</td>\n",
              "      <td>14439018</td>\n",
              "      <td>14182615</td>\n",
              "      <td>256403</td>\n",
              "      <td>167831</td>\n",
              "      <td>5578</td>\n",
              "      <td>82994</td>\n",
              "    </tr>\n",
              "    <tr>\n",
              "      <th>211038</th>\n",
              "      <td>ZWE</td>\n",
              "      <td>-</td>\n",
              "      <td>-</td>\n",
              "      <td>2022-08-03</td>\n",
              "      <td>14439018</td>\n",
              "      <td>14182595</td>\n",
              "      <td>256423</td>\n",
              "      <td>167850</td>\n",
              "      <td>5579</td>\n",
              "      <td>82994</td>\n",
              "    </tr>\n",
              "    <tr>\n",
              "      <th>211039</th>\n",
              "      <td>ZWE</td>\n",
              "      <td>-</td>\n",
              "      <td>-</td>\n",
              "      <td>2022-08-04</td>\n",
              "      <td>14439018</td>\n",
              "      <td>14182574</td>\n",
              "      <td>256444</td>\n",
              "      <td>167869</td>\n",
              "      <td>5581</td>\n",
              "      <td>82994</td>\n",
              "    </tr>\n",
              "    <tr>\n",
              "      <th>211040</th>\n",
              "      <td>ZWE</td>\n",
              "      <td>-</td>\n",
              "      <td>-</td>\n",
              "      <td>2022-08-05</td>\n",
              "      <td>14439018</td>\n",
              "      <td>14182574</td>\n",
              "      <td>256444</td>\n",
              "      <td>167869</td>\n",
              "      <td>5581</td>\n",
              "      <td>82994</td>\n",
              "    </tr>\n",
              "  </tbody>\n",
              "</table>\n",
              "</div>\n",
              "      <button class=\"colab-df-convert\" onclick=\"convertToInteractive('df-de6a02cd-99dd-494a-90e1-ad98d7c44f5c')\"\n",
              "              title=\"Convert this dataframe to an interactive table.\"\n",
              "              style=\"display:none;\">\n",
              "        \n",
              "  <svg xmlns=\"http://www.w3.org/2000/svg\" height=\"24px\"viewBox=\"0 0 24 24\"\n",
              "       width=\"24px\">\n",
              "    <path d=\"M0 0h24v24H0V0z\" fill=\"none\"/>\n",
              "    <path d=\"M18.56 5.44l.94 2.06.94-2.06 2.06-.94-2.06-.94-.94-2.06-.94 2.06-2.06.94zm-11 1L8.5 8.5l.94-2.06 2.06-.94-2.06-.94L8.5 2.5l-.94 2.06-2.06.94zm10 10l.94 2.06.94-2.06 2.06-.94-2.06-.94-.94-2.06-.94 2.06-2.06.94z\"/><path d=\"M17.41 7.96l-1.37-1.37c-.4-.4-.92-.59-1.43-.59-.52 0-1.04.2-1.43.59L10.3 9.45l-7.72 7.72c-.78.78-.78 2.05 0 2.83L4 21.41c.39.39.9.59 1.41.59.51 0 1.02-.2 1.41-.59l7.78-7.78 2.81-2.81c.8-.78.8-2.07 0-2.86zM5.41 20L4 18.59l7.72-7.72 1.47 1.35L5.41 20z\"/>\n",
              "  </svg>\n",
              "      </button>\n",
              "      \n",
              "  <style>\n",
              "    .colab-df-container {\n",
              "      display:flex;\n",
              "      flex-wrap:wrap;\n",
              "      gap: 12px;\n",
              "    }\n",
              "\n",
              "    .colab-df-convert {\n",
              "      background-color: #E8F0FE;\n",
              "      border: none;\n",
              "      border-radius: 50%;\n",
              "      cursor: pointer;\n",
              "      display: none;\n",
              "      fill: #1967D2;\n",
              "      height: 32px;\n",
              "      padding: 0 0 0 0;\n",
              "      width: 32px;\n",
              "    }\n",
              "\n",
              "    .colab-df-convert:hover {\n",
              "      background-color: #E2EBFA;\n",
              "      box-shadow: 0px 1px 2px rgba(60, 64, 67, 0.3), 0px 1px 3px 1px rgba(60, 64, 67, 0.15);\n",
              "      fill: #174EA6;\n",
              "    }\n",
              "\n",
              "    [theme=dark] .colab-df-convert {\n",
              "      background-color: #3B4455;\n",
              "      fill: #D2E3FC;\n",
              "    }\n",
              "\n",
              "    [theme=dark] .colab-df-convert:hover {\n",
              "      background-color: #434B5C;\n",
              "      box-shadow: 0px 1px 3px 1px rgba(0, 0, 0, 0.15);\n",
              "      filter: drop-shadow(0px 1px 2px rgba(0, 0, 0, 0.3));\n",
              "      fill: #FFFFFF;\n",
              "    }\n",
              "  </style>\n",
              "\n",
              "      <script>\n",
              "        const buttonEl =\n",
              "          document.querySelector('#df-de6a02cd-99dd-494a-90e1-ad98d7c44f5c button.colab-df-convert');\n",
              "        buttonEl.style.display =\n",
              "          google.colab.kernel.accessAllowed ? 'block' : 'none';\n",
              "\n",
              "        async function convertToInteractive(key) {\n",
              "          const element = document.querySelector('#df-de6a02cd-99dd-494a-90e1-ad98d7c44f5c');\n",
              "          const dataTable =\n",
              "            await google.colab.kernel.invokeFunction('convertToInteractive',\n",
              "                                                     [key], {});\n",
              "          if (!dataTable) return;\n",
              "\n",
              "          const docLinkHtml = 'Like what you see? Visit the ' +\n",
              "            '<a target=\"_blank\" href=https://colab.research.google.com/notebooks/data_table.ipynb>data table notebook</a>'\n",
              "            + ' to learn more about interactive tables.';\n",
              "          element.innerHTML = '';\n",
              "          dataTable['output_type'] = 'display_data';\n",
              "          await google.colab.output.renderOutput(dataTable, element);\n",
              "          const docLink = document.createElement('div');\n",
              "          docLink.innerHTML = docLinkHtml;\n",
              "          element.appendChild(docLink);\n",
              "        }\n",
              "      </script>\n",
              "    </div>\n",
              "  </div>\n",
              "  "
            ],
            "text/plain": [
              "       ISO3 Province City       Date  Population  Susceptible  Confirmed  \\\n",
              "211036  ZWE        -    - 2022-08-01    14439018     14182636     256382   \n",
              "211037  ZWE        -    - 2022-08-02    14439018     14182615     256403   \n",
              "211038  ZWE        -    - 2022-08-03    14439018     14182595     256423   \n",
              "211039  ZWE        -    - 2022-08-04    14439018     14182574     256444   \n",
              "211040  ZWE        -    - 2022-08-05    14439018     14182574     256444   \n",
              "\n",
              "        Infected  Fatal  Recovered  \n",
              "211036    167811   5577      82994  \n",
              "211037    167831   5578      82994  \n",
              "211038    167850   5579      82994  \n",
              "211039    167869   5581      82994  \n",
              "211040    167869   5581      82994  "
            ]
          },
          "execution_count": 5,
          "metadata": {},
          "output_type": "execute_result"
        }
      ],
      "source": [
        "eng.transform()\n",
        "eng.all(variables=main_variables).tail()"
      ]
    },
    {
      "cell_type": "markdown",
      "metadata": {
        "id": "M5K_aB8xUvtH"
      },
      "source": [
        "Recalculation of \"Population\" and \"Confirmed\" can be performed with `DataEngineer().inverse_transform()`, if necessary. (No impact with this example data.)"
      ]
    },
    {
      "cell_type": "code",
      "execution_count": 6,
      "metadata": {
        "colab": {
          "base_uri": "https://localhost:8080/",
          "height": 206
        },
        "id": "qYJoz5-tVKFh",
        "outputId": "7f5bf2eb-4e98-454c-bdb1-5ff33aa57dc3"
      },
      "outputs": [
        {
          "data": {
            "text/html": [
              "\n",
              "  <div id=\"df-6ddc3887-03dc-459e-b91f-6db5e88b772c\">\n",
              "    <div class=\"colab-df-container\">\n",
              "      <div>\n",
              "<style scoped>\n",
              "    .dataframe tbody tr th:only-of-type {\n",
              "        vertical-align: middle;\n",
              "    }\n",
              "\n",
              "    .dataframe tbody tr th {\n",
              "        vertical-align: top;\n",
              "    }\n",
              "\n",
              "    .dataframe thead th {\n",
              "        text-align: right;\n",
              "    }\n",
              "</style>\n",
              "<table border=\"1\" class=\"dataframe\">\n",
              "  <thead>\n",
              "    <tr style=\"text-align: right;\">\n",
              "      <th></th>\n",
              "      <th>ISO3</th>\n",
              "      <th>Province</th>\n",
              "      <th>City</th>\n",
              "      <th>Date</th>\n",
              "      <th>Population</th>\n",
              "      <th>Susceptible</th>\n",
              "      <th>Confirmed</th>\n",
              "      <th>Infected</th>\n",
              "      <th>Fatal</th>\n",
              "      <th>Recovered</th>\n",
              "    </tr>\n",
              "  </thead>\n",
              "  <tbody>\n",
              "    <tr>\n",
              "      <th>211036</th>\n",
              "      <td>ZWE</td>\n",
              "      <td>-</td>\n",
              "      <td>-</td>\n",
              "      <td>2022-08-01</td>\n",
              "      <td>14439018</td>\n",
              "      <td>14182636</td>\n",
              "      <td>256382</td>\n",
              "      <td>167811</td>\n",
              "      <td>5577</td>\n",
              "      <td>82994</td>\n",
              "    </tr>\n",
              "    <tr>\n",
              "      <th>211037</th>\n",
              "      <td>ZWE</td>\n",
              "      <td>-</td>\n",
              "      <td>-</td>\n",
              "      <td>2022-08-02</td>\n",
              "      <td>14439018</td>\n",
              "      <td>14182615</td>\n",
              "      <td>256403</td>\n",
              "      <td>167831</td>\n",
              "      <td>5578</td>\n",
              "      <td>82994</td>\n",
              "    </tr>\n",
              "    <tr>\n",
              "      <th>211038</th>\n",
              "      <td>ZWE</td>\n",
              "      <td>-</td>\n",
              "      <td>-</td>\n",
              "      <td>2022-08-03</td>\n",
              "      <td>14439018</td>\n",
              "      <td>14182595</td>\n",
              "      <td>256423</td>\n",
              "      <td>167850</td>\n",
              "      <td>5579</td>\n",
              "      <td>82994</td>\n",
              "    </tr>\n",
              "    <tr>\n",
              "      <th>211039</th>\n",
              "      <td>ZWE</td>\n",
              "      <td>-</td>\n",
              "      <td>-</td>\n",
              "      <td>2022-08-04</td>\n",
              "      <td>14439018</td>\n",
              "      <td>14182574</td>\n",
              "      <td>256444</td>\n",
              "      <td>167869</td>\n",
              "      <td>5581</td>\n",
              "      <td>82994</td>\n",
              "    </tr>\n",
              "    <tr>\n",
              "      <th>211040</th>\n",
              "      <td>ZWE</td>\n",
              "      <td>-</td>\n",
              "      <td>-</td>\n",
              "      <td>2022-08-05</td>\n",
              "      <td>14439018</td>\n",
              "      <td>14182574</td>\n",
              "      <td>256444</td>\n",
              "      <td>167869</td>\n",
              "      <td>5581</td>\n",
              "      <td>82994</td>\n",
              "    </tr>\n",
              "  </tbody>\n",
              "</table>\n",
              "</div>\n",
              "      <button class=\"colab-df-convert\" onclick=\"convertToInteractive('df-6ddc3887-03dc-459e-b91f-6db5e88b772c')\"\n",
              "              title=\"Convert this dataframe to an interactive table.\"\n",
              "              style=\"display:none;\">\n",
              "        \n",
              "  <svg xmlns=\"http://www.w3.org/2000/svg\" height=\"24px\"viewBox=\"0 0 24 24\"\n",
              "       width=\"24px\">\n",
              "    <path d=\"M0 0h24v24H0V0z\" fill=\"none\"/>\n",
              "    <path d=\"M18.56 5.44l.94 2.06.94-2.06 2.06-.94-2.06-.94-.94-2.06-.94 2.06-2.06.94zm-11 1L8.5 8.5l.94-2.06 2.06-.94-2.06-.94L8.5 2.5l-.94 2.06-2.06.94zm10 10l.94 2.06.94-2.06 2.06-.94-2.06-.94-.94-2.06-.94 2.06-2.06.94z\"/><path d=\"M17.41 7.96l-1.37-1.37c-.4-.4-.92-.59-1.43-.59-.52 0-1.04.2-1.43.59L10.3 9.45l-7.72 7.72c-.78.78-.78 2.05 0 2.83L4 21.41c.39.39.9.59 1.41.59.51 0 1.02-.2 1.41-.59l7.78-7.78 2.81-2.81c.8-.78.8-2.07 0-2.86zM5.41 20L4 18.59l7.72-7.72 1.47 1.35L5.41 20z\"/>\n",
              "  </svg>\n",
              "      </button>\n",
              "      \n",
              "  <style>\n",
              "    .colab-df-container {\n",
              "      display:flex;\n",
              "      flex-wrap:wrap;\n",
              "      gap: 12px;\n",
              "    }\n",
              "\n",
              "    .colab-df-convert {\n",
              "      background-color: #E8F0FE;\n",
              "      border: none;\n",
              "      border-radius: 50%;\n",
              "      cursor: pointer;\n",
              "      display: none;\n",
              "      fill: #1967D2;\n",
              "      height: 32px;\n",
              "      padding: 0 0 0 0;\n",
              "      width: 32px;\n",
              "    }\n",
              "\n",
              "    .colab-df-convert:hover {\n",
              "      background-color: #E2EBFA;\n",
              "      box-shadow: 0px 1px 2px rgba(60, 64, 67, 0.3), 0px 1px 3px 1px rgba(60, 64, 67, 0.15);\n",
              "      fill: #174EA6;\n",
              "    }\n",
              "\n",
              "    [theme=dark] .colab-df-convert {\n",
              "      background-color: #3B4455;\n",
              "      fill: #D2E3FC;\n",
              "    }\n",
              "\n",
              "    [theme=dark] .colab-df-convert:hover {\n",
              "      background-color: #434B5C;\n",
              "      box-shadow: 0px 1px 3px 1px rgba(0, 0, 0, 0.15);\n",
              "      filter: drop-shadow(0px 1px 2px rgba(0, 0, 0, 0.3));\n",
              "      fill: #FFFFFF;\n",
              "    }\n",
              "  </style>\n",
              "\n",
              "      <script>\n",
              "        const buttonEl =\n",
              "          document.querySelector('#df-6ddc3887-03dc-459e-b91f-6db5e88b772c button.colab-df-convert');\n",
              "        buttonEl.style.display =\n",
              "          google.colab.kernel.accessAllowed ? 'block' : 'none';\n",
              "\n",
              "        async function convertToInteractive(key) {\n",
              "          const element = document.querySelector('#df-6ddc3887-03dc-459e-b91f-6db5e88b772c');\n",
              "          const dataTable =\n",
              "            await google.colab.kernel.invokeFunction('convertToInteractive',\n",
              "                                                     [key], {});\n",
              "          if (!dataTable) return;\n",
              "\n",
              "          const docLinkHtml = 'Like what you see? Visit the ' +\n",
              "            '<a target=\"_blank\" href=https://colab.research.google.com/notebooks/data_table.ipynb>data table notebook</a>'\n",
              "            + ' to learn more about interactive tables.';\n",
              "          element.innerHTML = '';\n",
              "          dataTable['output_type'] = 'display_data';\n",
              "          await google.colab.output.renderOutput(dataTable, element);\n",
              "          const docLink = document.createElement('div');\n",
              "          docLink.innerHTML = docLinkHtml;\n",
              "          element.appendChild(docLink);\n",
              "        }\n",
              "      </script>\n",
              "    </div>\n",
              "  </div>\n",
              "  "
            ],
            "text/plain": [
              "       ISO3 Province City       Date  Population  Susceptible  Confirmed  \\\n",
              "211036  ZWE        -    - 2022-08-01    14439018     14182636     256382   \n",
              "211037  ZWE        -    - 2022-08-02    14439018     14182615     256403   \n",
              "211038  ZWE        -    - 2022-08-03    14439018     14182595     256423   \n",
              "211039  ZWE        -    - 2022-08-04    14439018     14182574     256444   \n",
              "211040  ZWE        -    - 2022-08-05    14439018     14182574     256444   \n",
              "\n",
              "        Infected  Fatal  Recovered  \n",
              "211036    167811   5577      82994  \n",
              "211037    167831   5578      82994  \n",
              "211038    167850   5579      82994  \n",
              "211039    167869   5581      82994  \n",
              "211040    167869   5581      82994  "
            ]
          },
          "execution_count": 6,
          "metadata": {},
          "output_type": "execute_result"
        }
      ],
      "source": [
        "eng.inverse_transform()\n",
        "eng.all(variables=main_variables).tail()"
      ]
    },
    {
      "cell_type": "markdown",
      "metadata": {
        "id": "DBQhq6sSVzaD"
      },
      "source": [
        "## 3. Arithmetic operations\n",
        "We can perform arithmetic operations to add new columns.\n",
        "\n",
        "* `.diff(column, suffix=\"_diff\", freq=\"D\")`: Calculate daily new cases with \"f(x>0) = F(x) - F(x-1), x(0) = 0 when F is cumulative numbers\".\n",
        "* `.add(columns, new=None, fill_value=0)`: Calculate element-wise addition with pandas.DataFrame.sum(axis=1), X1 + X2 + X3 +...\n",
        "* `.mul(columns, new=None, fill_value=0)`: Calculate element-wise multiplication with pandas.DataFrame.product(axis=1), X1 * X2 * X3 *...\n",
        "* `.sub(minuend, subtrahend, new=None, fill_value=0)`: Calculate element-wise subtraction with pandas.Series.sub(), minuend - subtrahend.\n",
        "* `.div(columns, new=None, fill_value=0)`: Calculate element-wise floating division with pandas.Series.div(), numerator / denominator.\n",
        "* `.assign(**kwargs))`: Assign a new column with pandas.DataFrame.assign().\n"
      ]
    },
    {
      "cell_type": "code",
      "execution_count": 7,
      "metadata": {
        "colab": {
          "base_uri": "https://localhost:8080/",
          "height": 206
        },
        "id": "qK40wmeuXUw1",
        "outputId": "b8e6bbb6-dc3b-42ab-bf88-a43f08028654"
      },
      "outputs": [
        {
          "data": {
            "text/html": [
              "\n",
              "  <div id=\"df-83dd5cfe-93c5-4860-ae9d-a532d3c16ed4\">\n",
              "    <div class=\"colab-df-container\">\n",
              "      <div>\n",
              "<style scoped>\n",
              "    .dataframe tbody tr th:only-of-type {\n",
              "        vertical-align: middle;\n",
              "    }\n",
              "\n",
              "    .dataframe tbody tr th {\n",
              "        vertical-align: top;\n",
              "    }\n",
              "\n",
              "    .dataframe thead th {\n",
              "        text-align: right;\n",
              "    }\n",
              "</style>\n",
              "<table border=\"1\" class=\"dataframe\">\n",
              "  <thead>\n",
              "    <tr style=\"text-align: right;\">\n",
              "      <th></th>\n",
              "      <th>ISO3</th>\n",
              "      <th>Province</th>\n",
              "      <th>City</th>\n",
              "      <th>Date</th>\n",
              "      <th>Confirmed</th>\n",
              "      <th>Confirmed_diff</th>\n",
              "    </tr>\n",
              "  </thead>\n",
              "  <tbody>\n",
              "    <tr>\n",
              "      <th>211036</th>\n",
              "      <td>ZWE</td>\n",
              "      <td>-</td>\n",
              "      <td>-</td>\n",
              "      <td>2022-08-01</td>\n",
              "      <td>256382</td>\n",
              "      <td>4</td>\n",
              "    </tr>\n",
              "    <tr>\n",
              "      <th>211037</th>\n",
              "      <td>ZWE</td>\n",
              "      <td>-</td>\n",
              "      <td>-</td>\n",
              "      <td>2022-08-02</td>\n",
              "      <td>256403</td>\n",
              "      <td>21</td>\n",
              "    </tr>\n",
              "    <tr>\n",
              "      <th>211038</th>\n",
              "      <td>ZWE</td>\n",
              "      <td>-</td>\n",
              "      <td>-</td>\n",
              "      <td>2022-08-03</td>\n",
              "      <td>256423</td>\n",
              "      <td>20</td>\n",
              "    </tr>\n",
              "    <tr>\n",
              "      <th>211039</th>\n",
              "      <td>ZWE</td>\n",
              "      <td>-</td>\n",
              "      <td>-</td>\n",
              "      <td>2022-08-04</td>\n",
              "      <td>256444</td>\n",
              "      <td>21</td>\n",
              "    </tr>\n",
              "    <tr>\n",
              "      <th>211040</th>\n",
              "      <td>ZWE</td>\n",
              "      <td>-</td>\n",
              "      <td>-</td>\n",
              "      <td>2022-08-05</td>\n",
              "      <td>256444</td>\n",
              "      <td>0</td>\n",
              "    </tr>\n",
              "  </tbody>\n",
              "</table>\n",
              "</div>\n",
              "      <button class=\"colab-df-convert\" onclick=\"convertToInteractive('df-83dd5cfe-93c5-4860-ae9d-a532d3c16ed4')\"\n",
              "              title=\"Convert this dataframe to an interactive table.\"\n",
              "              style=\"display:none;\">\n",
              "        \n",
              "  <svg xmlns=\"http://www.w3.org/2000/svg\" height=\"24px\"viewBox=\"0 0 24 24\"\n",
              "       width=\"24px\">\n",
              "    <path d=\"M0 0h24v24H0V0z\" fill=\"none\"/>\n",
              "    <path d=\"M18.56 5.44l.94 2.06.94-2.06 2.06-.94-2.06-.94-.94-2.06-.94 2.06-2.06.94zm-11 1L8.5 8.5l.94-2.06 2.06-.94-2.06-.94L8.5 2.5l-.94 2.06-2.06.94zm10 10l.94 2.06.94-2.06 2.06-.94-2.06-.94-.94-2.06-.94 2.06-2.06.94z\"/><path d=\"M17.41 7.96l-1.37-1.37c-.4-.4-.92-.59-1.43-.59-.52 0-1.04.2-1.43.59L10.3 9.45l-7.72 7.72c-.78.78-.78 2.05 0 2.83L4 21.41c.39.39.9.59 1.41.59.51 0 1.02-.2 1.41-.59l7.78-7.78 2.81-2.81c.8-.78.8-2.07 0-2.86zM5.41 20L4 18.59l7.72-7.72 1.47 1.35L5.41 20z\"/>\n",
              "  </svg>\n",
              "      </button>\n",
              "      \n",
              "  <style>\n",
              "    .colab-df-container {\n",
              "      display:flex;\n",
              "      flex-wrap:wrap;\n",
              "      gap: 12px;\n",
              "    }\n",
              "\n",
              "    .colab-df-convert {\n",
              "      background-color: #E8F0FE;\n",
              "      border: none;\n",
              "      border-radius: 50%;\n",
              "      cursor: pointer;\n",
              "      display: none;\n",
              "      fill: #1967D2;\n",
              "      height: 32px;\n",
              "      padding: 0 0 0 0;\n",
              "      width: 32px;\n",
              "    }\n",
              "\n",
              "    .colab-df-convert:hover {\n",
              "      background-color: #E2EBFA;\n",
              "      box-shadow: 0px 1px 2px rgba(60, 64, 67, 0.3), 0px 1px 3px 1px rgba(60, 64, 67, 0.15);\n",
              "      fill: #174EA6;\n",
              "    }\n",
              "\n",
              "    [theme=dark] .colab-df-convert {\n",
              "      background-color: #3B4455;\n",
              "      fill: #D2E3FC;\n",
              "    }\n",
              "\n",
              "    [theme=dark] .colab-df-convert:hover {\n",
              "      background-color: #434B5C;\n",
              "      box-shadow: 0px 1px 3px 1px rgba(0, 0, 0, 0.15);\n",
              "      filter: drop-shadow(0px 1px 2px rgba(0, 0, 0, 0.3));\n",
              "      fill: #FFFFFF;\n",
              "    }\n",
              "  </style>\n",
              "\n",
              "      <script>\n",
              "        const buttonEl =\n",
              "          document.querySelector('#df-83dd5cfe-93c5-4860-ae9d-a532d3c16ed4 button.colab-df-convert');\n",
              "        buttonEl.style.display =\n",
              "          google.colab.kernel.accessAllowed ? 'block' : 'none';\n",
              "\n",
              "        async function convertToInteractive(key) {\n",
              "          const element = document.querySelector('#df-83dd5cfe-93c5-4860-ae9d-a532d3c16ed4');\n",
              "          const dataTable =\n",
              "            await google.colab.kernel.invokeFunction('convertToInteractive',\n",
              "                                                     [key], {});\n",
              "          if (!dataTable) return;\n",
              "\n",
              "          const docLinkHtml = 'Like what you see? Visit the ' +\n",
              "            '<a target=\"_blank\" href=https://colab.research.google.com/notebooks/data_table.ipynb>data table notebook</a>'\n",
              "            + ' to learn more about interactive tables.';\n",
              "          element.innerHTML = '';\n",
              "          dataTable['output_type'] = 'display_data';\n",
              "          await google.colab.output.renderOutput(dataTable, element);\n",
              "          const docLink = document.createElement('div');\n",
              "          docLink.innerHTML = docLinkHtml;\n",
              "          element.appendChild(docLink);\n",
              "        }\n",
              "      </script>\n",
              "    </div>\n",
              "  </div>\n",
              "  "
            ],
            "text/plain": [
              "       ISO3 Province City       Date  Confirmed  Confirmed_diff\n",
              "211036  ZWE        -    - 2022-08-01     256382               4\n",
              "211037  ZWE        -    - 2022-08-02     256403              21\n",
              "211038  ZWE        -    - 2022-08-03     256423              20\n",
              "211039  ZWE        -    - 2022-08-04     256444              21\n",
              "211040  ZWE        -    - 2022-08-05     256444               0"
            ]
          },
          "execution_count": 7,
          "metadata": {},
          "output_type": "execute_result"
        }
      ],
      "source": [
        "# Diff\n",
        "eng.diff(column=\"Confirmed\", suffix=\"_diff\", freq=\"D\")\n",
        "eng.all(variables=[\"Confirmed\", \"Confirmed_diff\"]).tail()"
      ]
    },
    {
      "cell_type": "code",
      "execution_count": 8,
      "metadata": {
        "colab": {
          "base_uri": "https://localhost:8080/",
          "height": 206
        },
        "id": "7lyYpt0ZXjX7",
        "outputId": "4e3b20d3-a6de-442b-e173-379a45601117"
      },
      "outputs": [
        {
          "data": {
            "text/html": [
              "\n",
              "  <div id=\"df-3123f9bb-4c7f-484f-9c83-0652e5017e1d\">\n",
              "    <div class=\"colab-df-container\">\n",
              "      <div>\n",
              "<style scoped>\n",
              "    .dataframe tbody tr th:only-of-type {\n",
              "        vertical-align: middle;\n",
              "    }\n",
              "\n",
              "    .dataframe tbody tr th {\n",
              "        vertical-align: top;\n",
              "    }\n",
              "\n",
              "    .dataframe thead th {\n",
              "        text-align: right;\n",
              "    }\n",
              "</style>\n",
              "<table border=\"1\" class=\"dataframe\">\n",
              "  <thead>\n",
              "    <tr style=\"text-align: right;\">\n",
              "      <th></th>\n",
              "      <th>ISO3</th>\n",
              "      <th>Province</th>\n",
              "      <th>City</th>\n",
              "      <th>Date</th>\n",
              "      <th>Fatal</th>\n",
              "      <th>Recovered</th>\n",
              "      <th>Fatal+Recovered</th>\n",
              "    </tr>\n",
              "  </thead>\n",
              "  <tbody>\n",
              "    <tr>\n",
              "      <th>211036</th>\n",
              "      <td>ZWE</td>\n",
              "      <td>-</td>\n",
              "      <td>-</td>\n",
              "      <td>2022-08-01</td>\n",
              "      <td>5577</td>\n",
              "      <td>82994</td>\n",
              "      <td>88571</td>\n",
              "    </tr>\n",
              "    <tr>\n",
              "      <th>211037</th>\n",
              "      <td>ZWE</td>\n",
              "      <td>-</td>\n",
              "      <td>-</td>\n",
              "      <td>2022-08-02</td>\n",
              "      <td>5578</td>\n",
              "      <td>82994</td>\n",
              "      <td>88572</td>\n",
              "    </tr>\n",
              "    <tr>\n",
              "      <th>211038</th>\n",
              "      <td>ZWE</td>\n",
              "      <td>-</td>\n",
              "      <td>-</td>\n",
              "      <td>2022-08-03</td>\n",
              "      <td>5579</td>\n",
              "      <td>82994</td>\n",
              "      <td>88573</td>\n",
              "    </tr>\n",
              "    <tr>\n",
              "      <th>211039</th>\n",
              "      <td>ZWE</td>\n",
              "      <td>-</td>\n",
              "      <td>-</td>\n",
              "      <td>2022-08-04</td>\n",
              "      <td>5581</td>\n",
              "      <td>82994</td>\n",
              "      <td>88575</td>\n",
              "    </tr>\n",
              "    <tr>\n",
              "      <th>211040</th>\n",
              "      <td>ZWE</td>\n",
              "      <td>-</td>\n",
              "      <td>-</td>\n",
              "      <td>2022-08-05</td>\n",
              "      <td>5581</td>\n",
              "      <td>82994</td>\n",
              "      <td>88575</td>\n",
              "    </tr>\n",
              "  </tbody>\n",
              "</table>\n",
              "</div>\n",
              "      <button class=\"colab-df-convert\" onclick=\"convertToInteractive('df-3123f9bb-4c7f-484f-9c83-0652e5017e1d')\"\n",
              "              title=\"Convert this dataframe to an interactive table.\"\n",
              "              style=\"display:none;\">\n",
              "        \n",
              "  <svg xmlns=\"http://www.w3.org/2000/svg\" height=\"24px\"viewBox=\"0 0 24 24\"\n",
              "       width=\"24px\">\n",
              "    <path d=\"M0 0h24v24H0V0z\" fill=\"none\"/>\n",
              "    <path d=\"M18.56 5.44l.94 2.06.94-2.06 2.06-.94-2.06-.94-.94-2.06-.94 2.06-2.06.94zm-11 1L8.5 8.5l.94-2.06 2.06-.94-2.06-.94L8.5 2.5l-.94 2.06-2.06.94zm10 10l.94 2.06.94-2.06 2.06-.94-2.06-.94-.94-2.06-.94 2.06-2.06.94z\"/><path d=\"M17.41 7.96l-1.37-1.37c-.4-.4-.92-.59-1.43-.59-.52 0-1.04.2-1.43.59L10.3 9.45l-7.72 7.72c-.78.78-.78 2.05 0 2.83L4 21.41c.39.39.9.59 1.41.59.51 0 1.02-.2 1.41-.59l7.78-7.78 2.81-2.81c.8-.78.8-2.07 0-2.86zM5.41 20L4 18.59l7.72-7.72 1.47 1.35L5.41 20z\"/>\n",
              "  </svg>\n",
              "      </button>\n",
              "      \n",
              "  <style>\n",
              "    .colab-df-container {\n",
              "      display:flex;\n",
              "      flex-wrap:wrap;\n",
              "      gap: 12px;\n",
              "    }\n",
              "\n",
              "    .colab-df-convert {\n",
              "      background-color: #E8F0FE;\n",
              "      border: none;\n",
              "      border-radius: 50%;\n",
              "      cursor: pointer;\n",
              "      display: none;\n",
              "      fill: #1967D2;\n",
              "      height: 32px;\n",
              "      padding: 0 0 0 0;\n",
              "      width: 32px;\n",
              "    }\n",
              "\n",
              "    .colab-df-convert:hover {\n",
              "      background-color: #E2EBFA;\n",
              "      box-shadow: 0px 1px 2px rgba(60, 64, 67, 0.3), 0px 1px 3px 1px rgba(60, 64, 67, 0.15);\n",
              "      fill: #174EA6;\n",
              "    }\n",
              "\n",
              "    [theme=dark] .colab-df-convert {\n",
              "      background-color: #3B4455;\n",
              "      fill: #D2E3FC;\n",
              "    }\n",
              "\n",
              "    [theme=dark] .colab-df-convert:hover {\n",
              "      background-color: #434B5C;\n",
              "      box-shadow: 0px 1px 3px 1px rgba(0, 0, 0, 0.15);\n",
              "      filter: drop-shadow(0px 1px 2px rgba(0, 0, 0, 0.3));\n",
              "      fill: #FFFFFF;\n",
              "    }\n",
              "  </style>\n",
              "\n",
              "      <script>\n",
              "        const buttonEl =\n",
              "          document.querySelector('#df-3123f9bb-4c7f-484f-9c83-0652e5017e1d button.colab-df-convert');\n",
              "        buttonEl.style.display =\n",
              "          google.colab.kernel.accessAllowed ? 'block' : 'none';\n",
              "\n",
              "        async function convertToInteractive(key) {\n",
              "          const element = document.querySelector('#df-3123f9bb-4c7f-484f-9c83-0652e5017e1d');\n",
              "          const dataTable =\n",
              "            await google.colab.kernel.invokeFunction('convertToInteractive',\n",
              "                                                     [key], {});\n",
              "          if (!dataTable) return;\n",
              "\n",
              "          const docLinkHtml = 'Like what you see? Visit the ' +\n",
              "            '<a target=\"_blank\" href=https://colab.research.google.com/notebooks/data_table.ipynb>data table notebook</a>'\n",
              "            + ' to learn more about interactive tables.';\n",
              "          element.innerHTML = '';\n",
              "          dataTable['output_type'] = 'display_data';\n",
              "          await google.colab.output.renderOutput(dataTable, element);\n",
              "          const docLink = document.createElement('div');\n",
              "          docLink.innerHTML = docLinkHtml;\n",
              "          element.appendChild(docLink);\n",
              "        }\n",
              "      </script>\n",
              "    </div>\n",
              "  </div>\n",
              "  "
            ],
            "text/plain": [
              "       ISO3 Province City       Date  Fatal  Recovered  Fatal+Recovered\n",
              "211036  ZWE        -    - 2022-08-01   5577      82994            88571\n",
              "211037  ZWE        -    - 2022-08-02   5578      82994            88572\n",
              "211038  ZWE        -    - 2022-08-03   5579      82994            88573\n",
              "211039  ZWE        -    - 2022-08-04   5581      82994            88575\n",
              "211040  ZWE        -    - 2022-08-05   5581      82994            88575"
            ]
          },
          "execution_count": 8,
          "metadata": {},
          "output_type": "execute_result"
        }
      ],
      "source": [
        "# Addition\n",
        "eng.add(columns=[\"Fatal\", \"Recovered\"])\n",
        "eng.all(variables=[\"Fatal\", \"Recovered\", \"Fatal+Recovered\"]).tail()"
      ]
    },
    {
      "cell_type": "code",
      "execution_count": 9,
      "metadata": {
        "colab": {
          "base_uri": "https://localhost:8080/",
          "height": 206
        },
        "id": "1mKRoxUVX1zh",
        "outputId": "e3f2eafc-fd0d-4a16-c6f3-235aebc63427"
      },
      "outputs": [
        {
          "data": {
            "text/html": [
              "\n",
              "  <div id=\"df-6487c11a-a63c-4721-b49e-22f965c359b1\">\n",
              "    <div class=\"colab-df-container\">\n",
              "      <div>\n",
              "<style scoped>\n",
              "    .dataframe tbody tr th:only-of-type {\n",
              "        vertical-align: middle;\n",
              "    }\n",
              "\n",
              "    .dataframe tbody tr th {\n",
              "        vertical-align: top;\n",
              "    }\n",
              "\n",
              "    .dataframe thead th {\n",
              "        text-align: right;\n",
              "    }\n",
              "</style>\n",
              "<table border=\"1\" class=\"dataframe\">\n",
              "  <thead>\n",
              "    <tr style=\"text-align: right;\">\n",
              "      <th></th>\n",
              "      <th>ISO3</th>\n",
              "      <th>Province</th>\n",
              "      <th>City</th>\n",
              "      <th>Date</th>\n",
              "      <th>Confirmed</th>\n",
              "      <th>Recovered</th>\n",
              "      <th>Confirmed*Recovered</th>\n",
              "    </tr>\n",
              "  </thead>\n",
              "  <tbody>\n",
              "    <tr>\n",
              "      <th>211036</th>\n",
              "      <td>ZWE</td>\n",
              "      <td>-</td>\n",
              "      <td>-</td>\n",
              "      <td>2022-08-01</td>\n",
              "      <td>256382</td>\n",
              "      <td>82994</td>\n",
              "      <td>21278167708</td>\n",
              "    </tr>\n",
              "    <tr>\n",
              "      <th>211037</th>\n",
              "      <td>ZWE</td>\n",
              "      <td>-</td>\n",
              "      <td>-</td>\n",
              "      <td>2022-08-02</td>\n",
              "      <td>256403</td>\n",
              "      <td>82994</td>\n",
              "      <td>21279910582</td>\n",
              "    </tr>\n",
              "    <tr>\n",
              "      <th>211038</th>\n",
              "      <td>ZWE</td>\n",
              "      <td>-</td>\n",
              "      <td>-</td>\n",
              "      <td>2022-08-03</td>\n",
              "      <td>256423</td>\n",
              "      <td>82994</td>\n",
              "      <td>21281570462</td>\n",
              "    </tr>\n",
              "    <tr>\n",
              "      <th>211039</th>\n",
              "      <td>ZWE</td>\n",
              "      <td>-</td>\n",
              "      <td>-</td>\n",
              "      <td>2022-08-04</td>\n",
              "      <td>256444</td>\n",
              "      <td>82994</td>\n",
              "      <td>21283313336</td>\n",
              "    </tr>\n",
              "    <tr>\n",
              "      <th>211040</th>\n",
              "      <td>ZWE</td>\n",
              "      <td>-</td>\n",
              "      <td>-</td>\n",
              "      <td>2022-08-05</td>\n",
              "      <td>256444</td>\n",
              "      <td>82994</td>\n",
              "      <td>21283313336</td>\n",
              "    </tr>\n",
              "  </tbody>\n",
              "</table>\n",
              "</div>\n",
              "      <button class=\"colab-df-convert\" onclick=\"convertToInteractive('df-6487c11a-a63c-4721-b49e-22f965c359b1')\"\n",
              "              title=\"Convert this dataframe to an interactive table.\"\n",
              "              style=\"display:none;\">\n",
              "        \n",
              "  <svg xmlns=\"http://www.w3.org/2000/svg\" height=\"24px\"viewBox=\"0 0 24 24\"\n",
              "       width=\"24px\">\n",
              "    <path d=\"M0 0h24v24H0V0z\" fill=\"none\"/>\n",
              "    <path d=\"M18.56 5.44l.94 2.06.94-2.06 2.06-.94-2.06-.94-.94-2.06-.94 2.06-2.06.94zm-11 1L8.5 8.5l.94-2.06 2.06-.94-2.06-.94L8.5 2.5l-.94 2.06-2.06.94zm10 10l.94 2.06.94-2.06 2.06-.94-2.06-.94-.94-2.06-.94 2.06-2.06.94z\"/><path d=\"M17.41 7.96l-1.37-1.37c-.4-.4-.92-.59-1.43-.59-.52 0-1.04.2-1.43.59L10.3 9.45l-7.72 7.72c-.78.78-.78 2.05 0 2.83L4 21.41c.39.39.9.59 1.41.59.51 0 1.02-.2 1.41-.59l7.78-7.78 2.81-2.81c.8-.78.8-2.07 0-2.86zM5.41 20L4 18.59l7.72-7.72 1.47 1.35L5.41 20z\"/>\n",
              "  </svg>\n",
              "      </button>\n",
              "      \n",
              "  <style>\n",
              "    .colab-df-container {\n",
              "      display:flex;\n",
              "      flex-wrap:wrap;\n",
              "      gap: 12px;\n",
              "    }\n",
              "\n",
              "    .colab-df-convert {\n",
              "      background-color: #E8F0FE;\n",
              "      border: none;\n",
              "      border-radius: 50%;\n",
              "      cursor: pointer;\n",
              "      display: none;\n",
              "      fill: #1967D2;\n",
              "      height: 32px;\n",
              "      padding: 0 0 0 0;\n",
              "      width: 32px;\n",
              "    }\n",
              "\n",
              "    .colab-df-convert:hover {\n",
              "      background-color: #E2EBFA;\n",
              "      box-shadow: 0px 1px 2px rgba(60, 64, 67, 0.3), 0px 1px 3px 1px rgba(60, 64, 67, 0.15);\n",
              "      fill: #174EA6;\n",
              "    }\n",
              "\n",
              "    [theme=dark] .colab-df-convert {\n",
              "      background-color: #3B4455;\n",
              "      fill: #D2E3FC;\n",
              "    }\n",
              "\n",
              "    [theme=dark] .colab-df-convert:hover {\n",
              "      background-color: #434B5C;\n",
              "      box-shadow: 0px 1px 3px 1px rgba(0, 0, 0, 0.15);\n",
              "      filter: drop-shadow(0px 1px 2px rgba(0, 0, 0, 0.3));\n",
              "      fill: #FFFFFF;\n",
              "    }\n",
              "  </style>\n",
              "\n",
              "      <script>\n",
              "        const buttonEl =\n",
              "          document.querySelector('#df-6487c11a-a63c-4721-b49e-22f965c359b1 button.colab-df-convert');\n",
              "        buttonEl.style.display =\n",
              "          google.colab.kernel.accessAllowed ? 'block' : 'none';\n",
              "\n",
              "        async function convertToInteractive(key) {\n",
              "          const element = document.querySelector('#df-6487c11a-a63c-4721-b49e-22f965c359b1');\n",
              "          const dataTable =\n",
              "            await google.colab.kernel.invokeFunction('convertToInteractive',\n",
              "                                                     [key], {});\n",
              "          if (!dataTable) return;\n",
              "\n",
              "          const docLinkHtml = 'Like what you see? Visit the ' +\n",
              "            '<a target=\"_blank\" href=https://colab.research.google.com/notebooks/data_table.ipynb>data table notebook</a>'\n",
              "            + ' to learn more about interactive tables.';\n",
              "          element.innerHTML = '';\n",
              "          dataTable['output_type'] = 'display_data';\n",
              "          await google.colab.output.renderOutput(dataTable, element);\n",
              "          const docLink = document.createElement('div');\n",
              "          docLink.innerHTML = docLinkHtml;\n",
              "          element.appendChild(docLink);\n",
              "        }\n",
              "      </script>\n",
              "    </div>\n",
              "  </div>\n",
              "  "
            ],
            "text/plain": [
              "       ISO3 Province City       Date  Confirmed  Recovered  \\\n",
              "211036  ZWE        -    - 2022-08-01     256382      82994   \n",
              "211037  ZWE        -    - 2022-08-02     256403      82994   \n",
              "211038  ZWE        -    - 2022-08-03     256423      82994   \n",
              "211039  ZWE        -    - 2022-08-04     256444      82994   \n",
              "211040  ZWE        -    - 2022-08-05     256444      82994   \n",
              "\n",
              "        Confirmed*Recovered  \n",
              "211036          21278167708  \n",
              "211037          21279910582  \n",
              "211038          21281570462  \n",
              "211039          21283313336  \n",
              "211040          21283313336  "
            ]
          },
          "execution_count": 9,
          "metadata": {},
          "output_type": "execute_result"
        }
      ],
      "source": [
        "# Multiplication\n",
        "eng.mul(columns=[\"Confirmed\", \"Recovered\"])\n",
        "eng.all(variables=[\"Confirmed\", \"Recovered\", \"Confirmed*Recovered\"]).tail()"
      ]
    },
    {
      "cell_type": "code",
      "execution_count": 10,
      "metadata": {
        "colab": {
          "base_uri": "https://localhost:8080/",
          "height": 206
        },
        "id": "5gMi1iFIXB8K",
        "outputId": "0ba84b4a-dbd4-4487-a058-dc484a1dd84c"
      },
      "outputs": [
        {
          "data": {
            "text/html": [
              "\n",
              "  <div id=\"df-933797e6-7fc6-49aa-9b62-a8debb172972\">\n",
              "    <div class=\"colab-df-container\">\n",
              "      <div>\n",
              "<style scoped>\n",
              "    .dataframe tbody tr th:only-of-type {\n",
              "        vertical-align: middle;\n",
              "    }\n",
              "\n",
              "    .dataframe tbody tr th {\n",
              "        vertical-align: top;\n",
              "    }\n",
              "\n",
              "    .dataframe thead th {\n",
              "        text-align: right;\n",
              "    }\n",
              "</style>\n",
              "<table border=\"1\" class=\"dataframe\">\n",
              "  <thead>\n",
              "    <tr style=\"text-align: right;\">\n",
              "      <th></th>\n",
              "      <th>ISO3</th>\n",
              "      <th>Province</th>\n",
              "      <th>City</th>\n",
              "      <th>Date</th>\n",
              "      <th>Tests</th>\n",
              "      <th>Confirmed</th>\n",
              "      <th>Positive_rate_%</th>\n",
              "    </tr>\n",
              "  </thead>\n",
              "  <tbody>\n",
              "    <tr>\n",
              "      <th>211036</th>\n",
              "      <td>ZWE</td>\n",
              "      <td>-</td>\n",
              "      <td>-</td>\n",
              "      <td>2022-08-01</td>\n",
              "      <td>2379907</td>\n",
              "      <td>256382</td>\n",
              "      <td>10.772774</td>\n",
              "    </tr>\n",
              "    <tr>\n",
              "      <th>211037</th>\n",
              "      <td>ZWE</td>\n",
              "      <td>-</td>\n",
              "      <td>-</td>\n",
              "      <td>2022-08-02</td>\n",
              "      <td>2379907</td>\n",
              "      <td>256403</td>\n",
              "      <td>10.773656</td>\n",
              "    </tr>\n",
              "    <tr>\n",
              "      <th>211038</th>\n",
              "      <td>ZWE</td>\n",
              "      <td>-</td>\n",
              "      <td>-</td>\n",
              "      <td>2022-08-03</td>\n",
              "      <td>2379907</td>\n",
              "      <td>256423</td>\n",
              "      <td>10.774497</td>\n",
              "    </tr>\n",
              "    <tr>\n",
              "      <th>211039</th>\n",
              "      <td>ZWE</td>\n",
              "      <td>-</td>\n",
              "      <td>-</td>\n",
              "      <td>2022-08-04</td>\n",
              "      <td>2379907</td>\n",
              "      <td>256444</td>\n",
              "      <td>10.775379</td>\n",
              "    </tr>\n",
              "    <tr>\n",
              "      <th>211040</th>\n",
              "      <td>ZWE</td>\n",
              "      <td>-</td>\n",
              "      <td>-</td>\n",
              "      <td>2022-08-05</td>\n",
              "      <td>2379907</td>\n",
              "      <td>256444</td>\n",
              "      <td>10.775379</td>\n",
              "    </tr>\n",
              "  </tbody>\n",
              "</table>\n",
              "</div>\n",
              "      <button class=\"colab-df-convert\" onclick=\"convertToInteractive('df-933797e6-7fc6-49aa-9b62-a8debb172972')\"\n",
              "              title=\"Convert this dataframe to an interactive table.\"\n",
              "              style=\"display:none;\">\n",
              "        \n",
              "  <svg xmlns=\"http://www.w3.org/2000/svg\" height=\"24px\"viewBox=\"0 0 24 24\"\n",
              "       width=\"24px\">\n",
              "    <path d=\"M0 0h24v24H0V0z\" fill=\"none\"/>\n",
              "    <path d=\"M18.56 5.44l.94 2.06.94-2.06 2.06-.94-2.06-.94-.94-2.06-.94 2.06-2.06.94zm-11 1L8.5 8.5l.94-2.06 2.06-.94-2.06-.94L8.5 2.5l-.94 2.06-2.06.94zm10 10l.94 2.06.94-2.06 2.06-.94-2.06-.94-.94-2.06-.94 2.06-2.06.94z\"/><path d=\"M17.41 7.96l-1.37-1.37c-.4-.4-.92-.59-1.43-.59-.52 0-1.04.2-1.43.59L10.3 9.45l-7.72 7.72c-.78.78-.78 2.05 0 2.83L4 21.41c.39.39.9.59 1.41.59.51 0 1.02-.2 1.41-.59l7.78-7.78 2.81-2.81c.8-.78.8-2.07 0-2.86zM5.41 20L4 18.59l7.72-7.72 1.47 1.35L5.41 20z\"/>\n",
              "  </svg>\n",
              "      </button>\n",
              "      \n",
              "  <style>\n",
              "    .colab-df-container {\n",
              "      display:flex;\n",
              "      flex-wrap:wrap;\n",
              "      gap: 12px;\n",
              "    }\n",
              "\n",
              "    .colab-df-convert {\n",
              "      background-color: #E8F0FE;\n",
              "      border: none;\n",
              "      border-radius: 50%;\n",
              "      cursor: pointer;\n",
              "      display: none;\n",
              "      fill: #1967D2;\n",
              "      height: 32px;\n",
              "      padding: 0 0 0 0;\n",
              "      width: 32px;\n",
              "    }\n",
              "\n",
              "    .colab-df-convert:hover {\n",
              "      background-color: #E2EBFA;\n",
              "      box-shadow: 0px 1px 2px rgba(60, 64, 67, 0.3), 0px 1px 3px 1px rgba(60, 64, 67, 0.15);\n",
              "      fill: #174EA6;\n",
              "    }\n",
              "\n",
              "    [theme=dark] .colab-df-convert {\n",
              "      background-color: #3B4455;\n",
              "      fill: #D2E3FC;\n",
              "    }\n",
              "\n",
              "    [theme=dark] .colab-df-convert:hover {\n",
              "      background-color: #434B5C;\n",
              "      box-shadow: 0px 1px 3px 1px rgba(0, 0, 0, 0.15);\n",
              "      filter: drop-shadow(0px 1px 2px rgba(0, 0, 0, 0.3));\n",
              "      fill: #FFFFFF;\n",
              "    }\n",
              "  </style>\n",
              "\n",
              "      <script>\n",
              "        const buttonEl =\n",
              "          document.querySelector('#df-933797e6-7fc6-49aa-9b62-a8debb172972 button.colab-df-convert');\n",
              "        buttonEl.style.display =\n",
              "          google.colab.kernel.accessAllowed ? 'block' : 'none';\n",
              "\n",
              "        async function convertToInteractive(key) {\n",
              "          const element = document.querySelector('#df-933797e6-7fc6-49aa-9b62-a8debb172972');\n",
              "          const dataTable =\n",
              "            await google.colab.kernel.invokeFunction('convertToInteractive',\n",
              "                                                     [key], {});\n",
              "          if (!dataTable) return;\n",
              "\n",
              "          const docLinkHtml = 'Like what you see? Visit the ' +\n",
              "            '<a target=\"_blank\" href=https://colab.research.google.com/notebooks/data_table.ipynb>data table notebook</a>'\n",
              "            + ' to learn more about interactive tables.';\n",
              "          element.innerHTML = '';\n",
              "          dataTable['output_type'] = 'display_data';\n",
              "          await google.colab.output.renderOutput(dataTable, element);\n",
              "          const docLink = document.createElement('div');\n",
              "          docLink.innerHTML = docLinkHtml;\n",
              "          element.appendChild(docLink);\n",
              "        }\n",
              "      </script>\n",
              "    </div>\n",
              "  </div>\n",
              "  "
            ],
            "text/plain": [
              "       ISO3 Province City       Date    Tests  Confirmed  Positive_rate_%\n",
              "211036  ZWE        -    - 2022-08-01  2379907     256382        10.772774\n",
              "211037  ZWE        -    - 2022-08-02  2379907     256403        10.773656\n",
              "211038  ZWE        -    - 2022-08-03  2379907     256423        10.774497\n",
              "211039  ZWE        -    - 2022-08-04  2379907     256444        10.775379\n",
              "211040  ZWE        -    - 2022-08-05  2379907     256444        10.775379"
            ]
          },
          "execution_count": 10,
          "metadata": {},
          "output_type": "execute_result"
        }
      ],
      "source": [
        "# Division\n",
        "eng.div(numerator=\"Confirmed\", denominator=\"Tests\", new=\"Positive_rate\")\n",
        "# Assignment of new a new column\n",
        "eng.assign(**{\"Positive_rate_%\": lambda x: x[\"Positive_rate\"] * 100})\n",
        "eng.all(variables=[\"Tests\", \"Confirmed\", \"Positive_rate_%\"]).tail()"
      ]
    },
    {
      "cell_type": "markdown",
      "metadata": {
        "id": "iIXznltKQiCI"
      },
      "source": [
        "## 4. EDA at a geospatial layer\n",
        "`DataEngineer().layer()` returns the data at the selected layer in the date range.\n",
        "\n",
        "Arguments:\n",
        "\n",
        "* geo (tuple(list[str] or tuple(str) or str) or str or None): location names to specify the layer or None (the top level)\n",
        "* start_date (str or None): start date, like 22Jan2020\n",
        "* end_date (str or None): end date, like 01Feb2020\n",
        "* variables (list[str] or None): list of variables to add or None (all available columns)"
      ]
    },
    {
      "cell_type": "code",
      "execution_count": 11,
      "metadata": {
        "colab": {
          "base_uri": "https://localhost:8080/",
          "height": 300
        },
        "id": "I2MkSuAOZd7L",
        "outputId": "e784e4cd-cbec-4778-c4b7-acae97efc7aa"
      },
      "outputs": [
        {
          "data": {
            "text/html": [
              "\n",
              "  <div id=\"df-a17ade4e-f501-4919-a9b2-0dd184cc34c1\">\n",
              "    <div class=\"colab-df-container\">\n",
              "      <div>\n",
              "<style scoped>\n",
              "    .dataframe tbody tr th:only-of-type {\n",
              "        vertical-align: middle;\n",
              "    }\n",
              "\n",
              "    .dataframe tbody tr th {\n",
              "        vertical-align: top;\n",
              "    }\n",
              "\n",
              "    .dataframe thead th {\n",
              "        text-align: right;\n",
              "    }\n",
              "</style>\n",
              "<table border=\"1\" class=\"dataframe\">\n",
              "  <thead>\n",
              "    <tr style=\"text-align: right;\">\n",
              "      <th></th>\n",
              "      <th>ISO3</th>\n",
              "      <th>Province</th>\n",
              "      <th>City</th>\n",
              "      <th>Date</th>\n",
              "      <th>Cancel_events</th>\n",
              "      <th>Confirmed</th>\n",
              "      <th>Confirmed*Recovered</th>\n",
              "      <th>Confirmed_diff</th>\n",
              "      <th>Contact_tracing</th>\n",
              "      <th>Country</th>\n",
              "      <th>...</th>\n",
              "      <th>Tests</th>\n",
              "      <th>Transport_closing</th>\n",
              "      <th>Vaccinated_1st</th>\n",
              "      <th>Vaccinated_2nd</th>\n",
              "      <th>Vaccinated_3rd</th>\n",
              "      <th>Vaccinated_full</th>\n",
              "      <th>Vaccinated_once</th>\n",
              "      <th>Vaccinations</th>\n",
              "      <th>Vaccinations_boosters</th>\n",
              "      <th>Workplace_closing</th>\n",
              "    </tr>\n",
              "  </thead>\n",
              "  <tbody>\n",
              "    <tr>\n",
              "      <th>211036</th>\n",
              "      <td>ZWE</td>\n",
              "      <td>-</td>\n",
              "      <td>-</td>\n",
              "      <td>2022-08-01</td>\n",
              "      <td>1</td>\n",
              "      <td>256382</td>\n",
              "      <td>21278167708</td>\n",
              "      <td>4</td>\n",
              "      <td>1</td>\n",
              "      <td>Zimbabwe</td>\n",
              "      <td>...</td>\n",
              "      <td>2379907</td>\n",
              "      <td>0</td>\n",
              "      <td>0</td>\n",
              "      <td>0</td>\n",
              "      <td>0</td>\n",
              "      <td>4692440</td>\n",
              "      <td>6376117</td>\n",
              "      <td>12182698</td>\n",
              "      <td>1114141</td>\n",
              "      <td>1</td>\n",
              "    </tr>\n",
              "    <tr>\n",
              "      <th>211037</th>\n",
              "      <td>ZWE</td>\n",
              "      <td>-</td>\n",
              "      <td>-</td>\n",
              "      <td>2022-08-02</td>\n",
              "      <td>1</td>\n",
              "      <td>256403</td>\n",
              "      <td>21279910582</td>\n",
              "      <td>21</td>\n",
              "      <td>1</td>\n",
              "      <td>Zimbabwe</td>\n",
              "      <td>...</td>\n",
              "      <td>2379907</td>\n",
              "      <td>0</td>\n",
              "      <td>0</td>\n",
              "      <td>0</td>\n",
              "      <td>0</td>\n",
              "      <td>4692440</td>\n",
              "      <td>6376117</td>\n",
              "      <td>12182698</td>\n",
              "      <td>1114141</td>\n",
              "      <td>1</td>\n",
              "    </tr>\n",
              "    <tr>\n",
              "      <th>211038</th>\n",
              "      <td>ZWE</td>\n",
              "      <td>-</td>\n",
              "      <td>-</td>\n",
              "      <td>2022-08-03</td>\n",
              "      <td>1</td>\n",
              "      <td>256423</td>\n",
              "      <td>21281570462</td>\n",
              "      <td>20</td>\n",
              "      <td>1</td>\n",
              "      <td>Zimbabwe</td>\n",
              "      <td>...</td>\n",
              "      <td>2379907</td>\n",
              "      <td>0</td>\n",
              "      <td>0</td>\n",
              "      <td>0</td>\n",
              "      <td>0</td>\n",
              "      <td>4692440</td>\n",
              "      <td>6376117</td>\n",
              "      <td>12182698</td>\n",
              "      <td>1114141</td>\n",
              "      <td>1</td>\n",
              "    </tr>\n",
              "    <tr>\n",
              "      <th>211039</th>\n",
              "      <td>ZWE</td>\n",
              "      <td>-</td>\n",
              "      <td>-</td>\n",
              "      <td>2022-08-04</td>\n",
              "      <td>1</td>\n",
              "      <td>256444</td>\n",
              "      <td>21283313336</td>\n",
              "      <td>21</td>\n",
              "      <td>1</td>\n",
              "      <td>Zimbabwe</td>\n",
              "      <td>...</td>\n",
              "      <td>2379907</td>\n",
              "      <td>0</td>\n",
              "      <td>0</td>\n",
              "      <td>0</td>\n",
              "      <td>0</td>\n",
              "      <td>4692440</td>\n",
              "      <td>6376117</td>\n",
              "      <td>12182698</td>\n",
              "      <td>1114141</td>\n",
              "      <td>1</td>\n",
              "    </tr>\n",
              "    <tr>\n",
              "      <th>211040</th>\n",
              "      <td>ZWE</td>\n",
              "      <td>-</td>\n",
              "      <td>-</td>\n",
              "      <td>2022-08-05</td>\n",
              "      <td>1</td>\n",
              "      <td>256444</td>\n",
              "      <td>21283313336</td>\n",
              "      <td>0</td>\n",
              "      <td>1</td>\n",
              "      <td>Zimbabwe</td>\n",
              "      <td>...</td>\n",
              "      <td>2379907</td>\n",
              "      <td>0</td>\n",
              "      <td>0</td>\n",
              "      <td>0</td>\n",
              "      <td>0</td>\n",
              "      <td>4692440</td>\n",
              "      <td>6376117</td>\n",
              "      <td>12182698</td>\n",
              "      <td>1114141</td>\n",
              "      <td>1</td>\n",
              "    </tr>\n",
              "  </tbody>\n",
              "</table>\n",
              "<p>5 rows × 43 columns</p>\n",
              "</div>\n",
              "      <button class=\"colab-df-convert\" onclick=\"convertToInteractive('df-a17ade4e-f501-4919-a9b2-0dd184cc34c1')\"\n",
              "              title=\"Convert this dataframe to an interactive table.\"\n",
              "              style=\"display:none;\">\n",
              "        \n",
              "  <svg xmlns=\"http://www.w3.org/2000/svg\" height=\"24px\"viewBox=\"0 0 24 24\"\n",
              "       width=\"24px\">\n",
              "    <path d=\"M0 0h24v24H0V0z\" fill=\"none\"/>\n",
              "    <path d=\"M18.56 5.44l.94 2.06.94-2.06 2.06-.94-2.06-.94-.94-2.06-.94 2.06-2.06.94zm-11 1L8.5 8.5l.94-2.06 2.06-.94-2.06-.94L8.5 2.5l-.94 2.06-2.06.94zm10 10l.94 2.06.94-2.06 2.06-.94-2.06-.94-.94-2.06-.94 2.06-2.06.94z\"/><path d=\"M17.41 7.96l-1.37-1.37c-.4-.4-.92-.59-1.43-.59-.52 0-1.04.2-1.43.59L10.3 9.45l-7.72 7.72c-.78.78-.78 2.05 0 2.83L4 21.41c.39.39.9.59 1.41.59.51 0 1.02-.2 1.41-.59l7.78-7.78 2.81-2.81c.8-.78.8-2.07 0-2.86zM5.41 20L4 18.59l7.72-7.72 1.47 1.35L5.41 20z\"/>\n",
              "  </svg>\n",
              "      </button>\n",
              "      \n",
              "  <style>\n",
              "    .colab-df-container {\n",
              "      display:flex;\n",
              "      flex-wrap:wrap;\n",
              "      gap: 12px;\n",
              "    }\n",
              "\n",
              "    .colab-df-convert {\n",
              "      background-color: #E8F0FE;\n",
              "      border: none;\n",
              "      border-radius: 50%;\n",
              "      cursor: pointer;\n",
              "      display: none;\n",
              "      fill: #1967D2;\n",
              "      height: 32px;\n",
              "      padding: 0 0 0 0;\n",
              "      width: 32px;\n",
              "    }\n",
              "\n",
              "    .colab-df-convert:hover {\n",
              "      background-color: #E2EBFA;\n",
              "      box-shadow: 0px 1px 2px rgba(60, 64, 67, 0.3), 0px 1px 3px 1px rgba(60, 64, 67, 0.15);\n",
              "      fill: #174EA6;\n",
              "    }\n",
              "\n",
              "    [theme=dark] .colab-df-convert {\n",
              "      background-color: #3B4455;\n",
              "      fill: #D2E3FC;\n",
              "    }\n",
              "\n",
              "    [theme=dark] .colab-df-convert:hover {\n",
              "      background-color: #434B5C;\n",
              "      box-shadow: 0px 1px 3px 1px rgba(0, 0, 0, 0.15);\n",
              "      filter: drop-shadow(0px 1px 2px rgba(0, 0, 0, 0.3));\n",
              "      fill: #FFFFFF;\n",
              "    }\n",
              "  </style>\n",
              "\n",
              "      <script>\n",
              "        const buttonEl =\n",
              "          document.querySelector('#df-a17ade4e-f501-4919-a9b2-0dd184cc34c1 button.colab-df-convert');\n",
              "        buttonEl.style.display =\n",
              "          google.colab.kernel.accessAllowed ? 'block' : 'none';\n",
              "\n",
              "        async function convertToInteractive(key) {\n",
              "          const element = document.querySelector('#df-a17ade4e-f501-4919-a9b2-0dd184cc34c1');\n",
              "          const dataTable =\n",
              "            await google.colab.kernel.invokeFunction('convertToInteractive',\n",
              "                                                     [key], {});\n",
              "          if (!dataTable) return;\n",
              "\n",
              "          const docLinkHtml = 'Like what you see? Visit the ' +\n",
              "            '<a target=\"_blank\" href=https://colab.research.google.com/notebooks/data_table.ipynb>data table notebook</a>'\n",
              "            + ' to learn more about interactive tables.';\n",
              "          element.innerHTML = '';\n",
              "          dataTable['output_type'] = 'display_data';\n",
              "          await google.colab.output.renderOutput(dataTable, element);\n",
              "          const docLink = document.createElement('div');\n",
              "          docLink.innerHTML = docLinkHtml;\n",
              "          element.appendChild(docLink);\n",
              "        }\n",
              "      </script>\n",
              "    </div>\n",
              "  </div>\n",
              "  "
            ],
            "text/plain": [
              "       ISO3 Province City       Date  Cancel_events  Confirmed  \\\n",
              "211036  ZWE        -    - 2022-08-01              1     256382   \n",
              "211037  ZWE        -    - 2022-08-02              1     256403   \n",
              "211038  ZWE        -    - 2022-08-03              1     256423   \n",
              "211039  ZWE        -    - 2022-08-04              1     256444   \n",
              "211040  ZWE        -    - 2022-08-05              1     256444   \n",
              "\n",
              "        Confirmed*Recovered  Confirmed_diff  Contact_tracing   Country  ...  \\\n",
              "211036          21278167708               4                1  Zimbabwe  ...   \n",
              "211037          21279910582              21                1  Zimbabwe  ...   \n",
              "211038          21281570462              20                1  Zimbabwe  ...   \n",
              "211039          21283313336              21                1  Zimbabwe  ...   \n",
              "211040          21283313336               0                1  Zimbabwe  ...   \n",
              "\n",
              "          Tests  Transport_closing  Vaccinated_1st  Vaccinated_2nd  \\\n",
              "211036  2379907                  0               0               0   \n",
              "211037  2379907                  0               0               0   \n",
              "211038  2379907                  0               0               0   \n",
              "211039  2379907                  0               0               0   \n",
              "211040  2379907                  0               0               0   \n",
              "\n",
              "        Vaccinated_3rd  Vaccinated_full  Vaccinated_once  Vaccinations  \\\n",
              "211036               0          4692440          6376117      12182698   \n",
              "211037               0          4692440          6376117      12182698   \n",
              "211038               0          4692440          6376117      12182698   \n",
              "211039               0          4692440          6376117      12182698   \n",
              "211040               0          4692440          6376117      12182698   \n",
              "\n",
              "        Vaccinations_boosters  Workplace_closing  \n",
              "211036                1114141                  1  \n",
              "211037                1114141                  1  \n",
              "211038                1114141                  1  \n",
              "211039                1114141                  1  \n",
              "211040                1114141                  1  \n",
              "\n",
              "[5 rows x 43 columns]"
            ]
          },
          "execution_count": 11,
          "metadata": {},
          "output_type": "execute_result"
        }
      ],
      "source": [
        "eng.layer().tail()"
      ]
    },
    {
      "cell_type": "markdown",
      "metadata": {
        "id": "vBEavSL6Z9uX"
      },
      "source": [
        "This dataset has only country-level data and `geo` should be country name. We can select the followings as `geo` argument for EDA at a geospatial layer when we have adequate data.\n",
        "\n",
        "* When `geo=None` or `geo=(None,)`, returns country-level data, assuming we have country/province/city as layers here.\n",
        "* When `geo=(\"Japan\",)` or `geo=\"Japan\"`, returns province-level data in Japan.\n",
        "* When `geo=([\"Japan\", \"UK\"],)`, returns province-level data in Japan and UK.\n",
        "* When `geo=(\"Japan\", \"Kanagawa\")`, returns city-level data in Kanagawa/Japan.\n",
        "* When `geo=(\"Japan\", [\"Tokyo\", \"Kanagawa\"])`, returns city-level data in Tokyo/Japan and Kanagawa/Japan."
      ]
    },
    {
      "cell_type": "markdown",
      "metadata": {
        "id": "-JB4eLvta5Hy"
      },
      "source": [
        "Additionally, we can create a choropleth map with a data at a geospatial layer on a date.\n",
        "\n",
        "arguments of `DataEngineer().choropleth()`:\n",
        "\n",
        "* geo (tuple(list[str] or tuple(str) or str) or str or None): location names to specify the layer or None (the top level)\n",
        "* variable (str): variable name to show\n",
        "* on (str or None): the date, like 22Jan2020, or None (the last date of each location)\n",
        "* title (str): title of the map\n",
        "* filename (str or None): filename to save the figure or None (display)\n",
        "* logscale (bool): whether convert the value to log10 scale values or not\n",
        "* directory (str): directory to save GeoJSON file of \"Natural Earth\" GitHub repository\n",
        "* natural_earth (str or None): title of GeoJSON file (without extension) of \"Natural Earth\" GitHub repository or None (automatically determined)\n",
        "* **kwargs: keyword arguments of the following classes and methods.\n",
        "    * matplotlib.pyplot.savefig(), matplotlib.pyplot.legend(), and\n",
        "    * pandas.DataFrame.plot()"
      ]
    },
    {
      "cell_type": "code",
      "execution_count": 12,
      "metadata": {
        "colab": {
          "base_uri": "https://localhost:8080/",
          "height": 264
        },
        "id": "V1K8EXyDayT9",
        "outputId": "c2cc0d77-70e4-4f7a-d32e-24bb6b1b4a11"
      },
      "outputs": [
        {
          "name": "stdout",
          "output_type": "stream",
          "text": [
            "Retrieving GIS data from Natural Earth https://www.naturalearthdata.com/\n"
          ]
        },
        {
          "data": {
            "image/png": "[encoded data removed]",
            "text/plain": [
              "<Figure size 432x288 with 2 Axes>"
            ]
          },
          "metadata": {
            "needs_background": "light"
          },
          "output_type": "display_data"
        }
      ],
      "source": [
        "eng.choropleth(geo=None, variable=\"Confirmed\", title=\"Choropleth map: Confirmed on the last date of records\", filename=None)"
      ]
    },
    {
      "cell_type": "markdown",
      "metadata": {
        "id": "1I6lrlFEX5ck"
      },
      "source": [
        "## 5. Data subsetting for a location and data complement\n",
        "The dataset is a geospatial time-series data. By selecting a location, the dataset will be converted to a time-series data, which is easier to analyze."
      ]
    },
    {
      "cell_type": "markdown",
      "metadata": {
        "id": "WaTFw2EtQiFJ"
      },
      "source": [
        "### 5.1 Subsetting\n",
        "We will create a subset for selected location (eg. country, province/prefecture/state, city). Because the loaded dataset has country-level data, total values in United Kingdom (UK) on dates will be created here as an example.\n",
        "\n",
        "Arguments of `DataEngineer().subset()`:\n",
        "* geo (tuple(list[str] or tuple(str) or str) or str or None): location names to filter or None (total at the top level)\n",
        "* start_date (str or None): start date, like 22Jan2020\n",
        "* end_date (str or None): end date, like 01Feb2020\n",
        "* variables (list[str] or None): list of variables to add or None (all available columns)\n",
        "* complement (bool): whether perform data complement or not, True as default\n",
        "* **Kwargs: keyword arguments for complement and default values\n",
        "    * recovery_period (int): expected value of recovery period [days], 17\n",
        "    * interval (int): expected update interval of the number of recovered cases [days], 2\n",
        "    * max_ignored (int): Max number of recovered cases to be ignored [cases], 100\n",
        "    * max_ending_unupdated (int): Max number of days to apply full complement, where max recovered cases are not updated [days], 14\n",
        "    * upper_limit_days (int): maximum number of valid partial recovery periods [days], 90\n",
        "    * lower_limit_days (int): minimum number of valid partial recovery periods [days], 7\n",
        "    * upper_percentage (float): fraction of partial recovery periods with value greater than upper_limit_days, 0.5\n",
        "    * lower_percentage (float): fraction of partial recovery periods with value less than lower_limit_days, 0.5"
      ]
    },
    {
      "cell_type": "markdown",
      "metadata": {
        "id": "ZabXVUsySIPU"
      },
      "source": [
        "NOTE:  \n",
        "We can select the followings as `geo` argument for subsetting when we have adequate data.\n",
        "* When `geo=None` or `geo=(None,)`, returns total values of all country-level data, assuming we have country/province/city as layers here.\n",
        "* When `geo=(\"Japan\",)` or `geo=\"Japan\"`, returns country-level data in Japan.\n",
        "* When `geo=([\"Japan\", \"UK\"],)`, returns country-level data of Japan and UK.\n",
        "* When `geo=(\"Japan\", \"Tokyo\")`, returns province-level data of Tokyo/Japan.\n",
        "* When `geo=(\"Japan\", [\"Tokyo\", \"Kanagawa\"])`, returns total values of province-level data of Tokyo/Japan and Kanagawa/Japan.\n",
        "* When `geo=(\"Japan\", \"Kanagawa\", \"Yokohama\")`, returns city-level data of Yokohama/Kanagawa/Japan.\n",
        "* When `geo=((\"Japan\", \"Kanagawa\", [\"Yokohama\", \"Kawasaki\"])`, returns total values of city-level data of Yokohama/Kanagawa/Japan and Kawasaki/Kanagawa/Japan."
      ]
    },
    {
      "cell_type": "code",
      "execution_count": 13,
      "metadata": {
        "colab": {
          "base_uri": "https://localhost:8080/",
          "height": 349
        },
        "id": "iENpcOUYTd0G",
        "outputId": "ac7c0655-f0c2-45d6-a51f-19394fbde40b"
      },
      "outputs": [
        {
          "name": "stdout",
          "output_type": "stream",
          "text": [
            "\n",
            "\n",
            "{}\n"
          ]
        },
        {
          "data": {
            "image/png": "[encoded data removed]",
            "text/plain": [
              "<Figure size 432x288 with 1 Axes>"
            ]
          },
          "metadata": {
            "needs_background": "light"
          },
          "output_type": "display_data"
        }
      ],
      "source": [
        "# Without complement\n",
        "without_df, status, status_dict = eng.subset(geo=\"UK\", complement=False)\n",
        "print(f\"{status}\\n\")\n",
        "pprint(status_dict)\n",
        "cs.line_plot(without_df[[\"Confirmed\", \"Fatal\", \"Recovered\"]], title=\"UK: records WITHOUT complement\")"
      ]
    },
    {
      "cell_type": "code",
      "execution_count": 14,
      "metadata": {
        "colab": {
          "base_uri": "https://localhost:8080/",
          "height": 453
        },
        "id": "9l4AWOqcQnEH",
        "outputId": "203f6a36-a54c-45c0-f4cc-5e5089be3f31"
      },
      "outputs": [
        {
          "name": "stdout",
          "output_type": "stream",
          "text": [
            "monotonic increasing complemented confirmed data and \n",
            "monotonic increasing complemented fatal data and \n",
            "partially complemented recovered data\n",
            "\n",
            "{'Full_recovered': False,\n",
            " 'Monotonic_confirmed': True,\n",
            " 'Monotonic_fatal': True,\n",
            " 'Monotonic_recovered': True,\n",
            " 'Partial_recovered': True}\n"
          ]
        },
        {
          "data": {
            "image/png": "[encoded data removed]",
            "text/plain": [
              "<Figure size 432x288 with 1 Axes>"
            ]
          },
          "metadata": {
            "needs_background": "light"
          },
          "output_type": "display_data"
        }
      ],
      "source": [
        "# With complement (default)\n",
        "with_df, status, status_dict = eng.subset(geo=\"Japan\", complement=True)\n",
        "print(f\"{status}\\n\")\n",
        "pprint(status_dict)\n",
        "cs.line_plot(with_df[[\"Confirmed\", \"Fatal\", \"Recovered\"]], title=\"UK: records WITH complement\")"
      ]
    },
    {
      "cell_type": "markdown",
      "metadata": {
        "id": "pBc-JlShXyOu"
      },
      "source": [
        "### 5.2 Details of data complement\n",
        "When `complement=True` (default), data complement will be performed for confirmed/fatal/recovered data. This may be required for analysis because reported cumulative values sometimes show decreasing by changing accidentally for an example. Additionally, some countries, including UK, do not report the number of recovered cases.\n",
        "\n",
        "The possible kinds of complement for each country are the following:\n",
        "\n",
        "* \"Monotonic_confirmed/fatal/recovered\" (monotonic increasing complement) Force the variable show monotonic increasing.\n",
        "* \"Full_recovered\" (full complement of recovered data) Estimate the number of recovered cases using the value of estimated average recovery period.\n",
        "* \"Partial_recovered\" (partial complement of recovered data) When recovered values are not updated for some days, extrapolate the values."
      ]
    },
    {
      "cell_type": "markdown",
      "metadata": {
        "id": "3jTq-GXnVpJP"
      },
      "source": [
        "### 5.3 Recovery period\n",
        "What is \"recovery period\"?  \n",
        "We defined \"recovery period\" as the time period between case confirmation and recovery (as it is subjectively defined per country). We can estimate the mode value of recovery period with class method `DataEngineer.recovery_period(data)`."
      ]
    },
    {
      "cell_type": "code",
      "execution_count": 15,
      "metadata": {
        "colab": {
          "base_uri": "https://localhost:8080/"
        },
        "id": "61jqclzxWCxU",
        "outputId": "630014d9-0b96-4df0-b04f-467c222c1dac"
      },
      "outputs": [
        {
          "name": "stdout",
          "output_type": "stream",
          "text": [
            "Mode value of recovery period in Japan: 10 [days]\n"
          ]
        }
      ],
      "source": [
        "jpn_df, *_ = eng.subset(geo=\"Japan\", variables=[\"Confirmed\", \"Fatal\", \"Recovered\"], complement=False)\n",
        "recovery_period = cs.DataEngineer.recovery_period(data=jpn_df)\n",
        "print(f\"Mode value of recovery period in Japan: {recovery_period} [days]\")"
      ]
    },
    {
      "cell_type": "markdown",
      "metadata": {
        "id": "x4Sym5mFXnS7"
      },
      "source": [
        "Details of recovery period calculation:"
      ]
    },
    {
      "cell_type": "code",
      "execution_count": 16,
      "metadata": {
        "colab": {
          "base_uri": "https://localhost:8080/",
          "height": 278
        },
        "id": "CS84PGfbXusE",
        "outputId": "e2211a66-3c1e-4b49-bbda-2673a46e4dd6"
      },
      "outputs": [
        {
          "data": {
            "image/png": "[encoded data removed]",
            "text/plain": [
              "<Figure size 432x288 with 1 Axes>"
            ]
          },
          "metadata": {
            "needs_background": "light"
          },
          "output_type": "display_data"
        }
      ],
      "source": [
        "df = jpn_df.resample(\"D\").sum()\n",
        "df[\"diff\"] = df[\"Confirmed\"] - df[\"Fatal\"]\n",
        "df = df.loc[:, [\"diff\", \"Recovered\"]].unstack().reset_index()\n",
        "df.columns = [\"Variable\", \"Date\", \"Number\"]\n",
        "df[\"Days\"] = (df[\"Date\"] - df[\"Date\"].min()).dt.days\n",
        "df = df.pivot_table(values=\"Days\", index=\"Number\", columns=\"Variable\")\n",
        "df = df.interpolate(limit_area=\"inside\").dropna().astype(np.int64)\n",
        "df[\"Elapsed\"] = df[\"Recovered\"] - df[\"diff\"]\n",
        "df = df.loc[df[\"Elapsed\"] > 0]\n",
        "# Calculate mode value\n",
        "mode_value = round(df[\"Elapsed\"].mode().mean())\n",
        "df[\"Elapsed\"].plot.hist(title=f\"Histogram of elapsed days of recovery, mode value: {mode_value} days\");"
      ]
    },
    {
      "cell_type": "markdown",
      "metadata": {
        "id": "TYLSYjYZaA5m"
      },
      "source": [
        "### 5.4 Alias of subsets\n",
        "We can register alias names of subsets with `DataEngineer().subset_alias()`.\n",
        "\n",
        "Arguments:  \n",
        "* alias (str or None): alias name or None (list-up alias names)\n",
        "* update (bool): force updating the alias when @alias is not None\n",
        "* **kwargs: keyword arguments of covsirphy.DataEngineer().subset()"
      ]
    },
    {
      "cell_type": "code",
      "execution_count": 17,
      "metadata": {
        "colab": {
          "base_uri": "https://localhost:8080/"
        },
        "id": "9LNOkwRKaQm3",
        "outputId": "63ca258b-39d4-4872-933b-f0a926794188"
      },
      "outputs": [
        {
          "data": {
            "text/plain": [
              "True"
            ]
          },
          "execution_count": 17,
          "metadata": {},
          "output_type": "execute_result"
        }
      ],
      "source": [
        "# Register\n",
        "sub1, *_ = eng.subset_alias(alias=\"UK_with\", geo=\"UK\", complement=True)\n",
        "# Retrieve with alias\n",
        "sub2, *_ = eng.subset_alias(alias=\"UK_with\")\n",
        "# Comparison\n",
        "sub1.equals(sub2)"
      ]
    },
    {
      "cell_type": "markdown",
      "metadata": {
        "id": "5tubFNqgRObT"
      },
      "source": [
        "## 7. EDA of subset\n",
        "With explanatory data analysis, we will get the figure of datasets."
      ]
    },
    {
      "cell_type": "markdown",
      "metadata": {
        "id": "Fby-jSMtb7KY"
      },
      "source": [
        "### 7.1 Alias of variables\n",
        "We can specify variables with alias. For example, \"CIFR\" is equivalent to list `['Confirmed', 'Infected', 'Recovered', 'Fatal']`."
      ]
    },
    {
      "cell_type": "code",
      "execution_count": 18,
      "metadata": {
        "colab": {
          "base_uri": "https://localhost:8080/",
          "height": 238
        },
        "id": "mtRJ2D0sclri",
        "outputId": "bde935ee-06be-4fa0-a9f9-9cfb8bce4066"
      },
      "outputs": [
        {
          "data": {
            "text/html": [
              "\n",
              "  <div id=\"df-8ce4a0a2-ca51-4dab-b456-582a80dde194\">\n",
              "    <div class=\"colab-df-container\">\n",
              "      <div>\n",
              "<style scoped>\n",
              "    .dataframe tbody tr th:only-of-type {\n",
              "        vertical-align: middle;\n",
              "    }\n",
              "\n",
              "    .dataframe tbody tr th {\n",
              "        vertical-align: top;\n",
              "    }\n",
              "\n",
              "    .dataframe thead th {\n",
              "        text-align: right;\n",
              "    }\n",
              "</style>\n",
              "<table border=\"1\" class=\"dataframe\">\n",
              "  <thead>\n",
              "    <tr style=\"text-align: right;\">\n",
              "      <th></th>\n",
              "      <th>Confirmed</th>\n",
              "      <th>Infected</th>\n",
              "      <th>Recovered</th>\n",
              "      <th>Fatal</th>\n",
              "    </tr>\n",
              "    <tr>\n",
              "      <th>Date</th>\n",
              "      <th></th>\n",
              "      <th></th>\n",
              "      <th></th>\n",
              "      <th></th>\n",
              "    </tr>\n",
              "  </thead>\n",
              "  <tbody>\n",
              "    <tr>\n",
              "      <th>2022-08-02</th>\n",
              "      <td>12917500</td>\n",
              "      <td>1835092</td>\n",
              "      <td>11049714</td>\n",
              "      <td>32694</td>\n",
              "    </tr>\n",
              "    <tr>\n",
              "      <th>2022-08-03</th>\n",
              "      <td>13113301</td>\n",
              "      <td>1862871</td>\n",
              "      <td>11217611</td>\n",
              "      <td>32819</td>\n",
              "    </tr>\n",
              "    <tr>\n",
              "      <th>2022-08-04</th>\n",
              "      <td>13344898</td>\n",
              "      <td>1914003</td>\n",
              "      <td>11397919</td>\n",
              "      <td>32976</td>\n",
              "    </tr>\n",
              "    <tr>\n",
              "      <th>2022-08-05</th>\n",
              "      <td>13598290</td>\n",
              "      <td>1978752</td>\n",
              "      <td>11586379</td>\n",
              "      <td>33159</td>\n",
              "    </tr>\n",
              "    <tr>\n",
              "      <th>2022-08-06</th>\n",
              "      <td>13835099</td>\n",
              "      <td>2011983</td>\n",
              "      <td>11789768</td>\n",
              "      <td>33348</td>\n",
              "    </tr>\n",
              "  </tbody>\n",
              "</table>\n",
              "</div>\n",
              "      <button class=\"colab-df-convert\" onclick=\"convertToInteractive('df-8ce4a0a2-ca51-4dab-b456-582a80dde194')\"\n",
              "              title=\"Convert this dataframe to an interactive table.\"\n",
              "              style=\"display:none;\">\n",
              "        \n",
              "  <svg xmlns=\"http://www.w3.org/2000/svg\" height=\"24px\"viewBox=\"0 0 24 24\"\n",
              "       width=\"24px\">\n",
              "    <path d=\"M0 0h24v24H0V0z\" fill=\"none\"/>\n",
              "    <path d=\"M18.56 5.44l.94 2.06.94-2.06 2.06-.94-2.06-.94-.94-2.06-.94 2.06-2.06.94zm-11 1L8.5 8.5l.94-2.06 2.06-.94-2.06-.94L8.5 2.5l-.94 2.06-2.06.94zm10 10l.94 2.06.94-2.06 2.06-.94-2.06-.94-.94-2.06-.94 2.06-2.06.94z\"/><path d=\"M17.41 7.96l-1.37-1.37c-.4-.4-.92-.59-1.43-.59-.52 0-1.04.2-1.43.59L10.3 9.45l-7.72 7.72c-.78.78-.78 2.05 0 2.83L4 21.41c.39.39.9.59 1.41.59.51 0 1.02-.2 1.41-.59l7.78-7.78 2.81-2.81c.8-.78.8-2.07 0-2.86zM5.41 20L4 18.59l7.72-7.72 1.47 1.35L5.41 20z\"/>\n",
              "  </svg>\n",
              "      </button>\n",
              "      \n",
              "  <style>\n",
              "    .colab-df-container {\n",
              "      display:flex;\n",
              "      flex-wrap:wrap;\n",
              "      gap: 12px;\n",
              "    }\n",
              "\n",
              "    .colab-df-convert {\n",
              "      background-color: #E8F0FE;\n",
              "      border: none;\n",
              "      border-radius: 50%;\n",
              "      cursor: pointer;\n",
              "      display: none;\n",
              "      fill: #1967D2;\n",
              "      height: 32px;\n",
              "      padding: 0 0 0 0;\n",
              "      width: 32px;\n",
              "    }\n",
              "\n",
              "    .colab-df-convert:hover {\n",
              "      background-color: #E2EBFA;\n",
              "      box-shadow: 0px 1px 2px rgba(60, 64, 67, 0.3), 0px 1px 3px 1px rgba(60, 64, 67, 0.15);\n",
              "      fill: #174EA6;\n",
              "    }\n",
              "\n",
              "    [theme=dark] .colab-df-convert {\n",
              "      background-color: #3B4455;\n",
              "      fill: #D2E3FC;\n",
              "    }\n",
              "\n",
              "    [theme=dark] .colab-df-convert:hover {\n",
              "      background-color: #434B5C;\n",
              "      box-shadow: 0px 1px 3px 1px rgba(0, 0, 0, 0.15);\n",
              "      filter: drop-shadow(0px 1px 2px rgba(0, 0, 0, 0.3));\n",
              "      fill: #FFFFFF;\n",
              "    }\n",
              "  </style>\n",
              "\n",
              "      <script>\n",
              "        const buttonEl =\n",
              "          document.querySelector('#df-8ce4a0a2-ca51-4dab-b456-582a80dde194 button.colab-df-convert');\n",
              "        buttonEl.style.display =\n",
              "          google.colab.kernel.accessAllowed ? 'block' : 'none';\n",
              "\n",
              "        async function convertToInteractive(key) {\n",
              "          const element = document.querySelector('#df-8ce4a0a2-ca51-4dab-b456-582a80dde194');\n",
              "          const dataTable =\n",
              "            await google.colab.kernel.invokeFunction('convertToInteractive',\n",
              "                                                     [key], {});\n",
              "          if (!dataTable) return;\n",
              "\n",
              "          const docLinkHtml = 'Like what you see? Visit the ' +\n",
              "            '<a target=\"_blank\" href=https://colab.research.google.com/notebooks/data_table.ipynb>data table notebook</a>'\n",
              "            + ' to learn more about interactive tables.';\n",
              "          element.innerHTML = '';\n",
              "          dataTable['output_type'] = 'display_data';\n",
              "          await google.colab.output.renderOutput(dataTable, element);\n",
              "          const docLink = document.createElement('div');\n",
              "          docLink.innerHTML = docLinkHtml;\n",
              "          element.appendChild(docLink);\n",
              "        }\n",
              "      </script>\n",
              "    </div>\n",
              "  </div>\n",
              "  "
            ],
            "text/plain": [
              "            Confirmed  Infected  Recovered  Fatal\n",
              "Date                                             \n",
              "2022-08-02   12917500   1835092   11049714  32694\n",
              "2022-08-03   13113301   1862871   11217611  32819\n",
              "2022-08-04   13344898   1914003   11397919  32976\n",
              "2022-08-05   13598290   1978752   11586379  33159\n",
              "2022-08-06   13835099   2011983   11789768  33348"
            ]
          },
          "execution_count": 18,
          "metadata": {},
          "output_type": "execute_result"
        }
      ],
      "source": [
        "eng.subset(geo=\"Japan\", variables=\"CIRF\")[0].tail()"
      ]
    },
    {
      "cell_type": "markdown",
      "metadata": {
        "id": "f8vRCthxczbK"
      },
      "source": [
        "All aliases can be checked with `DataEngineer().variables_alias()`."
      ]
    },
    {
      "cell_type": "code",
      "execution_count": 19,
      "metadata": {
        "colab": {
          "base_uri": "https://localhost:8080/"
        },
        "id": "5SjIOtZPRSUf",
        "outputId": "4d363305-b26f-4280-f558-1c27380fb9e9"
      },
      "outputs": [
        {
          "data": {
            "text/plain": [
              "{'C': ['Confirmed'],\n",
              " 'CFR': ['Confirmed', 'Fatal', 'Recovered'],\n",
              " 'CIRF': ['Confirmed', 'Infected', 'Recovered', 'Fatal'],\n",
              " 'CR': ['Confirmed', 'Recovered'],\n",
              " 'F': ['Fatal'],\n",
              " 'I': ['Infected'],\n",
              " 'N': ['Population'],\n",
              " 'R': ['Recovered'],\n",
              " 'S': ['Susceptible'],\n",
              " 'SIRF': ['Susceptible', 'Infected', 'Recovered', 'Fatal'],\n",
              " 'T': ['Tests']}"
            ]
          },
          "execution_count": 19,
          "metadata": {},
          "output_type": "execute_result"
        }
      ],
      "source": [
        "eng.variables_alias()"
      ]
    },
    {
      "cell_type": "markdown",
      "metadata": {
        "id": "r4sftrXic-5M"
      },
      "source": [
        "We can register new alias \"p\" with `[\"Tests\", \"Confirmed\", \"Positive_rate_%\"]` as an example."
      ]
    },
    {
      "cell_type": "code",
      "execution_count": 20,
      "metadata": {
        "colab": {
          "base_uri": "https://localhost:8080/",
          "height": 238
        },
        "id": "dyqvSZPIcFv4",
        "outputId": "74bf0aa0-a663-49ba-e1c1-0698d339522e"
      },
      "outputs": [
        {
          "data": {
            "text/html": [
              "\n",
              "  <div id=\"df-6b5ca2ed-aa52-49d5-9030-0658a4c4c0d3\">\n",
              "    <div class=\"colab-df-container\">\n",
              "      <div>\n",
              "<style scoped>\n",
              "    .dataframe tbody tr th:only-of-type {\n",
              "        vertical-align: middle;\n",
              "    }\n",
              "\n",
              "    .dataframe tbody tr th {\n",
              "        vertical-align: top;\n",
              "    }\n",
              "\n",
              "    .dataframe thead th {\n",
              "        text-align: right;\n",
              "    }\n",
              "</style>\n",
              "<table border=\"1\" class=\"dataframe\">\n",
              "  <thead>\n",
              "    <tr style=\"text-align: right;\">\n",
              "      <th></th>\n",
              "      <th>Tests</th>\n",
              "      <th>Confirmed</th>\n",
              "      <th>Positive_rate_%</th>\n",
              "    </tr>\n",
              "    <tr>\n",
              "      <th>Date</th>\n",
              "      <th></th>\n",
              "      <th></th>\n",
              "      <th></th>\n",
              "    </tr>\n",
              "  </thead>\n",
              "  <tbody>\n",
              "    <tr>\n",
              "      <th>2022-08-02</th>\n",
              "      <td>63056027</td>\n",
              "      <td>12917500</td>\n",
              "      <td>20.48575</td>\n",
              "    </tr>\n",
              "    <tr>\n",
              "      <th>2022-08-03</th>\n",
              "      <td>63387469</td>\n",
              "      <td>13113301</td>\n",
              "      <td>20.687529</td>\n",
              "    </tr>\n",
              "    <tr>\n",
              "      <th>2022-08-04</th>\n",
              "      <td>63817464</td>\n",
              "      <td>13344898</td>\n",
              "      <td>20.911044</td>\n",
              "    </tr>\n",
              "    <tr>\n",
              "      <th>2022-08-05</th>\n",
              "      <td>64104711</td>\n",
              "      <td>13598290</td>\n",
              "      <td>21.212622</td>\n",
              "    </tr>\n",
              "    <tr>\n",
              "      <th>2022-08-06</th>\n",
              "      <td>64462892</td>\n",
              "      <td>13835099</td>\n",
              "      <td>21.462113</td>\n",
              "    </tr>\n",
              "  </tbody>\n",
              "</table>\n",
              "</div>\n",
              "      <button class=\"colab-df-convert\" onclick=\"convertToInteractive('df-6b5ca2ed-aa52-49d5-9030-0658a4c4c0d3')\"\n",
              "              title=\"Convert this dataframe to an interactive table.\"\n",
              "              style=\"display:none;\">\n",
              "        \n",
              "  <svg xmlns=\"http://www.w3.org/2000/svg\" height=\"24px\"viewBox=\"0 0 24 24\"\n",
              "       width=\"24px\">\n",
              "    <path d=\"M0 0h24v24H0V0z\" fill=\"none\"/>\n",
              "    <path d=\"M18.56 5.44l.94 2.06.94-2.06 2.06-.94-2.06-.94-.94-2.06-.94 2.06-2.06.94zm-11 1L8.5 8.5l.94-2.06 2.06-.94-2.06-.94L8.5 2.5l-.94 2.06-2.06.94zm10 10l.94 2.06.94-2.06 2.06-.94-2.06-.94-.94-2.06-.94 2.06-2.06.94z\"/><path d=\"M17.41 7.96l-1.37-1.37c-.4-.4-.92-.59-1.43-.59-.52 0-1.04.2-1.43.59L10.3 9.45l-7.72 7.72c-.78.78-.78 2.05 0 2.83L4 21.41c.39.39.9.59 1.41.59.51 0 1.02-.2 1.41-.59l7.78-7.78 2.81-2.81c.8-.78.8-2.07 0-2.86zM5.41 20L4 18.59l7.72-7.72 1.47 1.35L5.41 20z\"/>\n",
              "  </svg>\n",
              "      </button>\n",
              "      \n",
              "  <style>\n",
              "    .colab-df-container {\n",
              "      display:flex;\n",
              "      flex-wrap:wrap;\n",
              "      gap: 12px;\n",
              "    }\n",
              "\n",
              "    .colab-df-convert {\n",
              "      background-color: #E8F0FE;\n",
              "      border: none;\n",
              "      border-radius: 50%;\n",
              "      cursor: pointer;\n",
              "      display: none;\n",
              "      fill: #1967D2;\n",
              "      height: 32px;\n",
              "      padding: 0 0 0 0;\n",
              "      width: 32px;\n",
              "    }\n",
              "\n",
              "    .colab-df-convert:hover {\n",
              "      background-color: #E2EBFA;\n",
              "      box-shadow: 0px 1px 2px rgba(60, 64, 67, 0.3), 0px 1px 3px 1px rgba(60, 64, 67, 0.15);\n",
              "      fill: #174EA6;\n",
              "    }\n",
              "\n",
              "    [theme=dark] .colab-df-convert {\n",
              "      background-color: #3B4455;\n",
              "      fill: #D2E3FC;\n",
              "    }\n",
              "\n",
              "    [theme=dark] .colab-df-convert:hover {\n",
              "      background-color: #434B5C;\n",
              "      box-shadow: 0px 1px 3px 1px rgba(0, 0, 0, 0.15);\n",
              "      filter: drop-shadow(0px 1px 2px rgba(0, 0, 0, 0.3));\n",
              "      fill: #FFFFFF;\n",
              "    }\n",
              "  </style>\n",
              "\n",
              "      <script>\n",
              "        const buttonEl =\n",
              "          document.querySelector('#df-6b5ca2ed-aa52-49d5-9030-0658a4c4c0d3 button.colab-df-convert');\n",
              "        buttonEl.style.display =\n",
              "          google.colab.kernel.accessAllowed ? 'block' : 'none';\n",
              "\n",
              "        async function convertToInteractive(key) {\n",
              "          const element = document.querySelector('#df-6b5ca2ed-aa52-49d5-9030-0658a4c4c0d3');\n",
              "          const dataTable =\n",
              "            await google.colab.kernel.invokeFunction('convertToInteractive',\n",
              "                                                     [key], {});\n",
              "          if (!dataTable) return;\n",
              "\n",
              "          const docLinkHtml = 'Like what you see? Visit the ' +\n",
              "            '<a target=\"_blank\" href=https://colab.research.google.com/notebooks/data_table.ipynb>data table notebook</a>'\n",
              "            + ' to learn more about interactive tables.';\n",
              "          element.innerHTML = '';\n",
              "          dataTable['output_type'] = 'display_data';\n",
              "          await google.colab.output.renderOutput(dataTable, element);\n",
              "          const docLink = document.createElement('div');\n",
              "          docLink.innerHTML = docLinkHtml;\n",
              "          element.appendChild(docLink);\n",
              "        }\n",
              "      </script>\n",
              "    </div>\n",
              "  </div>\n",
              "  "
            ],
            "text/plain": [
              "               Tests  Confirmed  Positive_rate_%\n",
              "Date                                            \n",
              "2022-08-02  63056027   12917500         20.48575\n",
              "2022-08-03  63387469   13113301        20.687529\n",
              "2022-08-04  63817464   13344898        20.911044\n",
              "2022-08-05  64104711   13598290        21.212622\n",
              "2022-08-06  64462892   13835099        21.462113"
            ]
          },
          "execution_count": 20,
          "metadata": {},
          "output_type": "execute_result"
        }
      ],
      "source": [
        "# Register new alias\n",
        "eng.variables_alias(alias=\"p\", variables=[\"Tests\", \"Confirmed\", \"Positive_rate_%\"])\n",
        "# Check the contents of an alias\n",
        "eng.variables_alias(alias=\"p\")\n",
        "# Subsetting with the variable alias\n",
        "eng.subset_alias(alias=\"jp\", geo=\"Japan\", variables=\"p\")[0].tail()"
      ]
    },
    {
      "cell_type": "markdown",
      "metadata": {
        "id": "bRHNdhpHd7Y_"
      },
      "source": [
        "### 7.2 Line plot\n",
        "Show data with line plot. We can select function `line_plot` or class `LinePlot`."
      ]
    },
    {
      "cell_type": "code",
      "execution_count": 21,
      "metadata": {
        "id": "_Eb2dNUCdjVb"
      },
      "outputs": [],
      "source": [
        "line_df, *_ = eng.subset_alias(alias=\"jp\")"
      ]
    },
    {
      "cell_type": "markdown",
      "metadata": {
        "id": "LUbB7XaNfSNP"
      },
      "source": [
        "With function:"
      ]
    },
    {
      "cell_type": "code",
      "execution_count": 22,
      "metadata": {
        "colab": {
          "base_uri": "https://localhost:8080/",
          "height": 297
        },
        "id": "ka4av_kcedN9",
        "outputId": "bb28b8d3-274c-4e2c-d6e5-005254f7fbc6"
      },
      "outputs": [
        {
          "data": {
            "image/png": "[encoded data removed]",
            "text/plain": [
              "<Figure size 432x288 with 1 Axes>"
            ]
          },
          "metadata": {
            "needs_background": "light"
          },
          "output_type": "display_data"
        }
      ],
      "source": [
        "cs.line_plot(\n",
        "    line_df[\"Positive_rate_%\"],\n",
        "    title=\"Positive rate % in Japan\",\n",
        "    ylabel=\"Positive rate %\",\n",
        "    math_scale=False,\n",
        "    show_legend=False,\n",
        "    filename=None,\n",
        ")"
      ]
    },
    {
      "cell_type": "markdown",
      "metadata": {
        "id": "8XSY2RTbfUb4"
      },
      "source": [
        "With class:"
      ]
    },
    {
      "cell_type": "code",
      "execution_count": 23,
      "metadata": {
        "colab": {
          "base_uri": "https://localhost:8080/",
          "height": 297
        },
        "id": "XXY-PDyEemL4",
        "outputId": "966a4e40-14be-4eaa-e2dc-87f02b58917c"
      },
      "outputs": [
        {
          "data": {
            "image/png": "[encoded data removed]",
            "text/plain": [
              "<Figure size 432x288 with 1 Axes>"
            ]
          },
          "metadata": {
            "needs_background": "light"
          },
          "output_type": "display_data"
        }
      ],
      "source": [
        "with cs.LinePlot(filename=None) as lp:\n",
        "    lp.plot(line_df[\"Positive_rate_%\"])\n",
        "    lp.title = \"Positive rate % in Japan\"\n",
        "    lp.x_axis(xlabel=None)\n",
        "    lp.y_axis(ylabel=\"Positive rate %\", math_scale=False)\n",
        "    lp.legend_hide()"
      ]
    },
    {
      "cell_type": "markdown",
      "metadata": {
        "id": "uoRQJ3V2goeO"
      },
      "source": [
        "### 7.3 Scatter plot\n",
        "Show data with scatter plot. We can select function `scatter_plot` or class `ScatterPlot`."
      ]
    },
    {
      "cell_type": "code",
      "execution_count": 24,
      "metadata": {
        "id": "suqWC1TxfG4b"
      },
      "outputs": [],
      "source": [
        "sc_df, *_ = eng.subset_alias(alias=\"jp\")\n",
        "sc_df.rename(columns={\"Tests\": \"x\", \"Confirmed\": \"y\"}, inplace=True)"
      ]
    },
    {
      "cell_type": "code",
      "execution_count": 25,
      "metadata": {
        "colab": {
          "base_uri": "https://localhost:8080/",
          "height": 297
        },
        "id": "77i3iMO-g0ZZ",
        "outputId": "30a57153-6792-403f-c833-a7660313b298"
      },
      "outputs": [
        {
          "data": {
            "image/png": "[encoded data removed]",
            "text/plain": [
              "<Figure size 432x288 with 1 Axes>"
            ]
          },
          "metadata": {
            "needs_background": "light"
          },
          "output_type": "display_data"
        }
      ],
      "source": [
        "cs.scatter_plot(\n",
        "    sc_df,\n",
        "    title=\"Scatter plot\",\n",
        "    xlabel=\"Tests\", xlim=(0, None),\n",
        "    ylabel=\"Confirmed\",\n",
        "    filename=None,\n",
        ")"
      ]
    },
    {
      "cell_type": "code",
      "execution_count": 26,
      "metadata": {
        "colab": {
          "base_uri": "https://localhost:8080/",
          "height": 297
        },
        "id": "hnGua7mJhOB5",
        "outputId": "0a11beb5-f070-4a77-a2f2-6869b5945d35"
      },
      "outputs": [
        {
          "data": {
            "image/png": "[encoded data removed]",
            "text/plain": [
              "<Figure size 432x288 with 1 Axes>"
            ]
          },
          "metadata": {
            "needs_background": "light"
          },
          "output_type": "display_data"
        }
      ],
      "source": [
        "with cs.ScatterPlot(filename=None) as sp:\n",
        "    sp.plot(sc_df)\n",
        "    sp.title = \"Scatter plot\"\n",
        "    sp.x_axis(xlabel=\"Tests\", xlim=(0, None))\n",
        "    sp.y_axis(ylabel=\"Confirmed\")\n",
        "    sp.line_straight(p1=(0, 0), p2=(max(sc_df[\"x\"]), max(sc_df[\"y\"])))"
      ]
    },
    {
      "cell_type": "markdown",
      "metadata": {
        "id": "9a6fyDXKiPnm"
      },
      "source": [
        "Thank you!"
      ]
    }
  ],
  "metadata": {
    "colab": {
      "collapsed_sections": [],
      "include_colab_link": true,
      "name": "02_data_engineering.ipynb",
      "provenance": [],
      "toc_visible": true
    },
    "kernelspec": {
      "display_name": "Python 3.9.8 ('.venv': poetry)",
      "language": "python",
      "name": "python3"
    },
    "language_info": {
      "name": "python",
      "version": "3.9.8"
    },
    "vscode": {
      "interpreter": {
        "hash": "22bb74880181aee4909a67ef083e714bf83db977b91038d43aef8b1870a4f681"
      }
    }
  },
  "nbformat": 4,
  "nbformat_minor": 0
}
