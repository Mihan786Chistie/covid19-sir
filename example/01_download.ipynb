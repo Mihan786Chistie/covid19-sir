{
 "cells": [
  {
   "cell_type": "markdown",
   "metadata": {},
   "source": [
    "# Data preparation\n",
    "The first step of data science is data preparation. `covsirphy` has the following three functionality for that.\n",
    "\n",
    "1. Downloading datasets from recommended data servers\n",
    "2. Reading `pandas.DataFrame`\n",
    "3. Generator of sample data with SIR-derived ODE model"
   ]
  },
  {
   "cell_type": "code",
   "execution_count": null,
   "metadata": {},
   "outputs": [],
   "source": [
    "# For 2.\n",
    "import pandas as pd\n",
    "# !pip install covsirphy --update\n",
    "import covsirphy as cs\n",
    "cs.__version__"
   ]
  },
  {
   "cell_type": "markdown",
   "metadata": {},
   "source": [
    "## 1. Downloading datasets from recommended data \n",
    "We will download datasets from the following recommended data servers.\n",
    "\n",
    "- **COVID-19 Data Hub, https://covid19datahub.io/**\n",
    "    - Guidotti, E., Ardia, D., (2020), “COVID-19 Data Hub”, Journal of Open Source Software 5(51):2376, doi: 10.21105/joss.02376.\n",
    "    - The number of cases (JHU style)\n",
    "    - Population values in each country/province\n",
    "    - [Government Response Tracker (OxCGRT)](https://github.com/OxCGRT/covid-policy-tracker)\n",
    "    - The number of tests\n",
    "- **Our World In Data, https://github.com/owid/covid-19-data/tree/master/public/data**\n",
    "    - Hasell, J., Mathieu, E., Beltekian, D. et al. A cross-country database of COVID-19 testing. Sci Data 7, 345 (2020). https://doi.org/10.1038/s41597-020-00688-8\n",
    "    - The number of tests\n",
    "    - The number of vaccinations\n",
    "    - The number of people who received vaccinations\n",
    "- **COVID-19 Open Data by Google Cloud Platform, https://github.com/GoogleCloudPlatform/covid-19-open-data**\n",
    "    - O. Wahltinez and others (2020), COVID-19 Open-Data: curating a fine-grained, global-scale data repository for SARS-CoV-2, Work in progress, https://goo.gle/covid-19-open-data\n",
    "    - percentage to baseline in visits\n",
    "    - Note: Please refer to [Google Terms of Service](https://policies.google.com/terms) in advance.\n",
    "- **World Bank Open Data, https://data.worldbank.org/**\n",
    "    - World Bank Group (2020), World Bank Open Data, https://data.worldbank.org/\n",
    "    - Population pyramid\n",
    "- **Datasets for CovsirPhy, https://github.com/lisphilar/covid19-sir/tree/master/data**\n",
    "    - Hirokazu Takaya (2020-2022), GitHub repository, COVID-19 dataset in Japan, https://github.com/lisphilar/covid19-sir/tree/master/data.\n",
    "    - The number of cases in Japan (total/prefectures)\n",
    "    - Metadata regarding Japan prefectures\n",
    "\n",
    "***\n",
    "\n",
    "How to request new data loader:  \n",
    "If you want to use a new dataset for your analysis, please kindly inform us using [GitHub Issues: Request new method of DataLoader class](https://github.com/lisphilar/covid19-sir/issues/new/?template=request-new-method-of-dataloader-class.md). Please read [Guideline of contribution](https://lisphilar.github.io/covid19-sir/CONTRIBUTING.html) in advance."
   ]
  },
  {
   "cell_type": "markdown",
   "metadata": {},
   "source": [
    "### 1-1. With `DataEngineer` class\n",
    "We can use `DataEngineer().download()` for data downloading from recommended data servers as the quickest way."
   ]
  },
  {
   "cell_type": "code",
   "execution_count": null,
   "metadata": {},
   "outputs": [],
   "source": [
    "eng = cs.DownEngineer()\n",
    "eng.download()"
   ]
  },
  {
   "cell_type": "markdown",
   "metadata": {},
   "source": [
    "We can get the all downloaded records as a `pandas.DataFrame` with `DataEngineer().all()` method."
   ]
  },
  {
   "cell_type": "code",
   "execution_count": null,
   "metadata": {},
   "outputs": [],
   "source": [
    "all_df = eng.all()\n",
    "# Overview of the records\n",
    "all_df.info()"
   ]
  },
  {
   "cell_type": "markdown",
   "metadata": {},
   "source": [
    "`DataEngineer.citations()` shows citations of the datasets."
   ]
  },
  {
   "cell_type": "code",
   "execution_count": null,
   "metadata": {},
   "outputs": [],
   "source": [
    "eng.citations()"
   ]
  },
  {
   "cell_type": "markdown",
   "metadata": {},
   "source": [
    "Note that, as default, `DataEngineer().download()` collects country-level data and save the datasets as CSV files in \"input\" (=`directory` argument of `DataEngineer()`) folder of the current directory. If the last modification time of the saved CSV files is within the last 12 (=`update_interval` argument of `DataEngineer()`) hours, the saved CSV files will be used as the database."
   ]
  },
  {
   "cell_type": "markdown",
   "metadata": {},
   "source": [
    "For some countries (eg. Japan), province/state/prefecture level data is available and we can download it as follows."
   ]
  },
  {
   "cell_type": "code",
   "execution_count": null,
   "metadata": {},
   "outputs": [],
   "source": [
    "eng_jpn = cs.DataEngineer()\n",
    "eng_jpn.download(country=\"Japan\")"
   ]
  },
  {
   "cell_type": "markdown",
   "metadata": {},
   "source": [
    "For some countries (eg. USA), city-level data is available and we can download it as follows."
   ]
  },
  {
   "cell_type": "code",
   "execution_count": null,
   "metadata": {},
   "outputs": [],
   "source": [
    "eng_jpn = cs.DataEngineer()\n",
    "eng_jpn.download(country=\"USA\", province=\"Alabama\")"
   ]
  },
  {
   "cell_type": "markdown",
   "metadata": {},
   "source": [
    "### 1-2. With `DataDownloader` class\n",
    "`DataEngineer` class is suggested because it has data cleaning methods and so on, but we can use `DataDownloader` class for data downloading."
   ]
  },
  {
   "cell_type": "code",
   "execution_count": null,
   "metadata": {},
   "outputs": [],
   "source": [
    "dl = cs.DataDownloader()\n",
    "dl_df = dl.layer(country=None, province=None)"
   ]
  },
  {
   "cell_type": "code",
   "execution_count": null,
   "metadata": {},
   "outputs": [],
   "source": [
    "# Overview of the records\n",
    "dl_df.info()"
   ]
  },
  {
   "cell_type": "code",
   "execution_count": null,
   "metadata": {},
   "outputs": [],
   "source": [
    "# Citations\n",
    "dl.citations()"
   ]
  },
  {
   "cell_type": "markdown",
   "metadata": {},
   "source": [
    "## 2. Reading `pandas.DataFrame`\n",
    "We may need to use our own datasets for analysis because the dataset is not included in the recommended data servers. `DataEngineer().register()` registers new datasets of `pandas.DataFrame` format."
   ]
  },
  {
   "cell_type": "markdown",
   "metadata": {},
   "source": [
    "At first, will prepare the new dataset as `pandas.DataFrame`. Just as a demonstration, we use [COVID-19 dataset in Japan](https://github.com/lisphilar/covid19-sir/tree/master/data). (Note that this is included in the recommended servers and the following is usually un-necessary.)\n",
    "\n",
    "Hirokazu Takaya (2020-2022), COVID-19 dataset in Japan, GitHub repository, https://github.com/lisphilar/covid19-sir/data/japan"
   ]
  },
  {
   "cell_type": "markdown",
   "metadata": {},
   "source": [
    "Country-level data:"
   ]
  },
  {
   "cell_type": "code",
   "execution_count": null,
   "metadata": {},
   "outputs": [],
   "source": [
    "c_url = \"https://raw.githubusercontent.com/lisphilar/covid19-sir/master/data/japan/covid_jpn_total.csv\"\n",
    "c_df = pd.read_csv(c_url, dayfirst=False)\n",
    "# Check columns of the pandas.DataFrame\n",
    "c_df.head()"
   ]
  },
  {
   "cell_type": "markdown",
   "metadata": {},
   "source": [
    "Prefecture-level data:"
   ]
  },
  {
   "cell_type": "code",
   "execution_count": null,
   "metadata": {},
   "outputs": [],
   "source": [
    "p_url = \"https://raw.githubusercontent.com/lisphilar/covid19-sir/master/data/japan/covid_jpn_prefecture.csv\"\n",
    "p_df = pd.read_csv(p_url, dayfirst=False)\n",
    "# Check columns of the pandas.DataFrame\n",
    "p_df.head()"
   ]
  },
  {
   "cell_type": "markdown",
   "metadata": {},
   "source": [
    "Create a `DataEngineer` instance, specifying the layer of location names. `c_df` had \"Location\" layer and `p_df` had \"Prefecture\" layer."
   ]
  },
  {
   "cell_type": "code",
   "execution_count": null,
   "metadata": {},
   "outputs": [],
   "source": [
    "print(c_df.columns)\n",
    "print(p_df.columns)"
   ]
  },
  {
   "cell_type": "code",
   "execution_count": null,
   "metadata": {},
   "outputs": [],
   "source": [
    "# "
   ]
  },
  {
   "cell_type": "markdown",
   "metadata": {},
   "source": [
    "## 3. Generator of sample data with SIR-derived ODE model"
   ]
  }
 ],
 "metadata": {
  "kernelspec": {
   "display_name": "Python 3.9.8 ('.venv': poetry)",
   "language": "python",
   "name": "python3"
  },
  "language_info": {
   "name": "python",
   "version": "3.9.8"
  },
  "orig_nbformat": 4,
  "vscode": {
   "interpreter": {
    "hash": "22bb74880181aee4909a67ef083e714bf83db977b91038d43aef8b1870a4f681"
   }
  }
 },
 "nbformat": 4,
 "nbformat_minor": 2
}
